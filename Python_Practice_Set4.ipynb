{
 "cells": [
  {
   "cell_type": "code",
   "execution_count": 2,
   "metadata": {},
   "outputs": [
    {
     "name": "stdout",
     "output_type": "stream",
     "text": [
      "Name: John\n",
      "Age: 25\n",
      "Gender: Male\n"
     ]
    }
   ],
   "source": [
    "# Q1. Create a class called \"Person\" with properties for \"name\", \"age\", and \"gender\". Create an object of this\n",
    "# class and print out its properties.\n",
    "\n",
    "class Person:\n",
    "    # The __init__ method in Python is a special method that serves as the constructor for a class. \n",
    "    # It is automatically called when you create a new object of that class. \n",
    "    # The purpose of the __init__ method is to initialize the object with initial values for its properties.\n",
    "    def __init__(self, name, age, gender):\n",
    "        self.name = name\n",
    "        self.age = age\n",
    "        self.gender = gender\n",
    "# Create an object of the Person class\n",
    "person1 = Person(\"John\", 25, \"Male\")\n",
    "\n",
    "print(\"Name:\", person1.name)\n",
    "print(\"Age:\", person1.age)\n",
    "print(\"Gender:\", person1.gender)  \n"
   ]
  },
  {
   "cell_type": "code",
   "execution_count": 3,
   "metadata": {},
   "outputs": [
    {
     "name": "stdout",
     "output_type": "stream",
     "text": [
      "Area: 15\n",
      "Perimeter: 16\n"
     ]
    }
   ],
   "source": [
    "# Q2. Write a Python class called \"Rectangle\" with attributes for \"width\" and \"height\". Implement methods\n",
    "# to calculate the area and perimeter of the rectangle. Create an instance of this class and use it to print out\n",
    "# the rectangle's area and perimeter.\n",
    "\n",
    "class Rectangle:\n",
    "    def __init__(self, width, height):\n",
    "        self.width = width\n",
    "        self.height = height\n",
    "\n",
    "    def calculate_area(self):\n",
    "        return self.width * self.height\n",
    "    \n",
    "    def calculate_perimeter(self):\n",
    "        return 2 * (self.width + self.height)\n",
    "\n",
    "rectangle1 = Rectangle(5, 3)\n",
    "\n",
    "area = rectangle1.calculate_area()\n",
    "print(\"Area:\", area)\n",
    "\n",
    "\n",
    "\n",
    "perimeter = rectangle1.calculate_perimeter()\n",
    "print(\"Perimeter:\", perimeter)"
   ]
  },
  {
   "cell_type": "code",
   "execution_count": 4,
   "metadata": {},
   "outputs": [
    {
     "name": "stdout",
     "output_type": "stream",
     "text": [
      "Deposited 500 into the account. New balance: 1500\n",
      "Withdrew 250 from the account. New balance: 1250\n",
      "Interest earned: 62.5\n"
     ]
    }
   ],
   "source": [
    "# Q3. Write a Python class called \"BankAccount\" with attributes for \"balance\" and \"interest_rate\".\n",
    "# Implement methods to deposit and withdraw money from the account, as well as to calculate the interest\n",
    "# earned on the balance based on the interest rate. Create an instance of this class and use it to test out the\n",
    "# implemented methods for deposit, withdrawal, and interest calculation.\n",
    "\n",
    "class BankAccount:\n",
    "    # The __init__ method is a special method in Python classes that is automatically called when a new \n",
    "    # instance of the class is created. \n",
    "    # It is used to initialize the attributes of the object.\n",
    "\n",
    "\n",
    "    # Inside the __init__ method, self.balance and self.interest_rate are instance attributes. \n",
    "    # They are specific to each instance of the class and hold the state or data associated with the object.\n",
    "    def __init__(self, balance=0, interest_rate=0):\n",
    "\n",
    "        # The line self.balance = balance assigns the value of the balance parameter \n",
    "        # (or the default value of 0 if no value is provided) \n",
    "        # to the balance attribute of the instance. This sets the initial balance of the bank account.\n",
    "        self.balance = balance\n",
    "\n",
    "        # Similarly, the line self.interest_rate = interest_rate assigns the value of the interest_rate \n",
    "        # parameter (or the default value of 0 if no value is provided) \n",
    "        # to the interest_rate attribute of the instance. This sets the initial interest rate for the bank account.\n",
    "        self.interest_rate = interest_rate\n",
    "\n",
    "    def deposit(self, amount):\n",
    "        if amount > 0:\n",
    "            self.balance = self.balance +  amount\n",
    "            print(f\"Deposited {amount} into the account. New balance: {self.balance}\")\n",
    "        else:\n",
    "            print(\"Invalid amount. Please enter a positive number.\")\n",
    "\n",
    "    def withdraw(self, amount):\n",
    "        if 0 < amount <= self.balance:\n",
    "            self.balance = self.balance - amount\n",
    "            print(f\"Withdrew {amount} from the account. New balance: {self.balance}\")\n",
    "        else:\n",
    "            print(\"Insufficient funds.\")\n",
    "\n",
    "    def calculate_interest(self):\n",
    "        interest = self.balance * (self.interest_rate / 100)\n",
    "        print(f\"Interest earned: {interest}\")\n",
    "\n",
    "\n",
    "#creating an instance of BankAccount\n",
    "account = BankAccount(balance=1000, interest_rate=5)\n",
    "\n",
    "\n",
    "#Depositing money in the account\n",
    "account.deposit(500)\n",
    "\n",
    "# Withdrawing money from the account\n",
    "account.withdraw(250)\n",
    "\n",
    "\n",
    "#calculating the interest rate\n",
    "account.calculate_interest()"
   ]
  },
  {
   "cell_type": "code",
   "execution_count": 5,
   "metadata": {},
   "outputs": [],
   "source": [
    "# Q4. Write a Python class called \"Animal\" with attributes for \"name\" and \"species\". Create a subclass of\n",
    "# \"Animal\" called \"Dog\" with additional attributes for \"breed\" and \"owner\". Implement both classes with\n",
    "# appropriate methods and constructors to initialise their properties. Create instances of both classes and\n",
    "# use them to print out the various properties of the animals and dogs, such as their names, species,\n",
    "# breeds, and owners.\n",
    "\n",
    "# Subclass inheriting the property of super class and its too \n",
    "\n",
    "\n",
    "class Animal:\n",
    "    def __init__(self, name, species):\n",
    "        self.name = name \n",
    "        self.species = species\n",
    "\n",
    "    def display_info(self):\n",
    "        print(f\"Name: {self.name}\")\n",
    "        print(f\"Species: {self.species}\")\n",
    "\n",
    "class Dog(Animal):\n",
    "    def __init__(self, name, species, breed, owner):\n",
    "        super().__init__(name, species)\n",
    "        self.breed = breed\n",
    "        self.owner = owner\n",
    "\n",
    "    def display_info(self):\n",
    "        super().display_info()\n",
    "        print(f\"Breed: {self.breed}\")\n",
    "        print(f\"Owner: {self.owner}\")\n",
    "    "
   ]
  },
  {
   "cell_type": "code",
   "execution_count": 6,
   "metadata": {},
   "outputs": [],
   "source": [
    "# Creating an instance of the Animal class\n",
    "animal = Animal(\"Lion\", \"Mammal\")"
   ]
  },
  {
   "cell_type": "code",
   "execution_count": 7,
   "metadata": {},
   "outputs": [],
   "source": [
    "# Creating an instance of the Dog class\n",
    "dog = Dog(\"Buddy\", \"Canine\", \"Labrador Retriever\", \"John\")"
   ]
  },
  {
   "cell_type": "code",
   "execution_count": 8,
   "metadata": {},
   "outputs": [
    {
     "name": "stdout",
     "output_type": "stream",
     "text": [
      "Name: Lion\n",
      "Species: Mammal\n"
     ]
    }
   ],
   "source": [
    "# Displaying information about the animal\n",
    "animal.display_info()"
   ]
  },
  {
   "cell_type": "code",
   "execution_count": 11,
   "metadata": {},
   "outputs": [
    {
     "name": "stdout",
     "output_type": "stream",
     "text": [
      "Name: Buddy\n",
      "Species: Canine\n",
      "Breed: Labrador Retriever\n",
      "Owner: John\n"
     ]
    }
   ],
   "source": [
    "# Displaying information about the dog\n",
    "dog.display_info()"
   ]
  },
  {
   "cell_type": "code",
   "execution_count": 12,
   "metadata": {},
   "outputs": [
    {
     "name": "stdout",
     "output_type": "stream",
     "text": [
      "Car:\n",
      "Make: Honda\n",
      "Model: Accord\n",
      "year: 2022\n",
      "\n",
      "Electric Car:\n",
      "Make: Tesla\n",
      "Model: Model S\n",
      "year: 2023\n",
      "Battery size: 100 kWh\n",
      "Range: 350 km \n"
     ]
    }
   ],
   "source": [
    "# Q5. Create a class called \"Car\" with properties for \"make\", \"model\", and \"year\". Create a subclass of \"Car\"\n",
    "# called \"ElectricCar\" with additional properties for \"battery_size\" and \"range\". Create objects of both\n",
    "# classes and print out their properties.\n",
    "\n",
    "class Car:\n",
    "    def __init__(self, make, model, year):\n",
    "        self.make = make\n",
    "        self.model = model \n",
    "        self.year = year\n",
    "\n",
    "\n",
    "    def display_info(self):\n",
    "        print(f\"Make: {self.make}\")\n",
    "        print(f\"Model: {self.model}\")\n",
    "        print(f\"year: {self.year}\")\n",
    "        \n",
    "class ElectricCar(Car):\n",
    "    def __init__(self, make, model, year, battery_size, range):\n",
    "        super().__init__(make,model,year)\n",
    "        self.battery_size = battery_size\n",
    "        self.range = range\n",
    "\n",
    "    def display_info(self):\n",
    "        super().display_info()\n",
    "        print(f\"Battery size: {self.battery_size}\")\n",
    "        print(f\"Range: {self.range} km \")\n",
    "\n",
    "# Creating an instance of the Car class\n",
    "car = Car(\"Honda\", \"Accord\", 2022)\n",
    "\n",
    "# Creating an instance of the ElectricCar class\n",
    "electric_car = ElectricCar(\"Tesla\", \"Model S\", 2023, \"100 kWh\", 350)\n",
    "\n",
    "# Displaying information about the car\n",
    "print(\"Car:\")\n",
    "car.display_info()\n",
    "\n",
    "# Displaying information about the electric car\n",
    "print(\"\\nElectric Car:\")\n",
    "electric_car.display_info()\n"
   ]
  },
  {
   "cell_type": "code",
   "execution_count": 1,
   "metadata": {},
   "outputs": [],
   "source": [
    "# Q6. Create a class called \"Student\" with properties for \"name\" and \"id\". Create a subclass of \"Student\"\n",
    "# called \"GraduateStudent\" with additional properties for \"advisor\" and \"research_area\". Create objects of\n",
    "# both classes and print out their properties.\n",
    "\n",
    "class Student:\n",
    "    def __init__(self, name, id):\n",
    "        self.name = name\n",
    "        self.id = id\n",
    "\n",
    "    def print_info(self):\n",
    "        print(f\"Name: {self.name}\")\n",
    "        print(f\"ID: {self.id}\")\n",
    "\n",
    "class GraduateStudent(Student):\n",
    "    def __init__(self, name, id, advisor, research_area):\n",
    "        super().__init__(name, id)\n",
    "        self.advisor = advisor\n",
    "        "
   ]
  },
  {
   "cell_type": "code",
   "execution_count": null,
   "metadata": {},
   "outputs": [],
   "source": []
  }
 ],
 "metadata": {
  "kernelspec": {
   "display_name": "Python 3",
   "language": "python",
   "name": "python3"
  },
  "language_info": {
   "codemirror_mode": {
    "name": "ipython",
    "version": 3
   },
   "file_extension": ".py",
   "mimetype": "text/x-python",
   "name": "python",
   "nbconvert_exporter": "python",
   "pygments_lexer": "ipython3",
   "version": "3.11.2"
  },
  "orig_nbformat": 4
 },
 "nbformat": 4,
 "nbformat_minor": 2
}
