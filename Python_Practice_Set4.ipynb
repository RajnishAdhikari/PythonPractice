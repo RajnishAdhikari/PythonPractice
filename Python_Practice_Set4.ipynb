{
 "cells": [
  {
   "cell_type": "code",
   "execution_count": null,
   "metadata": {},
   "outputs": [],
   "source": [
    "# Q1. Create a class called \"Person\" with properties for \"name\", \"age\", and \"gender\". Create an object of this\n",
    "# class and print out its properties.\n",
    "\n",
    "class Person:\n",
    "    # The __init__ method in Python is a special method that serves as the constructor for a class. \n",
    "    # It is automatically called when you create a new object of that class. \n",
    "    # The purpose of the __init__ method is to initialize the object with initial values for its properties.\n",
    "    def __init__(self, name, age, gender):\n",
    "        self.name = name\n",
    "        self.age = age\n",
    "        self.gender = gender\n",
    "# Create an object of the Person class\n",
    "person1 = Person(\"John\", 25, \"Male\")\n",
    "\n",
    "print(\"Name:\", person1.name)\n",
    "print(\"Age:\", person1.age)\n",
    "print(\"Gender:\", person1.gender)  \n"
   ]
  }
 ],
 "metadata": {
  "language_info": {
   "name": "python"
  },
  "orig_nbformat": 4
 },
 "nbformat": 4,
 "nbformat_minor": 2
}
