{
 "cells": [
  {
   "cell_type": "code",
   "execution_count": 1,
   "metadata": {},
   "outputs": [
    {
     "name": "stdout",
     "output_type": "stream",
     "text": [
      "Name: John\n",
      "Age: 25\n",
      "Gender: Male\n"
     ]
    }
   ],
   "source": [
    "# Q1. Create a class called \"Person\" with properties for \"name\", \"age\", and \"gender\". Create an object of this\n",
    "# class and print out its properties.\n",
    "\n",
    "class Person:\n",
    "    # The __init__ method in Python is a special method that serves as the constructor for a class. \n",
    "    # It is automatically called when you create a new object of that class. \n",
    "    # The purpose of the __init__ method is to initialize the object with initial values for its properties.\n",
    "    def __init__(self, name, age, gender):\n",
    "        self.name = name\n",
    "        self.age = age\n",
    "        self.gender = gender\n",
    "# Create an object of the Person class\n",
    "person1 = Person(\"John\", 25, \"Male\")\n",
    "\n",
    "print(\"Name:\", person1.name)\n",
    "print(\"Age:\", person1.age)\n",
    "print(\"Gender:\", person1.gender)  \n"
   ]
  },
  {
   "cell_type": "code",
   "execution_count": null,
   "metadata": {},
   "outputs": [],
   "source": [
    "# Q2. Write a Python class called \"Rectangle\" with attributes for \"width\" and \"height\". Implement methods\n",
    "# to calculate the area and perimeter of the rectangle. Create an instance of this class and use it to print out\n",
    "# the rectangle's area and perimeter.\n",
    "\n",
    "class Rectangle:\n",
    "    def __init__(self, width, height):\n",
    "        self.width = width\n",
    "        self.height = height\n",
    "\n",
    "    def calculate_area(self):\n",
    "        return self.width * self.height\n",
    "    \n",
    "    def calculate_perimeter(self):\n",
    "        return 2 * (self.width + self.height)\n",
    "\n",
    "rectangle1 = Rectangle(5, 3)\n",
    "\n",
    "area = rectangle1.calculate_area()\n",
    "print(\"Area:\", area)\n",
    "\n",
    "\n",
    "\n",
    "perimeter = rectangle1.calculate_perimeter()\n",
    "print(\"Perimeter:\", perimeter)"
   ]
  },
  {
   "cell_type": "code",
   "execution_count": null,
   "metadata": {},
   "outputs": [],
   "source": [
    "# Q3. Write a Python class called \"BankAccount\" with attributes for \"balance\" and \"interest_rate\".\n",
    "# Implement methods to deposit and withdraw money from the account, as well as to calculate the interest\n",
    "# earned on the balance based on the interest rate. Create an instance of this class and use it to test out the\n",
    "# implemented methods for deposit, withdrawal, and interest calculation.\n",
    "\n",
    "class BankAccount:\n",
    "    def __init__(self, balance=0, interest_rate=0):\n",
    "        self.balance = balance\n",
    "        self.interest_rate = interest_rate\n",
    "\n",
    "    def deposit(self, amount):\n",
    "        if amount > 0:\n",
    "            self.balance = self.balance +  amount\n",
    "            print(f\"Deposited {amount} into the account. New balance: {self.balance}\")\n",
    "        else:\n",
    "            print(\"Invalid amount. Please enter a positive number.\")\n",
    "\n",
    "    def withdraw(self, amount):\n",
    "        if 0 < amount <= self.balance:\n",
    "            self.balance = self.balance - amount\n",
    "            print(f\"Withdrew {amount} from the account. New balance: {self.balance}\")\n",
    "        else:\n",
    "            print(\"Insufficient funds.\")\n",
    "\n",
    "    def calculate_interest(self):\n",
    "        \n",
    "\n"
   ]
  }
 ],
 "metadata": {
  "kernelspec": {
   "display_name": "Python 3",
   "language": "python",
   "name": "python3"
  },
  "language_info": {
   "codemirror_mode": {
    "name": "ipython",
    "version": 3
   },
   "file_extension": ".py",
   "mimetype": "text/x-python",
   "name": "python",
   "nbconvert_exporter": "python",
   "pygments_lexer": "ipython3",
   "version": "3.11.2"
  },
  "orig_nbformat": 4
 },
 "nbformat": 4,
 "nbformat_minor": 2
}
