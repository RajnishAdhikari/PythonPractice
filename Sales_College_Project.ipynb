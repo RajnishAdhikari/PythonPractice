{
 "cells": [
  {
   "cell_type": "code",
   "execution_count": null,
   "metadata": {},
   "outputs": [],
   "source": [
    "# Importing the libraries \n",
    "import warnings \n",
    "import itertools\n",
    "'''import itertools: This imports the Python itertools module, which provides various functions for \n",
    "working with iterators and iterable objects. In this code, itertools.product is used to generate \n",
    "combinations of parameters for the SARIMA model.'''\n",
    "import pandas as pd\n",
    "import numpy as np\n",
    "import matplotlib.pyplot as plt\n",
    "'''import matplotlib.pyplot as plt: This imports the pyplot module from the Matplotlib library \n",
    "and aliases it as plt. Matplotlib is a popular library for creating visualizations in Python.'''\n",
    "\n",
    "warnings.filterwarnings(\"ignore\")\n",
    "'''warnings.filterwarnings(\"ignore\"): This line sets the warning filter to ignore all warning messages. \n",
    "It prevents warning messages from being printed during the program's execution.'''\n",
    "\n",
    "plt.style.use('fivethirtyeight')\n",
    "'''plt.style.use('fivethirtyeight'): This line sets the style of the Matplotlib plots to use the \"fivethirtyeight\" \n",
    "style, which mimics the visual style of the FiveThirtyEight website.'''\n",
    "\n",
    "import statsmodels.api as sm\n",
    "'''import statsmodels.api as sm: This imports the api module from the Statsmodels library and aliases it as sm. \n",
    "Statsmodels is a library for statistical modeling and hypothesis testing in Python.'''\n",
    "\n",
    "import matplotlib \n",
    "\n",
    "matplotlib.rcParams['axes.labelsize'] = 14\n",
    "'''matplotlib.rcParams['axes.labelsize'] = 14: This line sets the default font size for axis labels in \n",
    "Matplotlib plots to 14.'''\n",
    "\n",
    "matplotlib.rcParams['xtick.labelsize'] = 12\n",
    "'''This line sets the default font size for x-axis tick labels in Matplotlib plots to 12.'''\n",
    "\n",
    "matplotlib.rcParams['ytick.labelsize'] = 12\n",
    "'''matplotlib.rcParams['ytick.labelsize'] = 12: This line sets the default font size for y-axis tick \n",
    "labels in Matplotlib plots to 12.'''\n"
   ]
  }
 ],
 "metadata": {
  "language_info": {
   "name": "python"
  },
  "orig_nbformat": 4
 },
 "nbformat": 4,
 "nbformat_minor": 2
}
