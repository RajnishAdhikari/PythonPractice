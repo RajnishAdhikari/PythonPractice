{
 "cells": [
  {
   "cell_type": "code",
   "execution_count": null,
   "metadata": {},
   "outputs": [],
   "source": [
    "# Importing the libraries \n",
    "import warnings \n",
    "import itertools\n",
    "'''import itertools: This imports the Python itertools module, which provides various functions for \n",
    "working with iterators and iterable objects. In this code, itertools.product is used to generate \n",
    "combinations of parameters for the SARIMA model.'''\n",
    "import pandas as pd\n",
    "import numpy as np\n",
    "import matplotlib.pyplot as plt\n",
    "'''import matplotlib.pyplot as plt: This imports the pyplot module from the Matplotlib library \n",
    "and aliases it as plt. Matplotlib is a popular library for creating visualizations in Python.'''\n",
    "\n",
    "warnings.filterwarnings(\"ignore\")\n",
    "'''warnings.filterwarnings(\"ignore\"): This line sets the warning filter to ignore all warning messages. \n",
    "It prevents warning messages from being printed during the program's execution.'''\n"
   ]
  }
 ],
 "metadata": {
  "language_info": {
   "name": "python"
  },
  "orig_nbformat": 4
 },
 "nbformat": 4,
 "nbformat_minor": 2
}
