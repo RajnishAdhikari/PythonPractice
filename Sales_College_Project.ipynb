{
 "cells": [
  {
   "cell_type": "code",
   "execution_count": null,
   "metadata": {},
   "outputs": [],
   "source": [
    "# Importing the libraries \n",
    "import warnings \n",
    "import itertools\n",
    "'''import itertools: This imports the Python itertools module, which provides various functions for \n",
    "working with iterators and iterable objects. In this code, itertools.product is used to generate \n",
    "combinations of parameters for the SARIMA model.'''\n",
    "import pandas as pd"
   ]
  }
 ],
 "metadata": {
  "language_info": {
   "name": "python"
  },
  "orig_nbformat": 4
 },
 "nbformat": 4,
 "nbformat_minor": 2
}
