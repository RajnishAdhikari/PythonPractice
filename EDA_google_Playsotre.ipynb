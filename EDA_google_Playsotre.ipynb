{
 "cells": [
  {
   "attachments": {},
   "cell_type": "markdown",
   "metadata": {},
   "source": [
    "# EDA and Feature Engineering of Google Play Store DataSet\n",
    "1.Problem statement. Today, 1.85 million different apps are available for users to download. Android users have even more\n",
    "    from which to choose, with 2.26 million available through the Google Play Store. These apps have come to play a huge\n",
    "    role in the way we live our lives today. Our Objective is to find the Most Popular Category, find the App with largest\n",
    "    number of installs, the App with largest size etc. \n",
    "\n",
    "2. Data Collection\n",
    "\n",
    "The data consists of 20 column and 10841 rows ."
   ]
  },
  {
   "attachments": {},
   "cell_type": "markdown",
   "metadata": {},
   "source": [
    "# Steps that we are going to follow for this assessment \n",
    "1. Data Cleaning \n",
    "2. Exploratory Data Analysis "
   ]
  },
  {
   "cell_type": "code",
   "execution_count": null,
   "metadata": {},
   "outputs": [],
   "source": []
  }
 ],
 "metadata": {
  "language_info": {
   "name": "python"
  },
  "orig_nbformat": 4
 },
 "nbformat": 4,
 "nbformat_minor": 2
}
