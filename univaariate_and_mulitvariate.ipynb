{
 "cells": [
  {
   "cell_type": "code",
   "execution_count": 1,
   "metadata": {},
   "outputs": [],
   "source": [
    "# Imprting Libraries\n",
    "import pandas as pd\n",
    "import numpy as np # linear algebra\n",
    "import seaborn as sns # Visualization\n",
    "import matplotlib.pyplot as plt # Visualization\n",
    "\n"
   ]
  },
  {
   "cell_type": "code",
   "execution_count": 2,
   "metadata": {},
   "outputs": [
    {
     "data": {
      "text/html": [
       "<div>\n",
       "<style scoped>\n",
       "    .dataframe tbody tr th:only-of-type {\n",
       "        vertical-align: middle;\n",
       "    }\n",
       "\n",
       "    .dataframe tbody tr th {\n",
       "        vertical-align: top;\n",
       "    }\n",
       "\n",
       "    .dataframe thead th {\n",
       "        text-align: right;\n",
       "    }\n",
       "</style>\n",
       "<table border=\"1\" class=\"dataframe\">\n",
       "  <thead>\n",
       "    <tr style=\"text-align: right;\">\n",
       "      <th></th>\n",
       "      <th>Date</th>\n",
       "      <th>Rainfall_Bastia_Umbra</th>\n",
       "      <th>Depth_to_Groundwater_P24</th>\n",
       "      <th>Depth_to_Groundwater_P25</th>\n",
       "      <th>Temperature_Bastia_Umbra</th>\n",
       "      <th>Temperature_Petrignano</th>\n",
       "      <th>Volume_C10_Petrignano</th>\n",
       "      <th>Hydrometry_Fiume_Chiascio_Petrignano</th>\n",
       "    </tr>\n",
       "  </thead>\n",
       "  <tbody>\n",
       "    <tr>\n",
       "      <th>5218</th>\n",
       "      <td>26/06/2020</td>\n",
       "      <td>0.0</td>\n",
       "      <td>-25.68</td>\n",
       "      <td>-25.07</td>\n",
       "      <td>25.7</td>\n",
       "      <td>24.5</td>\n",
       "      <td>-29930.688</td>\n",
       "      <td>2.5</td>\n",
       "    </tr>\n",
       "    <tr>\n",
       "      <th>5219</th>\n",
       "      <td>27/06/2020</td>\n",
       "      <td>0.0</td>\n",
       "      <td>-25.80</td>\n",
       "      <td>-25.11</td>\n",
       "      <td>26.2</td>\n",
       "      <td>25.0</td>\n",
       "      <td>-31332.960</td>\n",
       "      <td>2.4</td>\n",
       "    </tr>\n",
       "    <tr>\n",
       "      <th>5220</th>\n",
       "      <td>28/06/2020</td>\n",
       "      <td>0.0</td>\n",
       "      <td>-25.80</td>\n",
       "      <td>-25.19</td>\n",
       "      <td>26.9</td>\n",
       "      <td>25.7</td>\n",
       "      <td>-32120.928</td>\n",
       "      <td>2.4</td>\n",
       "    </tr>\n",
       "    <tr>\n",
       "      <th>5221</th>\n",
       "      <td>29/06/2020</td>\n",
       "      <td>0.0</td>\n",
       "      <td>-25.78</td>\n",
       "      <td>-25.18</td>\n",
       "      <td>26.9</td>\n",
       "      <td>26.0</td>\n",
       "      <td>-30602.880</td>\n",
       "      <td>2.4</td>\n",
       "    </tr>\n",
       "    <tr>\n",
       "      <th>5222</th>\n",
       "      <td>30/06/2020</td>\n",
       "      <td>0.0</td>\n",
       "      <td>-25.91</td>\n",
       "      <td>-25.25</td>\n",
       "      <td>27.3</td>\n",
       "      <td>26.5</td>\n",
       "      <td>-31878.144</td>\n",
       "      <td>2.4</td>\n",
       "    </tr>\n",
       "  </tbody>\n",
       "</table>\n",
       "</div>"
      ],
      "text/plain": [
       "            Date  Rainfall_Bastia_Umbra  Depth_to_Groundwater_P24  \\\n",
       "5218  26/06/2020                    0.0                    -25.68   \n",
       "5219  27/06/2020                    0.0                    -25.80   \n",
       "5220  28/06/2020                    0.0                    -25.80   \n",
       "5221  29/06/2020                    0.0                    -25.78   \n",
       "5222  30/06/2020                    0.0                    -25.91   \n",
       "\n",
       "      Depth_to_Groundwater_P25  Temperature_Bastia_Umbra  \\\n",
       "5218                    -25.07                      25.7   \n",
       "5219                    -25.11                      26.2   \n",
       "5220                    -25.19                      26.9   \n",
       "5221                    -25.18                      26.9   \n",
       "5222                    -25.25                      27.3   \n",
       "\n",
       "      Temperature_Petrignano  Volume_C10_Petrignano  \\\n",
       "5218                    24.5             -29930.688   \n",
       "5219                    25.0             -31332.960   \n",
       "5220                    25.7             -32120.928   \n",
       "5221                    26.0             -30602.880   \n",
       "5222                    26.5             -31878.144   \n",
       "\n",
       "      Hydrometry_Fiume_Chiascio_Petrignano  \n",
       "5218                                   2.5  \n",
       "5219                                   2.4  \n",
       "5220                                   2.4  \n",
       "5221                                   2.4  \n",
       "5222                                   2.4  "
      ]
     },
     "execution_count": 2,
     "metadata": {},
     "output_type": "execute_result"
    }
   ],
   "source": [
    "df = pd.read_csv('Aquifer_Petrignano.csv')\n",
    "df.head()\n",
    "df.tail()"
   ]
  },
  {
   "cell_type": "code",
   "execution_count": 3,
   "metadata": {},
   "outputs": [],
   "source": [
    "df = df[df.Rainfall_Bastia_Umbra.notna()].reset_index(drop=True)"
   ]
  },
  {
   "cell_type": "code",
   "execution_count": 4,
   "metadata": {},
   "outputs": [],
   "source": [
    "# Remove not usefull columns\n",
    "df = df.drop(['Depth_to_Groundwater_P24', 'Temperature_Petrignano'], axis=1)"
   ]
  },
  {
   "cell_type": "code",
   "execution_count": 5,
   "metadata": {},
   "outputs": [],
   "source": [
    "df.columns = ['date', 'rainfall', 'depth_to_groundwater', 'temperature', 'drainage_volume', 'river_hydrometry']"
   ]
  },
  {
   "cell_type": "code",
   "execution_count": 6,
   "metadata": {},
   "outputs": [],
   "source": [
    "targets = ['depth_to_groundwater']\n"
   ]
  },
  {
   "cell_type": "code",
   "execution_count": 7,
   "metadata": {},
   "outputs": [],
   "source": [
    "features = [feature for feature in df.columns if feature not in targets]\n"
   ]
  },
  {
   "cell_type": "code",
   "execution_count": 8,
   "metadata": {},
   "outputs": [
    {
     "data": {
      "text/html": [
       "<div>\n",
       "<style scoped>\n",
       "    .dataframe tbody tr th:only-of-type {\n",
       "        vertical-align: middle;\n",
       "    }\n",
       "\n",
       "    .dataframe tbody tr th {\n",
       "        vertical-align: top;\n",
       "    }\n",
       "\n",
       "    .dataframe thead th {\n",
       "        text-align: right;\n",
       "    }\n",
       "</style>\n",
       "<table border=\"1\" class=\"dataframe\">\n",
       "  <thead>\n",
       "    <tr style=\"text-align: right;\">\n",
       "      <th></th>\n",
       "      <th>date</th>\n",
       "      <th>rainfall</th>\n",
       "      <th>depth_to_groundwater</th>\n",
       "      <th>temperature</th>\n",
       "      <th>drainage_volume</th>\n",
       "      <th>river_hydrometry</th>\n",
       "    </tr>\n",
       "  </thead>\n",
       "  <tbody>\n",
       "    <tr>\n",
       "      <th>0</th>\n",
       "      <td>01/01/2009</td>\n",
       "      <td>0.0</td>\n",
       "      <td>-31.14</td>\n",
       "      <td>5.2</td>\n",
       "      <td>-24530.688</td>\n",
       "      <td>2.4</td>\n",
       "    </tr>\n",
       "    <tr>\n",
       "      <th>1</th>\n",
       "      <td>02/01/2009</td>\n",
       "      <td>0.0</td>\n",
       "      <td>-31.11</td>\n",
       "      <td>2.3</td>\n",
       "      <td>-28785.888</td>\n",
       "      <td>2.5</td>\n",
       "    </tr>\n",
       "    <tr>\n",
       "      <th>2</th>\n",
       "      <td>03/01/2009</td>\n",
       "      <td>0.0</td>\n",
       "      <td>-31.07</td>\n",
       "      <td>4.4</td>\n",
       "      <td>-25766.208</td>\n",
       "      <td>2.4</td>\n",
       "    </tr>\n",
       "    <tr>\n",
       "      <th>3</th>\n",
       "      <td>04/01/2009</td>\n",
       "      <td>0.0</td>\n",
       "      <td>-31.05</td>\n",
       "      <td>0.8</td>\n",
       "      <td>-27919.296</td>\n",
       "      <td>2.4</td>\n",
       "    </tr>\n",
       "    <tr>\n",
       "      <th>4</th>\n",
       "      <td>05/01/2009</td>\n",
       "      <td>0.0</td>\n",
       "      <td>-31.01</td>\n",
       "      <td>-1.9</td>\n",
       "      <td>-29854.656</td>\n",
       "      <td>2.3</td>\n",
       "    </tr>\n",
       "  </tbody>\n",
       "</table>\n",
       "</div>"
      ],
      "text/plain": [
       "         date  rainfall  depth_to_groundwater  temperature  drainage_volume  \\\n",
       "0  01/01/2009       0.0                -31.14          5.2       -24530.688   \n",
       "1  02/01/2009       0.0                -31.11          2.3       -28785.888   \n",
       "2  03/01/2009       0.0                -31.07          4.4       -25766.208   \n",
       "3  04/01/2009       0.0                -31.05          0.8       -27919.296   \n",
       "4  05/01/2009       0.0                -31.01         -1.9       -29854.656   \n",
       "\n",
       "   river_hydrometry  \n",
       "0               2.4  \n",
       "1               2.5  \n",
       "2               2.4  \n",
       "3               2.4  \n",
       "4               2.3  "
      ]
     },
     "execution_count": 8,
     "metadata": {},
     "output_type": "execute_result"
    }
   ],
   "source": [
    "df.head()\n"
   ]
  },
  {
   "cell_type": "code",
   "execution_count": 10,
   "metadata": {},
   "outputs": [
    {
     "data": {
      "text/html": [
       "<style type=\"text/css\">\n",
       "#T_58158_row0_col0, #T_58158_row1_col0, #T_58158_row2_col0, #T_58158_row3_col0, #T_58158_row4_col0 {\n",
       "  background-color: dodgerblue;\n",
       "}\n",
       "</style>\n",
       "<table id=\"T_58158_\">\n",
       "  <thead>\n",
       "    <tr>\n",
       "      <th class=\"blank level0\" >&nbsp;</th>\n",
       "      <th class=\"col_heading level0 col0\" >date</th>\n",
       "      <th class=\"col_heading level0 col1\" >rainfall</th>\n",
       "      <th class=\"col_heading level0 col2\" >depth_to_groundwater</th>\n",
       "      <th class=\"col_heading level0 col3\" >temperature</th>\n",
       "      <th class=\"col_heading level0 col4\" >drainage_volume</th>\n",
       "      <th class=\"col_heading level0 col5\" >river_hydrometry</th>\n",
       "    </tr>\n",
       "  </thead>\n",
       "  <tbody>\n",
       "    <tr>\n",
       "      <th id=\"T_58158_level0_row0\" class=\"row_heading level0 row0\" >0</th>\n",
       "      <td id=\"T_58158_row0_col0\" class=\"data row0 col0\" >2009-01-01 00:00:00</td>\n",
       "      <td id=\"T_58158_row0_col1\" class=\"data row0 col1\" >0.000000</td>\n",
       "      <td id=\"T_58158_row0_col2\" class=\"data row0 col2\" >-31.140000</td>\n",
       "      <td id=\"T_58158_row0_col3\" class=\"data row0 col3\" >5.200000</td>\n",
       "      <td id=\"T_58158_row0_col4\" class=\"data row0 col4\" >-24530.688000</td>\n",
       "      <td id=\"T_58158_row0_col5\" class=\"data row0 col5\" >2.400000</td>\n",
       "    </tr>\n",
       "    <tr>\n",
       "      <th id=\"T_58158_level0_row1\" class=\"row_heading level0 row1\" >1</th>\n",
       "      <td id=\"T_58158_row1_col0\" class=\"data row1 col0\" >2009-01-02 00:00:00</td>\n",
       "      <td id=\"T_58158_row1_col1\" class=\"data row1 col1\" >0.000000</td>\n",
       "      <td id=\"T_58158_row1_col2\" class=\"data row1 col2\" >-31.110000</td>\n",
       "      <td id=\"T_58158_row1_col3\" class=\"data row1 col3\" >2.300000</td>\n",
       "      <td id=\"T_58158_row1_col4\" class=\"data row1 col4\" >-28785.888000</td>\n",
       "      <td id=\"T_58158_row1_col5\" class=\"data row1 col5\" >2.500000</td>\n",
       "    </tr>\n",
       "    <tr>\n",
       "      <th id=\"T_58158_level0_row2\" class=\"row_heading level0 row2\" >2</th>\n",
       "      <td id=\"T_58158_row2_col0\" class=\"data row2 col0\" >2009-01-03 00:00:00</td>\n",
       "      <td id=\"T_58158_row2_col1\" class=\"data row2 col1\" >0.000000</td>\n",
       "      <td id=\"T_58158_row2_col2\" class=\"data row2 col2\" >-31.070000</td>\n",
       "      <td id=\"T_58158_row2_col3\" class=\"data row2 col3\" >4.400000</td>\n",
       "      <td id=\"T_58158_row2_col4\" class=\"data row2 col4\" >-25766.208000</td>\n",
       "      <td id=\"T_58158_row2_col5\" class=\"data row2 col5\" >2.400000</td>\n",
       "    </tr>\n",
       "    <tr>\n",
       "      <th id=\"T_58158_level0_row3\" class=\"row_heading level0 row3\" >3</th>\n",
       "      <td id=\"T_58158_row3_col0\" class=\"data row3 col0\" >2009-01-04 00:00:00</td>\n",
       "      <td id=\"T_58158_row3_col1\" class=\"data row3 col1\" >0.000000</td>\n",
       "      <td id=\"T_58158_row3_col2\" class=\"data row3 col2\" >-31.050000</td>\n",
       "      <td id=\"T_58158_row3_col3\" class=\"data row3 col3\" >0.800000</td>\n",
       "      <td id=\"T_58158_row3_col4\" class=\"data row3 col4\" >-27919.296000</td>\n",
       "      <td id=\"T_58158_row3_col5\" class=\"data row3 col5\" >2.400000</td>\n",
       "    </tr>\n",
       "    <tr>\n",
       "      <th id=\"T_58158_level0_row4\" class=\"row_heading level0 row4\" >4</th>\n",
       "      <td id=\"T_58158_row4_col0\" class=\"data row4 col0\" >2009-01-05 00:00:00</td>\n",
       "      <td id=\"T_58158_row4_col1\" class=\"data row4 col1\" >0.000000</td>\n",
       "      <td id=\"T_58158_row4_col2\" class=\"data row4 col2\" >-31.010000</td>\n",
       "      <td id=\"T_58158_row4_col3\" class=\"data row4 col3\" >-1.900000</td>\n",
       "      <td id=\"T_58158_row4_col4\" class=\"data row4 col4\" >-29854.656000</td>\n",
       "      <td id=\"T_58158_row4_col5\" class=\"data row4 col5\" >2.300000</td>\n",
       "    </tr>\n",
       "  </tbody>\n",
       "</table>\n"
      ],
      "text/plain": [
       "<pandas.io.formats.style.Styler at 0x125e159f990>"
      ]
     },
     "execution_count": 10,
     "metadata": {},
     "output_type": "execute_result"
    }
   ],
   "source": [
    "from datetime import datetime, date \n",
    "df['date'] = pd.to_datetime(df['date'], format = '%d/%m/%Y')\n",
    "df.head().style.set_properties(subset=['date'], **{'background-color': 'dodgerblue'})\n"
   ]
  },
  {
   "cell_type": "code",
   "execution_count": 11,
   "metadata": {},
   "outputs": [
    {
     "data": {
      "image/png": "[encoded data removed]",
      "text/plain": [
       "<Figure size 1500x2500 with 5 Axes>"
      ]
     },
     "metadata": {},
     "output_type": "display_data"
    }
   ],
   "source": [
    "f, ax = plt.subplots(nrows=5, ncols=1, figsize=(15, 25))\n",
    "for i, column in enumerate(df.drop('date', axis=1).columns):\n",
    "    sns.lineplot(x=df['date'], y=df[column].fillna(method='ffill'), ax=ax[i], color='dodgerblue')\n",
    "\n",
    "\n"
   ]
  },
  {
   "cell_type": "code",
   "execution_count": null,
   "metadata": {},
   "outputs": [],
   "source": []
  }
 ],
 "metadata": {
  "kernelspec": {
   "display_name": "Python 3",
   "language": "python",
   "name": "python3"
  },
  "language_info": {
   "codemirror_mode": {
    "name": "ipython",
    "version": 3
   },
   "file_extension": ".py",
   "mimetype": "text/x-python",
   "name": "python",
   "nbconvert_exporter": "python",
   "pygments_lexer": "ipython3",
   "version": "3.11.2"
  },
  "orig_nbformat": 4
 },
 "nbformat": 4,
 "nbformat_minor": 2
}
