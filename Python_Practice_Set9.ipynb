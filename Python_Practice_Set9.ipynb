{
 "cells": [
  {
   "cell_type": "markdown",
   "metadata": {},
   "source": [
    "Q1. Write a Python program that prompts the user for two integers and divides the first integer by the\n",
    "second integer. If the either variable are none integer then print the value error and second integer is\n",
    "zero, catch the ZeroDivisionError and print an error message to the user."
   ]
  },
  {
   "cell_type": "code",
   "execution_count": 4,
   "metadata": {},
   "outputs": [
    {
     "name": "stdout",
     "output_type": "stream",
     "text": [
      "Error: division by zero. Please enter a non-zero value for the second integer.\n"
     ]
    }
   ],
   "source": [
    "try:\n",
    "\n",
    "    a = int(input(\"Enter first integer:\"))\n",
    "    b = int(input(\"Enter second integer:\"))\n",
    "\n",
    "    c = a/b\n",
    "\n",
    "    print(\"The result is:\", c)\n",
    "except ValueError:\n",
    "    print(\"Please enter valid number. Thanks \")\n",
    "except ZeroDivisionError:\n",
    "    print(\"Error: division by zero. Please enter a non-zero value for the second integer.\")\n",
    "\n"
   ]
  },
  {
   "cell_type": "code",
   "execution_count": 10,
   "metadata": {},
   "outputs": [
    {
     "name": "stdout",
     "output_type": "stream",
     "text": [
      "The result is: 1.3333333333333333\n"
     ]
    }
   ],
   "source": [
    "try:\n",
    "\n",
    "    a = int(input(\"Enter first integer:\"))\n",
    "    b = int(input(\"Enter second integer:\"))\n",
    "\n",
    "    if b!= 0 :\n",
    "        c = a/b\n",
    "        print(\"The result is:\", c)\n",
    "    else:\n",
    "        raise ZeroDivisionError(\"Second integer cannot be zero\")\n",
    "    \n",
    "except ValueError:\n",
    "    print(\"Please enter valid number\")\n",
    "except ZeroDivisionError as zde:\n",
    "    print(\"ZeroDivisionError\", zde)\n",
    "except Exception as e:\n",
    "    print(\"An unexpected error occured\", e)"
   ]
  },
  {
   "cell_type": "markdown",
   "metadata": {},
   "source": [
    "Q2. Write a Python program that prompts the user for a password and checks whether the password\n",
    "meets certain criteria (e.g., at least 8 characters, contains at least one uppercase letter, etc.). If the\n",
    "password does not meet the criteria, raise a custom exception called PasswordError with a custom error\n",
    "message."
   ]
  },
  {
   "cell_type": "code",
   "execution_count": null,
   "metadata": {},
   "outputs": [],
   "source": [
    "class PasswordError(Exception):\n",
    "    pass\n",
    "\n",
    "try:\n",
    "    pass = input(\"Please enter password: \")\n",
    "\n",
    "if len(pass) < 8:\n",
    "    raise PasswordError(\"Password must be at least 8 characters long\")\n",
    "if not any(char.isupper() for char in pass):\n",
    "    raise PasswordError(\"Password must contain at least one uppercase letter.\")\n",
    "if not any(char.isdigit() for char in pass):\n",
    "    raise PasswordError (\"Password must contain at least one digit.\")\n",
    "\n",
    "if not any(char in  \"!@#$%^&*()-_+=<>,.?/:;{}[]|\\\\~\" for char in pass):\n",
    "    raise PasswordError (\"Password must contain at least one special character.\")\n",
    "\n",
    "\n",
    "except PasswordError as pe:\n",
    "    print(\"PasswordError:\", pe)\n"
   ]
  }
 ],
 "metadata": {
  "kernelspec": {
   "display_name": "Python 3",
   "language": "python",
   "name": "python3"
  },
  "language_info": {
   "codemirror_mode": {
    "name": "ipython",
    "version": 3
   },
   "file_extension": ".py",
   "mimetype": "text/x-python",
   "name": "python",
   "nbconvert_exporter": "python",
   "pygments_lexer": "ipython3",
   "version": "3.11.2"
  }
 },
 "nbformat": 4,
 "nbformat_minor": 2
}
