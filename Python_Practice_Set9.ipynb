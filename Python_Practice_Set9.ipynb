{
 "cells": [
  {
   "cell_type": "markdown",
   "metadata": {},
   "source": [
    "Q1. Write a Python program that prompts the user for two integers and divides the first integer by the\n",
    "second integer. If the either variable are none integer then print the value error and second integer is\n",
    "zero, catch the ZeroDivisionError and print an error message to the user."
   ]
  },
  {
   "cell_type": "code",
   "execution_count": 4,
   "metadata": {},
   "outputs": [
    {
     "name": "stdout",
     "output_type": "stream",
     "text": [
      "Error: division by zero. Please enter a non-zero value for the second integer.\n"
     ]
    }
   ],
   "source": [
    "try:\n",
    "\n",
    "    a = int(input(\"Enter first integer:\"))\n",
    "    b = int(input(\"Enter second integer:\"))\n",
    "\n",
    "    c = a/b\n",
    "\n",
    "    print(\"The result is:\", c)\n",
    "except ValueError:\n",
    "    print(\"Please enter valid number. Thanks \")\n",
    "except ZeroDivisionError:\n",
    "    print(\"Error: division by zero. Please enter a non-zero value for the second integer.\")\n",
    "\n"
   ]
  },
  {
   "cell_type": "code",
   "execution_count": 10,
   "metadata": {},
   "outputs": [
    {
     "name": "stdout",
     "output_type": "stream",
     "text": [
      "The result is: 1.3333333333333333\n"
     ]
    }
   ],
   "source": [
    "try:\n",
    "\n",
    "    a = int(input(\"Enter first integer:\"))\n",
    "    b = int(input(\"Enter second integer:\"))\n",
    "\n",
    "    if b!= 0 :\n",
    "        c = a/b\n",
    "        print(\"The result is:\", c)\n",
    "    else:\n",
    "        raise ZeroDivisionError(\"Second integer cannot be zero\")\n",
    "    \n",
    "except ValueError:\n",
    "    print(\"Please enter valid number\")\n",
    "except ZeroDivisionError as zde:\n",
    "    print(\"ZeroDivisionError\", zde)\n",
    "except Exception as e:\n",
    "    print(\"An unexpected error occured\", e)"
   ]
  },
  {
   "cell_type": "markdown",
   "metadata": {},
   "source": [
    "Q2. Write a Python program that prompts the user for a password and checks whether the password\n",
    "meets certain criteria (e.g., at least 8 characters, contains at least one uppercase letter, etc.). If the\n",
    "password does not meet the criteria, raise a custom exception called PasswordError with a custom error\n",
    "message."
   ]
  },
  {
   "cell_type": "code",
   "execution_count": 3,
   "metadata": {},
   "outputs": [
    {
     "name": "stdout",
     "output_type": "stream",
     "text": [
      "PasswordError: Password must contain at least one uppercase letter.\n"
     ]
    }
   ],
   "source": [
    "class PasswordError(Exception):\n",
    "    pass\n",
    "\n",
    "try:\n",
    "    password = input(\"Please enter password: \")\n",
    "\n",
    "    if len(password) < 8:\n",
    "        raise PasswordError(\"Password must be at least 8 characters long\")\n",
    "    if not any(char.isupper() for char in password):\n",
    "        raise PasswordError(\"Password must contain at least one uppercase letter.\")\n",
    "    if not any(char.isdigit() for char in password):\n",
    "        raise PasswordError (\"Password must contain at least one digit.\")\n",
    "\n",
    "    if not any(char in  \"!@#$%^&*()-_+=<>,.?/:;{}[]|\\\\~\" for char in password):\n",
    "        raise PasswordError (\"Password must contain at least one special character.\")\n",
    "\n",
    "    print(\"Password is valid.\")\n",
    "\n",
    "\n",
    "except PasswordError as pe:\n",
    "    print(\"PasswordError:\", pe)\n"
   ]
  },
  {
   "cell_type": "code",
   "execution_count": 4,
   "metadata": {},
   "outputs": [
    {
     "name": "stdout",
     "output_type": "stream",
     "text": [
      "Password must meet the following criteria:\n",
      "- Be at least 8 characters long\n",
      "- Contain at least one uppercase letter\n",
      "- Contain at least one lowercase letter\n",
      "- Contain at least one digit\n",
      "- Contain at least one special character\n"
     ]
    }
   ],
   "source": [
    "import re\n",
    "\n",
    "def validate_password(password):\n",
    "    \"\"\"\n",
    "    Validates a password based on the following criteria:\n",
    "    - Minimum length of 8 characters\n",
    "    - At least one uppercase letter\n",
    "    - At least one lowercase letter\n",
    "    - At least one digit\n",
    "    - At least one special character\n",
    "\n",
    "    Returns True if the password is valid, False otherwise.\n",
    "    \"\"\"\n",
    "\n",
    "    pattern = r\"(?=.*\\d)(?=.*[a-z])(?=.*[A-Z])(?=.*[!@#$%^&*()-_+={}\\[\\]|\\\\:;'<>,.?/\\\"\\*])(?=.{8,})\"\n",
    "    return bool(re.match(pattern, password))\n",
    "\n",
    "if __name__ == \"__main__\":\n",
    "    password = input(\"Please enter your password: \")\n",
    "\n",
    "    if validate_password(password):\n",
    "        print(\"Password is valid.\")\n",
    "    else:\n",
    "        print(\"Password must meet the following criteria:\")\n",
    "        print(\"- Be at least 8 characters long\")\n",
    "        print(\"- Contain at least one uppercase letter\")\n",
    "        print(\"- Contain at least one lowercase letter\")\n",
    "        print(\"- Contain at least one digit\")\n",
    "        print(\"- Contain at least one special character\")\n",
    "\n"
   ]
  },
  {
   "cell_type": "markdown",
   "metadata": {},
   "source": [
    "Q3. Write a Python program that prompts the user for a number and calculates the square root of the\n",
    "number using the math.sqrt() function. If the number is negative, raise a ValueError with a custom error\n",
    "message."
   ]
  },
  {
   "cell_type": "code",
   "execution_count": 3,
   "metadata": {},
   "outputs": [
    {
     "name": "stdout",
     "output_type": "stream",
     "text": [
      "Cannot calculate the square root of a negative number.\n"
     ]
    }
   ],
   "source": [
    "import math\n",
    "def calculate_square_root(number):\n",
    "    if number < 0:\n",
    "            raise ValueError(\"Cannot calculate the square root of a negative number.\")\n",
    "    else:\n",
    "       return math.sqrt(number)  \n",
    "\n",
    "# Get input from the user\n",
    "\n",
    "number = float(input(\"Enter a number: \")) \n",
    "# Try to calculate the square root and print the result\n",
    "try:\n",
    "    square_root = calculate_square_root(number)\n",
    "    print(f\"The square root of {number} is {square_root:.2f}\")\n",
    "except ValueError as e:\n",
    "    print(e)\n"
   ]
  },
  {
   "cell_type": "markdown",
   "metadata": {},
   "source": [
    "Q4. Write a Python program that prompts the user for a number and calculates the square root of the\n",
    "number using the math.sqrt() function. If the number is negative, raise a ValueError with a custom error\n",
    "message."
   ]
  },
  {
   "cell_type": "markdown",
   "metadata": {},
   "source": [
    "Q5. Write a Python program that prompts the user for a list of integers and calculates the average of the\n",
    "list. If the list is empty, raise a ValueError with a custom error message."
   ]
  },
  {
   "cell_type": "code",
   "execution_count": 5,
   "metadata": {},
   "outputs": [
    {
     "name": "stdout",
     "output_type": "stream",
     "text": [
      "ValueError:  invalid literal for int() with base 10: '4.5'\n"
     ]
    }
   ],
   "source": [
    "try:\n",
    "    integers = input(\"Enter a list of integers separated by spaces: \").split()\n",
    "\n",
    "    # Converting the input strings to integers\n",
    "    integers = [int(num) for num in integers]\n",
    "\n",
    "    if len(integers) == 0:\n",
    "        raise ValueError(\"The list is empty.\")\n",
    "\n",
    "    average = sum(integers)/ len(integers)\n",
    "\n",
    "    print(\"the average of the list is: \", average)\n",
    "\n",
    "\n",
    "    \n",
    "except ValueError as ve:\n",
    "    print(\"ValueError: \", ve )"
   ]
  },
  {
   "cell_type": "markdown",
   "metadata": {},
   "source": [
    "Q6. Write a function that takes a string as input and returns the number of vow\n",
    "els in the string. If the input is not a string, raise a TypeError with a custom error message."
   ]
  },
  {
   "cell_type": "code",
   "execution_count": 2,
   "metadata": {},
   "outputs": [
    {
     "name": "stdout",
     "output_type": "stream",
     "text": [
      "The string 'This is a string with volwel.' has 7 vowels. \n",
      "Input must be a string\n"
     ]
    }
   ],
   "source": [
    "def count_vowels(text):\n",
    "    if not isinstance(text, str):\n",
    "        raise TypeError(\"Input must be a string\")\n",
    "    \n",
    "    vowels = \"aeiouAEIOU\"\n",
    "    vowel_count = 0\n",
    "    for char in text:\n",
    "        if char in vowels: \n",
    "            vowel_count = vowel_count + 1\n",
    "    return vowel_count\n",
    "\n",
    "text = \"This is a string with volwel.\"\n",
    "vowel_count = count_vowels(text)\n",
    "print(f\"The string '{text}' has {vowel_count} vowels. \")\n",
    "\n",
    "try:\n",
    "    count_vowels(123)\n",
    "except TypeError as e:\n",
    "    print(e)\n"
   ]
  },
  {
   "cell_type": "code",
   "execution_count": 3,
   "metadata": {},
   "outputs": [
    {
     "name": "stdout",
     "output_type": "stream",
     "text": [
      "The string 'ram' has 1 vowels.\n",
      "The string 'rajnish' has 2 vowels.\n",
      "The string 'anushka' has 3 vowels.\n",
      "The string 'adhikari' has 4 vowels.\n",
      "The string 'parajuli' has 4 vowels.\n",
      "The string 'adhikari' has 4 vowels.\n"
     ]
    }
   ],
   "source": [
    "def count_vowels(text):\n",
    "    \"\"\"Counts the number of vowels in a given string, handling user input and type errors gracefully.\n",
    "\n",
    "    Args:\n",
    "        text: The input string, either given directly or received from the user.\n",
    "\n",
    "    Returns:\n",
    "        The number of vowels in the string, as a non-negative integer.\n",
    "\n",
    "    Raises:\n",
    "        TypeError: If the input is not a string.\n",
    "    \"\"\"\n",
    "\n",
    "    if not isinstance(text, str):\n",
    "        raise TypeError(\"Input must be a string.\")\n",
    "\n",
    "    vowels = \"aeiouAEIOU\"\n",
    "    vowel_count = sum(char in vowels for char in text)  # Efficient list comprehension\n",
    "\n",
    "    return vowel_count\n",
    "\n",
    "# User input with error handling\n",
    "while True:\n",
    "    try:\n",
    "        text = input(\"Enter a string (or 'q' to quit): \")\n",
    "        if text.lower() == 'q':\n",
    "            break\n",
    "        vowel_count = count_vowels(text)\n",
    "        print(f\"The string '{text}' has {vowel_count} vowels.\")\n",
    "    except TypeError as e:\n",
    "        print(\"Invalid input:\", e)\n"
   ]
  },
  {
   "cell_type": "markdown",
   "metadata": {},
   "source": [
    "Q7. write a python program how to handle simple runtime error?"
   ]
  },
  {
   "cell_type": "code",
   "execution_count": 1,
   "metadata": {},
   "outputs": [
    {
     "name": "stdout",
     "output_type": "stream",
     "text": [
      "Error: Cannot divide by zero.\n"
     ]
    }
   ],
   "source": [
    "try:\n",
    "    x = 10/0\n",
    "except ZeroDivisionError:\n",
    "    print(\"Error: Cannot divide by zero.\")"
   ]
  },
  {
   "cell_type": "code",
   "execution_count": 3,
   "metadata": {},
   "outputs": [
    {
     "name": "stdout",
     "output_type": "stream",
     "text": [
      "10/2 = 5.0\n",
      "Error occured: Cannot divide by zero\n",
      "5/0 = None\n",
      "Error occured: Numerator must be a number.\n",
      "'hello' / 3 = None\n"
     ]
    }
   ],
   "source": [
    "def safe_division(numerator, denominator):\n",
    "\n",
    "    #  '''\n",
    "    #  Performs division, handling zero division error and type errors gracefully.\n",
    "\n",
    "    # Args:\n",
    "    #     numerator: The number to be divided.\n",
    "    #     denominator: The divisor.\n",
    "\n",
    "    # Returns:\n",
    "    #     The result of the division, or None if an error occurs.\n",
    "    # '''\n",
    "    \n",
    "     \n",
    "    try:\n",
    "        # Check for valid types\n",
    "        if not isinstance(numerator, (int, float)):\n",
    "            raise TypeError (\"Numerator must be a number.\")\n",
    "        if not isinstance(denominator, (int, float)):\n",
    "            raise TypeError(\"Denominator must be a number.\")\n",
    "        \n",
    "        # Check for zero division\n",
    "        if denominator == 0:\n",
    "            raise ZeroDivisionError(\"Cannot divide by zero\")\n",
    "        \n",
    "        # Perform the division\n",
    "        return numerator/ denominator\n",
    "\n",
    "    except (TypeError, ZeroDivisionError) as e:\n",
    "        print(f\"Error occured: {e}\")\n",
    "        return None\n",
    "    \n",
    "result = safe_division(10, 2)\n",
    "print(f\"10/2 = {result}\")\n",
    "\n",
    "result = safe_division(5,0)\n",
    "print(f\"5/0 = {result}\")\n",
    "\n",
    "result = safe_division(\"hello\", 3)\n",
    "print(f\"'hello' / 3 = {result}\")\n"
   ]
  },
  {
   "cell_type": "markdown",
   "metadata": {},
   "source": [
    "Q8. write a program how to handle multiple errors with one answer:# Program to handle multiple errors\n",
    "with one."
   ]
  },
  {
   "cell_type": "code",
   "execution_count": 4,
   "metadata": {},
   "outputs": [
    {
     "name": "stdout",
     "output_type": "stream",
     "text": [
      "Area of rectangle with length 5 and width 3: 15\n",
      "Error occured: Length must be a number.\n",
      "Area of rectangle with length 'abc' and width 3: None\n",
      "Error occured: Length cannot be negative.\n",
      "Area of rectangle with length -5 and width 3: None\n",
      "Area of rectangle with length 5 and width 3: 0\n",
      "Area of rectangle with length 0 and width 3: 0\n",
      "Area of rectangle with length 5 and width 0: 0\n"
     ]
    }
   ],
   "source": [
    "def calculate_area(length, width):\n",
    "    try:\n",
    "# Check for type errors\n",
    "        if not isinstance (length, (int, float)):\n",
    "            raise ValueError(\"Length must be a number.\")\n",
    "        if not isinstance (width,(int, float)):\n",
    "            raise ValueError(\"Width must be a number\")\n",
    "\n",
    "# Check for non-negative values\n",
    "        if length < 0:\n",
    "            raise ValueError(\"Length cannot be negative.\")\n",
    "        if width < 0:\n",
    "            raise ValueError(\"Width cannot be zero.\")\n",
    "        \n",
    "# Calculate and return the area\n",
    "        return length * width\n",
    "    \n",
    "\n",
    "    except (ValueError, ZeroDivisionError) as e:\n",
    "        print(f\"Error occured: {e}\")\n",
    "        return None\n",
    "        \n",
    "# Example usage\n",
    "print(\"Area of rectangle with length 5 and width 3:\", calculate_area(5,3))\n",
    "\n",
    "\n",
    "print(\"Area of rectangle with length 'abc' and width 3:\", calculate_area('abc',3))\n",
    " # Output: Error occurred: Length must be a number. None\n",
    "\n",
    "print(\"Area of rectangle with length -5 and width 3:\", calculate_area(-5,3))\n",
    "# Output: Error occurred: Length cannot be negative. None\n",
    "\n",
    "\n",
    "print(\"Area of rectangle with length 5 and width 3:\", calculate_area(0,0))\n",
    "# Output: Error occurred: ZeroDivisionError. None\n",
    "\n",
    "print(\"Area of rectangle with length 0 and width 3:\", calculate_area(0,5))\n",
    "print(\"Area of rectangle with length 5 and width 0:\", calculate_area(4,0))"
   ]
  },
  {
   "cell_type": "markdown",
   "metadata": {},
   "source": [
    "Q9. write a program to print the reciprocal of even numbers note:we might want to run a certain block of\n",
    "code if the code block inside try runs without any errors. For these cases, you can use the optional else\n",
    "keyword with the try statement."
   ]
  },
  {
   "cell_type": "code",
   "execution_count": null,
   "metadata": {},
   "outputs": [],
   "source": [
    "def print_reciporcals():\n",
    "    for num in range(2, 11):\n",
    "        try:\n",
    "            if num % 2 == 0:\n",
    "                reciporcal = 1/ num\n",
    "\n",
    "                # Format output to 2 decimal places\n",
    "                print(f\"The reciporcal of {num} is {reciporcal : .2f}\")\n",
    "            else:\n",
    "                print(f\"{num} is not even\")\n",
    "        except ZeroDivisionError:\n",
    "            print(f\"Error: Cannot divide by zero. Skipping {num}.\")\n",
    "        else:\n",
    "            "
   ]
  }
 ],
 "metadata": {
  "kernelspec": {
   "display_name": "Python 3",
   "language": "python",
   "name": "python3"
  },
  "language_info": {
   "codemirror_mode": {
    "name": "ipython",
    "version": 3
   },
   "file_extension": ".py",
   "mimetype": "text/x-python",
   "name": "python",
   "nbconvert_exporter": "python",
   "pygments_lexer": "ipython3",
   "version": "3.11.2"
  }
 },
 "nbformat": 4,
 "nbformat_minor": 2
}
