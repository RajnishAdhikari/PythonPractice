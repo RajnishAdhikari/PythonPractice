{
 "cells": [
  {
   "cell_type": "markdown",
   "metadata": {},
   "source": [
    "Q1. Write a Python program that prompts the user for two integers and divides the first integer by the\n",
    "second integer. If the either variable are none integer then print the value error and second integer is\n",
    "zero, catch the ZeroDivisionError and print an error message to the user."
   ]
  },
  {
   "cell_type": "code",
   "execution_count": 4,
   "metadata": {},
   "outputs": [
    {
     "name": "stdout",
     "output_type": "stream",
     "text": [
      "Error: division by zero. Please enter a non-zero value for the second integer.\n"
     ]
    }
   ],
   "source": [
    "try:\n",
    "\n",
    "    a = int(input(\"Enter first integer:\"))\n",
    "    b = int(input(\"Enter second integer:\"))\n",
    "\n",
    "    c = a/b\n",
    "\n",
    "    print(\"The result is:\", c)\n",
    "except ValueError:\n",
    "    print(\"Please enter valid number. Thanks \")\n",
    "except ZeroDivisionError:\n",
    "    print(\"Error: division by zero. Please enter a non-zero value for the second integer.\")\n",
    "\n"
   ]
  },
  {
   "cell_type": "code",
   "execution_count": 10,
   "metadata": {},
   "outputs": [
    {
     "name": "stdout",
     "output_type": "stream",
     "text": [
      "The result is: 1.3333333333333333\n"
     ]
    }
   ],
   "source": [
    "try:\n",
    "\n",
    "    a = int(input(\"Enter first integer:\"))\n",
    "    b = int(input(\"Enter second integer:\"))\n",
    "\n",
    "    if b!= 0 :\n",
    "        c = a/b\n",
    "        print(\"The result is:\", c)\n",
    "    else:\n",
    "        raise ZeroDivisionError(\"Second integer cannot be zero\")\n",
    "    \n",
    "except ValueError:\n",
    "    print(\"Please enter valid number\")\n",
    "except ZeroDivisionError as zde:\n",
    "    print(\"ZeroDivisionError\", zde)\n",
    "except Exception as e:\n",
    "    print(\"An unexpected error occured\", e)"
   ]
  },
  {
   "cell_type": "markdown",
   "metadata": {},
   "source": [
    "Q2. Write a Python program that prompts the user for a password and checks whether the password\n",
    "meets certain criteria (e.g., at least 8 characters, contains at least one uppercase letter, etc.). If the\n",
    "password does not meet the criteria, raise a custom exception called PasswordError with a custom error\n",
    "message."
   ]
  },
  {
   "cell_type": "code",
   "execution_count": 3,
   "metadata": {},
   "outputs": [
    {
     "name": "stdout",
     "output_type": "stream",
     "text": [
      "PasswordError: Password must contain at least one uppercase letter.\n"
     ]
    }
   ],
   "source": [
    "class PasswordError(Exception):\n",
    "    pass\n",
    "\n",
    "try:\n",
    "    password = input(\"Please enter password: \")\n",
    "\n",
    "    if len(password) < 8:\n",
    "        raise PasswordError(\"Password must be at least 8 characters long\")\n",
    "    if not any(char.isupper() for char in password):\n",
    "        raise PasswordError(\"Password must contain at least one uppercase letter.\")\n",
    "    if not any(char.isdigit() for char in password):\n",
    "        raise PasswordError (\"Password must contain at least one digit.\")\n",
    "\n",
    "    if not any(char in  \"!@#$%^&*()-_+=<>,.?/:;{}[]|\\\\~\" for char in password):\n",
    "        raise PasswordError (\"Password must contain at least one special character.\")\n",
    "\n",
    "    print(\"Password is valid.\")\n",
    "\n",
    "\n",
    "except PasswordError as pe:\n",
    "    print(\"PasswordError:\", pe)\n"
   ]
  },
  {
   "cell_type": "code",
   "execution_count": 4,
   "metadata": {},
   "outputs": [
    {
     "name": "stdout",
     "output_type": "stream",
     "text": [
      "Password must meet the following criteria:\n",
      "- Be at least 8 characters long\n",
      "- Contain at least one uppercase letter\n",
      "- Contain at least one lowercase letter\n",
      "- Contain at least one digit\n",
      "- Contain at least one special character\n"
     ]
    }
   ],
   "source": [
    "import re\n",
    "\n",
    "def validate_password(password):\n",
    "    \"\"\"\n",
    "    Validates a password based on the following criteria:\n",
    "    - Minimum length of 8 characters\n",
    "    - At least one uppercase letter\n",
    "    - At least one lowercase letter\n",
    "    - At least one digit\n",
    "    - At least one special character\n",
    "\n",
    "    Returns True if the password is valid, False otherwise.\n",
    "    \"\"\"\n",
    "\n",
    "    pattern = r\"(?=.*\\d)(?=.*[a-z])(?=.*[A-Z])(?=.*[!@#$%^&*()-_+={}\\[\\]|\\\\:;'<>,.?/\\\"\\*])(?=.{8,})\"\n",
    "    return bool(re.match(pattern, password))\n",
    "\n",
    "if __name__ == \"__main__\":\n",
    "    password = input(\"Please enter your password: \")\n",
    "\n",
    "    if validate_password(password):\n",
    "        print(\"Password is valid.\")\n",
    "    else:\n",
    "        print(\"Password must meet the following criteria:\")\n",
    "        print(\"- Be at least 8 characters long\")\n",
    "        print(\"- Contain at least one uppercase letter\")\n",
    "        print(\"- Contain at least one lowercase letter\")\n",
    "        print(\"- Contain at least one digit\")\n",
    "        print(\"- Contain at least one special character\")\n",
    "\n"
   ]
  },
  {
   "cell_type": "markdown",
   "metadata": {},
   "source": [
    "Q3. Write a Python program that prompts the user for a number and calculates the square root of the\n",
    "number using the math.sqrt() function. If the number is negative, raise a ValueError with a custom error\n",
    "message."
   ]
  },
  {
   "cell_type": "code",
   "execution_count": null,
   "metadata": {},
   "outputs": [],
   "source": [
    "import math\n",
    "def calculate_square_root(number):\n",
    "    "
   ]
  }
 ],
 "metadata": {
  "kernelspec": {
   "display_name": "Python 3",
   "language": "python",
   "name": "python3"
  },
  "language_info": {
   "codemirror_mode": {
    "name": "ipython",
    "version": 3
   },
   "file_extension": ".py",
   "mimetype": "text/x-python",
   "name": "python",
   "nbconvert_exporter": "python",
   "pygments_lexer": "ipython3",
   "version": "3.11.2"
  }
 },
 "nbformat": 4,
 "nbformat_minor": 2
}
