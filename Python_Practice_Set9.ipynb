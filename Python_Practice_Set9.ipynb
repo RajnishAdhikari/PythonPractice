{
 "cells": [
  {
   "cell_type": "markdown",
   "metadata": {},
   "source": [
    "Q1. Write a Python program that prompts the user for two integers and divides the first integer by the\n",
    "second integer. If the either variable are none integer then print the value error and second integer is\n",
    "zero, catch the ZeroDivisionError and print an error message to the user."
   ]
  },
  {
   "cell_type": "code",
   "execution_count": null,
   "metadata": {},
   "outputs": [],
   "source": [
    "a = int(input(\"Enter first integer:\"))"
   ]
  }
 ],
 "metadata": {
  "language_info": {
   "name": "python"
  }
 },
 "nbformat": 4,
 "nbformat_minor": 2
}
