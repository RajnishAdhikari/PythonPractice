{
 "cells": [
  {
   "cell_type": "code",
   "execution_count": 1,
   "metadata": {},
   "outputs": [
    {
     "name": "stdout",
     "output_type": "stream",
     "text": [
      "Price of a banana: 1.25\n"
     ]
    }
   ],
   "source": [
    "# Q1. Create a dictionary called fruits with the following key-value pairs:\n",
    "# \"apple\": 0.75\n",
    "# \"banana\": 1.25\n",
    "# \"orange\": 0.90\n",
    "# Then, print out the price of a banana.\n",
    "\n",
    "\n",
    "fruits = {\n",
    "    \"apple\": 0.75,\n",
    "    \"banana\": 1.25,\n",
    "    \"orange\": 0.90\n",
    "}\n",
    "\n",
    "# Print the price of a banana\n",
    "banana_price = fruits[\"banana\"]\n",
    "\n",
    "print(\"Price of a banana:\", banana_price)"
   ]
  },
  {
   "cell_type": "code",
   "execution_count": 3,
   "metadata": {},
   "outputs": [
    {
     "name": "stdout",
     "output_type": "stream",
     "text": [
      "{'Alice': 30, 'Bob': 25, 'Charlie': 35}\n",
      "Age of Charlie: 35\n"
     ]
    }
   ],
   "source": [
    "# Q2. Create an empty dictionary called ages. Add the following key-value pairs to the dictionary:\n",
    "# \"Alice\": 30\n",
    "# \"Bob\": 25\n",
    "# \"Charlie\": 35\n",
    "# Then, print out the age of Charlie.\n",
    "\n",
    "\n",
    "ages = {}\n",
    "\n",
    "ages[\"Alice\"] = 30\n",
    "ages[\"Bob\"] = 25\n",
    "ages[\"Charlie\"] = 35\n",
    "\n",
    "print(ages)\n",
    "\n",
    "charlie_age = ages[\"Charlie\"]\n",
    "\n",
    "print(\"Age of Charlie:\", charlie_age)"
   ]
  },
  {
   "cell_type": "code",
   "execution_count": 4,
   "metadata": {},
   "outputs": [
    {
     "name": "stdout",
     "output_type": "stream",
     "text": [
      "{'hello': 2, 'world': 1, 'nepal': 2, 'data': 2, 'science': 3, 'ya': 2}\n"
     ]
    }
   ],
   "source": [
    "# Q3. Write a function called word_count(text) that takes a string as input and returns a dictionary where\n",
    "# each key is a word in the text and its value is the number of times that word appears in the text. For\n",
    "# example, word_count(\"hello world hello\") should return {\"hello\": 2, \"world\": 1}.\n",
    "\n",
    "def word_count(text):\n",
    "    words = text.split()  # Split the text into a list of words\n",
    "    count_dict = {}\n",
    "    for word in words:\n",
    "        if word in count_dict:\n",
    "            count_dict[word] += 1\n",
    "        else:\n",
    "            count_dict[word] = 1\n",
    "    return count_dict\n",
    "\n",
    "\n",
    "# now we  normally test the function that we have normally build \n",
    "\n",
    "text = \"hello world hello nepal nepal data science data science science ya ya \"\n",
    "\n",
    "result = word_count(text)\n",
    "\n",
    "\n",
    "print(result)"
   ]
  },
  {
   "cell_type": "code",
   "execution_count": null,
   "metadata": {},
   "outputs": [],
   "source": [
    "# Q4. Create a dictionary called phone_book with the following key-value pairs:\n",
    "# \"Alice\": \"555-1234\"\n",
    "# \"Bob\": \"555-5678\"\n",
    "# \"Charlie\": \"555-9012\"\n",
    "# Then, prompt the user to enter a name and print out the corresponding phone number. If the name is not\n",
    "# in the phone book, print out a message saying that the name was not found.\n",
    "\n"
   ]
  },
  {
   "cell_type": "code",
   "execution_count": null,
   "metadata": {},
   "outputs": [],
   "source": []
  }
 ],
 "metadata": {
  "kernelspec": {
   "display_name": "Python 3",
   "language": "python",
   "name": "python3"
  },
  "language_info": {
   "codemirror_mode": {
    "name": "ipython",
    "version": 3
   },
   "file_extension": ".py",
   "mimetype": "text/x-python",
   "name": "python",
   "nbconvert_exporter": "python",
   "pygments_lexer": "ipython3",
   "version": "3.11.2"
  },
  "orig_nbformat": 4
 },
 "nbformat": 4,
 "nbformat_minor": 2
}
