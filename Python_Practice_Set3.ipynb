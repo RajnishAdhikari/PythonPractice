{
 "cells": [
  {
   "cell_type": "code",
   "execution_count": 1,
   "metadata": {},
   "outputs": [
    {
     "name": "stdout",
     "output_type": "stream",
     "text": [
      "Price of a banana: 1.25\n"
     ]
    }
   ],
   "source": [
    "# Q1. Create a dictionary called fruits with the following key-value pairs:\n",
    "# \"apple\": 0.75\n",
    "# \"banana\": 1.25\n",
    "# \"orange\": 0.90\n",
    "# Then, print out the price of a banana.\n",
    "\n",
    "\n",
    "fruits = {\n",
    "    \"apple\": 0.75,\n",
    "    \"banana\": 1.25,\n",
    "    \"orange\": 0.90\n",
    "}\n",
    "\n",
    "# Print the price of a banana\n",
    "banana_price = fruits[\"banana\"]\n",
    "\n",
    "print(\"Price of a banana:\", banana_price)"
   ]
  },
  {
   "cell_type": "code",
   "execution_count": 3,
   "metadata": {},
   "outputs": [
    {
     "name": "stdout",
     "output_type": "stream",
     "text": [
      "{'Alice': 30, 'Bob': 25, 'Charlie': 35}\n",
      "Age of Charlie: 35\n"
     ]
    }
   ],
   "source": [
    "# Q2. Create an empty dictionary called ages. Add the following key-value pairs to the dictionary:\n",
    "# \"Alice\": 30\n",
    "# \"Bob\": 25\n",
    "# \"Charlie\": 35\n",
    "# Then, print out the age of Charlie.\n",
    "\n",
    "\n",
    "ages = {}\n",
    "\n",
    "ages[\"Alice\"] = 30\n",
    "ages[\"Bob\"] = 25\n",
    "ages[\"Charlie\"] = 35\n",
    "\n",
    "print(ages)\n",
    "\n",
    "charlie_age = ages[\"Charlie\"]\n",
    "\n",
    "print(\"Age of Charlie:\", charlie_age)"
   ]
  },
  {
   "cell_type": "code",
   "execution_count": 4,
   "metadata": {},
   "outputs": [
    {
     "name": "stdout",
     "output_type": "stream",
     "text": [
      "{'hello': 2, 'world': 1, 'nepal': 2, 'data': 2, 'science': 3, 'ya': 2}\n"
     ]
    }
   ],
   "source": [
    "# Q3. Write a function called word_count(text) that takes a string as input and returns a dictionary where\n",
    "# each key is a word in the text and its value is the number of times that word appears in the text. For\n",
    "# example, word_count(\"hello world hello\") should return {\"hello\": 2, \"world\": 1}.\n",
    "\n",
    "def word_count(text):\n",
    "    words = text.split()  # Split the text into a list of words\n",
    "    count_dict = {}\n",
    "    for word in words:\n",
    "        if word in count_dict:\n",
    "            count_dict[word] += 1\n",
    "        else:\n",
    "            count_dict[word] = 1\n",
    "    return count_dict\n",
    "\n",
    "\n",
    "# now we  normally test the function that we have normally build \n",
    "\n",
    "text = \"hello world hello nepal nepal data science data science science ya ya \"\n",
    "\n",
    "result = word_count(text)\n",
    "\n",
    "\n",
    "print(result)"
   ]
  },
  {
   "cell_type": "code",
   "execution_count": null,
   "metadata": {},
   "outputs": [],
   "source": [
    "# Q4. Create a dictionary called phone_book with the following key-value pairs:\n",
    "# \"Alice\": \"555-1234\"\n",
    "# \"Bob\": \"555-5678\"\n",
    "# \"Charlie\": \"555-9012\"\n",
    "# Then, prompt the user to enter a name and print out the corresponding phone number. If the name is not\n",
    "# in the phone book, print out a message saying that the name was not found.\n",
    "\n",
    "\n",
    "phone_book = {\n",
    "    \"Alice\": \"555-1234\",\n",
    "    \"Bob\": \"555-5678\",\n",
    "    \"Charlie\": \"555-9012\"\n",
    "}\n",
    "\n",
    "name = input(\"Enter a name: \")\n",
    "\n",
    "\n",
    "# We then use an if statement to check if the entered name exists as a key in the phone_book. \n",
    "# If it does, we retrieve the corresponding phone number using phone_book[name] and print it.\n",
    "\n",
    "if name in phone_book:\n",
    "    phone_number = phone_book[name]\n",
    "    print(\"Phone number:\", phone_number)\n",
    "\n",
    "else:\n",
    "    print(\"Name not found in the phone book.\")"
   ]
  },
  {
   "cell_type": "code",
   "execution_count": 1,
   "metadata": {},
   "outputs": [
    {
     "name": "stdout",
     "output_type": "stream",
     "text": [
      "Too high!\n"
     ]
    }
   ],
   "source": [
    "# Q5. Write a program that prompts the user to enter a number between 1 and 10. If the number is less than\n",
    "# 5, print out \"Too low!\", otherwise print out \"Too high!\".\n",
    "\n",
    "number = int(input(\"Enter a number between 1 and 10: \"))\n",
    "\n",
    "\n",
    "\n",
    "if number < 5:\n",
    "    print(\"Too low!\")\n",
    "else:\n",
    "    print(\"Too high!\")"
   ]
  },
  {
   "cell_type": "code",
   "execution_count": 2,
   "metadata": {},
   "outputs": [],
   "source": [
    "# Q6. Write a program that prompts the user to enter a password. If the password is \"password123\", print\n",
    "# out \"Access granted\", otherwise print out \"Access denied\".\n",
    "\n",
    "password = input(\"Enter the password: \")\n",
    "\n",
    "\n",
    "if password == \"password123\":\n",
    "    print(\"Access granted\")\n",
    "else:\n",
    "    print(\"Access denied\")\n"
   ]
  },
  {
   "cell_type": "code",
   "execution_count": 1,
   "metadata": {},
   "outputs": [
    {
     "name": "stdout",
     "output_type": "stream",
     "text": [
      "Odd numbers from 1 to 6 :\n",
      "1\n",
      "3\n",
      "5\n"
     ]
    }
   ],
   "source": [
    "# Q7. Write a program that prompts the user to enter a positive integer. Then, use a loop to print out all the\n",
    "# odd numbers from 1 to that integer.\n",
    "\n",
    "num = int(input(\"Enter a positive integer: \"))\n",
    "\n",
    "if num < 1:\n",
    "    print(\"Invalid input. Please enter a positive integer.\")\n",
    "else:\n",
    "    # here we print the odd numbers for the condition \n",
    "    print(\"Odd numbers from 1 to\", num, \":\")\n",
    "\n",
    "    for i in range (1, num + 1):\n",
    "        if i % 2!= 0:\n",
    "            print(i)"
   ]
  },
  {
   "cell_type": "code",
   "execution_count": 4,
   "metadata": {},
   "outputs": [
    {
     "name": "stdout",
     "output_type": "stream",
     "text": [
      "Too high!\n"
     ]
    }
   ],
   "source": [
    "# Q8. Write a program that generates a random number between 1 and 100 and then prompts the user to\n",
    "# guess the number. If the user's guess is too low, print out \"Too low!\", if the guess is too high, print out \"Too\n",
    "# high!\", and if the guess is correct, print out \"You win!\".\n",
    "\n",
    "import random\n",
    "\n",
    "secret_number = random.randint(1, 100)\n",
    "\n",
    "\n",
    "guess = int(input(\"Guess the number between 1 and 100: \"))\n",
    "\n",
    "if guess < secret_number:\n",
    "    print(\"Too low!\")\n",
    "\n",
    "elif guess > secret_number:\n",
    "    print(\"Too high!\")\n",
    "\n",
    "else:\n",
    "    print(\"You win!\")"
   ]
  },
  {
   "cell_type": "code",
   "execution_count": null,
   "metadata": {},
   "outputs": [],
   "source": [
    "# Q9. Write a program that generates a random number between 1 and 10 and then prompts the user to\n",
    "# guess the number. The user has three attempts to guess the number. If the user guesses correctly within\n",
    "# three attempts, print out \"You win!\", otherwise print out \"You lose!\".\n",
    "\n",
    "import random\n",
    "secret_number = random.randint(1, 10)"
   ]
  },
  {
   "cell_type": "code",
   "execution_count": null,
   "metadata": {},
   "outputs": [],
   "source": []
  },
  {
   "cell_type": "code",
   "execution_count": null,
   "metadata": {},
   "outputs": [],
   "source": []
  },
  {
   "cell_type": "code",
   "execution_count": null,
   "metadata": {},
   "outputs": [],
   "source": []
  },
  {
   "cell_type": "code",
   "execution_count": null,
   "metadata": {},
   "outputs": [],
   "source": []
  },
  {
   "cell_type": "code",
   "execution_count": null,
   "metadata": {},
   "outputs": [],
   "source": []
  },
  {
   "cell_type": "code",
   "execution_count": null,
   "metadata": {},
   "outputs": [],
   "source": []
  },
  {
   "cell_type": "code",
   "execution_count": null,
   "metadata": {},
   "outputs": [],
   "source": []
  },
  {
   "cell_type": "code",
   "execution_count": null,
   "metadata": {},
   "outputs": [],
   "source": []
  },
  {
   "cell_type": "code",
   "execution_count": null,
   "metadata": {},
   "outputs": [],
   "source": []
  },
  {
   "cell_type": "code",
   "execution_count": null,
   "metadata": {},
   "outputs": [],
   "source": []
  },
  {
   "cell_type": "code",
   "execution_count": null,
   "metadata": {},
   "outputs": [],
   "source": []
  },
  {
   "cell_type": "code",
   "execution_count": null,
   "metadata": {},
   "outputs": [],
   "source": []
  },
  {
   "cell_type": "code",
   "execution_count": null,
   "metadata": {},
   "outputs": [],
   "source": []
  }
 ],
 "metadata": {
  "kernelspec": {
   "display_name": "Python 3",
   "language": "python",
   "name": "python3"
  },
  "language_info": {
   "codemirror_mode": {
    "name": "ipython",
    "version": 3
   },
   "file_extension": ".py",
   "mimetype": "text/x-python",
   "name": "python",
   "nbconvert_exporter": "python",
   "pygments_lexer": "ipython3",
   "version": "3.11.2"
  },
  "orig_nbformat": 4
 },
 "nbformat": 4,
 "nbformat_minor": 2
}
