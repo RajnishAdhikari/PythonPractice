{
 "cells": [
  {
   "cell_type": "code",
   "execution_count": null,
   "metadata": {},
   "outputs": [],
   "source": [
    "# Q1. Create a dictionary called fruits with the following key-value pairs:\n",
    "# \"apple\": 0.75\n",
    "# \"banana\": 1.25\n",
    "# \"orange\": 0.90\n",
    "# Then, print out the price of a banana.\n",
    "\n",
    "\n",
    "fruits = {\n",
    "    \"apple\": 0.75,\n",
    "    \"banana\": 1.25,\n",
    "    \"orange\": 0.90\n",
    "}\n",
    "\n",
    "# Print the price of a banana\n",
    "banana_price = fruits[\"banana\"]\n",
    "\n",
    "print(\"Price of a banana:\", banana_price)"
   ]
  }
 ],
 "metadata": {
  "language_info": {
   "name": "python"
  },
  "orig_nbformat": 4
 },
 "nbformat": 4,
 "nbformat_minor": 2
}
