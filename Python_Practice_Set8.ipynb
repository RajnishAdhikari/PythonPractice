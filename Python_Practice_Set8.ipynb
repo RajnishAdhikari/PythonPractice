{
 "cells": [
  {
   "cell_type": "markdown",
   "metadata": {},
   "source": [
    "Q1. Write a Python program to create two processes that print out the numbers from 1 to 10\n",
    "simultaneously."
   ]
  },
  {
   "cell_type": "code",
   "execution_count": 2,
   "metadata": {},
   "outputs": [
    {
     "name": "stdout",
     "output_type": "stream",
     "text": [
      "Both processes have finished.\n"
     ]
    }
   ],
   "source": [
    "import multiprocessing\n",
    "\n",
    "def print_numbers(start, end, queue):\n",
    "    for i in range(start, end + 1):\n",
    "        queue.put(f\"Process {multiprocessing.current_process().name}: {i}\")\n",
    "\n",
    "if __name__ == \"__main__\":\n",
    "    # Define the range of numbers for each process\n",
    "    process1_range = (1, 5)\n",
    "    process2_range = (6, 10)\n",
    "\n",
    "    # Create a multiprocessing Queue for communication\n",
    "    queue = multiprocessing.Queue()\n",
    "\n",
    "    # Create two processes, each printing numbers in its range\n",
    "    process1 = multiprocessing.Process(target=print_numbers, args=(process1_range, queue))\n",
    "    process2 = multiprocessing.Process(target=print_numbers, args=(process2_range, queue))\n",
    "\n",
    "    # Start both processes\n",
    "    process1.start()\n",
    "    process2.start()\n",
    "\n",
    "    # Wait for both processes to finish\n",
    "    process1.join()\n",
    "    process2.join()\n",
    "\n",
    "    # Collect and print the output in order\n",
    "    while not queue.empty():\n",
    "        print(queue.get())\n",
    "    \n",
    "    print(\"Both processes have finished.\")\n"
   ]
  },
  {
   "cell_type": "markdown",
   "metadata": {},
   "source": [
    "Q2. Write a Python program that creates four processes and computes the sum of the first 1000 integers\n",
    "using multiprocessing."
   ]
  },
  {
   "cell_type": "code",
   "execution_count": 5,
   "metadata": {},
   "outputs": [
    {
     "name": "stdout",
     "output_type": "stream",
     "text": [
      "Total: 0\n"
     ]
    }
   ],
   "source": [
    "from multiprocessing import Process, Value\n",
    "\n",
    "def compute_sum(start, end, total):\n",
    "    for i in range(start, end+1):\n",
    "        with total.get_lock():\n",
    "            total.value += i\n",
    "\n",
    "if __name__ == '__main__':\n",
    "    total = Value('i', 0)\n",
    "    \n",
    "    p1 = Process(target=compute_sum, args=(1, 250, total))\n",
    "    p2 = Process(target=compute_sum, args=(251, 500, total))\n",
    "    p3 = Process(target=compute_sum, args=(501, 750, total))\n",
    "    p4 = Process(target=compute_sum, args=(751, 1000, total))\n",
    "    \n",
    "    p1.start()\n",
    "    p2.start()\n",
    "    p3.start()\n",
    "    p4.start()\n",
    "    \n",
    "    p1.join()\n",
    "    p2.join()\n",
    "    p3.join()\n",
    "    p4.join()\n",
    "    \n",
    "    print('Total:', total.value)\n"
   ]
  },
  {
   "cell_type": "code",
   "execution_count": null,
   "metadata": {},
   "outputs": [],
   "source": []
  }
 ],
 "metadata": {
  "kernelspec": {
   "display_name": "Python 3",
   "language": "python",
   "name": "python3"
  },
  "language_info": {
   "codemirror_mode": {
    "name": "ipython",
    "version": 3
   },
   "file_extension": ".py",
   "mimetype": "text/x-python",
   "name": "python",
   "nbconvert_exporter": "python",
   "pygments_lexer": "ipython3",
   "version": "3.11.2"
  }
 },
 "nbformat": 4,
 "nbformat_minor": 2
}
