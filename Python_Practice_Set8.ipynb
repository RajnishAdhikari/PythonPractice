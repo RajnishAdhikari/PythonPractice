{
 "cells": [
  {
   "cell_type": "markdown",
   "metadata": {},
   "source": [
    "Q1. Write a Python program to create two processes that print out the numbers from 1 to 10\n",
    "simultaneously."
   ]
  },
  {
   "cell_type": "code",
   "execution_count": null,
   "metadata": {},
   "outputs": [],
   "source": [
    "import multiprocessing\n",
    "\n",
    "def print_numbers(start, end):\n",
    "    for i in range(start, end + 1):\n",
    "        print(i)\n",
    "\n",
    "if __name__ == \"__main__\":\n",
    "    # Defining the range of numbers for each process\n",
    "    process1_range = (1, 5)\n",
    "    process2_range = (6, 10)\n",
    "\n",
    "\n",
    "    # Creating two processes, each printing numbers in its range\n",
    "    process1 = multiprocessing.Process(target=print_numbers, args=process1_range)\n",
    "    process2 = multiprocessing.Process(target=print_numbers, args=process2_range)\n",
    "\n",
    "    # starting both processes\n"
   ]
  }
 ],
 "metadata": {
  "language_info": {
   "name": "python"
  }
 },
 "nbformat": 4,
 "nbformat_minor": 2
}
