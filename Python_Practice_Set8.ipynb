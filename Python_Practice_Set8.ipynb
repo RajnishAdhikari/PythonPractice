{
 "cells": [
  {
   "cell_type": "markdown",
   "metadata": {},
   "source": [
    "Q1. Write a Python program to create two processes that print out the numbers from 1 to 10\n",
    "simultaneously."
   ]
  },
  {
   "cell_type": "code",
   "execution_count": 2,
   "metadata": {},
   "outputs": [
    {
     "name": "stdout",
     "output_type": "stream",
     "text": [
      "Both processes have finished.\n"
     ]
    }
   ],
   "source": [
    "import multiprocessing\n",
    "\n",
    "def print_numbers(start, end, queue):\n",
    "    for i in range(start, end + 1):\n",
    "        queue.put(f\"Process {multiprocessing.current_process().name}: {i}\")\n",
    "\n",
    "if __name__ == \"__main__\":\n",
    "    # Define the range of numbers for each process\n",
    "    process1_range = (1, 5)\n",
    "    process2_range = (6, 10)\n",
    "\n",
    "    # Create a multiprocessing Queue for communication\n",
    "    queue = multiprocessing.Queue()\n",
    "\n",
    "    # Create two processes, each printing numbers in its range\n",
    "    process1 = multiprocessing.Process(target=print_numbers, args=(process1_range, queue))\n",
    "    process2 = multiprocessing.Process(target=print_numbers, args=(process2_range, queue))\n",
    "\n",
    "    # Start both processes\n",
    "    process1.start()\n",
    "    process2.start()\n",
    "\n",
    "    # Wait for both processes to finish\n",
    "    process1.join()\n",
    "    process2.join()\n",
    "\n",
    "    # Collect and print the output in order\n",
    "    while not queue.empty():\n",
    "        print(queue.get())\n",
    "    \n",
    "    print(\"Both processes have finished.\")\n"
   ]
  },
  {
   "cell_type": "markdown",
   "metadata": {},
   "source": [
    "Q2. Write a Python program that creates four processes and computes the sum of the first 1000 integers\n",
    "using multiprocessing."
   ]
  },
  {
   "cell_type": "code",
   "execution_count": 11,
   "metadata": {},
   "outputs": [
    {
     "name": "stdout",
     "output_type": "stream",
     "text": [
      "Total Sum of the first 1000 integers: 500500\n"
     ]
    }
   ],
   "source": [
    "import concurrent.futures\n",
    "\n",
    "def calculate_partial_sum(start, end):\n",
    "    return sum(range(start, end + 1))\n",
    "\n",
    "if __name__ == \"__main__\":\n",
    "    # Define the range of numbers for each process\n",
    "    ranges = [(1, 250), (251, 500), (501, 750), (751, 1000)]\n",
    "\n",
    "    # Using ThreadPoolExecutor for Windows compatibility\n",
    "    with concurrent.futures.ThreadPoolExecutor() as executor:\n",
    "        # Calculate partial sums concurrently\n",
    "        partial_sums = list(executor.map(lambda x: calculate_partial_sum(*x), ranges))\n",
    "\n",
    "    # Calculate the total sum from partial sums\n",
    "    total_sum = sum(partial_sums)\n",
    "\n",
    "    print(\"Total Sum of the first 1000 integers:\", total_sum)\n"
   ]
  },
  {
   "cell_type": "markdown",
   "metadata": {},
   "source": [
    "Q3. Write a Python program that creates two processes and communicates between them using a Queue.\n",
    "The first process should send a list of numbers to the second process, which should calculate the sum of\n",
    "the numbers and send it back to the first process."
   ]
  },
  {
   "cell_type": "code",
   "execution_count": 1,
   "metadata": {},
   "outputs": [],
   "source": [
    "# import multiprocessing\n",
    "\n",
    "# def calculate_sum(numbers, result_queue):\n",
    "#     total_sum = sum(numbers)\n",
    "#     result_queue.put(total_sum)\n",
    "\n",
    "# if __name__ == \"__main__\":\n",
    "#     # Creating a multiprocessing Queue for communication\n",
    "#     result_queue = multiprocessing.Queue()\n",
    "\n",
    "#     # Defining a list of numbers to be sent to the second process\n",
    "#     numbers_to_send = [1, 2, 3, 4, 5]\n",
    "\n",
    "#     # Creating the second process, passing the list and the result queue\n",
    "#     process2 = multiprocessing.Process(target=calculate_sum, args=(numbers_to_send, result_queue))\n",
    "\n",
    "#     # Starting the second process\n",
    "#     process2.start()\n",
    "\n",
    "#     # Waiting for the second process to finish\n",
    "#     process2.join()\n",
    "\n",
    "#     # Retrieving the result from the result queue\n",
    "#     total_sum = result_queue.get()\n",
    "\n",
    "\n",
    "#     print(f\"Sum of numbers {numbers_to_send}: {total_sum}\")\n",
    "\n",
    "\n",
    "\n",
    "\n",
    "\n",
    "\n",
    "\n",
    "# Another answer \n",
    "from multiprocessing import Process, Queue\n",
    "\n",
    "def calculate_sum(numbers, q):\n",
    "    \"\"\"\n",
    "    This function takes a list of numbers and calculates the sum of them.\n",
    "    The result is put into a queue to be returned to the main process.\n",
    "    \"\"\"\n",
    "    result = sum(numbers)\n",
    "    q.put(result)\n",
    "\n",
    "if __name__ == '__main__':\n",
    "    # Define the list of numbers to be summed\n",
    "    numbers = [1, 2, 3, 4, 5]\n",
    "\n",
    "    # Create a queue to communicate between processes\n",
    "    q = Queue()\n",
    "\n",
    "    # Create a process to calculate the sum of the numbers\n",
    "    p = Process(target=calculate_sum, args=(numbers, q))\n",
    "    p.start()\n",
    "\n",
    "    # Wait for the result to be put in the queue and retrieve it\n",
    "    result = q.get()\n",
    "\n",
    "    # Print the result\n",
    "    print(f\"The sum of the numbers {numbers} is {result}.\")\n"
   ]
  },
  {
   "cell_type": "markdown",
   "metadata": {},
   "source": [
    "Q4. Write a program to find the maximum number in a list of lists using multiprocessing."
   ]
  },
  {
   "cell_type": "code",
   "execution_count": 1,
   "metadata": {},
   "outputs": [],
   "source": [
    "import multiprocessing\n",
    "\n",
    "def find_max(nums):\n",
    "    return max(nums)\n",
    "\n",
    "if __name__ == '__main__':\n",
    "    nums = [[1, 2, 3], [4, 5, 6], [7, 8, 9]]\n",
    "    with multiprocessing.Pool(processes=3) as pool:\n",
    "        result = pool.map(find_max, nums)\n",
    "    print(max(result))"
   ]
  },
  {
   "cell_type": "code",
   "execution_count": null,
   "metadata": {},
   "outputs": [],
   "source": [
    "import multiprocessing\n",
    "\n",
    "def find_max_in_sublist(sublist):\n",
    "  \"\"\"Finds the maximum number in a sublist.\"\"\"\n",
    "  return max(sublist)\n",
    "\n",
    "def find_max_in_list_of_lists(list_of_lists):\n",
    "  \"\"\"Finds the maximum number in a list of lists using multiprocessing.\"\"\"\n",
    "  with multiprocessing.Pool() as pool:\n",
    "    max_numbers = pool.map(find_max_in_sublist, list_of_lists)\n",
    "  return max(max_numbers)\n",
    "\n",
    "if __name__ == \"__main__\":\n",
    "  list_of_lists = [[1, 2, 3], [4, 5, 6], [7, 8, 9]]\n",
    "  max_number = find_max_in_list_of_lists(list_of_lists)\n",
    "  print(\"Maximum number:\", max_number)\n"
   ]
  },
  {
   "cell_type": "markdown",
   "metadata": {},
   "source": [
    "Q5. Write a Python program that uses the Pool class from the multiprocessing module to calculate the\n",
    "squares of a list of integers."
   ]
  },
  {
   "cell_type": "code",
   "execution_count": 1,
   "metadata": {},
   "outputs": [],
   "source": [
    "import multiprocessing\n",
    "\n",
    "def calculate_square(num):\n",
    "    return num * num\n",
    "\n",
    "def main():\n",
    "    # Sample list of integers\n",
    "\n",
    "    numbers = [1,2,3,4,5,6,7,8,9,10]\n",
    "\n",
    "    # Creating a multiprocessing Pool\n",
    "    with multiprocessing.Pool() as pool:\n",
    "        # Using map to apply the function to each number in parallel \n",
    "        squares = pool.map(calculate_square, numbers)\n",
    "\n",
    "    # Printing the original numbers and their squares\n",
    "        \n",
    "    print(\"Original Numbers:\", numbers)\n",
    "    print(\"Squares:\", squares)\n",
    "\n",
    "if __name__ == \"__main__\":\n",
    "    main()\n",
    "\n",
    "\n",
    "# Alternate code \n",
    "    \n",
    "import multiprocessing\n",
    "\n",
    "def square(x):\n",
    "    return x ** 2\n",
    "\n",
    "if __name__ == '__main__':\n",
    "    with multiprocessing.Pool(processes=4) as pool:\n",
    "        numbers = [1, 2, 3, 4, 5]\n",
    "        result = pool.map(square, numbers)\n",
    "        print(result)"
   ]
  },
  {
   "cell_type": "markdown",
   "metadata": {},
   "source": [
    "Q6. How do you create a new process using the multiprocessing module in Python?"
   ]
  },
  {
   "cell_type": "code",
   "execution_count": null,
   "metadata": {},
   "outputs": [],
   "source": []
  },
  {
   "cell_type": "code",
   "execution_count": null,
   "metadata": {},
   "outputs": [],
   "source": []
  }
 ],
 "metadata": {
  "kernelspec": {
   "display_name": "Python 3",
   "language": "python",
   "name": "python3"
  },
  "language_info": {
   "codemirror_mode": {
    "name": "ipython",
    "version": 3
   },
   "file_extension": ".py",
   "mimetype": "text/x-python",
   "name": "python",
   "nbconvert_exporter": "python",
   "pygments_lexer": "ipython3",
   "version": "3.11.2"
  }
 },
 "nbformat": 4,
 "nbformat_minor": 2
}
