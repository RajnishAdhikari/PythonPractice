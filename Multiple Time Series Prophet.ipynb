{
 "cells": [
  {
   "cell_type": "code",
   "execution_count": 39,
   "metadata": {},
   "outputs": [],
   "source": [
    "import matplotlib as mpl\n",
    "import matplotlib.pyplot as plt\n",
    "import numpy as np\n",
    "import os\n",
    "from datetime import datetime\n",
    "import pandas as pd\n",
    "import plotly.express as px\n",
    "from prophet import Prophet\n",
    "from download import download\n",
    "\n",
    "\n",
    "mpl.rcParams['figure.figsize'] = (10, 8)\n",
    "mpl.rcParams['axes.grid'] = False\n"
   ]
  },
  {
   "cell_type": "code",
   "execution_count": 40,
   "metadata": {},
   "outputs": [],
   "source": [
    "df = pd.read_csv('filtered_nn_data.csv')"
   ]
  },
  {
   "cell_type": "code",
   "execution_count": 41,
   "metadata": {},
   "outputs": [
    {
     "data": {
      "text/html": [
       "<div>\n",
       "<style scoped>\n",
       "    .dataframe tbody tr th:only-of-type {\n",
       "        vertical-align: middle;\n",
       "    }\n",
       "\n",
       "    .dataframe tbody tr th {\n",
       "        vertical-align: top;\n",
       "    }\n",
       "\n",
       "    .dataframe thead th {\n",
       "        text-align: right;\n",
       "    }\n",
       "</style>\n",
       "<table border=\"1\" class=\"dataframe\">\n",
       "  <thead>\n",
       "    <tr style=\"text-align: right;\">\n",
       "      <th></th>\n",
       "      <th>date</th>\n",
       "      <th>year</th>\n",
       "      <th>uv</th>\n",
       "      <th>buyer</th>\n",
       "      <th>gmv</th>\n",
       "      <th>orders</th>\n",
       "      <th>cr</th>\n",
       "      <th>day_of_week</th>\n",
       "      <th>weekday</th>\n",
       "      <th>day_type</th>\n",
       "      <th>day_binary</th>\n",
       "      <th>campaign_info</th>\n",
       "      <th>campaign_type</th>\n",
       "    </tr>\n",
       "  </thead>\n",
       "  <tbody>\n",
       "    <tr>\n",
       "      <th>0</th>\n",
       "      <td>2021-01-01</td>\n",
       "      <td>2021</td>\n",
       "      <td>96281</td>\n",
       "      <td>3595</td>\n",
       "      <td>66052</td>\n",
       "      <td>4331</td>\n",
       "      <td>0.037</td>\n",
       "      <td>4</td>\n",
       "      <td>1</td>\n",
       "      <td>Weekday</td>\n",
       "      <td>100</td>\n",
       "      <td>non campaign</td>\n",
       "      <td>non-campaign</td>\n",
       "    </tr>\n",
       "    <tr>\n",
       "      <th>1</th>\n",
       "      <td>2021-01-02</td>\n",
       "      <td>2021</td>\n",
       "      <td>93620</td>\n",
       "      <td>3852</td>\n",
       "      <td>68483</td>\n",
       "      <td>4599</td>\n",
       "      <td>0.041</td>\n",
       "      <td>5</td>\n",
       "      <td>0</td>\n",
       "      <td>Weekend</td>\n",
       "      <td>101</td>\n",
       "      <td>non campaign</td>\n",
       "      <td>non-campaign</td>\n",
       "    </tr>\n",
       "    <tr>\n",
       "      <th>2</th>\n",
       "      <td>2021-01-03</td>\n",
       "      <td>2021</td>\n",
       "      <td>98196</td>\n",
       "      <td>4402</td>\n",
       "      <td>75556</td>\n",
       "      <td>5254</td>\n",
       "      <td>0.045</td>\n",
       "      <td>6</td>\n",
       "      <td>0</td>\n",
       "      <td>Weekend</td>\n",
       "      <td>110</td>\n",
       "      <td>non campaign</td>\n",
       "      <td>non-campaign</td>\n",
       "    </tr>\n",
       "    <tr>\n",
       "      <th>3</th>\n",
       "      <td>2021-01-04</td>\n",
       "      <td>2021</td>\n",
       "      <td>108903</td>\n",
       "      <td>4374</td>\n",
       "      <td>75432</td>\n",
       "      <td>5292</td>\n",
       "      <td>0.040</td>\n",
       "      <td>0</td>\n",
       "      <td>1</td>\n",
       "      <td>Weekday</td>\n",
       "      <td>0</td>\n",
       "      <td>non campaign</td>\n",
       "      <td>non-campaign</td>\n",
       "    </tr>\n",
       "    <tr>\n",
       "      <th>4</th>\n",
       "      <td>2021-01-05</td>\n",
       "      <td>2021</td>\n",
       "      <td>123715</td>\n",
       "      <td>4486</td>\n",
       "      <td>74678</td>\n",
       "      <td>5518</td>\n",
       "      <td>0.036</td>\n",
       "      <td>1</td>\n",
       "      <td>1</td>\n",
       "      <td>Weekday</td>\n",
       "      <td>1</td>\n",
       "      <td>non campaign</td>\n",
       "      <td>non-campaign</td>\n",
       "    </tr>\n",
       "  </tbody>\n",
       "</table>\n",
       "</div>"
      ],
      "text/plain": [
       "         date  year      uv  buyer    gmv  orders     cr  day_of_week  \\\n",
       "0  2021-01-01  2021   96281   3595  66052    4331  0.037            4   \n",
       "1  2021-01-02  2021   93620   3852  68483    4599  0.041            5   \n",
       "2  2021-01-03  2021   98196   4402  75556    5254  0.045            6   \n",
       "3  2021-01-04  2021  108903   4374  75432    5292  0.040            0   \n",
       "4  2021-01-05  2021  123715   4486  74678    5518  0.036            1   \n",
       "\n",
       "   weekday day_type  day_binary campaign_info campaign_type  \n",
       "0        1  Weekday         100  non campaign  non-campaign  \n",
       "1        0  Weekend         101  non campaign  non-campaign  \n",
       "2        0  Weekend         110  non campaign  non-campaign  \n",
       "3        1  Weekday           0  non campaign  non-campaign  \n",
       "4        1  Weekday           1  non campaign  non-campaign  "
      ]
     },
     "execution_count": 41,
     "metadata": {},
     "output_type": "execute_result"
    }
   ],
   "source": [
    "df.head()"
   ]
  },
  {
   "cell_type": "code",
   "execution_count": 42,
   "metadata": {},
   "outputs": [
    {
     "name": "stdout",
     "output_type": "stream",
     "text": [
      "<class 'pandas.core.frame.DataFrame'>\n",
      "RangeIndex: 748 entries, 0 to 747\n",
      "Data columns (total 13 columns):\n",
      " #   Column         Non-Null Count  Dtype  \n",
      "---  ------         --------------  -----  \n",
      " 0   date           748 non-null    object \n",
      " 1   year           748 non-null    int64  \n",
      " 2   uv             748 non-null    int64  \n",
      " 3   buyer          748 non-null    int64  \n",
      " 4   gmv            748 non-null    int64  \n",
      " 5   orders         748 non-null    int64  \n",
      " 6   cr             748 non-null    float64\n",
      " 7   day_of_week    748 non-null    int64  \n",
      " 8   weekday        748 non-null    int64  \n",
      " 9   day_type       748 non-null    object \n",
      " 10  day_binary     748 non-null    int64  \n",
      " 11  campaign_info  748 non-null    object \n",
      " 12  campaign_type  748 non-null    object \n",
      "dtypes: float64(1), int64(8), object(4)\n",
      "memory usage: 76.1+ KB\n"
     ]
    }
   ],
   "source": [
    "df.info()"
   ]
  },
  {
   "cell_type": "code",
   "execution_count": 43,
   "metadata": {},
   "outputs": [
    {
     "data": {
      "text/html": [
       "<div>\n",
       "<style scoped>\n",
       "    .dataframe tbody tr th:only-of-type {\n",
       "        vertical-align: middle;\n",
       "    }\n",
       "\n",
       "    .dataframe tbody tr th {\n",
       "        vertical-align: top;\n",
       "    }\n",
       "\n",
       "    .dataframe thead th {\n",
       "        text-align: right;\n",
       "    }\n",
       "</style>\n",
       "<table border=\"1\" class=\"dataframe\">\n",
       "  <thead>\n",
       "    <tr style=\"text-align: right;\">\n",
       "      <th></th>\n",
       "      <th>year</th>\n",
       "      <th>uv</th>\n",
       "      <th>buyer</th>\n",
       "      <th>gmv</th>\n",
       "      <th>orders</th>\n",
       "      <th>cr</th>\n",
       "      <th>day_of_week</th>\n",
       "      <th>weekday</th>\n",
       "      <th>day_binary</th>\n",
       "    </tr>\n",
       "  </thead>\n",
       "  <tbody>\n",
       "    <tr>\n",
       "      <th>count</th>\n",
       "      <td>748.000000</td>\n",
       "      <td>748.000000</td>\n",
       "      <td>748.000000</td>\n",
       "      <td>748.000000</td>\n",
       "      <td>748.000000</td>\n",
       "      <td>748.000000</td>\n",
       "      <td>748.000000</td>\n",
       "      <td>748.000000</td>\n",
       "      <td>748.000000</td>\n",
       "    </tr>\n",
       "    <tr>\n",
       "      <th>mean</th>\n",
       "      <td>2021.921123</td>\n",
       "      <td>159671.104278</td>\n",
       "      <td>6223.236631</td>\n",
       "      <td>101562.319519</td>\n",
       "      <td>7512.299465</td>\n",
       "      <td>0.039114</td>\n",
       "      <td>3.010695</td>\n",
       "      <td>0.709893</td>\n",
       "      <td>47.983957</td>\n",
       "    </tr>\n",
       "    <tr>\n",
       "      <th>std</th>\n",
       "      <td>0.769522</td>\n",
       "      <td>29478.107832</td>\n",
       "      <td>1239.675450</td>\n",
       "      <td>21527.881074</td>\n",
       "      <td>1471.932727</td>\n",
       "      <td>0.004362</td>\n",
       "      <td>2.003315</td>\n",
       "      <td>0.454115</td>\n",
       "      <td>48.897919</td>\n",
       "    </tr>\n",
       "    <tr>\n",
       "      <th>min</th>\n",
       "      <td>2021.000000</td>\n",
       "      <td>79290.000000</td>\n",
       "      <td>3105.000000</td>\n",
       "      <td>42574.000000</td>\n",
       "      <td>3718.000000</td>\n",
       "      <td>0.022000</td>\n",
       "      <td>0.000000</td>\n",
       "      <td>0.000000</td>\n",
       "      <td>0.000000</td>\n",
       "    </tr>\n",
       "    <tr>\n",
       "      <th>25%</th>\n",
       "      <td>2021.000000</td>\n",
       "      <td>139986.000000</td>\n",
       "      <td>5496.500000</td>\n",
       "      <td>88331.000000</td>\n",
       "      <td>6629.000000</td>\n",
       "      <td>0.037000</td>\n",
       "      <td>1.000000</td>\n",
       "      <td>0.000000</td>\n",
       "      <td>1.000000</td>\n",
       "    </tr>\n",
       "    <tr>\n",
       "      <th>50%</th>\n",
       "      <td>2022.000000</td>\n",
       "      <td>158205.500000</td>\n",
       "      <td>6147.500000</td>\n",
       "      <td>99430.000000</td>\n",
       "      <td>7442.500000</td>\n",
       "      <td>0.039000</td>\n",
       "      <td>3.000000</td>\n",
       "      <td>1.000000</td>\n",
       "      <td>11.000000</td>\n",
       "    </tr>\n",
       "    <tr>\n",
       "      <th>75%</th>\n",
       "      <td>2023.000000</td>\n",
       "      <td>181223.000000</td>\n",
       "      <td>7000.750000</td>\n",
       "      <td>111620.500000</td>\n",
       "      <td>8470.250000</td>\n",
       "      <td>0.041000</td>\n",
       "      <td>5.000000</td>\n",
       "      <td>1.000000</td>\n",
       "      <td>101.000000</td>\n",
       "    </tr>\n",
       "    <tr>\n",
       "      <th>max</th>\n",
       "      <td>2023.000000</td>\n",
       "      <td>286385.000000</td>\n",
       "      <td>12621.000000</td>\n",
       "      <td>291512.000000</td>\n",
       "      <td>15856.000000</td>\n",
       "      <td>0.058000</td>\n",
       "      <td>6.000000</td>\n",
       "      <td>1.000000</td>\n",
       "      <td>110.000000</td>\n",
       "    </tr>\n",
       "  </tbody>\n",
       "</table>\n",
       "</div>"
      ],
      "text/plain": [
       "              year             uv         buyer            gmv        orders  \\\n",
       "count   748.000000     748.000000    748.000000     748.000000    748.000000   \n",
       "mean   2021.921123  159671.104278   6223.236631  101562.319519   7512.299465   \n",
       "std       0.769522   29478.107832   1239.675450   21527.881074   1471.932727   \n",
       "min    2021.000000   79290.000000   3105.000000   42574.000000   3718.000000   \n",
       "25%    2021.000000  139986.000000   5496.500000   88331.000000   6629.000000   \n",
       "50%    2022.000000  158205.500000   6147.500000   99430.000000   7442.500000   \n",
       "75%    2023.000000  181223.000000   7000.750000  111620.500000   8470.250000   \n",
       "max    2023.000000  286385.000000  12621.000000  291512.000000  15856.000000   \n",
       "\n",
       "               cr  day_of_week     weekday  day_binary  \n",
       "count  748.000000   748.000000  748.000000  748.000000  \n",
       "mean     0.039114     3.010695    0.709893   47.983957  \n",
       "std      0.004362     2.003315    0.454115   48.897919  \n",
       "min      0.022000     0.000000    0.000000    0.000000  \n",
       "25%      0.037000     1.000000    0.000000    1.000000  \n",
       "50%      0.039000     3.000000    1.000000   11.000000  \n",
       "75%      0.041000     5.000000    1.000000  101.000000  \n",
       "max      0.058000     6.000000    1.000000  110.000000  "
      ]
     },
     "execution_count": 43,
     "metadata": {},
     "output_type": "execute_result"
    }
   ],
   "source": [
    "df.describe()"
   ]
  },
  {
   "cell_type": "code",
   "execution_count": 44,
   "metadata": {},
   "outputs": [
    {
     "data": {
      "text/plain": [
       "Index(['date', 'year', 'uv', 'buyer', 'gmv', 'orders', 'cr', 'day_of_week',\n",
       "       'weekday', 'day_type', 'day_binary', 'campaign_info', 'campaign_type'],\n",
       "      dtype='object')"
      ]
     },
     "execution_count": 44,
     "metadata": {},
     "output_type": "execute_result"
    }
   ],
   "source": [
    "df.columns"
   ]
  },
  {
   "cell_type": "code",
   "execution_count": 45,
   "metadata": {},
   "outputs": [
    {
     "data": {
      "text/plain": [
       "(748, 13)"
      ]
     },
     "execution_count": 45,
     "metadata": {},
     "output_type": "execute_result"
    }
   ],
   "source": [
    "df.shape"
   ]
  },
  {
   "cell_type": "code",
   "execution_count": 46,
   "metadata": {},
   "outputs": [
    {
     "data": {
      "text/plain": [
       "748"
      ]
     },
     "execution_count": 46,
     "metadata": {},
     "output_type": "execute_result"
    }
   ],
   "source": [
    "df.shape[0]"
   ]
  },
  {
   "cell_type": "code",
   "execution_count": 47,
   "metadata": {},
   "outputs": [
    {
     "data": {
      "text/plain": [
       "13"
      ]
     },
     "execution_count": 47,
     "metadata": {},
     "output_type": "execute_result"
    }
   ],
   "source": [
    "df.shape[1]"
   ]
  },
  {
   "cell_type": "code",
   "execution_count": 48,
   "metadata": {},
   "outputs": [],
   "source": [
    "df = df[['date', 'uv', 'buyer', 'gmv', 'orders']].copy()"
   ]
  },
  {
   "cell_type": "code",
   "execution_count": 49,
   "metadata": {},
   "outputs": [
    {
     "data": {
      "text/html": [
       "<div>\n",
       "<style scoped>\n",
       "    .dataframe tbody tr th:only-of-type {\n",
       "        vertical-align: middle;\n",
       "    }\n",
       "\n",
       "    .dataframe tbody tr th {\n",
       "        vertical-align: top;\n",
       "    }\n",
       "\n",
       "    .dataframe thead th {\n",
       "        text-align: right;\n",
       "    }\n",
       "</style>\n",
       "<table border=\"1\" class=\"dataframe\">\n",
       "  <thead>\n",
       "    <tr style=\"text-align: right;\">\n",
       "      <th></th>\n",
       "      <th>date</th>\n",
       "      <th>uv</th>\n",
       "      <th>buyer</th>\n",
       "      <th>gmv</th>\n",
       "      <th>orders</th>\n",
       "    </tr>\n",
       "  </thead>\n",
       "  <tbody>\n",
       "    <tr>\n",
       "      <th>0</th>\n",
       "      <td>2021-01-01</td>\n",
       "      <td>96281</td>\n",
       "      <td>3595</td>\n",
       "      <td>66052</td>\n",
       "      <td>4331</td>\n",
       "    </tr>\n",
       "    <tr>\n",
       "      <th>1</th>\n",
       "      <td>2021-01-02</td>\n",
       "      <td>93620</td>\n",
       "      <td>3852</td>\n",
       "      <td>68483</td>\n",
       "      <td>4599</td>\n",
       "    </tr>\n",
       "    <tr>\n",
       "      <th>2</th>\n",
       "      <td>2021-01-03</td>\n",
       "      <td>98196</td>\n",
       "      <td>4402</td>\n",
       "      <td>75556</td>\n",
       "      <td>5254</td>\n",
       "    </tr>\n",
       "    <tr>\n",
       "      <th>3</th>\n",
       "      <td>2021-01-04</td>\n",
       "      <td>108903</td>\n",
       "      <td>4374</td>\n",
       "      <td>75432</td>\n",
       "      <td>5292</td>\n",
       "    </tr>\n",
       "    <tr>\n",
       "      <th>4</th>\n",
       "      <td>2021-01-05</td>\n",
       "      <td>123715</td>\n",
       "      <td>4486</td>\n",
       "      <td>74678</td>\n",
       "      <td>5518</td>\n",
       "    </tr>\n",
       "    <tr>\n",
       "      <th>...</th>\n",
       "      <td>...</td>\n",
       "      <td>...</td>\n",
       "      <td>...</td>\n",
       "      <td>...</td>\n",
       "      <td>...</td>\n",
       "    </tr>\n",
       "    <tr>\n",
       "      <th>743</th>\n",
       "      <td>2023-08-18</td>\n",
       "      <td>208037</td>\n",
       "      <td>8153</td>\n",
       "      <td>106945</td>\n",
       "      <td>9768</td>\n",
       "    </tr>\n",
       "    <tr>\n",
       "      <th>744</th>\n",
       "      <td>2023-08-19</td>\n",
       "      <td>210176</td>\n",
       "      <td>8114</td>\n",
       "      <td>103039</td>\n",
       "      <td>9740</td>\n",
       "    </tr>\n",
       "    <tr>\n",
       "      <th>745</th>\n",
       "      <td>2023-08-20</td>\n",
       "      <td>209993</td>\n",
       "      <td>8518</td>\n",
       "      <td>110031</td>\n",
       "      <td>10201</td>\n",
       "    </tr>\n",
       "    <tr>\n",
       "      <th>746</th>\n",
       "      <td>2023-08-21</td>\n",
       "      <td>212682</td>\n",
       "      <td>8289</td>\n",
       "      <td>106126</td>\n",
       "      <td>9820</td>\n",
       "    </tr>\n",
       "    <tr>\n",
       "      <th>747</th>\n",
       "      <td>2023-08-22</td>\n",
       "      <td>211964</td>\n",
       "      <td>8399</td>\n",
       "      <td>107246</td>\n",
       "      <td>9974</td>\n",
       "    </tr>\n",
       "  </tbody>\n",
       "</table>\n",
       "<p>748 rows × 5 columns</p>\n",
       "</div>"
      ],
      "text/plain": [
       "           date      uv  buyer     gmv  orders\n",
       "0    2021-01-01   96281   3595   66052    4331\n",
       "1    2021-01-02   93620   3852   68483    4599\n",
       "2    2021-01-03   98196   4402   75556    5254\n",
       "3    2021-01-04  108903   4374   75432    5292\n",
       "4    2021-01-05  123715   4486   74678    5518\n",
       "..          ...     ...    ...     ...     ...\n",
       "743  2023-08-18  208037   8153  106945    9768\n",
       "744  2023-08-19  210176   8114  103039    9740\n",
       "745  2023-08-20  209993   8518  110031   10201\n",
       "746  2023-08-21  212682   8289  106126    9820\n",
       "747  2023-08-22  211964   8399  107246    9974\n",
       "\n",
       "[748 rows x 5 columns]"
      ]
     },
     "execution_count": 49,
     "metadata": {},
     "output_type": "execute_result"
    }
   ],
   "source": [
    "df"
   ]
  },
  {
   "cell_type": "code",
   "execution_count": 50,
   "metadata": {},
   "outputs": [
    {
     "name": "stdout",
     "output_type": "stream",
     "text": [
      "<class 'pandas.core.frame.DataFrame'>\n",
      "RangeIndex: 748 entries, 0 to 747\n",
      "Data columns (total 5 columns):\n",
      " #   Column  Non-Null Count  Dtype \n",
      "---  ------  --------------  ----- \n",
      " 0   date    748 non-null    object\n",
      " 1   uv      748 non-null    int64 \n",
      " 2   buyer   748 non-null    int64 \n",
      " 3   gmv     748 non-null    int64 \n",
      " 4   orders  748 non-null    int64 \n",
      "dtypes: int64(4), object(1)\n",
      "memory usage: 29.3+ KB\n"
     ]
    }
   ],
   "source": [
    "df.info()"
   ]
  },
  {
   "cell_type": "code",
   "execution_count": 51,
   "metadata": {},
   "outputs": [],
   "source": [
    "df['date'] = pd.to_datetime(df['date'])"
   ]
  },
  {
   "cell_type": "code",
   "execution_count": 52,
   "metadata": {},
   "outputs": [
    {
     "name": "stdout",
     "output_type": "stream",
     "text": [
      "<class 'pandas.core.frame.DataFrame'>\n",
      "RangeIndex: 748 entries, 0 to 747\n",
      "Data columns (total 5 columns):\n",
      " #   Column  Non-Null Count  Dtype         \n",
      "---  ------  --------------  -----         \n",
      " 0   date    748 non-null    datetime64[ns]\n",
      " 1   uv      748 non-null    int64         \n",
      " 2   buyer   748 non-null    int64         \n",
      " 3   gmv     748 non-null    int64         \n",
      " 4   orders  748 non-null    int64         \n",
      "dtypes: datetime64[ns](1), int64(4)\n",
      "memory usage: 29.3 KB\n"
     ]
    }
   ],
   "source": [
    "df.info()"
   ]
  },
  {
   "cell_type": "code",
   "execution_count": 53,
   "metadata": {},
   "outputs": [
    {
     "data": {
      "text/html": [
       "<div>\n",
       "<style scoped>\n",
       "    .dataframe tbody tr th:only-of-type {\n",
       "        vertical-align: middle;\n",
       "    }\n",
       "\n",
       "    .dataframe tbody tr th {\n",
       "        vertical-align: top;\n",
       "    }\n",
       "\n",
       "    .dataframe thead th {\n",
       "        text-align: right;\n",
       "    }\n",
       "</style>\n",
       "<table border=\"1\" class=\"dataframe\">\n",
       "  <thead>\n",
       "    <tr style=\"text-align: right;\">\n",
       "      <th></th>\n",
       "      <th>date</th>\n",
       "      <th>uv</th>\n",
       "      <th>buyer</th>\n",
       "      <th>gmv</th>\n",
       "      <th>orders</th>\n",
       "    </tr>\n",
       "  </thead>\n",
       "  <tbody>\n",
       "    <tr>\n",
       "      <th>0</th>\n",
       "      <td>2021-01-01</td>\n",
       "      <td>96281</td>\n",
       "      <td>3595</td>\n",
       "      <td>66052</td>\n",
       "      <td>4331</td>\n",
       "    </tr>\n",
       "    <tr>\n",
       "      <th>1</th>\n",
       "      <td>2021-01-02</td>\n",
       "      <td>93620</td>\n",
       "      <td>3852</td>\n",
       "      <td>68483</td>\n",
       "      <td>4599</td>\n",
       "    </tr>\n",
       "    <tr>\n",
       "      <th>2</th>\n",
       "      <td>2021-01-03</td>\n",
       "      <td>98196</td>\n",
       "      <td>4402</td>\n",
       "      <td>75556</td>\n",
       "      <td>5254</td>\n",
       "    </tr>\n",
       "    <tr>\n",
       "      <th>3</th>\n",
       "      <td>2021-01-04</td>\n",
       "      <td>108903</td>\n",
       "      <td>4374</td>\n",
       "      <td>75432</td>\n",
       "      <td>5292</td>\n",
       "    </tr>\n",
       "    <tr>\n",
       "      <th>4</th>\n",
       "      <td>2021-01-05</td>\n",
       "      <td>123715</td>\n",
       "      <td>4486</td>\n",
       "      <td>74678</td>\n",
       "      <td>5518</td>\n",
       "    </tr>\n",
       "  </tbody>\n",
       "</table>\n",
       "</div>"
      ],
      "text/plain": [
       "        date      uv  buyer    gmv  orders\n",
       "0 2021-01-01   96281   3595  66052    4331\n",
       "1 2021-01-02   93620   3852  68483    4599\n",
       "2 2021-01-03   98196   4402  75556    5254\n",
       "3 2021-01-04  108903   4374  75432    5292\n",
       "4 2021-01-05  123715   4486  74678    5518"
      ]
     },
     "execution_count": 53,
     "metadata": {},
     "output_type": "execute_result"
    }
   ],
   "source": [
    "df.head()"
   ]
  },
  {
   "cell_type": "code",
   "execution_count": 57,
   "metadata": {},
   "outputs": [
    {
     "data": {
      "text/html": [
       "<div>\n",
       "<style scoped>\n",
       "    .dataframe tbody tr th:only-of-type {\n",
       "        vertical-align: middle;\n",
       "    }\n",
       "\n",
       "    .dataframe tbody tr th {\n",
       "        vertical-align: top;\n",
       "    }\n",
       "\n",
       "    .dataframe thead th {\n",
       "        text-align: right;\n",
       "    }\n",
       "</style>\n",
       "<table border=\"1\" class=\"dataframe\">\n",
       "  <thead>\n",
       "    <tr style=\"text-align: right;\">\n",
       "      <th></th>\n",
       "      <th>date</th>\n",
       "      <th>uv</th>\n",
       "      <th>buyer</th>\n",
       "      <th>gmv</th>\n",
       "      <th>orders</th>\n",
       "    </tr>\n",
       "  </thead>\n",
       "  <tbody>\n",
       "    <tr>\n",
       "      <th>0</th>\n",
       "      <td>2021-01-01</td>\n",
       "      <td>96281</td>\n",
       "      <td>3595</td>\n",
       "      <td>66052</td>\n",
       "      <td>4331</td>\n",
       "    </tr>\n",
       "    <tr>\n",
       "      <th>1</th>\n",
       "      <td>2021-01-02</td>\n",
       "      <td>93620</td>\n",
       "      <td>3852</td>\n",
       "      <td>68483</td>\n",
       "      <td>4599</td>\n",
       "    </tr>\n",
       "    <tr>\n",
       "      <th>2</th>\n",
       "      <td>2021-01-03</td>\n",
       "      <td>98196</td>\n",
       "      <td>4402</td>\n",
       "      <td>75556</td>\n",
       "      <td>5254</td>\n",
       "    </tr>\n",
       "    <tr>\n",
       "      <th>3</th>\n",
       "      <td>2021-01-04</td>\n",
       "      <td>108903</td>\n",
       "      <td>4374</td>\n",
       "      <td>75432</td>\n",
       "      <td>5292</td>\n",
       "    </tr>\n",
       "    <tr>\n",
       "      <th>4</th>\n",
       "      <td>2021-01-05</td>\n",
       "      <td>123715</td>\n",
       "      <td>4486</td>\n",
       "      <td>74678</td>\n",
       "      <td>5518</td>\n",
       "    </tr>\n",
       "    <tr>\n",
       "      <th>...</th>\n",
       "      <td>...</td>\n",
       "      <td>...</td>\n",
       "      <td>...</td>\n",
       "      <td>...</td>\n",
       "      <td>...</td>\n",
       "    </tr>\n",
       "    <tr>\n",
       "      <th>743</th>\n",
       "      <td>2023-08-18</td>\n",
       "      <td>208037</td>\n",
       "      <td>8153</td>\n",
       "      <td>106945</td>\n",
       "      <td>9768</td>\n",
       "    </tr>\n",
       "    <tr>\n",
       "      <th>744</th>\n",
       "      <td>2023-08-19</td>\n",
       "      <td>210176</td>\n",
       "      <td>8114</td>\n",
       "      <td>103039</td>\n",
       "      <td>9740</td>\n",
       "    </tr>\n",
       "    <tr>\n",
       "      <th>745</th>\n",
       "      <td>2023-08-20</td>\n",
       "      <td>209993</td>\n",
       "      <td>8518</td>\n",
       "      <td>110031</td>\n",
       "      <td>10201</td>\n",
       "    </tr>\n",
       "    <tr>\n",
       "      <th>746</th>\n",
       "      <td>2023-08-21</td>\n",
       "      <td>212682</td>\n",
       "      <td>8289</td>\n",
       "      <td>106126</td>\n",
       "      <td>9820</td>\n",
       "    </tr>\n",
       "    <tr>\n",
       "      <th>747</th>\n",
       "      <td>2023-08-22</td>\n",
       "      <td>211964</td>\n",
       "      <td>8399</td>\n",
       "      <td>107246</td>\n",
       "      <td>9974</td>\n",
       "    </tr>\n",
       "  </tbody>\n",
       "</table>\n",
       "<p>748 rows × 5 columns</p>\n",
       "</div>"
      ],
      "text/plain": [
       "          date      uv  buyer     gmv  orders\n",
       "0   2021-01-01   96281   3595   66052    4331\n",
       "1   2021-01-02   93620   3852   68483    4599\n",
       "2   2021-01-03   98196   4402   75556    5254\n",
       "3   2021-01-04  108903   4374   75432    5292\n",
       "4   2021-01-05  123715   4486   74678    5518\n",
       "..         ...     ...    ...     ...     ...\n",
       "743 2023-08-18  208037   8153  106945    9768\n",
       "744 2023-08-19  210176   8114  103039    9740\n",
       "745 2023-08-20  209993   8518  110031   10201\n",
       "746 2023-08-21  212682   8289  106126    9820\n",
       "747 2023-08-22  211964   8399  107246    9974\n",
       "\n",
       "[748 rows x 5 columns]"
      ]
     },
     "execution_count": 57,
     "metadata": {},
     "output_type": "execute_result"
    }
   ],
   "source": [
    "df"
   ]
  },
  {
   "cell_type": "code",
   "execution_count": 54,
   "metadata": {},
   "outputs": [],
   "source": [
    "model = Prophet()"
   ]
  },
  {
   "cell_type": "code",
   "execution_count": 55,
   "metadata": {},
   "outputs": [
    {
     "data": {
      "text/plain": [
       "<prophet.forecaster.Prophet at 0x1fbe04213d0>"
      ]
     },
     "execution_count": 55,
     "metadata": {},
     "output_type": "execute_result"
    }
   ],
   "source": [
    "model.add_regressor('uv')\n",
    "model.add_regressor('buyers')\n",
    "model.add_regressor('gmv')"
   ]
  },
  {
   "cell_type": "code",
   "execution_count": 56,
   "metadata": {},
   "outputs": [
    {
     "ename": "ValueError",
     "evalue": "Dataframe must have columns \"ds\" and \"y\" with the dates and values respectively.",
     "output_type": "error",
     "traceback": [
      "\u001b[1;31m---------------------------------------------------------------------------\u001b[0m",
      "\u001b[1;31mValueError\u001b[0m                                Traceback (most recent call last)",
      "\u001b[1;32md:\\data science\\Python Practice From Pw skills\\Multiple Time Series Prophet.ipynb Cell 18\u001b[0m line \u001b[0;36m2\n\u001b[0;32m      <a href='vscode-notebook-cell:/d%3A/data%20science/Python%20Practice%20From%20Pw%20skills/Multiple%20Time%20Series%20Prophet.ipynb#X23sZmlsZQ%3D%3D?line=0'>1</a>\u001b[0m \u001b[39m# Fit the model to the data\u001b[39;00m\n\u001b[1;32m----> <a href='vscode-notebook-cell:/d%3A/data%20science/Python%20Practice%20From%20Pw%20skills/Multiple%20Time%20Series%20Prophet.ipynb#X23sZmlsZQ%3D%3D?line=1'>2</a>\u001b[0m model\u001b[39m.\u001b[39;49mfit(df)\n",
      "File \u001b[1;32mc:\\Users\\PC\\AppData\\Local\\Programs\\Python\\Python311\\Lib\\site-packages\\prophet\\forecaster.py:1117\u001b[0m, in \u001b[0;36mProphet.fit\u001b[1;34m(self, df, **kwargs)\u001b[0m\n\u001b[0;32m   1114\u001b[0m     \u001b[39mraise\u001b[39;00m \u001b[39mException\u001b[39;00m(\u001b[39m'\u001b[39m\u001b[39mProphet object can only be fit once. \u001b[39m\u001b[39m'\u001b[39m\n\u001b[0;32m   1115\u001b[0m                     \u001b[39m'\u001b[39m\u001b[39mInstantiate a new object.\u001b[39m\u001b[39m'\u001b[39m)\n\u001b[0;32m   1116\u001b[0m \u001b[39mif\u001b[39;00m (\u001b[39m'\u001b[39m\u001b[39mds\u001b[39m\u001b[39m'\u001b[39m \u001b[39mnot\u001b[39;00m \u001b[39min\u001b[39;00m df) \u001b[39mor\u001b[39;00m (\u001b[39m'\u001b[39m\u001b[39my\u001b[39m\u001b[39m'\u001b[39m \u001b[39mnot\u001b[39;00m \u001b[39min\u001b[39;00m df):\n\u001b[1;32m-> 1117\u001b[0m     \u001b[39mraise\u001b[39;00m \u001b[39mValueError\u001b[39;00m(\n\u001b[0;32m   1118\u001b[0m         \u001b[39m'\u001b[39m\u001b[39mDataframe must have columns \u001b[39m\u001b[39m\"\u001b[39m\u001b[39mds\u001b[39m\u001b[39m\"\u001b[39m\u001b[39m and \u001b[39m\u001b[39m\"\u001b[39m\u001b[39my\u001b[39m\u001b[39m\"\u001b[39m\u001b[39m with the dates and \u001b[39m\u001b[39m'\u001b[39m\n\u001b[0;32m   1119\u001b[0m         \u001b[39m'\u001b[39m\u001b[39mvalues respectively.\u001b[39m\u001b[39m'\u001b[39m\n\u001b[0;32m   1120\u001b[0m     )\n\u001b[0;32m   1121\u001b[0m history \u001b[39m=\u001b[39m df[df[\u001b[39m'\u001b[39m\u001b[39my\u001b[39m\u001b[39m'\u001b[39m]\u001b[39m.\u001b[39mnotnull()]\u001b[39m.\u001b[39mcopy()\n\u001b[0;32m   1122\u001b[0m \u001b[39mif\u001b[39;00m history\u001b[39m.\u001b[39mshape[\u001b[39m0\u001b[39m] \u001b[39m<\u001b[39m \u001b[39m2\u001b[39m:\n",
      "\u001b[1;31mValueError\u001b[0m: Dataframe must have columns \"ds\" and \"y\" with the dates and values respectively."
     ]
    }
   ],
   "source": [
    "# Fit the model to the data\n",
    "model.fit(df)"
   ]
  },
  {
   "cell_type": "code",
   "execution_count": null,
   "metadata": {},
   "outputs": [],
   "source": [
    "future = model.make_future_dataframe(periods=7)"
   ]
  },
  {
   "cell_type": "code",
   "execution_count": null,
   "metadata": {},
   "outputs": [],
   "source": [
    "forecast = model.predict(future)"
   ]
  },
  {
   "cell_type": "code",
   "execution_count": null,
   "metadata": {},
   "outputs": [],
   "source": [
    "forecast = model.predict(future)"
   ]
  },
  {
   "cell_type": "code",
   "execution_count": null,
   "metadata": {},
   "outputs": [],
   "source": []
  },
  {
   "cell_type": "code",
   "execution_count": null,
   "metadata": {},
   "outputs": [],
   "source": []
  },
  {
   "cell_type": "code",
   "execution_count": null,
   "metadata": {},
   "outputs": [],
   "source": []
  },
  {
   "cell_type": "code",
   "execution_count": null,
   "metadata": {},
   "outputs": [],
   "source": []
  },
  {
   "cell_type": "code",
   "execution_count": null,
   "metadata": {},
   "outputs": [],
   "source": []
  },
  {
   "cell_type": "code",
   "execution_count": null,
   "metadata": {},
   "outputs": [],
   "source": []
  }
 ],
 "metadata": {
  "kernelspec": {
   "display_name": "Python 3",
   "language": "python",
   "name": "python3"
  },
  "language_info": {
   "codemirror_mode": {
    "name": "ipython",
    "version": 3
   },
   "file_extension": ".py",
   "mimetype": "text/x-python",
   "name": "python",
   "nbconvert_exporter": "python",
   "pygments_lexer": "ipython3",
   "version": "3.11.2"
  },
  "orig_nbformat": 4
 },
 "nbformat": 4,
 "nbformat_minor": 2
}
