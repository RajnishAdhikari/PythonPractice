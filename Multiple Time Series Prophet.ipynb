{
 "cells": [
  {
   "cell_type": "code",
   "execution_count": 2,
   "metadata": {},
   "outputs": [],
   "source": [
    "import matplotlib as mpl\n",
    "import matplotlib.pyplot as plt\n",
    "import numpy as np\n",
    "import os\n",
    "from datetime import datetime\n",
    "import pandas as pd\n",
    "import plotly.express as px\n",
    "\n",
    "from download import download\n",
    "\n",
    "\n",
    "mpl.rcParams['figure.figsize'] = (10, 8)\n",
    "mpl.rcParams['axes.grid'] = False\n"
   ]
  },
  {
   "cell_type": "code",
   "execution_count": 3,
   "metadata": {},
   "outputs": [],
   "source": [
    "df = pd.read_csv('filtered_nn_data.csv')"
   ]
  },
  {
   "cell_type": "code",
   "execution_count": 4,
   "metadata": {},
   "outputs": [
    {
     "data": {
      "text/html": [
       "<div>\n",
       "<style scoped>\n",
       "    .dataframe tbody tr th:only-of-type {\n",
       "        vertical-align: middle;\n",
       "    }\n",
       "\n",
       "    .dataframe tbody tr th {\n",
       "        vertical-align: top;\n",
       "    }\n",
       "\n",
       "    .dataframe thead th {\n",
       "        text-align: right;\n",
       "    }\n",
       "</style>\n",
       "<table border=\"1\" class=\"dataframe\">\n",
       "  <thead>\n",
       "    <tr style=\"text-align: right;\">\n",
       "      <th></th>\n",
       "      <th>date</th>\n",
       "      <th>year</th>\n",
       "      <th>uv</th>\n",
       "      <th>buyer</th>\n",
       "      <th>gmv</th>\n",
       "      <th>orders</th>\n",
       "      <th>cr</th>\n",
       "      <th>day_of_week</th>\n",
       "      <th>weekday</th>\n",
       "      <th>day_type</th>\n",
       "      <th>day_binary</th>\n",
       "      <th>campaign_info</th>\n",
       "      <th>campaign_type</th>\n",
       "    </tr>\n",
       "  </thead>\n",
       "  <tbody>\n",
       "    <tr>\n",
       "      <th>0</th>\n",
       "      <td>2021-01-01</td>\n",
       "      <td>2021</td>\n",
       "      <td>96281</td>\n",
       "      <td>3595</td>\n",
       "      <td>66052</td>\n",
       "      <td>4331</td>\n",
       "      <td>0.037</td>\n",
       "      <td>4</td>\n",
       "      <td>1</td>\n",
       "      <td>Weekday</td>\n",
       "      <td>100</td>\n",
       "      <td>non campaign</td>\n",
       "      <td>non-campaign</td>\n",
       "    </tr>\n",
       "    <tr>\n",
       "      <th>1</th>\n",
       "      <td>2021-01-02</td>\n",
       "      <td>2021</td>\n",
       "      <td>93620</td>\n",
       "      <td>3852</td>\n",
       "      <td>68483</td>\n",
       "      <td>4599</td>\n",
       "      <td>0.041</td>\n",
       "      <td>5</td>\n",
       "      <td>0</td>\n",
       "      <td>Weekend</td>\n",
       "      <td>101</td>\n",
       "      <td>non campaign</td>\n",
       "      <td>non-campaign</td>\n",
       "    </tr>\n",
       "    <tr>\n",
       "      <th>2</th>\n",
       "      <td>2021-01-03</td>\n",
       "      <td>2021</td>\n",
       "      <td>98196</td>\n",
       "      <td>4402</td>\n",
       "      <td>75556</td>\n",
       "      <td>5254</td>\n",
       "      <td>0.045</td>\n",
       "      <td>6</td>\n",
       "      <td>0</td>\n",
       "      <td>Weekend</td>\n",
       "      <td>110</td>\n",
       "      <td>non campaign</td>\n",
       "      <td>non-campaign</td>\n",
       "    </tr>\n",
       "    <tr>\n",
       "      <th>3</th>\n",
       "      <td>2021-01-04</td>\n",
       "      <td>2021</td>\n",
       "      <td>108903</td>\n",
       "      <td>4374</td>\n",
       "      <td>75432</td>\n",
       "      <td>5292</td>\n",
       "      <td>0.040</td>\n",
       "      <td>0</td>\n",
       "      <td>1</td>\n",
       "      <td>Weekday</td>\n",
       "      <td>0</td>\n",
       "      <td>non campaign</td>\n",
       "      <td>non-campaign</td>\n",
       "    </tr>\n",
       "    <tr>\n",
       "      <th>4</th>\n",
       "      <td>2021-01-05</td>\n",
       "      <td>2021</td>\n",
       "      <td>123715</td>\n",
       "      <td>4486</td>\n",
       "      <td>74678</td>\n",
       "      <td>5518</td>\n",
       "      <td>0.036</td>\n",
       "      <td>1</td>\n",
       "      <td>1</td>\n",
       "      <td>Weekday</td>\n",
       "      <td>1</td>\n",
       "      <td>non campaign</td>\n",
       "      <td>non-campaign</td>\n",
       "    </tr>\n",
       "  </tbody>\n",
       "</table>\n",
       "</div>"
      ],
      "text/plain": [
       "         date  year      uv  buyer    gmv  orders     cr  day_of_week  \\\n",
       "0  2021-01-01  2021   96281   3595  66052    4331  0.037            4   \n",
       "1  2021-01-02  2021   93620   3852  68483    4599  0.041            5   \n",
       "2  2021-01-03  2021   98196   4402  75556    5254  0.045            6   \n",
       "3  2021-01-04  2021  108903   4374  75432    5292  0.040            0   \n",
       "4  2021-01-05  2021  123715   4486  74678    5518  0.036            1   \n",
       "\n",
       "   weekday day_type  day_binary campaign_info campaign_type  \n",
       "0        1  Weekday         100  non campaign  non-campaign  \n",
       "1        0  Weekend         101  non campaign  non-campaign  \n",
       "2        0  Weekend         110  non campaign  non-campaign  \n",
       "3        1  Weekday           0  non campaign  non-campaign  \n",
       "4        1  Weekday           1  non campaign  non-campaign  "
      ]
     },
     "execution_count": 4,
     "metadata": {},
     "output_type": "execute_result"
    }
   ],
   "source": [
    "df.head()"
   ]
  },
  {
   "cell_type": "code",
   "execution_count": 5,
   "metadata": {},
   "outputs": [
    {
     "name": "stdout",
     "output_type": "stream",
     "text": [
      "<class 'pandas.core.frame.DataFrame'>\n",
      "RangeIndex: 748 entries, 0 to 747\n",
      "Data columns (total 13 columns):\n",
      " #   Column         Non-Null Count  Dtype  \n",
      "---  ------         --------------  -----  \n",
      " 0   date           748 non-null    object \n",
      " 1   year           748 non-null    int64  \n",
      " 2   uv             748 non-null    int64  \n",
      " 3   buyer          748 non-null    int64  \n",
      " 4   gmv            748 non-null    int64  \n",
      " 5   orders         748 non-null    int64  \n",
      " 6   cr             748 non-null    float64\n",
      " 7   day_of_week    748 non-null    int64  \n",
      " 8   weekday        748 non-null    int64  \n",
      " 9   day_type       748 non-null    object \n",
      " 10  day_binary     748 non-null    int64  \n",
      " 11  campaign_info  748 non-null    object \n",
      " 12  campaign_type  748 non-null    object \n",
      "dtypes: float64(1), int64(8), object(4)\n",
      "memory usage: 76.1+ KB\n"
     ]
    }
   ],
   "source": [
    "df.info()"
   ]
  },
  {
   "cell_type": "code",
   "execution_count": 6,
   "metadata": {},
   "outputs": [
    {
     "data": {
      "text/html": [
       "<div>\n",
       "<style scoped>\n",
       "    .dataframe tbody tr th:only-of-type {\n",
       "        vertical-align: middle;\n",
       "    }\n",
       "\n",
       "    .dataframe tbody tr th {\n",
       "        vertical-align: top;\n",
       "    }\n",
       "\n",
       "    .dataframe thead th {\n",
       "        text-align: right;\n",
       "    }\n",
       "</style>\n",
       "<table border=\"1\" class=\"dataframe\">\n",
       "  <thead>\n",
       "    <tr style=\"text-align: right;\">\n",
       "      <th></th>\n",
       "      <th>year</th>\n",
       "      <th>uv</th>\n",
       "      <th>buyer</th>\n",
       "      <th>gmv</th>\n",
       "      <th>orders</th>\n",
       "      <th>cr</th>\n",
       "      <th>day_of_week</th>\n",
       "      <th>weekday</th>\n",
       "      <th>day_binary</th>\n",
       "    </tr>\n",
       "  </thead>\n",
       "  <tbody>\n",
       "    <tr>\n",
       "      <th>count</th>\n",
       "      <td>748.000000</td>\n",
       "      <td>748.000000</td>\n",
       "      <td>748.000000</td>\n",
       "      <td>748.000000</td>\n",
       "      <td>748.000000</td>\n",
       "      <td>748.000000</td>\n",
       "      <td>748.000000</td>\n",
       "      <td>748.000000</td>\n",
       "      <td>748.000000</td>\n",
       "    </tr>\n",
       "    <tr>\n",
       "      <th>mean</th>\n",
       "      <td>2021.921123</td>\n",
       "      <td>159671.104278</td>\n",
       "      <td>6223.236631</td>\n",
       "      <td>101562.319519</td>\n",
       "      <td>7512.299465</td>\n",
       "      <td>0.039114</td>\n",
       "      <td>3.010695</td>\n",
       "      <td>0.709893</td>\n",
       "      <td>47.983957</td>\n",
       "    </tr>\n",
       "    <tr>\n",
       "      <th>std</th>\n",
       "      <td>0.769522</td>\n",
       "      <td>29478.107832</td>\n",
       "      <td>1239.675450</td>\n",
       "      <td>21527.881074</td>\n",
       "      <td>1471.932727</td>\n",
       "      <td>0.004362</td>\n",
       "      <td>2.003315</td>\n",
       "      <td>0.454115</td>\n",
       "      <td>48.897919</td>\n",
       "    </tr>\n",
       "    <tr>\n",
       "      <th>min</th>\n",
       "      <td>2021.000000</td>\n",
       "      <td>79290.000000</td>\n",
       "      <td>3105.000000</td>\n",
       "      <td>42574.000000</td>\n",
       "      <td>3718.000000</td>\n",
       "      <td>0.022000</td>\n",
       "      <td>0.000000</td>\n",
       "      <td>0.000000</td>\n",
       "      <td>0.000000</td>\n",
       "    </tr>\n",
       "    <tr>\n",
       "      <th>25%</th>\n",
       "      <td>2021.000000</td>\n",
       "      <td>139986.000000</td>\n",
       "      <td>5496.500000</td>\n",
       "      <td>88331.000000</td>\n",
       "      <td>6629.000000</td>\n",
       "      <td>0.037000</td>\n",
       "      <td>1.000000</td>\n",
       "      <td>0.000000</td>\n",
       "      <td>1.000000</td>\n",
       "    </tr>\n",
       "    <tr>\n",
       "      <th>50%</th>\n",
       "      <td>2022.000000</td>\n",
       "      <td>158205.500000</td>\n",
       "      <td>6147.500000</td>\n",
       "      <td>99430.000000</td>\n",
       "      <td>7442.500000</td>\n",
       "      <td>0.039000</td>\n",
       "      <td>3.000000</td>\n",
       "      <td>1.000000</td>\n",
       "      <td>11.000000</td>\n",
       "    </tr>\n",
       "    <tr>\n",
       "      <th>75%</th>\n",
       "      <td>2023.000000</td>\n",
       "      <td>181223.000000</td>\n",
       "      <td>7000.750000</td>\n",
       "      <td>111620.500000</td>\n",
       "      <td>8470.250000</td>\n",
       "      <td>0.041000</td>\n",
       "      <td>5.000000</td>\n",
       "      <td>1.000000</td>\n",
       "      <td>101.000000</td>\n",
       "    </tr>\n",
       "    <tr>\n",
       "      <th>max</th>\n",
       "      <td>2023.000000</td>\n",
       "      <td>286385.000000</td>\n",
       "      <td>12621.000000</td>\n",
       "      <td>291512.000000</td>\n",
       "      <td>15856.000000</td>\n",
       "      <td>0.058000</td>\n",
       "      <td>6.000000</td>\n",
       "      <td>1.000000</td>\n",
       "      <td>110.000000</td>\n",
       "    </tr>\n",
       "  </tbody>\n",
       "</table>\n",
       "</div>"
      ],
      "text/plain": [
       "              year             uv         buyer            gmv        orders  \\\n",
       "count   748.000000     748.000000    748.000000     748.000000    748.000000   \n",
       "mean   2021.921123  159671.104278   6223.236631  101562.319519   7512.299465   \n",
       "std       0.769522   29478.107832   1239.675450   21527.881074   1471.932727   \n",
       "min    2021.000000   79290.000000   3105.000000   42574.000000   3718.000000   \n",
       "25%    2021.000000  139986.000000   5496.500000   88331.000000   6629.000000   \n",
       "50%    2022.000000  158205.500000   6147.500000   99430.000000   7442.500000   \n",
       "75%    2023.000000  181223.000000   7000.750000  111620.500000   8470.250000   \n",
       "max    2023.000000  286385.000000  12621.000000  291512.000000  15856.000000   \n",
       "\n",
       "               cr  day_of_week     weekday  day_binary  \n",
       "count  748.000000   748.000000  748.000000  748.000000  \n",
       "mean     0.039114     3.010695    0.709893   47.983957  \n",
       "std      0.004362     2.003315    0.454115   48.897919  \n",
       "min      0.022000     0.000000    0.000000    0.000000  \n",
       "25%      0.037000     1.000000    0.000000    1.000000  \n",
       "50%      0.039000     3.000000    1.000000   11.000000  \n",
       "75%      0.041000     5.000000    1.000000  101.000000  \n",
       "max      0.058000     6.000000    1.000000  110.000000  "
      ]
     },
     "execution_count": 6,
     "metadata": {},
     "output_type": "execute_result"
    }
   ],
   "source": [
    "df.describe()"
   ]
  },
  {
   "cell_type": "code",
   "execution_count": 7,
   "metadata": {},
   "outputs": [
    {
     "data": {
      "text/plain": [
       "Index(['date', 'year', 'uv', 'buyer', 'gmv', 'orders', 'cr', 'day_of_week',\n",
       "       'weekday', 'day_type', 'day_binary', 'campaign_info', 'campaign_type'],\n",
       "      dtype='object')"
      ]
     },
     "execution_count": 7,
     "metadata": {},
     "output_type": "execute_result"
    }
   ],
   "source": [
    "df.columns"
   ]
  },
  {
   "cell_type": "code",
   "execution_count": 8,
   "metadata": {},
   "outputs": [
    {
     "data": {
      "text/plain": [
       "(748, 13)"
      ]
     },
     "execution_count": 8,
     "metadata": {},
     "output_type": "execute_result"
    }
   ],
   "source": [
    "df.shape"
   ]
  },
  {
   "cell_type": "code",
   "execution_count": 9,
   "metadata": {},
   "outputs": [
    {
     "data": {
      "text/plain": [
       "748"
      ]
     },
     "execution_count": 9,
     "metadata": {},
     "output_type": "execute_result"
    }
   ],
   "source": [
    "df.shape[0]"
   ]
  },
  {
   "cell_type": "code",
   "execution_count": 10,
   "metadata": {},
   "outputs": [
    {
     "data": {
      "text/plain": [
       "13"
      ]
     },
     "execution_count": 10,
     "metadata": {},
     "output_type": "execute_result"
    }
   ],
   "source": [
    "df.shape[1]"
   ]
  },
  {
   "cell_type": "code",
   "execution_count": 13,
   "metadata": {},
   "outputs": [
    {
     "ename": "KeyError",
     "evalue": "('date', 'uv', 'buyer', 'gmv', 'orders')",
     "output_type": "error",
     "traceback": [
      "\u001b[1;31m---------------------------------------------------------------------------\u001b[0m",
      "\u001b[1;31mKeyError\u001b[0m                                  Traceback (most recent call last)",
      "File \u001b[1;32mc:\\Users\\PC\\AppData\\Local\\Programs\\Python\\Python311\\Lib\\site-packages\\pandas\\core\\indexes\\base.py:3790\u001b[0m, in \u001b[0;36mIndex.get_loc\u001b[1;34m(self, key)\u001b[0m\n\u001b[0;32m   3789\u001b[0m \u001b[39mtry\u001b[39;00m:\n\u001b[1;32m-> 3790\u001b[0m     \u001b[39mreturn\u001b[39;00m \u001b[39mself\u001b[39;49m\u001b[39m.\u001b[39;49m_engine\u001b[39m.\u001b[39;49mget_loc(casted_key)\n\u001b[0;32m   3791\u001b[0m \u001b[39mexcept\u001b[39;00m \u001b[39mKeyError\u001b[39;00m \u001b[39mas\u001b[39;00m err:\n",
      "File \u001b[1;32mindex.pyx:152\u001b[0m, in \u001b[0;36mpandas._libs.index.IndexEngine.get_loc\u001b[1;34m()\u001b[0m\n",
      "File \u001b[1;32mindex.pyx:181\u001b[0m, in \u001b[0;36mpandas._libs.index.IndexEngine.get_loc\u001b[1;34m()\u001b[0m\n",
      "File \u001b[1;32mpandas\\_libs\\hashtable_class_helper.pxi:7080\u001b[0m, in \u001b[0;36mpandas._libs.hashtable.PyObjectHashTable.get_item\u001b[1;34m()\u001b[0m\n",
      "File \u001b[1;32mpandas\\_libs\\hashtable_class_helper.pxi:7088\u001b[0m, in \u001b[0;36mpandas._libs.hashtable.PyObjectHashTable.get_item\u001b[1;34m()\u001b[0m\n",
      "\u001b[1;31mKeyError\u001b[0m: ('date', 'uv', 'buyer', 'gmv', 'orders')",
      "\nThe above exception was the direct cause of the following exception:\n",
      "\u001b[1;31mKeyError\u001b[0m                                  Traceback (most recent call last)",
      "\u001b[1;32md:\\data science\\Python Practice From Pw skills\\Multiple Time Series Prophet.ipynb Cell 10\u001b[0m line \u001b[0;36m1\n\u001b[1;32m----> <a href='vscode-notebook-cell:/d%3A/data%20science/Python%20Practice%20From%20Pw%20skills/Multiple%20Time%20Series%20Prophet.ipynb#X12sZmlsZQ%3D%3D?line=0'>1</a>\u001b[0m df1 \u001b[39m=\u001b[39m df[\u001b[39m'\u001b[39;49m\u001b[39mdate\u001b[39;49m\u001b[39m'\u001b[39;49m, \u001b[39m'\u001b[39;49m\u001b[39muv\u001b[39;49m\u001b[39m'\u001b[39;49m, \u001b[39m'\u001b[39;49m\u001b[39mbuyer\u001b[39;49m\u001b[39m'\u001b[39;49m, \u001b[39m'\u001b[39;49m\u001b[39mgmv\u001b[39;49m\u001b[39m'\u001b[39;49m, \u001b[39m'\u001b[39;49m\u001b[39morders\u001b[39;49m\u001b[39m'\u001b[39;49m]\u001b[39m.\u001b[39mcopy()\n",
      "File \u001b[1;32mc:\\Users\\PC\\AppData\\Local\\Programs\\Python\\Python311\\Lib\\site-packages\\pandas\\core\\frame.py:3896\u001b[0m, in \u001b[0;36mDataFrame.__getitem__\u001b[1;34m(self, key)\u001b[0m\n\u001b[0;32m   3894\u001b[0m \u001b[39mif\u001b[39;00m \u001b[39mself\u001b[39m\u001b[39m.\u001b[39mcolumns\u001b[39m.\u001b[39mnlevels \u001b[39m>\u001b[39m \u001b[39m1\u001b[39m:\n\u001b[0;32m   3895\u001b[0m     \u001b[39mreturn\u001b[39;00m \u001b[39mself\u001b[39m\u001b[39m.\u001b[39m_getitem_multilevel(key)\n\u001b[1;32m-> 3896\u001b[0m indexer \u001b[39m=\u001b[39m \u001b[39mself\u001b[39;49m\u001b[39m.\u001b[39;49mcolumns\u001b[39m.\u001b[39;49mget_loc(key)\n\u001b[0;32m   3897\u001b[0m \u001b[39mif\u001b[39;00m is_integer(indexer):\n\u001b[0;32m   3898\u001b[0m     indexer \u001b[39m=\u001b[39m [indexer]\n",
      "File \u001b[1;32mc:\\Users\\PC\\AppData\\Local\\Programs\\Python\\Python311\\Lib\\site-packages\\pandas\\core\\indexes\\base.py:3797\u001b[0m, in \u001b[0;36mIndex.get_loc\u001b[1;34m(self, key)\u001b[0m\n\u001b[0;32m   3792\u001b[0m     \u001b[39mif\u001b[39;00m \u001b[39misinstance\u001b[39m(casted_key, \u001b[39mslice\u001b[39m) \u001b[39mor\u001b[39;00m (\n\u001b[0;32m   3793\u001b[0m         \u001b[39misinstance\u001b[39m(casted_key, abc\u001b[39m.\u001b[39mIterable)\n\u001b[0;32m   3794\u001b[0m         \u001b[39mand\u001b[39;00m \u001b[39many\u001b[39m(\u001b[39misinstance\u001b[39m(x, \u001b[39mslice\u001b[39m) \u001b[39mfor\u001b[39;00m x \u001b[39min\u001b[39;00m casted_key)\n\u001b[0;32m   3795\u001b[0m     ):\n\u001b[0;32m   3796\u001b[0m         \u001b[39mraise\u001b[39;00m InvalidIndexError(key)\n\u001b[1;32m-> 3797\u001b[0m     \u001b[39mraise\u001b[39;00m \u001b[39mKeyError\u001b[39;00m(key) \u001b[39mfrom\u001b[39;00m \u001b[39merr\u001b[39;00m\n\u001b[0;32m   3798\u001b[0m \u001b[39mexcept\u001b[39;00m \u001b[39mTypeError\u001b[39;00m:\n\u001b[0;32m   3799\u001b[0m     \u001b[39m# If we have a listlike key, _check_indexing_error will raise\u001b[39;00m\n\u001b[0;32m   3800\u001b[0m     \u001b[39m#  InvalidIndexError. Otherwise we fall through and re-raise\u001b[39;00m\n\u001b[0;32m   3801\u001b[0m     \u001b[39m#  the TypeError.\u001b[39;00m\n\u001b[0;32m   3802\u001b[0m     \u001b[39mself\u001b[39m\u001b[39m.\u001b[39m_check_indexing_error(key)\n",
      "\u001b[1;31mKeyError\u001b[0m: ('date', 'uv', 'buyer', 'gmv', 'orders')"
     ]
    }
   ],
   "source": [
    "df = df[['date', 'uv', 'buyer', 'gmv', 'orders']].copy()"
   ]
  },
  {
   "cell_type": "code",
   "execution_count": null,
   "metadata": {},
   "outputs": [],
   "source": []
  }
 ],
 "metadata": {
  "kernelspec": {
   "display_name": "Python 3",
   "language": "python",
   "name": "python3"
  },
  "language_info": {
   "codemirror_mode": {
    "name": "ipython",
    "version": 3
   },
   "file_extension": ".py",
   "mimetype": "text/x-python",
   "name": "python",
   "nbconvert_exporter": "python",
   "pygments_lexer": "ipython3",
   "version": "3.11.2"
  },
  "orig_nbformat": 4
 },
 "nbformat": 4,
 "nbformat_minor": 2
}
