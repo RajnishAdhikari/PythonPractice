{
 "cells": [
  {
   "cell_type": "code",
   "execution_count": 12,
   "metadata": {},
   "outputs": [],
   "source": [
    "import xgboost as xgb\n",
    "import pandas as pd\n",
    "import numpy as np\n"
   ]
  },
  {
   "cell_type": "code",
   "execution_count": 13,
   "metadata": {},
   "outputs": [
    {
     "name": "stdout",
     "output_type": "stream",
     "text": [
      "         date  year      uv  buyer    gmv  orders     cr  day_of_week  \\\n",
      "0  2021-01-01  2021   96281   3595  66052    4331  0.037            4   \n",
      "1  2021-01-02  2021   93620   3852  68483    4599  0.041            5   \n",
      "2  2021-01-03  2021   98196   4402  75556    5254  0.045            6   \n",
      "3  2021-01-04  2021  108903   4374  75432    5292  0.040            0   \n",
      "4  2021-01-05  2021  123715   4486  74678    5518  0.036            1   \n",
      "\n",
      "   weekday day_type  day_binary campaign_info campaign_type  \n",
      "0        1  Weekday         100  non campaign  non-campaign  \n",
      "1        0  Weekend         101  non campaign  non-campaign  \n",
      "2        0  Weekend         110  non campaign  non-campaign  \n",
      "3        1  Weekday           0  non campaign  non-campaign  \n",
      "4        1  Weekday           1  non campaign  non-campaign  \n"
     ]
    }
   ],
   "source": [
    "df = pd.read_csv('filtered_nn_data.csv')\n",
    "\n",
    "print(df.head())"
   ]
  },
  {
   "cell_type": "code",
   "execution_count": 14,
   "metadata": {},
   "outputs": [
    {
     "name": "stdout",
     "output_type": "stream",
     "text": [
      "           date  orders\n",
      "0    2021-01-01    4331\n",
      "1    2021-01-02    4599\n",
      "2    2021-01-03    5254\n",
      "3    2021-01-04    5292\n",
      "4    2021-01-05    5518\n",
      "..          ...     ...\n",
      "743  2023-08-18    9768\n",
      "744  2023-08-19    9740\n",
      "745  2023-08-20   10201\n",
      "746  2023-08-21    9820\n",
      "747  2023-08-22    9974\n",
      "\n",
      "[748 rows x 2 columns]\n"
     ]
    }
   ],
   "source": [
    "df = df[['date',  'orders']].copy()\n",
    "# print('\\n', 'uv', 'buyer', 'gmv',)\n",
    "print(df)"
   ]
  },
  {
   "cell_type": "code",
   "execution_count": 15,
   "metadata": {},
   "outputs": [],
   "source": [
    "# Create lag features (e.g., lag 1 day)\n",
    "df['lag_1_day'] = df['orders'].shift(1)"
   ]
  },
  {
   "cell_type": "code",
   "execution_count": null,
   "metadata": {},
   "outputs": [],
   "source": []
  },
  {
   "cell_type": "code",
   "execution_count": 23,
   "metadata": {},
   "outputs": [
    {
     "name": "stdout",
     "output_type": "stream",
     "text": [
      "int64\n",
      "Shape of X: (747, 1)\n",
      "Shape of y: (747,)\n"
     ]
    },
    {
     "name": "stderr",
     "output_type": "stream",
     "text": [
      "c:\\Users\\PC\\AppData\\Local\\Programs\\Python\\Python311\\Lib\\site-packages\\xgboost\\data.py:335: FutureWarning: is_sparse is deprecated and will be removed in a future version. Check `isinstance(dtype, pd.SparseDtype)` instead.\n",
      "  if is_sparse(dtype):\n",
      "c:\\Users\\PC\\AppData\\Local\\Programs\\Python\\Python311\\Lib\\site-packages\\xgboost\\data.py:338: FutureWarning: is_categorical_dtype is deprecated and will be removed in a future version. Use isinstance(dtype, CategoricalDtype) instead\n",
      "  is_categorical_dtype(dtype) or is_pa_ext_categorical_dtype(dtype)\n",
      "c:\\Users\\PC\\AppData\\Local\\Programs\\Python\\Python311\\Lib\\site-packages\\xgboost\\data.py:384: FutureWarning: is_categorical_dtype is deprecated and will be removed in a future version. Use isinstance(dtype, CategoricalDtype) instead\n",
      "  if is_categorical_dtype(dtype):\n",
      "c:\\Users\\PC\\AppData\\Local\\Programs\\Python\\Python311\\Lib\\site-packages\\xgboost\\data.py:359: FutureWarning: is_categorical_dtype is deprecated and will be removed in a future version. Use isinstance(dtype, CategoricalDtype) instead\n",
      "  return is_int or is_bool or is_float or is_categorical_dtype(dtype)\n",
      "c:\\Users\\PC\\AppData\\Local\\Programs\\Python\\Python311\\Lib\\site-packages\\xgboost\\data.py:520: FutureWarning: is_sparse is deprecated and will be removed in a future version. Check `isinstance(dtype, pd.SparseDtype)` instead.\n",
      "  if is_sparse(data):\n",
      "c:\\Users\\PC\\AppData\\Local\\Programs\\Python\\Python311\\Lib\\site-packages\\xgboost\\data.py:335: FutureWarning: is_sparse is deprecated and will be removed in a future version. Check `isinstance(dtype, pd.SparseDtype)` instead.\n",
      "  if is_sparse(dtype):\n",
      "c:\\Users\\PC\\AppData\\Local\\Programs\\Python\\Python311\\Lib\\site-packages\\xgboost\\data.py:338: FutureWarning: is_categorical_dtype is deprecated and will be removed in a future version. Use isinstance(dtype, CategoricalDtype) instead\n",
      "  is_categorical_dtype(dtype) or is_pa_ext_categorical_dtype(dtype)\n",
      "c:\\Users\\PC\\AppData\\Local\\Programs\\Python\\Python311\\Lib\\site-packages\\xgboost\\data.py:384: FutureWarning: is_categorical_dtype is deprecated and will be removed in a future version. Use isinstance(dtype, CategoricalDtype) instead\n",
      "  if is_categorical_dtype(dtype):\n",
      "c:\\Users\\PC\\AppData\\Local\\Programs\\Python\\Python311\\Lib\\site-packages\\xgboost\\data.py:359: FutureWarning: is_categorical_dtype is deprecated and will be removed in a future version. Use isinstance(dtype, CategoricalDtype) instead\n",
      "  return is_int or is_bool or is_float or is_categorical_dtype(dtype)\n"
     ]
    },
    {
     "ename": "TypeError",
     "evalue": "can only concatenate str (not \"Timedelta\") to str",
     "output_type": "error",
     "traceback": [
      "\u001b[1;31m---------------------------------------------------------------------------\u001b[0m",
      "\u001b[1;31mTypeError\u001b[0m                                 Traceback (most recent call last)",
      "\u001b[1;32md:\\data science\\Python Practice From Pw skills\\xgboost_try.ipynb Cell 6\u001b[0m line \u001b[0;36m3\n\u001b[0;32m     <a href='vscode-notebook-cell:/d%3A/data%20science/Python%20Practice%20From%20Pw%20skills/xgboost_try.ipynb#W0sZmlsZQ%3D%3D?line=31'>32</a>\u001b[0m next_day_order \u001b[39m=\u001b[39m model\u001b[39m.\u001b[39mpredict(prediction_data)\n\u001b[0;32m     <a href='vscode-notebook-cell:/d%3A/data%20science/Python%20Practice%20From%20Pw%20skills/xgboost_try.ipynb#W0sZmlsZQ%3D%3D?line=33'>34</a>\u001b[0m \u001b[39m# Convert DateOffset to Timedelta and add it to the date\u001b[39;00m\n\u001b[1;32m---> <a href='vscode-notebook-cell:/d%3A/data%20science/Python%20Practice%20From%20Pw%20skills/xgboost_try.ipynb#W0sZmlsZQ%3D%3D?line=34'>35</a>\u001b[0m next_date \u001b[39m=\u001b[39m initial_date \u001b[39m+\u001b[39;49m pd\u001b[39m.\u001b[39;49mTimedelta(days\u001b[39m=\u001b[39;49mday)\n\u001b[0;32m     <a href='vscode-notebook-cell:/d%3A/data%20science/Python%20Practice%20From%20Pw%20skills/xgboost_try.ipynb#W0sZmlsZQ%3D%3D?line=36'>37</a>\u001b[0m \u001b[39m# Append data to the forecast list\u001b[39;00m\n\u001b[0;32m     <a href='vscode-notebook-cell:/d%3A/data%20science/Python%20Practice%20From%20Pw%20skills/xgboost_try.ipynb#W0sZmlsZQ%3D%3D?line=37'>38</a>\u001b[0m forecast_data\u001b[39m.\u001b[39mappend({\u001b[39m'\u001b[39m\u001b[39mdate\u001b[39m\u001b[39m'\u001b[39m: next_date, \u001b[39m'\u001b[39m\u001b[39morders\u001b[39m\u001b[39m'\u001b[39m: next_day_order[\u001b[39m0\u001b[39m]})\n",
      "\u001b[1;31mTypeError\u001b[0m: can only concatenate str (not \"Timedelta\") to str"
     ]
    }
   ],
   "source": [
    "# df['date'] = pd.to_datetime(df['date'])\n",
    "# Initialize and train the XGBoost model using all available data\n",
    "# Verify data type of 'orders'\n",
    "print(df['orders'].dtype)  # Check if it's int or float\n",
    "\n",
    "# Initialize and train the XGBoost model using all available data\n",
    "X = df[['lag_1_day']].dropna()\n",
    "y = df['orders'].dropna()\n",
    "\n",
    "# Align 'X' and 'y' by dropping the last row from 'y'\n",
    "y = y[:-1]  # Remove the last row\n",
    "\n",
    "# Debugging: Print shapes of X and y\n",
    "print(\"Shape of X:\", X.shape)\n",
    "print(\"Shape of y:\", y.shape)\n",
    "\n",
    "model = xgb.XGBRegressor(n_estimators=100, learning_rate=0.1, max_depth=3)\n",
    "model.fit(X, y)  # Fit the model before making predictions\n",
    "\n",
    "# Create a list to store forecasted data\n",
    "forecast_data = []\n",
    "\n",
    "# Set the initial date to the last date in your dataset\n",
    "initial_date = df['date'].max()\n",
    "\n",
    "# Forecast for 365 days into the future\n",
    "for day in range(1, 366):\n",
    "    # Create a DataFrame with the lagged order value for prediction\n",
    "    prediction_data = pd.DataFrame({'lag_1_day': [y.iloc[-1]]})\n",
    "    \n",
    "    # Predict the order for the next day\n",
    "    next_day_order = model.predict(prediction_data)\n",
    "    \n",
    "    # Convert DateOffset to Timedelta and add it to the date\n",
    "    next_date = initial_date + pd.Timedelta(days=day)\n",
    "    \n",
    "    # Append data to the forecast list\n",
    "    forecast_data.append({'date': next_date, 'orders': next_day_order[0]})\n",
    "\n",
    "    # Update the lagged order value for the next iteration\n",
    "    y = y.append(pd.Series(next_day_order[0]), ignore_index=True)\n",
    "\n",
    "# Convert the list to a DataFrame\n",
    "forecast_df = pd.DataFrame(forecast_data)\n",
    "\n",
    "# Display the forecasted orders for 365 days\n",
    "print(forecast_df)"
   ]
  },
  {
   "cell_type": "code",
   "execution_count": null,
   "metadata": {},
   "outputs": [],
   "source": []
  }
 ],
 "metadata": {
  "kernelspec": {
   "display_name": "Python 3",
   "language": "python",
   "name": "python3"
  },
  "language_info": {
   "codemirror_mode": {
    "name": "ipython",
    "version": 3
   },
   "file_extension": ".py",
   "mimetype": "text/x-python",
   "name": "python",
   "nbconvert_exporter": "python",
   "pygments_lexer": "ipython3",
   "version": "3.11.2"
  },
  "orig_nbformat": 4
 },
 "nbformat": 4,
 "nbformat_minor": 2
}
