{
 "cells": [
  {
   "cell_type": "code",
   "execution_count": 1,
   "metadata": {},
   "outputs": [],
   "source": [
    "import xgboost as xgb\n",
    "import pandas as pd\n",
    "import numpy as np\n",
    "\n",
    "df = pd.read_csv('filtered_nn_data.csv')\n",
    "\n",
    "df = df[['date', 'uv', 'buyer', 'gmv', 'orders']].copy()\n",
    "\n",
    "print(df)\n",
    "# df['date'] = pd.to_datetime(df['date'])\n",
    "\n",
    "# Assuming your DataFrame is named df\n",
    "# Sort data by date\n",
    "df = df.sort_values(by='date')\n",
    "\n",
    "# Create lag features (e.g., lag 1 day)\n",
    "df['lag_1_day'] = df['order'].shift(1)\n",
    "\n",
    "# Initialize and train the XGBoost model using all available data\n",
    "X = df[['lag_1_day']].dropna()\n",
    "y = df['order'].dropna()\n",
    "model = xgb.XGBRegressor(n_estimators=100, learning_rate=0.1, max_depth=3)\n",
    "model.fit(X, y)\n",
    "\n",
    "# Create a DataFrame for forecasting\n",
    "forecast_df = pd.DataFrame(columns=['date', 'order'])\n",
    "\n",
    "# Set the initial date to the last date in your dataset\n",
    "initial_date = df['date'].max()\n",
    "\n",
    "# Forecast for 365 days into the future\n",
    "for day in range(1, 366):\n",
    "    # Create a DataFrame with the lagged order value for prediction\n",
    "    prediction_data = pd.DataFrame({'lag_1_day': [y.iloc[-1]]})\n",
    "    \n",
    "    # Predict the order for the next day\n",
    "    next_day_order = model.predict(prediction_data)\n",
    "    \n",
    "    # Update the forecast DataFrame with the date and predicted order\n",
    "    forecast_df = forecast_df.append({'date': initial_date + pd.DateOffset(day), 'order': next_day_order[0]}, ignore_index=True)\n",
    "    \n",
    "    # Update the lagged order value for the next iteration\n",
    "    y = y.append(pd.Series(next_day_order[0]), ignore_index=True)\n",
    "\n",
    "# Display the forecasted orders for 365 days\n",
    "print(forecast_df)\n"
   ]
  },
  {
   "cell_type": "code",
   "execution_count": null,
   "metadata": {},
   "outputs": [],
   "source": []
  }
 ],
 "metadata": {
  "kernelspec": {
   "display_name": "Python 3",
   "language": "python",
   "name": "python3"
  },
  "language_info": {
   "codemirror_mode": {
    "name": "ipython",
    "version": 3
   },
   "file_extension": ".py",
   "mimetype": "text/x-python",
   "name": "python",
   "nbconvert_exporter": "python",
   "pygments_lexer": "ipython3",
   "version": "3.11.2"
  },
  "orig_nbformat": 4
 },
 "nbformat": 4,
 "nbformat_minor": 2
}
