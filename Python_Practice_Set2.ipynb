{
 "cells": [
  {
   "cell_type": "code",
   "execution_count": 9,
   "metadata": {},
   "outputs": [
    {
     "name": "stdout",
     "output_type": "stream",
     "text": [
      "[2, 3, 4, 5, 'apple', 6, 7, 'mango', 'banana', 'grapes', 'orange']\n",
      "[2, 3, 4, 5, 'apple', 6, 7, 'mango', 'banana', 'grapes']\n"
     ]
    }
   ],
   "source": [
    "# Q1. Create a list in python using the followings: 2,3,4,5,6,7 with variable ‘a’\n",
    "# Add ‘mango to the above list\n",
    "# Also add banana, grapes & orange in the list\n",
    "# insert apple in the 5th position of a variable ‘a’\n",
    "# Remove last item from the list\n",
    "\n",
    "\n",
    "#creating a list as in question \n",
    "a = [2,3,4,5,6,7]\n",
    "\n",
    "\n",
    "# adding items in the list \n",
    "a.append('mango')\n",
    "\n",
    "# adding 3 more items in the list \n",
    "a.extend(['banana', 'grapes', 'orange'])\n",
    "\n",
    "\n",
    "# inserting apple in the 5th position of a variable ‘a'\n",
    "item = 'apple'\n",
    "pos = 4\n",
    "a[pos:pos] = [item]\n",
    "\n",
    "\n",
    "\n",
    "#This is the other way to insert item in the list of defined position \n",
    "# a = [2, 3, 4, 5, 6, 7]\n",
    "# item = 'apple'\n",
    "# pos = 4\n",
    "\n",
    "# a.insert(pos, item)\n",
    "\n",
    "\n",
    "\n",
    "\n",
    "\n",
    "# print(a)\n",
    "\n",
    "\n",
    "# removing last element from list that we are given \n",
    "a.pop()\n",
    "print(a)"
   ]
  },
  {
   "cell_type": "code",
   "execution_count": 2,
   "metadata": {},
   "outputs": [
    {
     "name": "stdout",
     "output_type": "stream",
     "text": [
      "[2, 3, 4]\n"
     ]
    }
   ],
   "source": [
    "# Q2.\n",
    "# L = [1,2,3,4,5,6,7]\n",
    "# Using the above list slice from 1:4\n",
    "\n",
    "L = [1,2,3,4,5,6,7]\n",
    "\n",
    "# Performing slice operation \n",
    "slice_result = L[1:4]\n",
    "\n",
    "print(slice_result)"
   ]
  },
  {
   "cell_type": "code",
   "execution_count": 4,
   "metadata": {},
   "outputs": [
    {
     "name": "stdout",
     "output_type": "stream",
     "text": [
      "[3, 8, 6, 5, 4]\n"
     ]
    }
   ],
   "source": [
    "# Q3. Reverse the order of given string L = [4,5,6,8,3] Without using reverse() function.\n",
    "\n",
    "L = [4,5,6,8,3]\n",
    "\n",
    "reversed_L = L[::-1]\n",
    "\n",
    "print(reversed_L)\n"
   ]
  },
  {
   "cell_type": "code",
   "execution_count": null,
   "metadata": {},
   "outputs": [],
   "source": [
    "# Q4. Use list comprehension to square the given list L=[2,4,7,3,6,8]"
   ]
  }
 ],
 "metadata": {
  "kernelspec": {
   "display_name": "Python 3",
   "language": "python",
   "name": "python3"
  },
  "language_info": {
   "codemirror_mode": {
    "name": "ipython",
    "version": 3
   },
   "file_extension": ".py",
   "mimetype": "text/x-python",
   "name": "python",
   "nbconvert_exporter": "python",
   "pygments_lexer": "ipython3",
   "version": "3.11.2"
  },
  "orig_nbformat": 4
 },
 "nbformat": 4,
 "nbformat_minor": 2
}
