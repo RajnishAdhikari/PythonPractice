{
 "cells": [
  {
   "cell_type": "code",
   "execution_count": null,
   "metadata": {},
   "outputs": [],
   "source": [
    "# Q1. Create a list in python using the followings: 2,3,4,5,6,7 with variable ‘a’\n",
    "# Add ‘mango to the above list\n",
    "# Also add banana, grapes & orange in the list\n",
    "# insert apple in the 5th position of a variable ‘a’\n",
    "# Remove last item from the list\n",
    "\n",
    "\n",
    "#creating a list as in question \n",
    "a = [2,3,4,5,6,7]\n",
    "\n",
    "\n",
    "# adding items in the list \n",
    "a.append('mango', 'banana', 'grapes', 'orange')\n",
    "\n"
   ]
  }
 ],
 "metadata": {
  "language_info": {
   "name": "python"
  },
  "orig_nbformat": 4
 },
 "nbformat": 4,
 "nbformat_minor": 2
}
