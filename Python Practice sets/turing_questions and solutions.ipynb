{
 "cells": [
  {
   "cell_type": "markdown",
   "metadata": {},
   "source": [
    "# Question 1 \n",
    "\n",
    "What is the difference between the implementations of the methods ____repr___() and ___str___(), within a user-defined class in Python? Select all that apply.\n",
    "\n",
    "(Select all that apply.)\n",
    "\n",
    "A. If we do not implement __repr__(), then a call to repr() on an object invokes __str__()\n",
    "\n",
    "B. An invocation of ___repr___() returns a developer-friendly printable string, and that can also be used by a debugger to reconstruct a representation of the original object\n",
    "\n",
    "C. A call to repr() invokes both ___repr___() and ___str___(), whereas a call to str() invokes just __str___()\n",
    "\n",
    "D. If we do not implement the ___str___() function, then a call to str() on an object invokes __repr__()\n",
    "\n",
    "E. An invocation of ___str___() returns a user-friendly printable string, and that can also be used by a debugger to reconstruct a representation of the original object\n"
   ]
  },
  {
   "cell_type": "code",
   "execution_count": 1,
   "metadata": {},
   "outputs": [],
   "source": [
    "# correct answer B and D"
   ]
  },
  {
   "cell_type": "code",
   "execution_count": null,
   "metadata": {},
   "outputs": [],
   "source": []
  }
 ],
 "metadata": {
  "kernelspec": {
   "display_name": "Python 3",
   "language": "python",
   "name": "python3"
  },
  "language_info": {
   "codemirror_mode": {
    "name": "ipython",
    "version": 3
   },
   "file_extension": ".py",
   "mimetype": "text/x-python",
   "name": "python",
   "nbconvert_exporter": "python",
   "pygments_lexer": "ipython3",
   "version": "3.11.2"
  }
 },
 "nbformat": 4,
 "nbformat_minor": 2
}
