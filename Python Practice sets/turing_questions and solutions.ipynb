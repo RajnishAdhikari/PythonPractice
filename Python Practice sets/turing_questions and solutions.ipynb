{
 "cells": [
  {
   "cell_type": "markdown",
   "metadata": {},
   "source": [
    "# Question 1 \n",
    "\n",
    "What is the difference between the implementations of the methods ____repr___() and ___str___(), within a user-defined class in Python? Select all that apply.\n",
    "\n",
    "(Select all that apply.)\n",
    "\n",
    "A. If we do not implement __repr__(), then a call to repr() on an object invokes __str__()\n",
    "\n",
    "B. An invocation of ___repr___() returns a developer-friendly printable string, and that can also be used by a debugger to reconstruct a representation of the original object\n",
    "\n",
    "C. A call to repr() invokes both ___repr___() and ___str___(), whereas a call to str() invokes just __str___()\n",
    "\n",
    "D. If we do not implement the ___str___() function, then a call to str() on an object invokes __repr__()\n",
    "\n",
    "E. An invocation of ___str___() returns a user-friendly printable string, and that can also be used by a debugger to reconstruct a representation of the original object\n"
   ]
  },
  {
   "cell_type": "code",
   "execution_count": 1,
   "metadata": {},
   "outputs": [],
   "source": [
    "# correct answer B and D"
   ]
  },
  {
   "cell_type": "markdown",
   "metadata": {},
   "source": [
    "# Question 2\n",
    "\n",
    "You are a developer writing a Python application to synchronize a set of drones to perform a procedure in real time. This needs synchronous I/O multiplexing, implemented by performing non-blocking I/O using threads, each of which calls the select() system call on a set of read/write I/O ports. Which of the following is/are true for this application? Select all that apply.\n",
    "\n",
    "\n",
    "A. Non-blocking I/O using multiple threads is possible since each of those threads can poll a single read/write port, and perform reads/writes.\n",
    "\n",
    "\n",
    "B. In general, non-blocking I/O using multiple threads results in better performance than trying to poll the ports serially, since the select() system calls can be executed in parallel, even though the threads are executed one at a time.\n",
    "\n",
    "\n",
    "C. The only way to achieve synchronous I/O multiplexing using select() as above, is to use the Python multiprocessing feature provided by concurrency.futures.\n",
    "\n",
    "\n",
    "D. The model discussed above is one of synchronous I/O multiplexing using select(), which is designed to work with blocking I/O. Thus, non-blocking I/O using several threads is not possible.\n",
    "\n",
    "\n",
    "E. We cannot achieve better performance using non-blocking I/O with multiple threads, as compared to serial execution since the underlying CPython GIL prevents the threads from achieving true parallelism."
   ]
  },
  {
   "cell_type": "code",
   "execution_count": 2,
   "metadata": {},
   "outputs": [],
   "source": [
    "# A is correct"
   ]
  },
  {
   "cell_type": "markdown",
   "metadata": {},
   "source": [
    "## Question 10 \n",
    "\n",
    "\n",
    "You are working on a Python 3 program that is trying to compute some naive integer factorization, i.e. some compute intensive tasks. Which of the following changes will actually help improve the runtime?\n",
    "\n",
    "\n",
    "A. Use of multiple system processes to run each task. This helps because all CPU cores are properly and effectively used.\n",
    "\n",
    "\n",
    "B. All of the above does not help.\n",
    "\n",
    "\n",
    "C. Use of asyncio to run multiple application level threads to run each task. This helps because this reduces the need to do any kind of kernel context switch, and still leverages multiple CPU cores.\n",
    "\n",
    "\n",
    "D. Use of threading to run multiple OS level threads to run each task. This helps because OS level synchronization is faster.\n"
   ]
  },
  {
   "cell_type": "code",
   "execution_count": 3,
   "metadata": {},
   "outputs": [],
   "source": [
    "# A is correct"
   ]
  },
  {
   "cell_type": "markdown",
   "metadata": {},
   "source": [
    "## Question 11 \n",
    "\n",
    "\n",
    "Consider the following snippet of Python code:\n",
    "\n",
    "\n",
    "#show list of squares of numbers in list\n",
    "L=[1,2,3,4,5,6,7,8,9,10]\n",
    "\n",
    "Which of the following expressions in Python code will deliver the desired result - to obtain the list of squares of numbers in L?\n",
    "\n",
    "A. map(x: x**2, L)\n",
    "\n",
    "\n",
    "B. map(L, lambda x: x**2)\n",
    "\n",
    "\n",
    "C. list(map(lambda x: x**2, L))\n",
    "\n",
    "\n",
    "D. L**2\n"
   ]
  },
  {
   "cell_type": "code",
   "execution_count": 12,
   "metadata": {},
   "outputs": [
    {
     "data": {
      "text/plain": [
       "[1, 4, 9, 16, 25, 36, 49, 64, 81, 100]"
      ]
     },
     "execution_count": 12,
     "metadata": {},
     "output_type": "execute_result"
    }
   ],
   "source": [
    "#show list of squares of numbers in list\n",
    "L=[1,2,3,4,5,6,7,8,9,10]\n",
    "\n",
    "list(map(lambda x: x**2, L))\n",
    "\n",
    "\n",
    "# C is correct"
   ]
  },
  {
   "cell_type": "markdown",
   "metadata": {},
   "source": [
    "Lambda Functions:\n",
    "- In Python, a lambda function is a small anonymous function defined using the `lambda` keyword.\n",
    "- Lambda functions can take any number of arguments, but they can only have one expression.\n",
    "- They are often used when you need a simple function for a short period of time.\n",
    "- Lambda functions are particularly useful when you need to pass a function as an argument to higher-order functions, such as `map()`, `filter()`, or `reduce()`.\n",
    "\n",
    "Here's a simple example of a lambda function:"
   ]
  },
  {
   "cell_type": "code",
   "execution_count": null,
   "metadata": {},
   "outputs": [],
   "source": [
    "# Define a lambda function to square a number\n",
    "square = lambda x: x**2\n",
    "\n",
    "# Use the lambda function\n",
    "result = square(5)\n",
    "print(result)  # Output: 25\n",
    "\n",
    "\n",
    "# In this example, `lambda x: x**2` defines a lambda function that takes a single argument `x` and returns its square. \n",
    "# Then, `square(5)` calls this lambda function with the argument `5`, resulting in `25`."
   ]
  },
  {
   "cell_type": "markdown",
   "metadata": {},
   "source": [
    "Map Function:\n",
    "- The `map()` function in Python applies a given function to each item of an iterable (e.g., list, tuple) and returns a new iterable with the results.\n",
    "- It takes two arguments: the function to apply and the iterable to apply it to.\n",
    "- The `map()` function returns a map object, which can be converted to a list, tuple, or set using `list()`, `tuple()`, or `set()` functions respectively.\n",
    "\n",
    "Here's a simple example of using the `map()` function with a lambda function:"
   ]
  },
  {
   "cell_type": "code",
   "execution_count": null,
   "metadata": {},
   "outputs": [],
   "source": [
    "# Define a list of numbers\n",
    "numbers = [1, 2, 3, 4, 5]\n",
    "\n",
    "# Use map() to square each number in the list using a lambda function\n",
    "squared_numbers = list(map(lambda x: x**2, numbers))\n",
    "\n",
    "print(squared_numbers)  # Output: [1, 4, 9, 16, 25]\n",
    "\n",
    "# In this example, `map(lambda x: x**2, numbers)` applies the lambda function `lambda x: x**2` to each element in \n",
    "# the `numbers` list, resulting in a map object containing the squares of each number. Finally, `list()` converts this \n",
    "# map object to a list, giving us `[1, 4, 9, 16, 25]`."
   ]
  },
  {
   "cell_type": "markdown",
   "metadata": {},
   "source": [
    "\n",
    "## Question 12\n",
    "\n",
    "\n",
    "Consider the following Python program that tries to manipulate a tuple:\n",
    "-- Pseudocode\n",
    "\n",
    "\n",
    "document = (20005001, 'Brahma Gupta', (101, 132, 345), ['singing', 'quizzing']) \n",
    "\n",
    "document [-1].append('poetry')\n",
    "\n",
    "\n",
    "What would be the behavior of this program, and why?\n",
    "\n",
    "\n",
    "\n",
    "A. The program would run successfully since only a reference to the list is stored, which is immutable, but the \n",
    "list pointed to by it can be safely modified.\n",
    "\n",
    "\n",
    "B. The program would run successfully. However, the tuple is inherently immutable,\n",
    "so would simply ignore the attempt to modify one of its elements.\n",
    "\n",
    "\n",
    "C. The program would return an error since by definition, a tuple is immutable\n",
    "\n",
    "\n",
    "D. The program would return an error since a tuple cannot have an immutable data element (a list, in this example) as an item.\n",
    "\n",
    "\n",
    "E. The program would run successfully, since when we try to update the tuple, a copy of the tuple would be generated, containing the modification. The modification does not reflect in the original tuple.\n"
   ]
  },
  {
   "cell_type": "code",
   "execution_count": 1,
   "metadata": {},
   "outputs": [],
   "source": [
    "document = (20005001, 'Brahma Gupta', (101, 132, 345), ['singing', 'quizzing']) \n",
    "document [-1].append('poetry')\n",
    "\n",
    "\n",
    "# lists, dictionaries, sets are mutable \n",
    "# tuples are immutable "
   ]
  },
  {
   "cell_type": "code",
   "execution_count": 2,
   "metadata": {},
   "outputs": [
    {
     "data": {
      "text/plain": [
       "(20005001, 'Brahma Gupta', (101, 132, 345), ['singing', 'quizzing', 'poetry'])"
      ]
     },
     "execution_count": 2,
     "metadata": {},
     "output_type": "execute_result"
    }
   ],
   "source": [
    "document\n",
    "\n",
    "# B is correct \n",
    "\n",
    "# if we would modify tuple then it will create error but we are modifying list within tuple so no error will be encountered"
   ]
  },
  {
   "cell_type": "markdown",
   "metadata": {},
   "source": [
    "## Question 13 \n",
    "\n",
    "\n",
    "You are working on a Python 3 program that is doing a sequential for loop through a list of input strings on some operation f, where f is CPU-bound. f is embarrassingly parallel. As follows:\n",
    "\n",
    "\n",
    "some code\n",
    "\n",
    "for line in lines:\n",
    "\n",
    "f(lines)\n",
    "some code\n",
    "\n",
    "\n",
    "Given f is taking a long time, you would like to take advantage of your multicore CPU to parallelize the operation. In this case, which of the following approaches would work?\n",
    "(Select all that apply.)\n",
    "\n",
    "\n",
    "A. We can use a thread pool to spawn the number of threads equal to the number of CPU cores to run f.\n",
    "\n",
    "B. We can use the asyncio library to run f in parallel.\n",
    "\n",
    "C. We can parallelize f on CPU level by implementing and manipulating the low level threading interface directly, working around the GIL (Global Interpreter Lock)\n",
    "\n",
    "D. We can write code at Cython level and explicitly release the GIL (Global Interpreter Lock) to run f concurrently with multiple threads.\n",
    "\n",
    "E. We can start a new separate process for each f while iterating the for loop."
   ]
  },
  {
   "cell_type": "markdown",
   "metadata": {},
   "source": [
    "# A, D, E are correct "
   ]
  },
  {
   "cell_type": "code",
   "execution_count": 1,
   "metadata": {},
   "outputs": [
    {
     "name": "stdout",
     "output_type": "stream",
     "text": [
      "Processed string1: 7\n",
      "Processed string2: 7\n",
      "Processed string3: 7\n",
      "Processed string4: 7\n"
     ]
    }
   ],
   "source": [
    "import concurrent.futures\n",
    "\n",
    "# Define the CPU-bound function f\n",
    "def f(input_string):\n",
    "    result = some_cpu_bound_operation(input_string)\n",
    "    return result\n",
    "\n",
    "# Define the function to perform the CPU-bound operation\n",
    "def some_cpu_bound_operation(input_string):\n",
    "    # Simulate a CPU-bound operation (e.g., computation)\n",
    "    # In this example, let's just return the length of the input string\n",
    "    return len(input_string)\n",
    "\n",
    "# List of input strings\n",
    "lines = ['string1', 'string2', 'string3', 'string4']\n",
    "\n",
    "# Function to process each line with f\n",
    "def process_line(line):\n",
    "    result = f(line)\n",
    "    print(f\"Processed {line}: {result}\")\n",
    "\n",
    "# Using a thread pool executor to parallelize the execution of f\n",
    "with concurrent.futures.ThreadPoolExecutor() as executor:\n",
    "    # Submit each line to the executor for parallel processing\n",
    "    # The map function will execute process_line for each line in lines\n",
    "    executor.map(process_line, lines)\n"
   ]
  },
  {
   "cell_type": "markdown",
   "metadata": {},
   "source": [
    "# Question 14 \n",
    "\n",
    "When a particular numeric data field is not available in a data set for some reason, how should a Python data scientist go about deciding whether to denote that missing value as a NaN, or of type None?\n",
    "\n",
    "\n",
    "A. It is often more efficient to store a missing numeric value as a NaN, since it maps to floating point representation in most Python numeric libraries, as opposed to None, which is represented as an object.\n",
    "\n",
    "B. It is always preferable to denote missing numeric values as a NaN, since this representation is the most generic, and covers all cases.\n",
    "\n",
    "C.  One can choose to represent the missing numeric value as either NaN or None since both are efficiently stored generically as an object.\n",
    "\n",
    "D. One can choose to represent a missing numeric value as either NaN or None since both are efficiently stored as a floating point number.\n",
    "\n",
    "E. It is always preferable to denote missing numeric values as having a None type, since this representation is the most generic, and covers all cases."
   ]
  },
  {
   "cell_type": "code",
   "execution_count": 2,
   "metadata": {},
   "outputs": [],
   "source": [
    "# C. Choosing between NaN or None: This option recognizes that both NaN and None are valid choices for \n",
    "# representing missing numeric values. The decision may depend on factors such as the context of the data, \n",
    "# the requirements of downstream processes, and personal preference."
   ]
  },
  {
   "cell_type": "markdown",
   "metadata": {},
   "source": [
    "# Question 15 of 30\n",
    "\n",
    "You have a Python 3 program that exposes an API function that has a type specified for the input parameters and returns values, as follows:\n",
    "\n",
    "\n",
    "def user_facing_api (text: str, amount: float) -> bool:\n",
    " uses text\n",
    " uses amount\n",
    " returns boolean results\n",
    "\n",
    "During runtime, you noticed that the callers were actually passing in string type for both input parameters, despite expecting a string and float parameter. However, the program did not raise any errors or warnings. What happened?\n",
    "\n",
    "\n",
    "\n",
    "A. The Python runtime type check caught the amount having a type string and not float, but the TypeError exception was suppressed.\n",
    "\n",
    "B. The Python runtime type check was disabled by default, so the type violation was not enforced.\n",
    "\n",
    "C. There is no runtime type check. The user code inside the function user_facing_api happens to just work.\n",
    "\n",
    "D. The code was actually in an undefined state, so it may raise an error the next time we run it."
   ]
  },
  {
   "cell_type": "code",
   "execution_count": 3,
   "metadata": {},
   "outputs": [
    {
     "name": "stdout",
     "output_type": "stream",
     "text": [
      "True\n"
     ]
    }
   ],
   "source": [
    "def user_facing_api(text: str, amount: float) -> bool:\n",
    "    # Uses text and amount parameters\n",
    "    # Returns boolean result based on some logic\n",
    "    return True  # Placeholder return value\n",
    "\n",
    "# Example usage:\n",
    "result = user_facing_api(\"example text\", 10.5)\n",
    "print(result)\n"
   ]
  },
  {
   "cell_type": "markdown",
   "metadata": {},
   "source": [
    "B. The Python runtime type check was disabled by default, so the type violation was not enforced.\n",
    "\n",
    "This means that Python doesn't enforce type annotations during runtime, allowing the program to execute without raising errors or warnings, even if the callers pass arguments of incorrect types. However, it's worth noting that external tools like mypy can be used for static type checking at development time, but they don't affect the behavior of the program at runtime.\n",
    "\n",
    "B is correct"
   ]
  },
  {
   "cell_type": "markdown",
   "metadata": {},
   "source": [
    "# Question 17 \n",
    "\n",
    "Consider a Python module arbit.py that imports symbols from the built-in random module in two different ways:\n",
    "-IMPORT-1\n",
    "import random\n",
    "-IMPORT-2\n",
    "from random import choice\n",
    "\n",
    "\n",
    "Suppose the code in arbit.py accesses symbols from the random module as follows:\n",
    "\n",
    "numbers = [num for num in range(0, 100)]\n",
    "-CLIENT-CODE-1\n",
    "shuffled = shuffle (numbers)\n",
    "-CLIENT-CODE-2\n",
    "pick = choice (numbers)\n",
    "\n",
    "Which of the above snippets of client code will work / not work, and why?\n",
    "\n",
    "\n",
    "A. CLIENT-CODE-2 will work and CLIENT-CODE-1 will not because IMPORT-1 does not place shuffle into the symbol table of  arbit.py, whereas IMPORT-2 places choice into it\n",
    "\n",
    "B. CLIENT-CODE-1 will work and CLIENT-CODE-2 will not work because IMPORT- 2 does not place choice into the symbol table of arbit.py, whereas IMPORT-2 places both shuffle and choice into it\n",
    "\n",
    "C. Neither CLIENT-CODE-1 nor CLIENT-CODE-2 will work because both IMPORT- 1 and IMPORT-2 do not place the symbols shuffle and choice from the random module, into the symbol table for arbit.py\n",
    "\n",
    "D. Both CLIENT-CODE-1 and CLIENT-CODE-2 will work because IMPORT-2 is sufficient to place all the symbols from the random module directly into the symbol table for arbit.py\n",
    "\n",
    "E. Both CLIENT-CODE-1 and CLIENT-CODE-2 will work because IMPORT-1 is sufficient to place all the symbols from the random module directly into the\n",
    "symbol tablo for arbit.py"
   ]
  },
  {
   "cell_type": "code",
   "execution_count": null,
   "metadata": {},
   "outputs": [],
   "source": [
    "#IMPORT-1\n",
    "import random\n",
    "#IMPORT-2\n",
    "from random import choice\n",
    "\n",
    "\n",
    "numbers = [num for num in range(0, 100)]\n",
    "#CLIENT-CODE-1\n",
    "shuffled = shuffle(numbers)\n",
    "#CLIENT-CODE-2\n",
    "pick = choice (numbers)\n",
    "\n",
    "\n",
    "# A. CLIENT-CODE-2 will work and CLIENT-CODE-1 will not because IMPORT-1 does not place shuffle into the \n",
    "# symbol table of  arbit.py, whereas IMPORT-2 places choice into it\n"
   ]
  },
  {
   "cell_type": "markdown",
   "metadata": {},
   "source": [
    "# Q 19\n",
    "\n",
    "What is the following code snippet trying to do ?\n",
    "\n",
    "A = [6, 7, 8, 10, 11]\n",
    "B = [2, 4, 6, 8]\n",
    "C = [(x for x in A if x in B)]\n",
    "print(C)\n",
    "\n",
    "\n",
    "\n",
    "A. Trying to check if A is present in B, loop at least once over all elements\n",
    "\n",
    "B. Trying to check if B is present in A, loop at most twice over all elements\n",
    "\n",
    "C. Trying to check if A is present in B, loop at least twice over all elements\n",
    "\n",
    "D. Trying to check if A is present in B, loop at most once for each element\n",
    "\n",
    "E. Trying to check if B is present in A, loop at least once over all elements\n"
   ]
  },
  {
   "cell_type": "code",
   "execution_count": 1,
   "metadata": {},
   "outputs": [
    {
     "name": "stdout",
     "output_type": "stream",
     "text": [
      "[<generator object <genexpr> at 0x000001D3AAB6E400>]\n"
     ]
    }
   ],
   "source": [
    "A = [6, 7, 8, 10, 11]\n",
    "B = [2, 4, 6, 8]\n",
    "C = [(x for x in A if x in B)]\n",
    "print(C)\n",
    "\n",
    "\n",
    "\n",
    "# E. Trying to check if B is present in A, loop at least once over all elements "
   ]
  },
  {
   "cell_type": "markdown",
   "metadata": {},
   "source": [
    "# Q 20 \n",
    "\n",
    "\n",
    "Consider the following code \n",
    "\n",
    "\n",
    "for sentence in paragraph:\n",
    "    for word in sentence.split():\n",
    "        single_word_list.append(word)\n",
    "\n",
    "\n",
    "\n",
    "\n",
    "\n",
    "The question asks for the equivalent code snippet. Here are the options provided:\n",
    "\n",
    "A. single_word_list = [word for word in sentence for sentence in paragraph]\n",
    "B. single_word_list = [word for word in sentence.split() for sentence in paragraph]\n",
    "C. single_word_list = [word for sentence in paragraph for word in sentence]\n",
    "D. single_word_list = [word for sentence in paragraph for word in sentence.split()]\n"
   ]
  },
  {
   "cell_type": "code",
   "execution_count": null,
   "metadata": {},
   "outputs": [],
   "source": []
  }
 ],
 "metadata": {
  "kernelspec": {
   "display_name": "Python 3",
   "language": "python",
   "name": "python3"
  },
  "language_info": {
   "codemirror_mode": {
    "name": "ipython",
    "version": 3
   },
   "file_extension": ".py",
   "mimetype": "text/x-python",
   "name": "python",
   "nbconvert_exporter": "python",
   "pygments_lexer": "ipython3",
   "version": "3.11.2"
  }
 },
 "nbformat": 4,
 "nbformat_minor": 2
}
