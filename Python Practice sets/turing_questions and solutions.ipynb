{
 "cells": [
  {
   "cell_type": "markdown",
   "metadata": {},
   "source": [
    "# Question 1 \n",
    "\n",
    "What is the difference between the implementations of the methods ____repr___() and ___str___(), within a user-defined class in Python? Select all that apply.\n",
    "\n",
    "(Select all that apply.)\n",
    "\n",
    "A. If we do not implement __repr__(), then a call to repr() on an object invokes __str__()\n",
    "\n",
    "B. An invocation of ___repr___() returns a developer-friendly printable string, and that can also be used by a debugger to reconstruct a representation of the original object\n",
    "\n",
    "C. A call to repr() invokes both ___repr___() and ___str___(), whereas a call to str() invokes just __str___()\n",
    "\n",
    "D. If we do not implement the ___str___() function, then a call to str() on an object invokes __repr__()\n",
    "\n",
    "E. An invocation of ___str___() returns a user-friendly printable string, and that can also be used by a debugger to reconstruct a representation of the original object\n"
   ]
  },
  {
   "cell_type": "code",
   "execution_count": 1,
   "metadata": {},
   "outputs": [],
   "source": [
    "# correct answer B and D"
   ]
  },
  {
   "cell_type": "markdown",
   "metadata": {},
   "source": [
    "# Question 2\n",
    "\n",
    "You are a developer writing a Python application to synchronize a set of drones to perform a procedure in real time. This needs synchronous I/O multiplexing, implemented by performing non-blocking I/O using threads, each of which calls the select() system call on a set of read/write I/O ports. Which of the following is/are true for this application? Select all that apply.\n",
    "\n",
    "\n",
    "A. Non-blocking I/O using multiple threads is possible since each of those threads can poll a single read/write port, and perform reads/writes.\n",
    "\n",
    "\n",
    "B. In general, non-blocking I/O using multiple threads results in better performance than trying to poll the ports serially, since the select() system calls can be executed in parallel, even though the threads are executed one at a time.\n",
    "\n",
    "\n",
    "C. The only way to achieve synchronous I/O multiplexing using select() as above, is to use the Python multiprocessing feature provided by concurrency.futures.\n",
    "\n",
    "\n",
    "D. The model discussed above is one of synchronous I/O multiplexing using select(), which is designed to work with blocking I/O. Thus, non-blocking I/O using several threads is not possible.\n",
    "\n",
    "\n",
    "E. We cannot achieve better performance using non-blocking I/O with multiple threads, as compared to serial execution since the underlying CPython GIL prevents the threads from achieving true parallelism."
   ]
  },
  {
   "cell_type": "code",
   "execution_count": 2,
   "metadata": {},
   "outputs": [],
   "source": [
    "# A is correct"
   ]
  },
  {
   "cell_type": "markdown",
   "metadata": {},
   "source": [
    "## Question 10 \n",
    "\n",
    "\n",
    "You are working on a Python 3 program that is trying to compute some naive integer factorization, i.e. some compute intensive tasks. Which of the following changes will actually help improve the runtime?\n",
    "\n",
    "\n",
    "A. Use of multiple system processes to run each task. This helps because all CPU cores are properly and effectively used.\n",
    "\n",
    "\n",
    "B. All of the above does not help.\n",
    "\n",
    "\n",
    "C. Use of asyncio to run multiple application level threads to run each task. This helps because this reduces the need to do any kind of kernel context switch, and still leverages multiple CPU cores.\n",
    "\n",
    "\n",
    "D. Use of threading to run multiple OS level threads to run each task. This helps because OS level synchronization is faster.\n"
   ]
  },
  {
   "cell_type": "code",
   "execution_count": 3,
   "metadata": {},
   "outputs": [],
   "source": [
    "# A is correct"
   ]
  },
  {
   "cell_type": "markdown",
   "metadata": {},
   "source": [
    "## Question 11 \n",
    "\n",
    "\n",
    "Consider the following snippet of Python code:\n",
    "\n",
    "\n",
    "#show list of squares of numbers in list\n",
    "L=[1,2,3,4,5,6,7,8,9,10]\n",
    "\n",
    "Which of the following expressions in Python code will deliver the desired result - to obtain the list of squares of numbers in L?\n",
    "\n",
    "A. map(x: x**2, L)\n",
    "\n",
    "\n",
    "B. map(L, lambda x: x**2)\n",
    "\n",
    "\n",
    "C. list(map(lambda x: x**2, L))\n",
    "\n",
    "\n",
    "D. L**2\n"
   ]
  },
  {
   "cell_type": "code",
   "execution_count": null,
   "metadata": {},
   "outputs": [],
   "source": []
  }
 ],
 "metadata": {
  "kernelspec": {
   "display_name": "Python 3",
   "language": "python",
   "name": "python3"
  },
  "language_info": {
   "codemirror_mode": {
    "name": "ipython",
    "version": 3
   },
   "file_extension": ".py",
   "mimetype": "text/x-python",
   "name": "python",
   "nbconvert_exporter": "python",
   "pygments_lexer": "ipython3",
   "version": "3.11.2"
  }
 },
 "nbformat": 4,
 "nbformat_minor": 2
}
