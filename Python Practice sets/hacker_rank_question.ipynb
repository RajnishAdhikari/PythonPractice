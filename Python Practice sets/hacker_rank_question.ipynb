{
 "cells": [
  {
   "cell_type": "markdown",
   "metadata": {},
   "source": [
    "# Hacker Rank "
   ]
  },
  {
   "cell_type": "markdown",
   "metadata": {},
   "source": [
    "# if_else\n",
    "- Task\n",
    "Given an integer, n, perform the following conditional actions:\n",
    "\n",
    "* If  is odd, print Weird\n",
    "* If  is even and in the inclusive range of 2 to 5 , print Not Weird\n",
    "* If  is even and in the inclusive range of 6 to 20 , print Weird\n",
    "* If  is even and greater than 20 , print Not Weird\n",
    "\n",
    "Input Format\n",
    "A single line containing a positive integer,n.\n",
    "\n",
    "Constraints\n",
    "1 <= n <= 100"
   ]
  },
  {
   "cell_type": "code",
   "execution_count": 1,
   "metadata": {},
   "outputs": [
    {
     "name": "stdout",
     "output_type": "stream",
     "text": [
      "Weird\n"
     ]
    }
   ],
   "source": [
    "# n = int(input())\n",
    "# if n % 2 == 1:\n",
    "#     print(\"Weird\")\n",
    "# elif n % 2 == 0 and n >= 2 and n <= 5:\n",
    "#     print(\"Not Weird\")\n",
    "# elif n % 2 == 0 and n >= 6 and n <= 20:\n",
    "#     print(\"Weird\")\n",
    "# elif n > 20 and n < 100:\n",
    "#     print(\"Not Weird\")\n",
    "# else:\n",
    "#     print(\"Enter number greater than 0 and less than 100\")\n",
    "\n",
    "\n",
    "# Read the input integer\n",
    "n = int(input().strip())\n",
    "\n",
    "# Check if the number is odd\n",
    "if n % 2 != 0:\n",
    "    print(\"Weird\")\n",
    "else:\n",
    "    # Check if the number is even and within the range [2, 5]\n",
    "    if 2 <= n <= 5:\n",
    "        print(\"Not Weird\")\n",
    "    # Check if the number is even and within the range [6, 20]\n",
    "    elif 6 <= n <= 20:\n",
    "        print(\"Weird\")\n",
    "    # Check if the number is even and greater than 20\n",
    "    else:\n",
    "        print(\"Not Weird\")\n"
   ]
  },
  {
   "cell_type": "markdown",
   "metadata": {},
   "source": [
    "# Program to print square of first n integers \n"
   ]
  },
  {
   "cell_type": "code",
   "execution_count": 2,
   "metadata": {},
   "outputs": [
    {
     "name": "stdout",
     "output_type": "stream",
     "text": [
      "0\n",
      "1\n",
      "4\n",
      "9\n"
     ]
    }
   ],
   "source": [
    "n = int(input())\n",
    "for i in range(0, n):\n",
    "    if n >= 1 and n <= 20:\n",
    "        print(i ** 2)\n",
    "    else:\n",
    "        print(\"Enter number between 1 and 20\")"
   ]
  },
  {
   "cell_type": "markdown",
   "metadata": {},
   "source": [
    "# Program to print Leap year"
   ]
  },
  {
   "cell_type": "code",
   "execution_count": 4,
   "metadata": {},
   "outputs": [
    {
     "name": "stdout",
     "output_type": "stream",
     "text": [
      "False\n"
     ]
    }
   ],
   "source": [
    "def is_leap(year):\n",
    "    leap = False\n",
    "    if(year%4==0) and (year%400==0 or year%100!=0):\n",
    "        leap=True\n",
    "    return leap\n",
    "\n",
    "    \n",
    "year = int(input())\n",
    "print(is_leap(year)) "
   ]
  },
  {
   "cell_type": "markdown",
   "metadata": {},
   "source": [
    "# Print the list of integers from 1 to n as as string without spaces"
   ]
  },
  {
   "cell_type": "markdown",
   "metadata": {},
   "source": [
    "The included code stub will read an integer,n , from STDIN.\n",
    "\n",
    "Without using any string methods, try to print the following: 123.....n\n",
    "\n",
    "\n",
    "Note that \".......\" represents the consecutive values in between.\n",
    "\n",
    "Example n= 5\n",
    "\n",
    "Print the string 12345.\n",
    "\n",
    "Input Format\n",
    "\n",
    "The first line contains an integer n .\n",
    "\n",
    "Constraints\n",
    "1 <= n >= 50\n",
    "\n",
    "Output Format\n",
    "\n",
    "Print the list of integers from 1 through n as a string, without spaces."
   ]
  },
  {
   "cell_type": "code",
   "execution_count": 2,
   "metadata": {},
   "outputs": [
    {
     "name": "stdout",
     "output_type": "stream",
     "text": [
      "1234567\n"
     ]
    }
   ],
   "source": [
    "if __name__ == '__main__':\n",
    "    n = int(input())\n",
    "\n",
    "    # Initializing an empty string variable to store the result\n",
    "    result_string = \"\"\n",
    "    for i in range(1,n+1):\n",
    "        # Convert the current integer to a string\n",
    "        current_integer_as_string = str(i)\n",
    "\n",
    "        # concatenate the string representation of the current integer to the result string\n",
    "        result_string = result_string + current_integer_as_string\n",
    "        # result_string += current_integer_as_string\n",
    "\n",
    "    print(result_string)\n"
   ]
  },
  {
   "cell_type": "markdown",
   "metadata": {},
   "source": [
    "One of the built-in functions of Python is divmod, which takes two arguments a and b and returns a tuple containing the quotient of a/b  first and then the remainder .\n",
    "\n",
    "For example:\n",
    "\n",
    ">>> print divmod(177,10)\n",
    "(17, 7)\n",
    "\n",
    "Here, the integer division is 177/10 => 17 and the modulo operator is 177%10 => 7.\n",
    "\n",
    "Task\n",
    "Read in two integers, a and b, and print three lines.\n",
    "The first line is the integer division a//b\n",
    "The second line is the result of the modulo operator: a%b.\n",
    "The third line prints the divmod of a and b.\n",
    "\n",
    "Input Format\n",
    "The first line contains the first integer,a , and the second line contains the second integer,b .\n",
    "\n",
    "Output Format\n",
    "Print the result as described above."
   ]
  },
  {
   "cell_type": "code",
   "execution_count": 6,
   "metadata": {},
   "outputs": [
    {
     "name": "stdout",
     "output_type": "stream",
     "text": [
      "17\n",
      "7\n",
      "(17, 7)\n"
     ]
    }
   ],
   "source": [
    "a = int(input())\n",
    "b = int(input())\n",
    "print(int(a/b))\n",
    "print(a%b)\n",
    "print(divmod(a,b))"
   ]
  },
  {
   "cell_type": "markdown",
   "metadata": {},
   "source": [
    "You are given three integers: a,b , and c. Print two lines.\n",
    "\n",
    "\n",
    "\n",
    "* On the first line, print the result of pow(a,b). On the second line, print the result of pow(a,b,m)."
   ]
  },
  {
   "cell_type": "code",
   "execution_count": 7,
   "metadata": {},
   "outputs": [
    {
     "name": "stdout",
     "output_type": "stream",
     "text": [
      "81\n",
      "1\n"
     ]
    }
   ],
   "source": [
    "a = int(input())\n",
    "b = int(input())\n",
    "m = int(input())\n",
    "\n",
    "print(pow(a,b))\n",
    "print(pow(a,b,m))\n",
    "\n",
    "\n",
    "# last one is like pow(a,b,m)  .It's also possible to calculate a^b mod m.\n",
    "\n",
    "\n",
    "\n"
   ]
  },
  {
   "cell_type": "markdown",
   "metadata": {},
   "source": [
    "Print the result of a^b + c^d on one line."
   ]
  },
  {
   "cell_type": "code",
   "execution_count": 9,
   "metadata": {},
   "outputs": [
    {
     "name": "stdout",
     "output_type": "stream",
     "text": [
      "4710194409608608369201743232\n"
     ]
    }
   ],
   "source": [
    "a = int(input())\n",
    "b = int(input())\n",
    "c = int(input())\n",
    "d = int(input())\n",
    "\n",
    "print(pow(a,b) + pow(c,d))"
   ]
  },
  {
   "cell_type": "markdown",
   "metadata": {},
   "source": [
    "# List Comprehensions problem "
   ]
  },
  {
   "cell_type": "markdown",
   "metadata": {},
   "source": [
    "Let's learn about list comprehensions! You are given three integers x, y  and z representing the dimensions of a cuboid along with an integer n. \n",
    "\n",
    "\n",
    "\n",
    "Print a list of all possible coordinates given by (i,j,k) on a 3D grid where the sum of i+j+k is not equal to n. Here, -< = i < = x;\n",
    "0<= j < = y; 0 <= k < = z . \n",
    "\n",
    "\n",
    "Please use list comprehensions rather than multiple loops, as a learning exercise.\n",
    "\n",
    "Example\n",
    "x = 1\n",
    "y = 1 \n",
    "z = 2\n",
    "n = 3\n",
    "\n",
    "All permutations of [i,j,k] are:\n",
    "[[0, 0, 0], [0, 0, 1], [0, 0, 2], [0, 1, 0], [0, 1, 1], [0, 1, 2], [1, 0, 0], [1, 0, 1], [1, 0, 2], [1, 1, 0], [1, 1, 1], [1, 1, 2]].\n",
    "\n",
    "Print an array of the elements that do not sum to n = 3.\n",
    "\n",
    "[[0, 0, 0], [0, 0, 1], [0, 0, 2], [0, 1, 0], [0, 1, 1], [1, 0, 0], [1, 0, 1], [1, 1, 0], [1, 1, 2]]\n",
    "\n",
    "Input Format\n",
    "\n",
    "Four integers x,y,z and n, each on a separate line.\n",
    "\n",
    "Constraints\n",
    "\n",
    "Print the list in lexicographic increasing order."
   ]
  },
  {
   "cell_type": "code",
   "execution_count": 2,
   "metadata": {},
   "outputs": [
    {
     "name": "stdout",
     "output_type": "stream",
     "text": [
      "[[0, 0, 0], [0, 0, 1], [0, 0, 2], [0, 1, 0], [0, 1, 1], [0, 2, 0], [0, 2, 2], [1, 0, 0], [1, 0, 1], [1, 1, 0], [1, 1, 2], [1, 2, 1], [1, 2, 2], [2, 0, 0], [2, 0, 2], [2, 1, 1], [2, 1, 2], [2, 2, 0], [2, 2, 1], [2, 2, 2]]\n"
     ]
    }
   ],
   "source": [
    "if __name__ == '__main__':\n",
    "    x = int(input())\n",
    "    y = int(input())\n",
    "    z = int(input())\n",
    "    n = int(input())\n",
    "    coordinates = [[i,j,k] for i in range(x + 1) for j in range(y+1) for k in range(z+1)]\n",
    "    filtered_coordinates = [coord for coord in coordinates if sum(coord) != n]\n",
    "    print(filtered_coordinates)\n",
    "    "
   ]
  },
  {
   "cell_type": "markdown",
   "metadata": {},
   "source": [
    "## Find the  runner-up score "
   ]
  },
  {
   "cell_type": "markdown",
   "metadata": {},
   "source": [
    "\n",
    "Given the participants' score sheet for your University Sports Day, you are required to find the runner-up score. You are given n scores. Store them in a list and find the score of the runner-up.\n",
    "\n",
    " Input Format\n",
    "\n",
    "The first line contains n. The second line contains an array A[] of n integers each separated by a space.\n",
    "\n",
    "\n",
    " Constraints\n",
    "\n",
    "• 2 ≤ n ≤ 10\n",
    "•-100 A[i] < 100\n",
    "\n",
    " Output Format\n",
    "\n",
    "Print the runner-up score.\n",
    "\n",
    "\n",
    " Sample Input O\n",
    "\n",
    "5\n",
    "\n",
    "23665\n",
    "\n",
    " Sample Output O\n",
    "\n",
    "5\n",
    "\n",
    " Explanation O\n",
    "\n",
    "Given list is [2, 3, 6, 6, 5]. The maximum score is 6. second maximum is 5. Hence, we print 5 as the runner-up score."
   ]
  },
  {
   "cell_type": "code",
   "execution_count": null,
   "metadata": {},
   "outputs": [],
   "source": [
    "# Step 1: Input the number of scores\n",
    "n = int(input(\"Enter the number of scores: \"))"
   ]
  }
 ],
 "metadata": {
  "kernelspec": {
   "display_name": "Python 3",
   "language": "python",
   "name": "python3"
  },
  "language_info": {
   "codemirror_mode": {
    "name": "ipython",
    "version": 3
   },
   "file_extension": ".py",
   "mimetype": "text/x-python",
   "name": "python",
   "nbconvert_exporter": "python",
   "pygments_lexer": "ipython3",
   "version": "3.11.2"
  }
 },
 "nbformat": 4,
 "nbformat_minor": 2
}
