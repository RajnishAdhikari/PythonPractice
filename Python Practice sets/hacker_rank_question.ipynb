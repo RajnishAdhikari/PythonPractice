{
 "cells": [
  {
   "cell_type": "markdown",
   "metadata": {},
   "source": [
    "# Hacker Rank "
   ]
  },
  {
   "cell_type": "markdown",
   "metadata": {},
   "source": [
    "# if_else\n",
    "- Task\n",
    "Given an integer, n, perform the following conditional actions:\n",
    "\n",
    "* If  is odd, print Weird\n",
    "* If  is even and in the inclusive range of 2 to 5 , print Not Weird\n",
    "* If  is even and in the inclusive range of 6 to 20 , print Weird\n",
    "* If  is even and greater than 20 , print Not Weird\n",
    "\n",
    "Input Format\n",
    "A single line containing a positive integer,n.\n",
    "\n",
    "Constraints\n",
    "1 <= n <= 100"
   ]
  },
  {
   "cell_type": "code",
   "execution_count": 1,
   "metadata": {},
   "outputs": [
    {
     "name": "stdout",
     "output_type": "stream",
     "text": [
      "Weird\n"
     ]
    }
   ],
   "source": [
    "# n = int(input())\n",
    "# if n % 2 == 1:\n",
    "#     print(\"Weird\")\n",
    "# elif n % 2 == 0 and n >= 2 and n <= 5:\n",
    "#     print(\"Not Weird\")\n",
    "# elif n % 2 == 0 and n >= 6 and n <= 20:\n",
    "#     print(\"Weird\")\n",
    "# elif n > 20 and n < 100:\n",
    "#     print(\"Not Weird\")\n",
    "# else:\n",
    "#     print(\"Enter number greater than 0 and less than 100\")\n",
    "\n",
    "\n",
    "# Read the input integer\n",
    "n = int(input().strip())\n",
    "\n",
    "# Check if the number is odd\n",
    "if n % 2 != 0:\n",
    "    print(\"Weird\")\n",
    "else:\n",
    "    # Check if the number is even and within the range [2, 5]\n",
    "    if 2 <= n <= 5:\n",
    "        print(\"Not Weird\")\n",
    "    # Check if the number is even and within the range [6, 20]\n",
    "    elif 6 <= n <= 20:\n",
    "        print(\"Weird\")\n",
    "    # Check if the number is even and greater than 20\n",
    "    else:\n",
    "        print(\"Not Weird\")\n"
   ]
  },
  {
   "cell_type": "markdown",
   "metadata": {},
   "source": [
    "# Program to print square of first n integers \n"
   ]
  },
  {
   "cell_type": "code",
   "execution_count": 2,
   "metadata": {},
   "outputs": [
    {
     "name": "stdout",
     "output_type": "stream",
     "text": [
      "0\n",
      "1\n",
      "4\n",
      "9\n"
     ]
    }
   ],
   "source": [
    "n = int(input())\n",
    "for i in range(0, n):\n",
    "    if n >= 1 and n <= 20:\n",
    "        print(i ** 2)\n",
    "    else:\n",
    "        print(\"Enter number between 1 and 20\")"
   ]
  },
  {
   "cell_type": "markdown",
   "metadata": {},
   "source": [
    "# Program to print Leap year"
   ]
  },
  {
   "cell_type": "code",
   "execution_count": 4,
   "metadata": {},
   "outputs": [
    {
     "name": "stdout",
     "output_type": "stream",
     "text": [
      "False\n"
     ]
    }
   ],
   "source": [
    "def is_leap(year):\n",
    "    leap = False\n",
    "    if(year%4==0) and (year%400==0 or year%100!=0):\n",
    "        leap=True\n",
    "    return leap\n",
    "\n",
    "    \n",
    "year = int(input())\n",
    "print(is_leap(year)) "
   ]
  },
  {
   "cell_type": "markdown",
   "metadata": {},
   "source": [
    "# Print the list of integers from 1 to n as as string without spaces"
   ]
  },
  {
   "cell_type": "markdown",
   "metadata": {},
   "source": [
    "The included code stub will read an integer,n , from STDIN.\n",
    "\n",
    "Without using any string methods, try to print the following: 123.....n\n",
    "\n",
    "\n",
    "Note that \".......\" represents the consecutive values in between.\n",
    "\n",
    "Example n= 5\n",
    "\n",
    "Print the string 12345.\n",
    "\n",
    "Input Format\n",
    "\n",
    "The first line contains an integer n .\n",
    "\n",
    "Constraints\n",
    "1 <= n >= 50\n",
    "\n",
    "Output Format\n",
    "\n",
    "Print the list of integers from 1 through n as a string, without spaces."
   ]
  },
  {
   "cell_type": "code",
   "execution_count": 2,
   "metadata": {},
   "outputs": [
    {
     "name": "stdout",
     "output_type": "stream",
     "text": [
      "1234567\n"
     ]
    }
   ],
   "source": [
    "if __name__ == '__main__':\n",
    "    n = int(input())\n",
    "\n",
    "    # Initializing an empty string variable to store the result\n",
    "    result_string = \"\"\n",
    "    for i in range(1,n+1):\n",
    "        # Convert the current integer to a string\n",
    "        current_integer_as_string = str(i)\n",
    "\n",
    "        # concatenate the string representation of the current integer to the result string\n",
    "        result_string = result_string + current_integer_as_string\n",
    "        # result_string += current_integer_as_string\n",
    "\n",
    "    print(result_string)\n"
   ]
  },
  {
   "cell_type": "markdown",
   "metadata": {},
   "source": [
    "One of the built-in functions of Python is divmod, which takes two arguments a and b and returns a tuple containing the quotient of a/b  first and then the remainder .\n",
    "\n",
    "For example:\n",
    "\n",
    ">>> print divmod(177,10)\n",
    "(17, 7)\n",
    "\n",
    "Here, the integer division is 177/10 => 17 and the modulo operator is 177%10 => 7.\n",
    "\n",
    "Task\n",
    "Read in two integers, a and b, and print three lines.\n",
    "The first line is the integer division a//b\n",
    "The second line is the result of the modulo operator: a%b.\n",
    "The third line prints the divmod of a and b.\n",
    "\n",
    "Input Format\n",
    "The first line contains the first integer,a , and the second line contains the second integer,b .\n",
    "\n",
    "Output Format\n",
    "Print the result as described above."
   ]
  },
  {
   "cell_type": "code",
   "execution_count": 6,
   "metadata": {},
   "outputs": [
    {
     "name": "stdout",
     "output_type": "stream",
     "text": [
      "17\n",
      "7\n",
      "(17, 7)\n"
     ]
    }
   ],
   "source": [
    "a = int(input())\n",
    "b = int(input())\n",
    "print(int(a/b))\n",
    "print(a%b)\n",
    "print(divmod(a,b))"
   ]
  },
  {
   "cell_type": "markdown",
   "metadata": {},
   "source": [
    "You are given three integers: a,b , and c. Print two lines.\n",
    "\n",
    "\n",
    "\n",
    "* On the first line, print the result of pow(a,b). On the second line, print the result of pow(a,b,m)."
   ]
  },
  {
   "cell_type": "code",
   "execution_count": 7,
   "metadata": {},
   "outputs": [
    {
     "name": "stdout",
     "output_type": "stream",
     "text": [
      "81\n",
      "1\n"
     ]
    }
   ],
   "source": [
    "a = int(input())\n",
    "b = int(input())\n",
    "m = int(input())\n",
    "\n",
    "print(pow(a,b))\n",
    "print(pow(a,b,m))\n",
    "\n",
    "\n",
    "# last one is like pow(a,b,m)  .It's also possible to calculate a^b mod m.\n",
    "\n",
    "\n",
    "\n"
   ]
  },
  {
   "cell_type": "markdown",
   "metadata": {},
   "source": [
    "Print the result of a^b + c^d on one line."
   ]
  },
  {
   "cell_type": "code",
   "execution_count": 9,
   "metadata": {},
   "outputs": [
    {
     "name": "stdout",
     "output_type": "stream",
     "text": [
      "4710194409608608369201743232\n"
     ]
    }
   ],
   "source": [
    "a = int(input())\n",
    "b = int(input())\n",
    "c = int(input())\n",
    "d = int(input())\n",
    "\n",
    "print(pow(a,b) + pow(c,d))"
   ]
  },
  {
   "cell_type": "markdown",
   "metadata": {},
   "source": [
    "# List Comprehensions problem "
   ]
  },
  {
   "cell_type": "markdown",
   "metadata": {},
   "source": [
    "Let's learn about list comprehensions! You are given three integers x, y  and z representing the dimensions of a cuboid along with an integer n. \n",
    "\n",
    "\n",
    "\n",
    "Print a list of all possible coordinates given by (i,j,k) on a 3D grid where the sum of i+j+k is not equal to n. Here, -< = i < = x;\n",
    "0<= j < = y; 0 <= k < = z . \n",
    "\n",
    "\n",
    "Please use list comprehensions rather than multiple loops, as a learning exercise.\n",
    "\n",
    "Example\n",
    "x = 1\n",
    "y = 1 \n",
    "z = 2\n",
    "n = 3\n",
    "\n",
    "All permutations of [i,j,k] are:\n",
    "[[0, 0, 0], [0, 0, 1], [0, 0, 2], [0, 1, 0], [0, 1, 1], [0, 1, 2], [1, 0, 0], [1, 0, 1], [1, 0, 2], [1, 1, 0], [1, 1, 1], [1, 1, 2]].\n",
    "\n",
    "Print an array of the elements that do not sum to n = 3.\n",
    "\n",
    "[[0, 0, 0], [0, 0, 1], [0, 0, 2], [0, 1, 0], [0, 1, 1], [1, 0, 0], [1, 0, 1], [1, 1, 0], [1, 1, 2]]\n",
    "\n",
    "Input Format\n",
    "\n",
    "Four integers x,y,z and n, each on a separate line.\n",
    "\n",
    "Constraints\n",
    "\n",
    "Print the list in lexicographic increasing order."
   ]
  },
  {
   "cell_type": "code",
   "execution_count": 2,
   "metadata": {},
   "outputs": [
    {
     "name": "stdout",
     "output_type": "stream",
     "text": [
      "[[0, 0, 0], [0, 0, 1], [0, 0, 2], [0, 1, 0], [0, 1, 1], [0, 2, 0], [0, 2, 2], [1, 0, 0], [1, 0, 1], [1, 1, 0], [1, 1, 2], [1, 2, 1], [1, 2, 2], [2, 0, 0], [2, 0, 2], [2, 1, 1], [2, 1, 2], [2, 2, 0], [2, 2, 1], [2, 2, 2]]\n"
     ]
    }
   ],
   "source": [
    "if __name__ == '__main__':\n",
    "    x = int(input())\n",
    "    y = int(input())\n",
    "    z = int(input())\n",
    "    n = int(input())\n",
    "    coordinates = [[i,j,k] for i in range(x + 1) for j in range(y+1) for k in range(z+1)]\n",
    "    filtered_coordinates = [coord for coord in coordinates if sum(coord) != n]\n",
    "    print(filtered_coordinates)\n",
    "    "
   ]
  },
  {
   "cell_type": "markdown",
   "metadata": {},
   "source": [
    "## Find the  runner-up score "
   ]
  },
  {
   "cell_type": "markdown",
   "metadata": {},
   "source": [
    "\n",
    "Given the participants' score sheet for your University Sports Day, you are required to find the runner-up score. You are given n scores. Store them in a list and find the score of the runner-up.\n",
    "\n",
    " Input Format\n",
    "\n",
    "The first line contains n. The second line contains an array A[] of n integers each separated by a space.\n",
    "\n",
    "\n",
    " Constraints\n",
    "\n",
    "• 2 ≤ n ≤ 10\n",
    "•-100 A[i] < 100\n",
    "\n",
    " Output Format\n",
    "\n",
    "Print the runner-up score.\n",
    "\n",
    "\n",
    " Sample Input O\n",
    "\n",
    "5\n",
    "\n",
    "23665\n",
    "\n",
    " Sample Output O\n",
    "\n",
    "5\n",
    "\n",
    " Explanation O\n",
    "\n",
    "Given list is [2, 3, 6, 6, 5]. The maximum score is 6. second maximum is 5. Hence, we print 5 as the runner-up score."
   ]
  },
  {
   "cell_type": "code",
   "execution_count": 3,
   "metadata": {},
   "outputs": [
    {
     "name": "stdout",
     "output_type": "stream",
     "text": [
      "The runner-up score is: 7\n"
     ]
    }
   ],
   "source": [
    "# Step 1: Input the number of scores\n",
    "n = int(input(\"Enter the number of scores: \"))\n",
    "\n",
    "# Step 2: Input the scores as a space-separated string and split it into a list of integers\n",
    "scores = list(map(int, input(\"Enter the scores separated by space: \").split()))\n",
    "\n",
    "\n",
    "# Step 3: Sort the scores in descending order\n",
    "scores.sort(reverse=True)\n",
    "\n",
    "# Step 4: Find the maximum score\n",
    "max_score = scores[0]\n",
    "\n",
    "# Step 5: Find the runner-up score\n",
    "runner_up_score = None\n",
    "for score in scores:\n",
    "    if score < max_score:\n",
    "        runner_up_score = score\n",
    "        break\n",
    "\n",
    "\n",
    "# Step 6: Print the runner-up score\n",
    "print(\"The runner-up score is:\", runner_up_score)\n",
    "\n",
    "#     n = int(input())\n",
    "#     arr = map(int, input().split())"
   ]
  },
  {
   "cell_type": "code",
   "execution_count": 4,
   "metadata": {},
   "outputs": [
    {
     "name": "stdout",
     "output_type": "stream",
     "text": [
      "8\n"
     ]
    }
   ],
   "source": [
    "# another answer \n",
    "\n",
    "if __name__ == '__main__':\n",
    "    n = int(input())\n",
    "    arr = map(int, input().split())\n",
    "    \n",
    "    # Convert the map object to a list and remove duplicates by converting to a set\n",
    "    unique_scores = list(set(arr))\n",
    "    \n",
    "    # Sort the unique scores in descending order\n",
    "    unique_scores.sort(reverse=True)\n",
    "    \n",
    "    # Print the second highest score\n",
    "    print(unique_scores[1])\n"
   ]
  },
  {
   "cell_type": "markdown",
   "metadata": {},
   "source": [
    "# Nestes List Question "
   ]
  },
  {
   "cell_type": "markdown",
   "metadata": {},
   "source": [
    "Given the names and grades for each student in a class of N students, store them in a nested list and print the name(s) of any student(s) having the second lowest grade.\n",
    "\n",
    "\n",
    "Note: If there are multiple students with the second lowest grade, order their names alphabetically and print each name on a new line.\n",
    "\n",
    "\n",
    "# Example\n",
    "records = [[\"chi\", 20.0], [\"beta\", 50.0], [\"alpha\", 50.0]]\n",
    "\n",
    "\n",
    "The ordered list of scores is [20.0, 50.0], so the second lowest score is 50.0. There are two students with that score: [\"beta\", \"alpha\"]. Ordered alphabetically, the names are printed as:\n",
    "\n",
    "\n",
    "alpha\n",
    "\n",
    "beta\n",
    "\n",
    "\n",
    "# Input Format\n",
    "\n",
    "\n",
    "The first line contains an integer, N. the number of students.\n",
    "The 2N subsequent lines describe each student over 2 lines.\n",
    "\n",
    "\n",
    "-The first line contains a student's name.\n",
    "- The second line contains their grade.\n",
    "\n",
    "\n",
    "# Constraints\n",
    "\n",
    "\n",
    "• 2≤ N ≤5\n",
    "\n",
    "• There will always be one or more students having the second lowest grade.\n",
    "\n",
    "\n",
    "# Output Format\n",
    "\n",
    "\n",
    "Print the name(s) of any student(s) having the second lowest grade in. If there are multiple students, \n",
    "order their names alphabetically and print each one on a new line. \n",
    "\n",
    "# Sample Input O\n",
    "\n",
    "5\n",
    "\n",
    "Harry \n",
    "\n",
    "37.21 \n",
    "\n",
    "Berry \n",
    "\n",
    "37.21\n",
    "\n",
    "Tinal\n",
    "\n",
    "37.2\n",
    "\n",
    "Akriti\n",
    "\n",
    "41\n",
    "\n",
    "Harsh\n",
    "\n",
    "39\n",
    "\n",
    "\n",
    "# Sample Output O\n",
    "Berry \n",
    "\n",
    "Harry\n",
    "\n",
    "\n",
    "# Explanation O\n",
    "There are 5 students in this class whose names and grades are assembled to build the following list:\n",
    "\n",
    "\n",
    "python students = [[Harry. 37.21], ['Berry, 37.211. [Tina', 37.2], ['Akriti, 41], ['Harsh', 39]]\n",
    "\n",
    "The lowest grade of 37.2 belongs to Tina. The second lowest grade of 37.21 belongs to both Harry and Berry, so we order their names alphabetically and print each name on a new line."
   ]
  },
  {
   "cell_type": "code",
   "execution_count": 1,
   "metadata": {},
   "outputs": [
    {
     "name": "stdout",
     "output_type": "stream",
     "text": [
      "Student(s) with the second lowest grade: ['Alice', 'David']\n"
     ]
    }
   ],
   "source": [
    "def nested_lists(students):\n",
    "    grades = sorted(set( score for name, score in students))\n",
    "\n",
    "    # finding the second lowest grade \n",
    "    second_lowest_grade = grades[1]\n",
    "\n",
    "    second_lowest_students = [name for name, score in students if score == second_lowest_grade]\n",
    "\n",
    "    second_lowest_students.sort()\n",
    "\n",
    "    return second_lowest_students\n",
    "\n",
    "students = [(\"Alice\", 30), (\"Bob\", 40), (\"Charlie\", 20), (\"David\", 30)]\n",
    "result = nested_lists(students)\n",
    "print(\"Student(s) with the second lowest grade:\", result)"
   ]
  },
  {
   "cell_type": "code",
   "execution_count": 2,
   "metadata": {},
   "outputs": [
    {
     "ename": "ValueError",
     "evalue": "invalid literal for int() with base 10: 'ram 33'",
     "output_type": "error",
     "traceback": [
      "\u001b[1;31m---------------------------------------------------------------------------\u001b[0m",
      "\u001b[1;31mValueError\u001b[0m                                Traceback (most recent call last)",
      "Cell \u001b[1;32mIn[2], line 3\u001b[0m\n\u001b[0;32m      1\u001b[0m \u001b[38;5;28;01mif\u001b[39;00m \u001b[38;5;18m__name__\u001b[39m \u001b[38;5;241m==\u001b[39m \u001b[38;5;124m'\u001b[39m\u001b[38;5;124m__main__\u001b[39m\u001b[38;5;124m'\u001b[39m:\n\u001b[0;32m      2\u001b[0m     students \u001b[38;5;241m=\u001b[39m []\n\u001b[1;32m----> 3\u001b[0m     \u001b[38;5;28;01mfor\u001b[39;00m _ \u001b[38;5;129;01min\u001b[39;00m \u001b[38;5;28mrange\u001b[39m(\u001b[38;5;28;43mint\u001b[39;49m\u001b[43m(\u001b[49m\u001b[38;5;28;43minput\u001b[39;49m\u001b[43m(\u001b[49m\u001b[43m)\u001b[49m\u001b[43m)\u001b[49m):\n\u001b[0;32m      4\u001b[0m         name \u001b[38;5;241m=\u001b[39m \u001b[38;5;28minput\u001b[39m()\n\u001b[0;32m      5\u001b[0m         score \u001b[38;5;241m=\u001b[39m \u001b[38;5;28mfloat\u001b[39m(\u001b[38;5;28minput\u001b[39m())\n",
      "\u001b[1;31mValueError\u001b[0m: invalid literal for int() with base 10: 'ram 33'"
     ]
    }
   ],
   "source": [
    "if __name__ == '__main__':\n",
    "    students = []\n",
    "    for _ in range(int(input())):\n",
    "        name = input()\n",
    "        score = float(input())\n",
    "        students.append([name,score])\n",
    "\n",
    "        # Sort the list of students by score in ascending order\n",
    "    students.sort(key=lambda x: x[1])\n",
    "\n",
    "        # Find the second lowest score\n",
    "    second_lowest_score = sorted(set([x[1] for x in students]))[1]\n",
    "\n",
    "        # Create a list of names with the second lowest score\n",
    "    names = [x[0] for x in students if x[1] == second_lowest_score]\n",
    "\n",
    "        # Print the names in sorted order\n",
    "    for name in sorted(names):\n",
    "        print(name)"
   ]
  },
  {
   "cell_type": "code",
   "execution_count": 3,
   "metadata": {},
   "outputs": [
    {
     "ename": "ValueError",
     "evalue": "could not convert string to float: ''",
     "output_type": "error",
     "traceback": [
      "\u001b[1;31m---------------------------------------------------------------------------\u001b[0m",
      "\u001b[1;31mValueError\u001b[0m                                Traceback (most recent call last)",
      "Cell \u001b[1;32mIn[3], line 11\u001b[0m\n\u001b[0;32m      9\u001b[0m \u001b[38;5;28;01mfor\u001b[39;00m _ \u001b[38;5;129;01min\u001b[39;00m \u001b[38;5;28mrange\u001b[39m(n):\n\u001b[0;32m     10\u001b[0m     name \u001b[38;5;241m=\u001b[39m \u001b[38;5;28minput\u001b[39m(\u001b[38;5;124m\"\u001b[39m\u001b[38;5;124mEnter the student\u001b[39m\u001b[38;5;124m'\u001b[39m\u001b[38;5;124ms name: \u001b[39m\u001b[38;5;124m\"\u001b[39m)\n\u001b[1;32m---> 11\u001b[0m     score \u001b[38;5;241m=\u001b[39m \u001b[38;5;28;43mfloat\u001b[39;49m\u001b[43m(\u001b[49m\u001b[38;5;28;43minput\u001b[39;49m\u001b[43m(\u001b[49m\u001b[38;5;124;43m\"\u001b[39;49m\u001b[38;5;124;43mEnter the student\u001b[39;49m\u001b[38;5;124;43m'\u001b[39;49m\u001b[38;5;124;43ms score: \u001b[39;49m\u001b[38;5;124;43m\"\u001b[39;49m\u001b[43m)\u001b[49m\u001b[43m)\u001b[49m\n\u001b[0;32m     12\u001b[0m     students\u001b[38;5;241m.\u001b[39mappend((name, score))\n\u001b[0;32m     14\u001b[0m \u001b[38;5;66;03m# Call the nested_lists function to find the student(s) with the second lowest grade\u001b[39;00m\n",
      "\u001b[1;31mValueError\u001b[0m: could not convert string to float: ''"
     ]
    }
   ],
   "source": [
    "if __name__ == '__main__':\n",
    "    # Get the number of students as input\n",
    "    n = int(input(\"Enter the number of students: \"))\n",
    "\n",
    "    # Initialize an empty list to store student information (name, score)\n",
    "    students = []\n",
    "\n",
    "    # Input student information (name and score) and store it in the list\n",
    "    for _ in range(n):\n",
    "        name = input(\"Enter the student's name: \")\n",
    "        score = float(input(\"Enter the student's score: \"))\n",
    "        students.append((name, score))\n",
    "\n",
    "    # Call the nested_lists function to find the student(s) with the second lowest grade\n",
    "    result = nested_lists(students)\n",
    "\n",
    "    # Print the names of student(s) with the second lowest grade\n",
    "    if len(result) == 1:\n",
    "        print(\"Student with the second lowest grade:\", result[0])\n",
    "    else:\n",
    "        print(\"Students with the second lowest grade:\", ', '.join(result))"
   ]
  },
  {
   "cell_type": "markdown",
   "metadata": {},
   "source": [
    "The provided code stub will read in a dictionary containing key/value pairs of name:[marks] for a list of students. \n",
    "Print the average of the marks array for the student name provided, showing 2 places after the decimal.\n",
    "\n",
    "Example\n",
    "\n",
    "\n",
    "\n",
    "\n",
    "The query_name is 'beta'. beta's average score is ."
   ]
  },
  {
   "cell_type": "code",
   "execution_count": 2,
   "metadata": {},
   "outputs": [
    {
     "name": "stdout",
     "output_type": "stream",
     "text": [
      "Student not found\n"
     ]
    }
   ],
   "source": [
    "def find_average(student_marks, query_name):\n",
    "  \"\"\"\n",
    "  Calculates the average score (percentage) of a student.\n",
    "\n",
    "  Args:\n",
    "      student_marks: A dictionary containing student names as keys and their marks as lists of values.\n",
    "      query_name: The name of the student for whom to find the average score.\n",
    "\n",
    "  Returns:\n",
    "      A string representing the average score with two decimal places or \"Student not found\" if the student is not in the dictionary.\n",
    "  \"\"\"\n",
    "\n",
    "  if query_name in student_marks:\n",
    "    marks = student_marks[query_name]\n",
    "    average = sum(marks) / len(marks)\n",
    "    return f\"Average score for {query_name}: {average:.2f}\"\n",
    "  else:\n",
    "    return \"Student not found\"\n",
    "\n",
    "# Get input\n",
    "n = int(input())\n",
    "student_marks = {}\n",
    "for _ in range(n):\n",
    "  name, *marks = input().split()\n",
    "  student_marks[name] = list(map(float, marks))\n",
    "\n",
    "query_name = input()\n",
    "\n",
    "# Find and print average\n",
    "average_message = find_average(student_marks, query_name)\n",
    "print(average_message)\n"
   ]
  },
  {
   "cell_type": "code",
   "execution_count": 7,
   "metadata": {},
   "outputs": [
    {
     "name": "stdout",
     "output_type": "stream",
     "text": [
      "38.00\n"
     ]
    }
   ],
   "source": [
    "# another method \n",
    "num_of_student = int(input(\"Enter the number of students: \"))\n",
    "\n",
    "student_info = {}\n",
    "\n",
    "for i in range(num_of_student):\n",
    "\n",
    "    # Reading student name and marks\n",
    "    name, *marks = input(\"Enter name and marks: \").split()\n",
    "\n",
    "    marks = list(map(float, marks))\n",
    "\n",
    "    student_info[name] = marks\n",
    "\n",
    "# Reading the name of student whose avarage marks need to be calculated \n",
    "student_name = input(\"Enter student name to calculate avarage marks: \")\n",
    "\n",
    "average_marks = sum(student_info[student_name]) / len(student_info[student_name])\n",
    "\n",
    "# Average marks rounded to 2 decimal place\n",
    "\n",
    "print(\"{:.2f}\".format(average_marks))"
   ]
  },
  {
   "cell_type": "markdown",
   "metadata": {},
   "source": [
    "You are given a positive integer N. Print a numerical triangle of height N-1  like the one below:\n",
    "\n",
    "1\n",
    "\n",
    "22\n",
    "\n",
    "333\n",
    "\n",
    "4444\n",
    "\n",
    "55555\n",
    "\n",
    "......\n",
    "\n",
    "\n",
    "Can you do it using only arithmetic operations, a single for loop and print statement?\n",
    "\n",
    "Use no more than two lines. The first line (the for statement) is already written for you. You have to complete the print statement."
   ]
  },
  {
   "cell_type": "code",
   "execution_count": 1,
   "metadata": {},
   "outputs": [
    {
     "name": "stdout",
     "output_type": "stream",
     "text": [
      "1\n",
      "22\n",
      "333\n",
      "4444\n"
     ]
    }
   ],
   "source": [
    "for i in range(1, int(input())):\n",
    "    print(((10**i)//9)*i)\n",
    "\n",
    "# we have to use floor function "
   ]
  },
  {
   "cell_type": "markdown",
   "metadata": {},
   "source": [
    "# List question \n",
    "\n",
    "Consider a list (list = []). You can perform the following commands:\n",
    "\n",
    "\n",
    "1. insert i e: Insert integer  at position .\n",
    "\n",
    "2. print: Print the list.\n",
    "\n",
    "3. remove e: Delete the first occurrence of integer .\n",
    "\n",
    "4. append e: Insert integer  at the end of the list.\n",
    "\n",
    "5. sort: Sort the list.\n",
    "\n",
    "6. pop: Pop the last element from the list.\n",
    "\n",
    "7. reverse: Reverse the list.\n",
    "\n",
    "\n",
    "\n",
    "Initialize your list and read in the value of  followed by  lines of commands where each command will be of the  types listed above. Iterate through each command in order and perform the corresponding operation on your list."
   ]
  },
  {
   "cell_type": "code",
   "execution_count": 3,
   "metadata": {},
   "outputs": [],
   "source": [
    "# List question\n",
    "if __name__ == '__main__':\n",
    "    N = int(input())\n",
    "    arr = []\n",
    "    for i in range(N):\n",
    "        item = input()\n",
    "        if \"insert\" in item:\n",
    "            num = item.split()\n",
    "            arr.insert(int(num[1]).int(num[2]))\n",
    "\n",
    "        elif \"remove\" in item:\n",
    "            num = item.split()\n",
    "            arr.remove(int(num[1]))   # \n",
    "\n",
    "        elif \"append\" in item:\n",
    "            num = item.split()\n",
    "            arr.remove(int(num[1]))\n",
    "\n",
    "        elif \"sort\" in item:\n",
    "            arr.sort()\n",
    "\n",
    "        elif \"pop\" in item:\n",
    "            arr.pop()    # it deletes the last element from the list\n",
    "\n",
    "        elif \"reverse\" in item:\n",
    "            arr.reverse()\n",
    "\n",
    "        elif \"print\" in item:\n",
    "            print(arr)\n",
    "\n",
    "        \n"
   ]
  },
  {
   "cell_type": "markdown",
   "metadata": {},
   "source": [
    "# Tuple and Hash map "
   ]
  },
  {
   "cell_type": "code",
   "execution_count": 1,
   "metadata": {},
   "outputs": [
    {
     "name": "stdout",
     "output_type": "stream",
     "text": [
      "8409376899596376432\n"
     ]
    }
   ],
   "source": [
    "if __name__ == '__main__':\n",
    "    n = int(input())\n",
    "    integer_list = map(int, input().split())\n",
    "    t = tuple(integer_list)\n",
    "    print(hash(t))"
   ]
  },
  {
   "cell_type": "markdown",
   "metadata": {},
   "source": [
    "# Exceptions\n",
    "Errors detected during execution are called exceptions."
   ]
  },
  {
   "cell_type": "code",
   "execution_count": 3,
   "metadata": {},
   "outputs": [
    {
     "name": "stdout",
     "output_type": "stream",
     "text": [
      "Error code:  integer division or modulo by zero\n"
     ]
    }
   ],
   "source": [
    "for i in range(int(input())):\n",
    "    try:\n",
    "        a, b = map(int, input().split())\n",
    "        print(a//b)\n",
    "    except Exception as e:\n",
    "        print (\"Error code: \", e)"
   ]
  },
  {
   "cell_type": "code",
   "execution_count": 4,
   "metadata": {},
   "outputs": [
    {
     "name": "stdout",
     "output_type": "stream",
     "text": [
      "Error Code: integer division or modulo by zero\n",
      "Error Code: invalid literal for int() with base 10: '$'\n",
      "3\n"
     ]
    }
   ],
   "source": [
    "for i in range(int(input())):\n",
    "    a, b = input().split() \n",
    "    try:\n",
    "        result = int(a)//int(b)\n",
    "    except ZeroDivisionError as e:\n",
    "        print(f\"Error Code:\",e)\n",
    "    except ValueError as e:\n",
    "        print(f\"Error Code:\",e)    \n",
    "    else:\n",
    "        print(result)"
   ]
  },
  {
   "cell_type": "markdown",
   "metadata": {},
   "source": [
    "## Incorrect Regex"
   ]
  },
  {
   "cell_type": "markdown",
   "metadata": {},
   "source": [
    "You are given a string  S.\n",
    "\n",
    "Your task is to find out whether S is a valid regex or not."
   ]
  },
  {
   "cell_type": "code",
   "execution_count": 9,
   "metadata": {},
   "outputs": [
    {
     "name": "stdout",
     "output_type": "stream",
     "text": [
      "True\n"
     ]
    }
   ],
   "source": [
    "import re\n",
    "for r in range(int(input())):\n",
    "    try:\n",
    "        re.compile(input())\n",
    "        print(\"True\")\n",
    "\n",
    "    except re.error:\n",
    "        print(\"False\")"
   ]
  },
  {
   "cell_type": "code",
   "execution_count": null,
   "metadata": {},
   "outputs": [],
   "source": []
  }
 ],
 "metadata": {
  "kernelspec": {
   "display_name": "Python 3",
   "language": "python",
   "name": "python3"
  },
  "language_info": {
   "codemirror_mode": {
    "name": "ipython",
    "version": 3
   },
   "file_extension": ".py",
   "mimetype": "text/x-python",
   "name": "python",
   "nbconvert_exporter": "python",
   "pygments_lexer": "ipython3",
   "version": "3.11.2"
  }
 },
 "nbformat": 4,
 "nbformat_minor": 2
}
