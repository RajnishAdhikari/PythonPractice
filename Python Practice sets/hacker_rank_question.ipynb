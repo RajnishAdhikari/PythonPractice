{
 "cells": [
  {
   "cell_type": "markdown",
   "metadata": {},
   "source": [
    "# Hacker Rank "
   ]
  },
  {
   "cell_type": "markdown",
   "metadata": {},
   "source": [
    "# if_else\n",
    "- Task\n",
    "Given an integer, n, perform the following conditional actions:\n",
    "\n",
    "* If  is odd, print Weird\n",
    "* If  is even and in the inclusive range of 2 to 5 , print Not Weird\n",
    "* If  is even and in the inclusive range of 6 to 20 , print Weird\n",
    "* If  is even and greater than 20 , print Not Weird\n",
    "\n",
    "Input Format\n",
    "A single line containing a positive integer,n.\n",
    "\n",
    "Constraints\n",
    "1 <= n <= 100"
   ]
  },
  {
   "cell_type": "code",
   "execution_count": null,
   "metadata": {},
   "outputs": [],
   "source": [
    "# n = int(input())\n",
    "# if n % 2 == 1:\n",
    "#     print(\"Weird\")\n",
    "# elif n % 2 == 0 and n >= 2 and n <= 5:\n",
    "#     print(\"Not Weird\")\n",
    "# elif n % 2 == 0 and n >= 6 and n <= 20:\n",
    "#     print(\"Weird\")\n",
    "# elif n > 20 and n < 100:\n",
    "#     print(\"Not Weird\")\n",
    "# else:\n",
    "#     print(\"Enter number greater than 0 and less than 100\")\n",
    "\n",
    "\n",
    "# Read the input integer\n",
    "n = int(input().strip())\n",
    "\n",
    "# Check if the number is odd\n",
    "if n % 2 != 0:\n",
    "    print(\"Weird\")\n",
    "else:\n",
    "    # Check if the number is even and within the range [2, 5]\n",
    "    if 2 <= n <= 5:\n",
    "        print(\"Not Weird\")\n",
    "    # Check if the number is even and within the range [6, 20]\n",
    "    elif 6 <= n <= 20:\n",
    "        print(\"Weird\")\n",
    "    # Check if the number is even and greater than 20\n",
    "    else:\n",
    "        print(\"Not Weird\")\n"
   ]
  },
  {
   "cell_type": "markdown",
   "metadata": {},
   "source": [
    "# Program to print square of first n integers \n"
   ]
  },
  {
   "cell_type": "code",
   "execution_count": null,
   "metadata": {},
   "outputs": [],
   "source": [
    "n = int(input())\n",
    "for i in range(0, n):\n",
    "    if n >= 1 and n <= 20:\n",
    "        print(i ** 2)\n",
    "    else:\n",
    "        print(\"Enter number between 1 and 20\")"
   ]
  },
  {
   "cell_type": "markdown",
   "metadata": {},
   "source": [
    "# Program to print Leap year"
   ]
  },
  {
   "cell_type": "code",
   "execution_count": null,
   "metadata": {},
   "outputs": [],
   "source": [
    "def is_leap(year):\n",
    "    leap = False\n",
    "    if(year%4==0) and (year%400==0 or year%100!=0):\n",
    "        leap=True\n",
    "    return leap\n",
    "\n",
    "    \n",
    "year = int(input())\n",
    "print(is_leap(year)) "
   ]
  },
  {
   "cell_type": "code",
   "execution_count": null,
   "metadata": {},
   "outputs": [],
   "source": []
  }
 ],
 "metadata": {
  "language_info": {
   "name": "python"
  }
 },
 "nbformat": 4,
 "nbformat_minor": 2
}
