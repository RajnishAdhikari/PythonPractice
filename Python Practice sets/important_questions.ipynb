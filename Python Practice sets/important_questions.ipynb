{
 "cells": [
  {
   "cell_type": "markdown",
   "metadata": {},
   "source": [
    "# Map function "
   ]
  },
  {
   "cell_type": "code",
   "execution_count": 3,
   "metadata": {},
   "outputs": [
    {
     "name": "stdout",
     "output_type": "stream",
     "text": [
      "['vishwajeet', 'ajeet', 'raju', 'shaym']\n"
     ]
    }
   ],
   "source": [
    "# In map function we pass 2 arguments by default # map function works with both list and tuple \n",
    "\n",
    "# example to show same question solving without map function \n",
    "\n",
    "students = [\n",
    "    (\"vishwajeet\", 92),\n",
    "    (\"ajeet\", 97),\n",
    "    (\"raju\", 60),\n",
    "    (\"shaym\", 72)\n",
    "]\n",
    "\n",
    "# from this list we need  to make another list where we need to put all the name of student (task without using map function )\n",
    "name = []\n",
    "\n",
    "for x in students:\n",
    "    name.append(x[0])\n",
    "print(name)\n"
   ]
  },
  {
   "cell_type": "code",
   "execution_count": null,
   "metadata": {},
   "outputs": [],
   "source": []
  }
 ],
 "metadata": {
  "kernelspec": {
   "display_name": "Python 3",
   "language": "python",
   "name": "python3"
  },
  "language_info": {
   "codemirror_mode": {
    "name": "ipython",
    "version": 3
   },
   "file_extension": ".py",
   "mimetype": "text/x-python",
   "name": "python",
   "nbconvert_exporter": "python",
   "pygments_lexer": "ipython3",
   "version": "3.11.2"
  }
 },
 "nbformat": 4,
 "nbformat_minor": 2
}
