{
 "cells": [
  {
   "cell_type": "markdown",
   "metadata": {},
   "source": [
    "# Lambda Function "
   ]
  },
  {
   "cell_type": "markdown",
   "metadata": {},
   "source": []
  },
  {
   "cell_type": "code",
   "execution_count": 11,
   "metadata": {},
   "outputs": [
    {
     "name": "stdout",
     "output_type": "stream",
     "text": [
      "[('ajeet', 97), ('raju', 60), ('shaym', 72), ('vishwajeet', 92)]\n",
      "[('raju', 60), ('shaym', 72), ('vishwajeet', 92), ('ajeet', 97)]\n",
      "\n",
      "\n",
      "[('ajeet', 97), ('vishwajeet', 92), ('shaym', 72), ('raju', 60)]\n"
     ]
    }
   ],
   "source": [
    "students = [(\"vishwajeet\", 92), (\"ajeet\", 97), (\"raju\", 60), (\"shaym\", 72)]\n",
    "# now sorting this list \n",
    "students.sort()\n",
    "print(students)\n",
    "\n"
   ]
  },
  {
   "cell_type": "code",
   "execution_count": null,
   "metadata": {},
   "outputs": [],
   "source": [
    "# soritng using numbers in ascending order \n",
    "# for this we need to make function \n",
    "def sort_student(stu):    # this stu is argument \n",
    "    return stu[1]\n",
    "\n",
    "students.sort(key=sort_student)\n",
    "print(students)\n",
    "\n",
    "print()\n",
    "print()"
   ]
  },
  {
   "cell_type": "code",
   "execution_count": 12,
   "metadata": {},
   "outputs": [
    {
     "name": "stdout",
     "output_type": "stream",
     "text": [
      "[('ajeet', 97), ('vishwajeet', 92), ('shaym', 72), ('raju', 60)]\n"
     ]
    }
   ],
   "source": [
    "# sorting in descending order \n",
    "def sort_student(a):\n",
    "    return a[1]\n",
    "\n",
    "students.sort(key = sort_student, reverse=True)\n",
    "print(students)"
   ]
  },
  {
   "cell_type": "code",
   "execution_count": null,
   "metadata": {},
   "outputs": [],
   "source": [
    "# now using lambda function\n",
    "# lambda means without name and without name means  anonymous \n",
    "# if we want to write one statement in one function then we will use lambda function"
   ]
  },
  {
   "cell_type": "code",
   "execution_count": null,
   "metadata": {},
   "outputs": [],
   "source": []
  },
  {
   "cell_type": "code",
   "execution_count": null,
   "metadata": {},
   "outputs": [],
   "source": []
  },
  {
   "cell_type": "code",
   "execution_count": null,
   "metadata": {},
   "outputs": [],
   "source": []
  },
  {
   "cell_type": "markdown",
   "metadata": {},
   "source": [
    "# Map function \n",
    "\n",
    "\n",
    "The map() function in Python is a built-in function used to apply a given function to all items in an iterable (such as list, tuple, or dictionary) and return a new iterable with the results. It takes two parameters: the function to apply and the iterable to apply it to."
   ]
  },
  {
   "cell_type": "code",
   "execution_count": 7,
   "metadata": {},
   "outputs": [
    {
     "name": "stdout",
     "output_type": "stream",
     "text": [
      "['vishwajeet', 'ajeet', 'raju', 'shaym']\n"
     ]
    }
   ],
   "source": [
    "# In map function we pass 2 arguments by default ( when we pass 2 argument, one is function and another is iterable) \n",
    "# here iterable means any data sturcture (data structure means list, tuple, set, dictionary) which has more than 1 element \n",
    "\n",
    "\n",
    "# map function works with both list and tuple \n",
    "\n",
    "# example to show same question solving without map function \n",
    "\n",
    "\n",
    "\n",
    "\n"
   ]
  },
  {
   "cell_type": "code",
   "execution_count": null,
   "metadata": {},
   "outputs": [],
   "source": [
    "# without map function \n",
    "students = [\n",
    "    (\"vishwajeet\", 92),\n",
    "    (\"ajeet\", 97),\n",
    "    (\"raju\", 60),\n",
    "    (\"shaym\", 72)\n",
    "]\n",
    "\n",
    "# from this list we need  to make another list where we need to put all the name of student (task without using map function )\n",
    "name = []\n",
    "\n",
    "for x in students:\n",
    "    name.append(x[0])\n",
    "print(name)"
   ]
  },
  {
   "cell_type": "code",
   "execution_count": null,
   "metadata": {},
   "outputs": [],
   "source": [
    "# now same example using map function \n",
    "\n",
    "# map(function, iterable)\n",
    "# map(lambda, list) # here we pass lambda function and list as iterable \n",
    "\n",
    "students = [\n",
    "    (\"vishwajeet\", 92),\n",
    "    (\"ajeet\", 97),\n",
    "    (\"raju\", 60),\n",
    "    (\"shaym\", 72)\n",
    "]\n",
    "names = list(map(lambda x:x[0], students)) # here passing in list function means making list\n",
    "print(names)"
   ]
  }
 ],
 "metadata": {
  "kernelspec": {
   "display_name": "Python 3",
   "language": "python",
   "name": "python3"
  },
  "language_info": {
   "codemirror_mode": {
    "name": "ipython",
    "version": 3
   },
   "file_extension": ".py",
   "mimetype": "text/x-python",
   "name": "python",
   "nbconvert_exporter": "python",
   "pygments_lexer": "ipython3",
   "version": "3.11.2"
  }
 },
 "nbformat": 4,
 "nbformat_minor": 2
}
