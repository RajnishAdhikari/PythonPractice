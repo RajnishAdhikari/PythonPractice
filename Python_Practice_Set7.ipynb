{
 "cells": [
  {
   "cell_type": "markdown",
   "metadata": {},
   "source": [
    "Q1. Write a program that spawns two threads. One thread should print even numbers between 0 and 10, and the other thread should print \n",
    "odd numbers between 1 and 9."
   ]
  },
  {
   "cell_type": "code",
   "execution_count": 6,
   "metadata": {},
   "outputs": [
    {
     "name": "stdout",
     "output_type": "stream",
     "text": [
      "Even Thread: 0\n",
      "Even Thread: 2\n",
      "Even Thread: 4\n",
      "Even Thread: 6\n",
      "Even Thread: 8\n",
      "Even Thread: 10\n",
      "Odd Thread: 1\n",
      "Odd Thread: 3\n",
      "Odd Thread: 5\n",
      "Odd Thread: 7\n",
      "Odd Thread: 9\n"
     ]
    }
   ],
   "source": [
    "import threading\n",
    "\n",
    "# Function to print even numbers\n",
    "def print_even():\n",
    "    for num in range(0, 11, 2):\n",
    "        print(f\"Even Thread: {num}\")\n",
    "\n",
    "# Function to print odd numbers\n",
    "def print_odd():\n",
    "    for num in range(1, 10, 2):\n",
    "        print(f\"Odd Thread: {num}\")\n",
    "\n",
    "# Creating two thread \n",
    "even_thread = threading.Thread(target=print_even)\n",
    "odd_thread = threading.Thread(target=print_odd)\n",
    "\n",
    "# Start the threads\n",
    "even_thread.start()\n",
    "odd_thread.start()\n",
    "\n",
    "# Waiting for both thread to finish\n",
    "even_thread.join()\n",
    "odd_thread.join()"
   ]
  },
  {
   "cell_type": "markdown",
   "metadata": {},
   "source": [
    "Q2. Write a program that generates a list of random numbers and sorts them using multithreading. Use two threads to sort the first half and the second half of the list in parallel."
   ]
  },
  {
   "cell_type": "code",
   "execution_count": 3,
   "metadata": {},
   "outputs": [
    {
     "name": "stdout",
     "output_type": "stream",
     "text": [
      "Original List: [50, 35, 94, 41, 44, 45, 43, 41, 2, 88]\n",
      "Sorted List: [35, 41, 44, 50, 94, 2, 41, 43, 45, 88]\n"
     ]
    }
   ],
   "source": [
    "import threading\n",
    "import random\n",
    "\n",
    "def parallel_sort(arr, result):\n",
    "    \"\"\"\n",
    "    Sorts the given portion of the array and stores the result in the shared result list.\n",
    "    \"\"\"\n",
    "    sorted_part = sorted(arr)\n",
    "    result.extend(sorted_part)\n",
    "\n",
    "def main():\n",
    "    # Generate a list of random numbers\n",
    "    num_elements = 10\n",
    "    random_list = [random.randint(1, 100) for _ in range(num_elements)]\n",
    "\n",
    "    # Split the list into two halves\n",
    "    midpoint = len(random_list) // 2\n",
    "    first_half = random_list[:midpoint]\n",
    "    second_half = random_list[midpoint:]\n",
    "\n",
    "    # Create a shared result list\n",
    "    sorted_result = []\n",
    "\n",
    "    # Create threads for sorting each half\n",
    "    thread1 = threading.Thread(target=parallel_sort, args=(first_half, sorted_result))\n",
    "    thread2 = threading.Thread(target=parallel_sort, args=(second_half, sorted_result))\n",
    "\n",
    "    # Start the threads\n",
    "    thread1.start()\n",
    "    thread2.start()\n",
    "\n",
    "    # Wait for both threads to finish\n",
    "    thread1.join()\n",
    "    thread2.join()\n",
    "\n",
    "    # Merge the sorted halves\n",
    "    sorted_list = sorted_result\n",
    "\n",
    "    # Print the original and sorted lists\n",
    "    print(\"Original List:\", random_list)\n",
    "    print(\"Sorted List:\", sorted_list)\n",
    "\n",
    "if __name__ == \"__main__\":\n",
    "    main()\n"
   ]
  },
  {
   "cell_type": "markdown",
   "metadata": {},
   "source": [
    "Q3. Write a program that simulates a bank account transaction. The program should create two threads,\n",
    "one for a deposit and one for a withdrawal. The deposit thread should add\n",
    "100 to the account,and the withdrawal thread should withdraw\n",
    "50 from the account. Run the program for 10 iterations."
   ]
  },
  {
   "cell_type": "code",
   "execution_count": 2,
   "metadata": {},
   "outputs": [
    {
     "name": "stdout",
     "output_type": "stream",
     "text": [
      "Depositing $100\n",
      "Withdrawing $50\n",
      "Depositing $100\n",
      "Withdrawing $50\n",
      "Withdrawing $50\n",
      "Depositing $100\n",
      "Withdrawing $50\n",
      "Depositing $100\n",
      "Withdrawing $50\n",
      "Depositing $100\n",
      "Withdrawing $50\n",
      "Depositing $100\n",
      "Withdrawing $50\n",
      "Depositing $100\n",
      "Withdrawing $50\n",
      "Depositing $100\n",
      "Withdrawing $50\n",
      "Depositing $100\n",
      "Withdrawing $50\n",
      "Depositing $100\n",
      "Final balance: $500\n"
     ]
    }
   ],
   "source": [
    "import threading\n",
    "import time\n",
    "\n",
    "class BankAccount:\n",
    "    def __init__(self):\n",
    "        self.balance = 0\n",
    "        self.lock = threading.Lock()\n",
    "\n",
    "    def deposit(self, amount):\n",
    "        with self.lock:\n",
    "            print(f\"Depositing ${amount}\")\n",
    "            self.balance += amount\n",
    "    \n",
    "    def withdraw(self, amount):\n",
    "        with self.lock:\n",
    "            if self.balance >= amount:\n",
    "                print(f\"Withdrawing ${amount}\")\n",
    "                self.balance -= amount\n",
    "            else:\n",
    "                print(\"Insufficient funds\")\n",
    "\n",
    "def deposit_thread(account, iterations):\n",
    "    for _ in range(iterations):\n",
    "        account.deposit(100)\n",
    "        time.sleep(1)  # Simulating some processing time\n",
    "\n",
    "def withdraw_thread(account, iterations):\n",
    "    for _ in range(iterations):\n",
    "        account.withdraw(50)\n",
    "        time.sleep(1)  # Simulating some processing time\n",
    "\n",
    "def main():\n",
    "    account = BankAccount()\n",
    "    iterations = 10\n",
    "\n",
    "    deposit_thread_instance = threading.Thread(target=deposit_thread, args=(account, iterations))\n",
    "    withdraw_thread_instance = threading.Thread(target=withdraw_thread, args=(account, iterations))\n",
    "\n",
    "    deposit_thread_instance.start()\n",
    "    withdraw_thread_instance.start()\n",
    "\n",
    "    deposit_thread_instance.join()\n",
    "    withdraw_thread_instance.join()\n",
    "\n",
    "    print(f\"Final balance: ${account.balance}\")\n",
    "\n",
    "if __name__ == \"__main__\":\n",
    "    main()"
   ]
  },
  {
   "cell_type": "markdown",
   "metadata": {},
   "source": [
    "Q4. Write a Python program that creates a thread to print out the current date and time every 5 seconds.\n",
    "The program should continue running until the user presses the 'q' key."
   ]
  },
  {
   "cell_type": "code",
   "execution_count": 5,
   "metadata": {},
   "outputs": [
    {
     "name": "stdout",
     "output_type": "stream",
     "text": [
      "Current Date and Time: 2024-01-06 00:04:57\n",
      "Current Date and Time: 2024-01-06 00:05:02\n",
      "Current Date and Time: 2024-01-06 00:05:07\n",
      "Current Date and Time: 2024-01-06 00:05:12\n",
      "Current Date and Time: 2024-01-06 00:05:17\n",
      "Current Date and Time: 2024-01-06 00:05:22\n",
      "Current Date and Time: 2024-01-06 00:05:27\n",
      "Current Date and Time: 2024-01-06 00:05:32\n",
      "Current Date and Time: 2024-01-06 00:05:37\n",
      "Current Date and Time: 2024-01-06 00:05:42\n",
      "Current Date and Time: 2024-01-06 00:05:47\n",
      "Current Date and Time: 2024-01-06 00:05:52\n",
      "Current Date and Time: 2024-01-06 00:05:57\n",
      "Current Date and Time: 2024-01-06 00:06:02\n",
      "Current Date and Time: 2024-01-06 00:06:08\n",
      "Current Date and Time: 2024-01-06 00:06:13\n",
      "Current Date and Time: 2024-01-06 00:06:18\n",
      "Current Date and Time: 2024-01-06 00:06:23\n",
      "Current Date and Time: 2024-01-06 00:06:28\n",
      "Current Date and Time: 2024-01-06 00:06:33\n",
      "Current Date and Time: 2024-01-06 00:06:38\n",
      "Current Date and Time: 2024-01-06 00:06:43\n"
     ]
    },
    {
     "ename": "KeyboardInterrupt",
     "evalue": "",
     "output_type": "error",
     "traceback": [
      "\u001b[1;31m---------------------------------------------------------------------------\u001b[0m",
      "\u001b[1;31mKeyboardInterrupt\u001b[0m                         Traceback (most recent call last)",
      "Cell \u001b[1;32mIn[5], line 34\u001b[0m\n\u001b[0;32m     30\u001b[0m         \u001b[38;5;28;01mreturn\u001b[39;00m \u001b[38;5;28;01mFalse\u001b[39;00m\n\u001b[0;32m     32\u001b[0m \u001b[38;5;28;01mtry\u001b[39;00m:\n\u001b[0;32m     33\u001b[0m     \u001b[38;5;66;03m# Wait for the user to press 'q'\u001b[39;00m\n\u001b[1;32m---> 34\u001b[0m     \u001b[38;5;28;01mwhile\u001b[39;00m \u001b[38;5;28;01mTrue\u001b[39;00m:\n\u001b[0;32m     35\u001b[0m         \u001b[38;5;28;01mif\u001b[39;00m kbhit():\n\u001b[0;32m     36\u001b[0m             \u001b[38;5;28;01mbreak\u001b[39;00m\n",
      "\u001b[1;31mKeyboardInterrupt\u001b[0m: "
     ]
    }
   ],
   "source": [
    "import threading\n",
    "import time\n",
    "import sys\n",
    "from datetime import datetime\n",
    "\n",
    "# Function to print current date and time\n",
    "def print_datetime():\n",
    "    while not exit_flag.is_set():\n",
    "        current_time = datetime.now().strftime(\"%Y-%m-%d %H:%M:%S\")\n",
    "        print(f\"Current Date and Time: {current_time}\")\n",
    "        time.sleep(5)\n",
    "\n",
    "# Set up a flag to control the thread\n",
    "exit_flag = threading.Event()\n",
    "\n",
    "# Create a thread\n",
    "date_time_thread = threading.Thread(target=print_datetime)\n",
    "\n",
    "# Start the thread\n",
    "date_time_thread.start()\n",
    "\n",
    "# Function to check if a key is pressed\n",
    "def kbhit():\n",
    "    import msvcrt  # For Windows\n",
    "\n",
    "    if msvcrt.kbhit():\n",
    "        char = msvcrt.getch().decode('utf-8')\n",
    "        return char.lower() == 'q'\n",
    "    else:\n",
    "        return False\n",
    "\n",
    "try:\n",
    "    # Wait for the user to press 'q'\n",
    "    while True:\n",
    "        if kbhit():\n",
    "            break\n",
    "finally:\n",
    "    # Set the exit flag to stop the thread\n",
    "    exit_flag.set()\n",
    "    date_time_thread.join()\n",
    "\n",
    "print(\"Program terminated.\")\n"
   ]
  },
  {
   "cell_type": "markdown",
   "metadata": {},
   "source": [
    "Q5. Write a Python program that creates two threads. Each thread should print out the numbers from 1 to\n",
    "10. The two threads should run concurrently and print out the numbers in an interleaved fashion."
   ]
  },
  {
   "cell_type": "code",
   "execution_count": 5,
   "metadata": {},
   "outputs": [
    {
     "name": "stdout",
     "output_type": "stream",
     "text": [
      "1\n",
      "1\n",
      "1\n",
      "1\n",
      "1\n",
      "1\n",
      "1\n",
      "1\n",
      "1\n",
      "1\n",
      "1\n",
      "1\n",
      "1\n",
      "1\n",
      "1\n",
      "1\n",
      "1\n",
      "1\n",
      "1\n",
      "1\n",
      "Program completed.\n"
     ]
    }
   ],
   "source": [
    "import threading\n",
    "\n",
    "\n",
    "# function to print numers from start to end\n",
    "\n",
    "def print_numbers(start, end):\n",
    "    for i in range(start, end + 1):\n",
    "        print(1)\n",
    "\n",
    "# Creating 2 threads\n",
    "thread1 = threading.Thread(target = print_numbers, args = (1, 10))\n",
    "thread2 = threading.Thread(target = print_numbers, args = (1, 10))\n",
    "\n",
    "# Start both thread\n",
    "thread1.start()\n",
    "thread2.start()\n",
    "\n",
    "# Wait for both thread to finish\n",
    "thread1.join()\n",
    "thread2.join()\n",
    "\n",
    "print(\"Program completed.\")"
   ]
  },
  {
   "cell_type": "code",
   "execution_count": 4,
   "metadata": {},
   "outputs": [
    {
     "name": "stdout",
     "output_type": "stream",
     "text": [
      "Thread 1: 1\n",
      "Thread 1: 2\n",
      "Thread 1: 3\n",
      "Thread 1: 4\n",
      "Thread 1: 5\n",
      "Thread 1: 6\n",
      "Thread 1: 7\n",
      "Thread 1: 8\n",
      "Thread 1: 9\n",
      "Thread 1: 10\n",
      "Thread 2: 1\n",
      "Thread 2: 2\n",
      "Thread 2: 3\n",
      "Thread 2: 4\n",
      "Thread 2: 5\n",
      "Thread 2: 6\n",
      "Thread 2: 7\n",
      "Thread 2: 8\n",
      "Thread 2: 9\n",
      "Thread 2: 10\n"
     ]
    }
   ],
   "source": [
    "import threading\n",
    "\n",
    "def print_numbers(thread_id):\n",
    "    for i in range(1, 11):\n",
    "        print(f\"Thread {thread_id}: {i}\")\n",
    "\n",
    "thread1 = threading.Thread(target=print_numbers, args=(1,))\n",
    "thread2 = threading.Thread(target=print_numbers, args=(2,))\n",
    "\n",
    "thread1.start()\n",
    "thread2.start()\n",
    "\n",
    "# Wait for both threads to finish before exiting the program\n",
    "thread1.join()\n",
    "thread2.join()\n"
   ]
  },
  {
   "cell_type": "code",
   "execution_count": 7,
   "metadata": {},
   "outputs": [
    {
     "name": "stdout",
     "output_type": "stream",
     "text": [
      "Thread execution completed\n"
     ]
    },
    {
     "name": "stdout",
     "output_type": "stream",
     "text": [
      "Thread 1: 1Thread 2: 1\n",
      "\n",
      "Thread 2: 2Thread 1: 2\n",
      "\n",
      "Thread 1: 3\n",
      "Thread 2: 3\n",
      "Thread 1: 4\n",
      "Thread 2: 4\n",
      "Thread 2: 5Thread 1: 5\n",
      "\n",
      "Thread 1: 6\n",
      "Thread 2: 6\n",
      "Thread 1: 7\n",
      "Thread 2: 7\n",
      "Thread 1: 8\n",
      "Thread 2: 8\n",
      "Thread 1: 9\n",
      "Thread 2: 9\n",
      "Thread 1: 10\n",
      "Thread 2: 10\n"
     ]
    }
   ],
   "source": [
    "import threading\n",
    "import time\n",
    "\n",
    "# Define the function for the thread\n",
    "def print_numbers(thread_name):\n",
    "    for i in range(1, 11):\n",
    "        time.sleep(0.1)\n",
    "        print(f\"{thread_name}: {i}\")\n",
    "\n",
    "# Create two threads\n",
    "thread1 = threading.Thread(target=print_numbers, args=(\"Thread 1\",))\n",
    "thread2 = threading.Thread(target=print_numbers, args=(\"Thread 2\",))\n",
    "\n",
    "# Start the threads\n",
    "thread1.start()\n",
    "thread2.start()\n",
    "\n",
    "# Wait for both\n"
   ]
  },
  {
   "cell_type": "markdown",
   "metadata": {},
   "source": [
    "Q6. Write a Python program to create a shared variable between two threads and increment its value in\n",
    "each thread."
   ]
  },
  {
   "cell_type": "code",
   "execution_count": 2,
   "metadata": {},
   "outputs": [
    {
     "name": "stdout",
     "output_type": "stream",
     "text": [
      "Final value of the shared variable: 2000000\n"
     ]
    }
   ],
   "source": [
    "import threading\n",
    "\n",
    "# Shared variable\n",
    "shared_variable = 0\n",
    "\n",
    "# Lockig to synchronize access to the shared variable\n",
    "lock = threading.Lock()\n",
    "\n",
    "# Creating function to increment the shared variable\n",
    "def increment_variable():\n",
    "    global shared_variable\n",
    "    for _ in range(1000000):  # Incrementing the variable 1 million times\n",
    "        with lock:\n",
    "            shared_variable += 1\n",
    "\n",
    "# Creating two threads\n",
    "thread1 = threading.Thread(target=increment_variable)\n",
    "thread2 = threading.Thread(target=increment_variable)\n",
    "\n",
    "# starting the thread\n",
    "thread1.start()\n",
    "thread2.start()\n",
    "\n",
    "# Waiting for both threads to finish\n",
    "thread1.join()\n",
    "thread2.join()\n",
    "\n",
    "\n",
    "print(f\"Final value of the shared variable:\", shared_variable)\n"
   ]
  },
  {
   "cell_type": "markdown",
   "metadata": {},
   "source": [
    "Q7. Here's a Python program that creates a thread to count down from 5 to 0 and prints \"Blastoff!\" when\n",
    "the count reaches 0:"
   ]
  },
  {
   "cell_type": "code",
   "execution_count": 1,
   "metadata": {},
   "outputs": [
    {
     "name": "stdout",
     "output_type": "stream",
     "text": [
      "Countdown: 5\n",
      "Countdown: 4\n",
      "Countdown: 3\n",
      "Countdown: 2\n",
      "Countdown: 1\n",
      "Blastoff !\n",
      "Thread has finished\n"
     ]
    }
   ],
   "source": [
    "import threading\n",
    "import time\n",
    "\n",
    "# function for counting down\n",
    "def countdown():\n",
    "    for i in range(5, 0, -1):\n",
    "        print(f\"Countdown: {i}\")\n",
    "        time.sleep(1)\n",
    "\n",
    "    print (\"Blastoff !\")\n",
    "\n",
    "# Creating a thread\n",
    "countdown_thread = threading.Thread(target= countdown)\n",
    "\n",
    "# Start the thread\n",
    "countdown_thread.start()\n",
    "\n",
    "# wait for the thread to finish\n",
    "countdown_thread.join()\n",
    "\n",
    "print(\"Thread has finished\")"
   ]
  },
  {
   "cell_type": "markdown",
   "metadata": {},
   "source": [
    "Q8. Write a program that creates a thread to print the Fibonacci sequence up to a certain number n. The\n",
    "main thread should prompt the user for the value of n."
   ]
  },
  {
   "cell_type": "code",
   "execution_count": 1,
   "metadata": {},
   "outputs": [
    {
     "name": "stdout",
     "output_type": "stream",
     "text": [
      "Fibonacci Sequence up to 5 : [0, 1, 1, 2, 3, 5]\n",
      "Thread has finished.\n"
     ]
    }
   ],
   "source": [
    "import threading\n",
    "\n",
    "# Function to calculate and print the fibonacci sequence\n",
    "def fibonacci_sequence(n):\n",
    "    a, b = 0, 1\n",
    "    fib_sequence = [a, b]\n",
    "\n",
    "    while a + b <= n:\n",
    "        a, b = b, a + b\n",
    "        fib_sequence.append(b)\n",
    "\n",
    "    print(\"Fibonacci Sequence up to\", n, \":\", fib_sequence)\n",
    "\n",
    "# Get user input for the value of 'n'\n",
    "\n",
    "try:\n",
    "    n = int(input(\"Enter the value of n for Fibonacci sequence: \"))\n",
    "\n",
    "except ValueError:\n",
    "    print(\"Invalid input. Please enter a valid integer.\")\n",
    "    exit()\n",
    "\n",
    "\n",
    "# Creating a thread with the Fibonacci sequence function\n",
    "fibonacci_thread = threading.Thread(target=fibonacci_sequence, args=(n,))\n",
    "\n",
    "\n",
    "# Starting the thread\n",
    "fibonacci_thread.start()\n",
    "\n",
    "# Waiting for the thread to finish\n",
    "fibonacci_thread.join()\n",
    "\n",
    "print(\"Thread has finished.\")"
   ]
  },
  {
   "cell_type": "markdown",
   "metadata": {},
   "source": [
    "Q9. Write a program that creates two threads to add and subtract numbers from a shared variable. The\n",
    "shared variable should start at 0, and each thread should perform 10 iterations of adding or subtracting a\n",
    "random integer between 1 and 10. The program should print the final value of the shared variable."
   ]
  },
  {
   "cell_type": "code",
   "execution_count": 1,
   "metadata": {},
   "outputs": [
    {
     "name": "stdout",
     "output_type": "stream",
     "text": [
      "Added 7 => Shared Variable: 7\n",
      "Added 6 => Shared Variable: 13\n",
      "Added 4 => Shared Variable: 17\n",
      "Added 7 => Shared Variable: 24\n",
      "Added 6 => Shared Variable: 30\n",
      "Added 9 => Shared Variable: 39\n",
      "Added 1 => Shared Variable: 40\n",
      "Added 3 => Shared Variable: 43\n",
      "Added 7 => Shared Variable: 50\n",
      "Added 9 => Shared Variable: 59\n",
      "Subtracted 8 => Shared Variable: 51\n",
      "Subtracted 8 => Shared Variable: 43\n",
      "Subtracted 7 => Shared Variable: 36\n",
      "Subtracted 6 => Shared Variable: 30\n",
      "Subtracted 9 => Shared Variable: 21\n",
      "Subtracted 5 => Shared Variable: 16\n",
      "Subtracted 7 => Shared Variable: 9\n",
      "Subtracted 8 => Shared Variable: 1\n",
      "Subtracted 4 => Shared Variable: -3\n",
      "Subtracted 4 => Shared Variable: -7\n",
      "Final Shared Variable Value: -7\n"
     ]
    }
   ],
   "source": [
    "import threading\n",
    "import random\n",
    "\n",
    "# Creating a shared variable\n",
    "shared_variable = 0\n",
    "\n",
    "# Mutex (lock) for synchronization\n",
    "lock = threading.Lock()\n",
    "\n",
    "\n",
    "# Function to add numbers to the shared variable\n",
    "def add_numbers():\n",
    "    global shared_variable\n",
    "    for _ in range(10):\n",
    "        with lock:\n",
    "            random_number = random.randint(1, 10)\n",
    "            shared_variable += random_number\n",
    "            print(f\"Added {random_number} => Shared Variable: {shared_variable}\")\n",
    "\n",
    "\n",
    "# Function to subtract numbers from the shared variable\n",
    "def subtract_numbers():\n",
    "    global shared_variable\n",
    "    for _ in range(10):\n",
    "        with lock:\n",
    "            random_number = random.randint(1, 10)\n",
    "            shared_variable -= random_number\n",
    "            print(f\"Subtracted {random_number} => Shared Variable: {shared_variable}\")\n",
    "\n",
    "\n",
    "\n",
    "# Creating threads\n",
    "add_thread = threading.Thread(target=add_numbers)\n",
    "subtract_thread = threading.Thread(target=subtract_numbers)\n",
    "\n",
    "\n",
    "# Starting threads\n",
    "add_thread.start()\n",
    "subtract_thread.start()\n",
    "\n",
    "# Waiting for both threads to finish\n",
    "add_thread.join()\n",
    "subtract_thread.join()\n",
    "\n",
    "# Printing the final value of the shared variable\n",
    "print(f\"Final Shared Variable Value: {shared_variable}\")"
   ]
  },
  {
   "cell_type": "markdown",
   "metadata": {},
   "source": [
    "Q10. Write a program that creates a thread to calculate the sum of the numbers from 1 to 100 and prints\n",
    "the result."
   ]
  },
  {
   "cell_type": "code",
   "execution_count": null,
   "metadata": {},
   "outputs": [],
   "source": [
    "import threading\n",
    "\n",
    "# function to find the sum\n",
    "def calculate_sum():\n",
    "    # Calculate the sum of numbers from 1 to 100\n",
    "    total_sum = sum(range(1, 101))\n",
    "\n",
    "    # Print the result\n",
    "    print(\"Sum of numbers from 1 to 100:\", total_sum)\n",
    "\n",
    "def main():\n",
    "    # Create a thread for the calculate_sum function\n",
    "    sum_thread = threading.Thread(target=calculate_sum)\n",
    "\n",
    "    # Start the thread\n",
    "    sum_thread.start()\n",
    "\n",
    "    # Wait for the thread to finish\n",
    "    sum_thread.join()\n",
    "\n",
    "    print(\"Thread finished execution.\")\n",
    "\n",
    "if __name__ == \"__main__\":\n",
    "    main()"
   ]
  }
 ],
 "metadata": {
  "kernelspec": {
   "display_name": "Python 3",
   "language": "python",
   "name": "python3"
  },
  "language_info": {
   "codemirror_mode": {
    "name": "ipython",
    "version": 3
   },
   "file_extension": ".py",
   "mimetype": "text/x-python",
   "name": "python",
   "nbconvert_exporter": "python",
   "pygments_lexer": "ipython3",
   "version": "3.11.2"
  }
 },
 "nbformat": 4,
 "nbformat_minor": 2
}
