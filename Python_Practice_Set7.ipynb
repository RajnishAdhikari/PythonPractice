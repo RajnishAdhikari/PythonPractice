{
 "cells": [
  {
   "cell_type": "markdown",
   "metadata": {},
   "source": [
    "Q1. Write a program that spawns two threads. One thread should print even numbers between 0 and 10, and the other thread should print \n",
    "odd numbers between 1 and 9."
   ]
  },
  {
   "cell_type": "code",
   "execution_count": 6,
   "metadata": {},
   "outputs": [
    {
     "name": "stdout",
     "output_type": "stream",
     "text": [
      "Even Thread: 0\n",
      "Even Thread: 2\n",
      "Even Thread: 4\n",
      "Even Thread: 6\n",
      "Even Thread: 8\n",
      "Even Thread: 10\n",
      "Odd Thread: 1\n",
      "Odd Thread: 3\n",
      "Odd Thread: 5\n",
      "Odd Thread: 7\n",
      "Odd Thread: 9\n"
     ]
    }
   ],
   "source": [
    "import threading\n",
    "\n",
    "# Function to print even numbers\n",
    "def print_even():\n",
    "    for num in range(0, 11, 2):\n",
    "        print(f\"Even Thread: {num}\")\n",
    "\n",
    "# Function to print odd numbers\n",
    "def print_odd():\n",
    "    for num in range(1, 10, 2):\n",
    "        print(f\"Odd Thread: {num}\")\n",
    "\n",
    "# Creating two thread \n",
    "even_thread = threading.Thread(target=print_even)\n",
    "odd_thread = threading.Thread(target=print_odd)\n",
    "\n",
    "# Start the threads\n",
    "even_thread.start()\n",
    "odd_thread.start()\n",
    "\n",
    "# Waiting for both thread to finish\n",
    "even_thread.join()\n",
    "odd_thread.join()"
   ]
  },
  {
   "cell_type": "markdown",
   "metadata": {},
   "source": [
    "Q2. Write a program that generates a list of random numbers and sorts them using multithreading. Use two threads to sort the first half and the second half of the list in parallel."
   ]
  },
  {
   "cell_type": "code",
   "execution_count": 3,
   "metadata": {},
   "outputs": [
    {
     "name": "stdout",
     "output_type": "stream",
     "text": [
      "Original List: [50, 35, 94, 41, 44, 45, 43, 41, 2, 88]\n",
      "Sorted List: [35, 41, 44, 50, 94, 2, 41, 43, 45, 88]\n"
     ]
    }
   ],
   "source": [
    "import threading\n",
    "import random\n",
    "\n",
    "def parallel_sort(arr, result):\n",
    "    \"\"\"\n",
    "    Sorts the given portion of the array and stores the result in the shared result list.\n",
    "    \"\"\"\n",
    "    sorted_part = sorted(arr)\n",
    "    result.extend(sorted_part)\n",
    "\n",
    "def main():\n",
    "    # Generate a list of random numbers\n",
    "    num_elements = 10\n",
    "    random_list = [random.randint(1, 100) for _ in range(num_elements)]\n",
    "\n",
    "    # Split the list into two halves\n",
    "    midpoint = len(random_list) // 2\n",
    "    first_half = random_list[:midpoint]\n",
    "    second_half = random_list[midpoint:]\n",
    "\n",
    "    # Create a shared result list\n",
    "    sorted_result = []\n",
    "\n",
    "    # Create threads for sorting each half\n",
    "    thread1 = threading.Thread(target=parallel_sort, args=(first_half, sorted_result))\n",
    "    thread2 = threading.Thread(target=parallel_sort, args=(second_half, sorted_result))\n",
    "\n",
    "    # Start the threads\n",
    "    thread1.start()\n",
    "    thread2.start()\n",
    "\n",
    "    # Wait for both threads to finish\n",
    "    thread1.join()\n",
    "    thread2.join()\n",
    "\n",
    "    # Merge the sorted halves\n",
    "    sorted_list = sorted_result\n",
    "\n",
    "    # Print the original and sorted lists\n",
    "    print(\"Original List:\", random_list)\n",
    "    print(\"Sorted List:\", sorted_list)\n",
    "\n",
    "if __name__ == \"__main__\":\n",
    "    main()\n"
   ]
  },
  {
   "cell_type": "markdown",
   "metadata": {},
   "source": [
    "Q3. Write a program that simulates a bank account transaction. The program should create two threads,\n",
    "one for a deposit and one for a withdrawal. The deposit thread should add\n",
    "100 to the account,and the withdrawal thread should withdraw\n",
    "50 from the account. Run the program for 10 iterations."
   ]
  },
  {
   "cell_type": "code",
   "execution_count": 2,
   "metadata": {},
   "outputs": [
    {
     "name": "stdout",
     "output_type": "stream",
     "text": [
      "Depositing $100\n",
      "Withdrawing $50\n",
      "Depositing $100\n",
      "Withdrawing $50\n",
      "Withdrawing $50\n",
      "Depositing $100\n",
      "Withdrawing $50\n",
      "Depositing $100\n",
      "Withdrawing $50\n",
      "Depositing $100\n",
      "Withdrawing $50\n",
      "Depositing $100\n",
      "Withdrawing $50\n",
      "Depositing $100\n",
      "Withdrawing $50\n",
      "Depositing $100\n",
      "Withdrawing $50\n",
      "Depositing $100\n",
      "Withdrawing $50\n",
      "Depositing $100\n",
      "Final balance: $500\n"
     ]
    }
   ],
   "source": [
    "import threading\n",
    "import time\n",
    "\n",
    "class BankAccount:\n",
    "    def __init__(self):\n",
    "        self.balance = 0\n",
    "        self.lock = threading.Lock()\n",
    "\n",
    "    def deposit(self, amount):\n",
    "        with self.lock:\n",
    "            print(f\"Depositing ${amount}\")\n",
    "            self.balance += amount\n",
    "    \n",
    "    def withdraw(self, amount):\n",
    "        with self.lock:\n",
    "            if self.balance >= amount:\n",
    "                print(f\"Withdrawing ${amount}\")\n",
    "                self.balance -= amount\n",
    "            else:\n",
    "                print(\"Insufficient funds\")\n",
    "\n",
    "def deposit_thread(account, iterations):\n",
    "    for _ in range(iterations):\n",
    "        account.deposit(100)\n",
    "        time.sleep(1)  # Simulating some processing time\n",
    "\n",
    "def withdraw_thread(account, iterations):\n",
    "    for _ in range(iterations):\n",
    "        account.withdraw(50)\n",
    "        time.sleep(1)  # Simulating some processing time\n",
    "\n",
    "def main():\n",
    "    account = BankAccount()\n",
    "    iterations = 10\n",
    "\n",
    "    deposit_thread_instance = threading.Thread(target=deposit_thread, args=(account, iterations))\n",
    "    withdraw_thread_instance = threading.Thread(target=withdraw_thread, args=(account, iterations))\n",
    "\n",
    "    deposit_thread_instance.start()\n",
    "    withdraw_thread_instance.start()\n",
    "\n",
    "    deposit_thread_instance.join()\n",
    "    withdraw_thread_instance.join()\n",
    "\n",
    "    print(f\"Final balance: ${account.balance}\")\n",
    "\n",
    "if __name__ == \"__main__\":\n",
    "    main()"
   ]
  },
  {
   "cell_type": "markdown",
   "metadata": {},
   "source": [
    "Q4. Write a Python program that creates a thread to print out the current date and time every 5 seconds.\n",
    "The program should continue running until the user presses the 'q' key."
   ]
  },
  {
   "cell_type": "code",
   "execution_count": null,
   "metadata": {},
   "outputs": [],
   "source": [
    "import threadidng\n",
    "import time\n",
    "import sys\n",
    "from datetime import datetime\n",
    "\n",
    "# function to print current date and time\n",
    "def print_datetime():\n",
    "    while not exit_flag.is_set():\n",
    "        current_time = datetime.now().strftime(\"%Y-%m-%d %H:%M:%S\")\n",
    "        print(f\"Current Date and Time: {current_time}\")\n",
    "        time.sleep(5)\n",
    "\n",
    "# Set up a flag to control the thread\n",
    "exit_flag = threading.Event()\n",
    "\n",
    "# Create a thread\n",
    "date_time_thread = threading.Thread(target=print_datetime)\n",
    "\n",
    "# Start the thread\n",
    "date_time_thread.start()\n",
    "\n",
    "try:\n",
    "    #wait for the user to press 'q'"
   ]
  }
 ],
 "metadata": {
  "kernelspec": {
   "display_name": "Python 3",
   "language": "python",
   "name": "python3"
  },
  "language_info": {
   "codemirror_mode": {
    "name": "ipython",
    "version": 3
   },
   "file_extension": ".py",
   "mimetype": "text/x-python",
   "name": "python",
   "nbconvert_exporter": "python",
   "pygments_lexer": "ipython3",
   "version": "3.11.2"
  }
 },
 "nbformat": 4,
 "nbformat_minor": 2
}
