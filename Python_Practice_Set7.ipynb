{
 "cells": [
  {
   "cell_type": "markdown",
   "metadata": {},
   "source": [
    "Q1. Write a program that spawns two threads. One thread should print even numbers between 0 and 10, and the other thread should print \n",
    "odd numbers between 1 and 9."
   ]
  },
  {
   "cell_type": "code",
   "execution_count": 2,
   "metadata": {},
   "outputs": [
    {
     "name": "stdout",
     "output_type": "stream",
     "text": [
      "Even Thread: 0\n",
      "Even Thread: 2\n",
      "Even Thread: 4\n",
      "Even Thread: 6\n",
      "Even Thread: 8\n",
      "Even Thread: 10\n"
     ]
    }
   ],
   "source": [
    "import threading\n",
    "\n",
    "# Function to print even numbers\n",
    "def print_even():\n",
    "    for num in range(0, 11, 2):\n",
    "        print(f\"Even Thread: {num}\")\n",
    "\n",
    "# Function to print odd numbers\n",
    "def print_odd():\n",
    "    for num in range(1, 10, 2):\n",
    "        print(f\"Odd Thread: {num}\")\n",
    "\n",
    "# Creating two thread \n",
    "even_thread = threading.Thread(target=print_even)\n",
    "odd_thread = threading.Thread(target=print_odd)\n",
    "\n",
    "# Start the threads\n",
    "even_thread.start()"
   ]
  },
  {
   "cell_type": "code",
   "execution_count": null,
   "metadata": {},
   "outputs": [],
   "source": []
  }
 ],
 "metadata": {
  "kernelspec": {
   "display_name": "Python 3",
   "language": "python",
   "name": "python3"
  },
  "language_info": {
   "codemirror_mode": {
    "name": "ipython",
    "version": 3
   },
   "file_extension": ".py",
   "mimetype": "text/x-python",
   "name": "python",
   "nbconvert_exporter": "python",
   "pygments_lexer": "ipython3",
   "version": "3.11.2"
  }
 },
 "nbformat": 4,
 "nbformat_minor": 2
}
