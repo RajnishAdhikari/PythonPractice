{
 "cells": [
  {
   "cell_type": "markdown",
   "metadata": {},
   "source": [
    "Q1. Write a program that spawns two threads. One thread should print even numbers between 0 and 10, and the other thread should print \n",
    "odd numbers between 1 and 9."
   ]
  },
  {
   "cell_type": "code",
   "execution_count": 6,
   "metadata": {},
   "outputs": [
    {
     "name": "stdout",
     "output_type": "stream",
     "text": [
      "Even Thread: 0\n",
      "Even Thread: 2\n",
      "Even Thread: 4\n",
      "Even Thread: 6\n",
      "Even Thread: 8\n",
      "Even Thread: 10\n",
      "Odd Thread: 1\n",
      "Odd Thread: 3\n",
      "Odd Thread: 5\n",
      "Odd Thread: 7\n",
      "Odd Thread: 9\n"
     ]
    }
   ],
   "source": [
    "import threading\n",
    "\n",
    "# Function to print even numbers\n",
    "def print_even():\n",
    "    for num in range(0, 11, 2):\n",
    "        print(f\"Even Thread: {num}\")\n",
    "\n",
    "# Function to print odd numbers\n",
    "def print_odd():\n",
    "    for num in range(1, 10, 2):\n",
    "        print(f\"Odd Thread: {num}\")\n",
    "\n",
    "# Creating two thread \n",
    "even_thread = threading.Thread(target=print_even)\n",
    "odd_thread = threading.Thread(target=print_odd)\n",
    "\n",
    "# Start the threads\n",
    "even_thread.start()\n",
    "odd_thread.start()\n",
    "\n",
    "# Waiting for both thread to finish\n",
    "even_thread.join()\n",
    "odd_thread.join()"
   ]
  },
  {
   "cell_type": "markdown",
   "metadata": {},
   "source": [
    "Q2. Write a program that generates a list of random numbers and sorts them using multithreading. Use two threads to sort the first half and the second half of the list in parallel."
   ]
  },
  {
   "cell_type": "code",
   "execution_count": 1,
   "metadata": {},
   "outputs": [],
   "source": [
    "import threading\n",
    "import random\n",
    "\n",
    "def parallel_sort(arr, result):\n",
    "    \"\"\"\n",
    "    Sorts the given portion of the array and stores the result in the shared result list.\n",
    "    \"\"\"\n",
    "    sorted_part = sorted(arr)\n",
    "    result.entend(sorted_part)\n",
    "\n",
    "def main():\n",
    "    # Generate a list of random numbers\n",
    "    num_elements = 10\n",
    "    random_list = [random.randint(1, 100) for _ in range(num_elements)]\n",
    "\n",
    "    # Split the list into two halves\n",
    "    midpoint = len(random_list) // 2\n",
    "    first_half = random_list[:midpoint]\n",
    "    second_half = random_list[midpoint:]\n",
    "    # Create a shared result list\n",
    "    sorted_result = []\n",
    "\n",
    "\n",
    "    # Create threads for sorting each half\n",
    "    thread1 = threading.Thread(target=parallel_sort, args=(first_half, sorted_result))\n",
    "    thread2 = threading.Thread(target=parallel_sort, args=(second_half, sorted_result))\n",
    "\n",
    "    # Start the thread\n",
    "    thread1.start()\n",
    "    thread2.start()\n",
    "\n",
    "    # wait for both threads to finish\n",
    "    thread1.join()\n"
   ]
  },
  {
   "cell_type": "code",
   "execution_count": null,
   "metadata": {},
   "outputs": [],
   "source": []
  }
 ],
 "metadata": {
  "kernelspec": {
   "display_name": "Python 3",
   "language": "python",
   "name": "python3"
  },
  "language_info": {
   "codemirror_mode": {
    "name": "ipython",
    "version": 3
   },
   "file_extension": ".py",
   "mimetype": "text/x-python",
   "name": "python",
   "nbconvert_exporter": "python",
   "pygments_lexer": "ipython3",
   "version": "3.11.2"
  }
 },
 "nbformat": 4,
 "nbformat_minor": 2
}
