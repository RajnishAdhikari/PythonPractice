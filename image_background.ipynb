{
 "cells": [
  {
   "cell_type": "markdown",
   "metadata": {},
   "source": [
    "## image background"
   ]
  },
  {
   "cell_type": "code",
   "execution_count": 8,
   "metadata": {},
   "outputs": [
    {
     "name": "stdout",
     "output_type": "stream",
     "text": [
      "Background removed and saved as out4.png\n"
     ]
    }
   ],
   "source": [
    "from rembg import remove\n",
    "from PIL import Image\n",
    "import numpy as np\n",
    "\n",
    "# Input and output paths\n",
    "input_path = 'img4.webp'\n",
    "output_path = 'out4.png'\n",
    "\n",
    "# Load the input image\n",
    "input_image = Image.open(input_path)\n",
    "\n",
    "# Convert the input image to a numpy array\n",
    "input_image_np = np.array(input_image)\n",
    "\n",
    "# Remove the original background using rembg\n",
    "output_image_np = remove(input_image_np)\n",
    "\n",
    "# Convert the numpy array back to a Pillow image\n",
    "output_image = Image.fromarray(output_image_np)\n",
    "\n",
    "# Create a new image with a white background\n",
    "width, height = output_image.size\n",
    "white_background = Image.new('RGBA', (width, height), (255, 255, 255, 255))\n",
    "\n",
    "# Paste the image with the removed background onto the white background\n",
    "white_background.paste(output_image, (0, 0), output_image)\n",
    "\n",
    "# Save the final image with a white background in PNG format (lossless)\n",
    "white_background.save(output_path, 'PNG')\n",
    "\n",
    "# Optionally, you can also resize the image to a specific size\n",
    "# resized_image = white_background.resize((new_width, new_height), Image.ANTIALIAS)\n",
    "# resized_image.save(output_path, 'PNG')\n",
    "\n",
    "print(f\"Background removed and saved as {output_path}\")\n"
   ]
  },
  {
   "cell_type": "code",
   "execution_count": null,
   "metadata": {},
   "outputs": [],
   "source": []
  },
  {
   "cell_type": "code",
   "execution_count": null,
   "metadata": {},
   "outputs": [],
   "source": []
  },
  {
   "cell_type": "code",
   "execution_count": null,
   "metadata": {},
   "outputs": [],
   "source": []
  },
  {
   "cell_type": "markdown",
   "metadata": {},
   "source": []
  }
 ],
 "metadata": {
  "kernelspec": {
   "display_name": "Python 3",
   "language": "python",
   "name": "python3"
  },
  "language_info": {
   "codemirror_mode": {
    "name": "ipython",
    "version": 3
   },
   "file_extension": ".py",
   "mimetype": "text/x-python",
   "name": "python",
   "nbconvert_exporter": "python",
   "pygments_lexer": "ipython3",
   "version": "3.11.2"
  },
  "orig_nbformat": 4
 },
 "nbformat": 4,
 "nbformat_minor": 2
}
