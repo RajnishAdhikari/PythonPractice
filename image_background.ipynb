{
 "cells": [
  {
   "cell_type": "markdown",
   "metadata": {},
   "source": [
    "## image background"
   ]
  },
  {
   "cell_type": "code",
   "execution_count": 9,
   "metadata": {},
   "outputs": [
    {
     "name": "stdout",
     "output_type": "stream",
     "text": [
      "Background removed and saved as out4.png\n"
     ]
    }
   ],
   "source": [
    "from rembg import remove\n",
    "from PIL import Image, ImageEnhance\n",
    "\n",
    "# Input and output paths\n",
    "input_path = 'img4.webp'\n",
    "output_path = 'out4.png'\n",
    "\n",
    "# Load the input image\n",
    "input_image = Image.open(input_path)\n",
    "\n",
    "# Remove the original background\n",
    "output_image = remove(input_image)\n",
    "\n",
    "# Enhance image quality (optional)\n",
    "enhancer = ImageEnhance.Sharpness(output_image)  # You can adjust the enhancement factor as needed\n",
    "output_image = enhancer.enhance(2.0)  # Increase sharpness (adjust factor as desired)\n",
    "\n",
    "# Create a new image with a white background\n",
    "width, height = input_image.size\n",
    "white_background = Image.new('RGBA', (width, height), (255, 255, 255, 255))\n",
    "\n",
    "# Paste the image with the removed background onto the white background\n",
    "white_background.paste(output_image, (0, 0), output_image)\n",
    "\n",
    "# Save the final image with a white background in PNG format (lossless)\n",
    "white_background.save(output_path, 'PNG')\n"
   ]
  },
  {
   "cell_type": "code",
   "execution_count": null,
   "metadata": {},
   "outputs": [],
   "source": []
  },
  {
   "cell_type": "code",
   "execution_count": null,
   "metadata": {},
   "outputs": [],
   "source": []
  },
  {
   "cell_type": "code",
   "execution_count": null,
   "metadata": {},
   "outputs": [],
   "source": []
  },
  {
   "cell_type": "markdown",
   "metadata": {},
   "source": []
  }
 ],
 "metadata": {
  "kernelspec": {
   "display_name": "Python 3",
   "language": "python",
   "name": "python3"
  },
  "language_info": {
   "codemirror_mode": {
    "name": "ipython",
    "version": 3
   },
   "file_extension": ".py",
   "mimetype": "text/x-python",
   "name": "python",
   "nbconvert_exporter": "python",
   "pygments_lexer": "ipython3",
   "version": "3.11.2"
  },
  "orig_nbformat": 4
 },
 "nbformat": 4,
 "nbformat_minor": 2
}
