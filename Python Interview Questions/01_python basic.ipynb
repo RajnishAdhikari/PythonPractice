{
 "cells": [
  {
   "cell_type": "code",
   "execution_count": null,
   "metadata": {},
   "outputs": [],
   "source": [
    "# python is interpreter language, code is executed line by line. It is executed at runtime.  "
   ]
  },
  {
   "cell_type": "code",
   "execution_count": null,
   "metadata": {},
   "outputs": [],
   "source": [
    "# Immutable : int, tuple, frozen set\n",
    "\n",
    "\n",
    "# Mutable : list, dictonary, set\n",
    "\n",
    "\n",
    "\n",
    "\n",
    "# key inside dictonary is immutable \n",
    "# Frozen set : frozen set are immutable \n",
    "# Why set are made : in set duplicate are not stored"
   ]
  },
  {
   "cell_type": "code",
   "execution_count": null,
   "metadata": {},
   "outputs": [],
   "source": [
    "# Dynamic typed means we don't need to define the data type but in static type we need to define the data \n",
    "type. "
   ]
  },
  {
   "cell_type": "code",
   "execution_count": null,
   "metadata": {},
   "outputs": [],
   "source": [
    "# In python 2 we have (xrange())   and\n",
    "#  in python 3 (range())\n",
    "# In python 3 print is function and in python 2 print is statement "
   ]
  },
  {
   "cell_type": "code",
   "execution_count": null,
   "metadata": {},
   "outputs": [],
   "source": [
    "# In Package, __init__ file must be present but in module it is not necessary to present __init__ file \n",
    "# In package there can be multiple file where as in module there is single file present "
   ]
  },
  {
   "cell_type": "code",
   "execution_count": null,
   "metadata": {},
   "outputs": [],
   "source": [
    "# __init__ is used for attribute setup (After making object we can pass value )\n",
    "# __init__ is also used to initialize object"
   ]
  },
  {
   "cell_type": "code",
   "execution_count": null,
   "metadata": {},
   "outputs": [],
   "source": [
    "# access modifier \n",
    "# private , protected comes under encapsulation \n",
    "# protected is indicated using single underscore (_) and it can be acccessed within class and subclass \n",
    "\n",
    "# private is indicated using double underscore(__)  and it can be accessed using (_ClassName__attribute)\n"
   ]
  },
  {
   "cell_type": "code",
   "execution_count": null,
   "metadata": {},
   "outputs": [],
   "source": [
    "# using zip we can combine any elements of any data type which is mutable \n",
    "\n",
    "# to find index number and value, we can use enumerate "
   ]
  },
  {
   "cell_type": "code",
   "execution_count": null,
   "metadata": {},
   "outputs": [],
   "source": [
    "# if we can access any variable outside of the function the it is called global namespace\n",
    "\n",
    "# if we can access any variable only within the function then it is called local namespace \n",
    "\n",
    "a = 44      # global namespace \n",
    "\n",
    "def func():\n",
    "    a = 1    # local namespace\n",
    "    b = 2\n",
    "\n",
    "func()\n",
    "\n",
    "print(a)"
   ]
  },
  {
   "cell_type": "code",
   "execution_count": 1,
   "metadata": {},
   "outputs": [
    {
     "name": "stdout",
     "output_type": "stream",
     "text": [
      "[1, 4, 9, 16]\n"
     ]
    }
   ],
   "source": [
    "# list comprehension \n",
    "# if we write logic into the list then it is known as list comprehension \n",
    "# it is used to make list without following the proper syntax \n",
    "\n",
    "n = [1,2,3,4]\n",
    "l1 = [i**2 for i in n]\n",
    "print(l1)"
   ]
  },
  {
   "cell_type": "code",
   "execution_count": 2,
   "metadata": {},
   "outputs": [
    {
     "name": "stdout",
     "output_type": "stream",
     "text": [
      "{1, 2, 3, 4}\n"
     ]
    }
   ],
   "source": [
    "n = [1,2,3,4]\n",
    "l2 = {i for i in n}\n",
    "print(l2)"
   ]
  },
  {
   "cell_type": "code",
   "execution_count": null,
   "metadata": {},
   "outputs": [],
   "source": [
    "# shallow and deep copy \n",
    "\n",
    "\n",
    "# in shallow copy both the list(original and latest) will get changed or updated \n",
    "\n",
    "# while in deep copy only the updated list, will gets changed not the original list \n",
    "\n"
   ]
  },
  {
   "cell_type": "code",
   "execution_count": null,
   "metadata": {},
   "outputs": [],
   "source": [
    "# namespace and scope of a variable \n",
    "\n",
    "# namespace take care of the conflict between (local and global) namespace\n",
    "# Built-in : can be used anywhere like len(), sum()   \n",
    "\n",
    "# Global Namespace: particular file \n",
    "\n",
    "# Local namespace: within the particular class or function \n",
    "\n",
    "\n",
    "# scope of a variable take care which variable to use where "
   ]
  },
  {
   "cell_type": "code",
   "execution_count": null,
   "metadata": {},
   "outputs": [],
   "source": [
    "# os vs sys \n",
    "# to create file, folder and to read, write, append this file and folder we use os and to give path we \n",
    "# use os module\n",
    "\n",
    "#  to convert into binary and handling the output,  sys module is used "
   ]
  },
  {
   "cell_type": "code",
   "execution_count": null,
   "metadata": {},
   "outputs": [],
   "source": [
    "# Generator \n",
    "\n",
    "# by using yield keyword a normal function becomes generator  \n",
    "# Generator is used to generate data one by one and not all at once "
   ]
  },
  {
   "cell_type": "code",
   "execution_count": 1,
   "metadata": {},
   "outputs": [
    {
     "name": "stdout",
     "output_type": "stream",
     "text": [
      "second largest number is :12\n"
     ]
    }
   ],
   "source": [
    "# Finding the largest number from the given list\n",
    "\n",
    "def find_second_largest(nums):\n",
    "    if len(nums) < 2:\n",
    "        return \"List should have at least 2 elements\"\n",
    "    \n",
    "    largest = max(nums)\n",
    "    nums.remove(largest)\n",
    "    second_largest = max(nums)\n",
    "\n",
    "    return second_largest\n",
    "\n",
    "number = [10, 3, 4,30,12]\n",
    "print(f\"second largest number is :{find_second_largest(number)}\")"
   ]
  },
  {
   "cell_type": "code",
   "execution_count": 2,
   "metadata": {},
   "outputs": [
    {
     "name": "stdout",
     "output_type": "stream",
     "text": [
      "List after removing duplicates: [1, 2, 3, 4, 5, 6]\n"
     ]
    }
   ],
   "source": [
    "# removing duplicate from the list\n",
    "\n",
    "def remove_duplicates(nums):\n",
    "    return(list(set(nums)))\n",
    "\n",
    "numbers = [1,2,2,3,4,5,3,4,5,6]\n",
    "print(f\"List after removing duplicates: {remove_duplicates(numbers)}\")"
   ]
  },
  {
   "cell_type": "code",
   "execution_count": 3,
   "metadata": {},
   "outputs": [
    {
     "name": "stdout",
     "output_type": "stream",
     "text": [
      "Intersection of two list is [3, 4, 5]\n"
     ]
    }
   ],
   "source": [
    "# 3 Finding the intersection of two list \n",
    "\n",
    "def find_intersection(list1, list2):\n",
    "    return list(set(list1) & set(list2))\n",
    "\n",
    "list1 = [1,2,3,4,5]\n",
    "list2 = [3,4,5,6,7]\n",
    "\n",
    "print(f\"Intersection of two list is {find_intersection(list1, list2)}\")"
   ]
  },
  {
   "cell_type": "code",
   "execution_count": 4,
   "metadata": {},
   "outputs": [
    {
     "name": "stdout",
     "output_type": "stream",
     "text": [
      "Intersection of two list is [3, 4, 5]\n"
     ]
    }
   ],
   "source": [
    "# Finding the intersection of two list \n",
    "\n",
    "def find_intersection(a, b):\n",
    "    return list(set(a) & set(b))\n",
    "\n",
    "list1 = [1,2,3,4,5]\n",
    "list2 = [3,4,5,6,7]\n",
    "\n",
    "print(f\"Intersection of two list is {find_intersection(list1, list2)}\")"
   ]
  },
  {
   "cell_type": "code",
   "execution_count": 5,
   "metadata": {},
   "outputs": [
    {
     "name": "stdout",
     "output_type": "stream",
     "text": [
      "Reversed string is: margorp gnirts gnisrever tsuj si siht dlrow olleh\n"
     ]
    }
   ],
   "source": [
    "# reversing a string\n",
    "\n",
    "def reverse_string(s):\n",
    "    return s[::-1]\n",
    "\n",
    "# Test the function\n",
    "text = \"hello world this is just reversing string program\"\n",
    "\n",
    "print(f\"Reversed string is: {reverse_string(text)}\")\n"
   ]
  },
  {
   "cell_type": "code",
   "execution_count": 6,
   "metadata": {},
   "outputs": [
    {
     "name": "stdout",
     "output_type": "stream",
     "text": [
      "Character count: {'h': 2, 'e': 1, 'l': 3, 'o': 4, ' ': 6, 'w': 1, 'r': 4, 'd': 1, 't': 3, 'i': 4, 's': 3, 'n': 3, 'g': 3, 'c': 1, 'u': 1, 'p': 1, 'a': 1, 'm': 1}\n"
     ]
    }
   ],
   "source": [
    "# counting the occurance of letter in string\n",
    "\n",
    "def count_char(s):\n",
    "    char_count = {}\n",
    "    for char in s:\n",
    "        char_count[char] = char_count.get(char, 0)  + 1\n",
    "    return char_count\n",
    "\n",
    "string = 'hello world this is string counting program'\n",
    "print(f\"Character count: {count_char(string)}\")\n"
   ]
  },
  {
   "cell_type": "code",
   "execution_count": 7,
   "metadata": {},
   "outputs": [
    {
     "name": "stdout",
     "output_type": "stream",
     "text": [
      "['a', 'h', 'i', 'j', 'n', 'r', 's']\n"
     ]
    }
   ],
   "source": [
    "# Sorting the string \n",
    "r = sorted(\"rajnish\")\n",
    "print(r)"
   ]
  },
  {
   "cell_type": "code",
   "execution_count": 10,
   "metadata": {},
   "outputs": [
    {
     "name": "stdout",
     "output_type": "stream",
     "text": [
      "Are listen and silent anagram? , True\n"
     ]
    }
   ],
   "source": [
    "# Checking for anagram\n",
    "# Anagram means words and length of word equal \n",
    "def is_anagram(s1, s2):\n",
    "    return sorted(s1) == sorted(s2)\n",
    "\n",
    "word1 = \"listen\"\n",
    "word2 = \"silent\"\n",
    "\n",
    "print(f\"Are {word1} and {word2} anagram? , {is_anagram(word2, word1)}\")"
   ]
  },
  {
   "cell_type": "code",
   "execution_count": 12,
   "metadata": {},
   "outputs": [
    {
     "name": "stdout",
     "output_type": "stream",
     "text": [
      "keys with maxinum value: ['d']\n"
     ]
    }
   ],
   "source": [
    "# Finding keys with the maximum value in dictonary\n",
    "\n",
    "def max_value_keys(d):\n",
    "    max_value = max(d.values())\n",
    "    return [key for key, value in d.items() if value == max_value]\n",
    "\n",
    "# testing the function \n",
    "data = {'a' : 10, 'b' : 20, 'c' : 30, 'd' : 40}\n",
    "print(f\"keys with maxinum value: {max_value_keys(data)}\")"
   ]
  },
  {
   "cell_type": "code",
   "execution_count": 14,
   "metadata": {},
   "outputs": [
    {
     "name": "stdout",
     "output_type": "stream",
     "text": [
      "Does key 'e' exists in the diconary? False\n"
     ]
    }
   ],
   "source": [
    "# Checking if key exists or not \n",
    "def is_key_exists(d, key):\n",
    "    return key in d\n",
    "\n",
    "data = {'a' : 10, 'b' : 20, 'c' : 30, 'd' : 40}\n",
    "key = 'e'\n",
    "\n",
    "print(f\"Does key '{key}' exists in the diconary? {is_key_exists(data, key)}\")"
   ]
  },
  {
   "cell_type": "code",
   "execution_count": 15,
   "metadata": {},
   "outputs": [
    {
     "name": "stdout",
     "output_type": "stream",
     "text": [
      "Does key 'c' exists in the diconary? True\n"
     ]
    }
   ],
   "source": [
    "# Checking if key exists or not \n",
    "def is_key_exists(d, key):\n",
    "    return key in d\n",
    "\n",
    "data = {'a' : 10, 'b' : 20, 'c' : 30, 'd' : 40}\n",
    "key = 'c'\n",
    "\n",
    "print(f\"Does key '{key}' exists in the diconary? {is_key_exists(data, key)}\")"
   ]
  },
  {
   "cell_type": "code",
   "execution_count": 17,
   "metadata": {},
   "outputs": [
    {
     "name": "stdout",
     "output_type": "stream",
     "text": [
      "{'key1': 'new_value', 'key2': 'value2', 'key3': 'value3'}\n"
     ]
    }
   ],
   "source": [
    "# add or modify elements in dictonary\n",
    "my_dictonary = {'key1': 'value1', 'key2': 'value2'}\n",
    "\n",
    "my_dictonary['key3'] = 'value3'\n",
    "my_dictonary['key1'] = 'new_value'  # here we modify the value of key1\n",
    "\n",
    "print(my_dictonary)"
   ]
  },
  {
   "cell_type": "code",
   "execution_count": 18,
   "metadata": {},
   "outputs": [
    {
     "name": "stdout",
     "output_type": "stream",
     "text": [
      "5\n"
     ]
    }
   ],
   "source": [
    "# lambda function \n",
    "# this is also known as one line or anonymous function \n",
    "\n",
    "add_lambda = lambda x, y: x+y\n",
    "print(add_lambda(2,3))"
   ]
  },
  {
   "cell_type": "code",
   "execution_count": 21,
   "metadata": {},
   "outputs": [
    {
     "name": "stdout",
     "output_type": "stream",
     "text": [
      "[1, 4, 9, 16, 25, 49]\n"
     ]
    }
   ],
   "source": [
    "# Map function \n",
    "# map means appying one operation to all the elements \n",
    "\n",
    "\n",
    "numbers = [1,2,3,4,5,7]\n",
    "\n",
    "square = list(map( lambda x: x**2, numbers))\n",
    "print(square)"
   ]
  },
  {
   "cell_type": "code",
   "execution_count": 1,
   "metadata": {},
   "outputs": [
    {
     "name": "stdout",
     "output_type": "stream",
     "text": [
      "[1, 4, 9, 16, 25, 49]\n"
     ]
    }
   ],
   "source": [
    "numbers = {1,2,3,4,5,7}\n",
    "\n",
    "square = list(map( lambda x: x**2, numbers))\n",
    "print(square)"
   ]
  },
  {
   "cell_type": "code",
   "execution_count": 24,
   "metadata": {},
   "outputs": [
    {
     "name": "stdout",
     "output_type": "stream",
     "text": [
      "[1, 4, 9, 16, 25, 49]\n"
     ]
    }
   ],
   "source": [
    "# this is list comprehension example \n",
    "\n",
    "numbers = [1,2,3,4,5,7]\n",
    "\n",
    "\n",
    "square = [i**2 for i in numbers]\n",
    "print(square)"
   ]
  },
  {
   "cell_type": "code",
   "execution_count": 25,
   "metadata": {},
   "outputs": [
    {
     "name": "stdout",
     "output_type": "stream",
     "text": [
      "21\n"
     ]
    }
   ],
   "source": [
    "# reduce example \n",
    "# reduce is used to apply for the single operation \n",
    "from functools import reduce\n",
    "number = [1,2,3,4,5,6]\n",
    "\n",
    "sum_of_numbers = reduce(lambda x, y: x + y, number)\n",
    "print(sum_of_numbers)"
   ]
  },
  {
   "cell_type": "code",
   "execution_count": 26,
   "metadata": {},
   "outputs": [
    {
     "name": "stdout",
     "output_type": "stream",
     "text": [
      "[2, 4, 6]\n"
     ]
    }
   ],
   "source": [
    "# finding even number from the list \n",
    "# filter function\n",
    "\n",
    "# It is useful when we want to selectively include or exclude elements from an iterable based on specific \n",
    "# criteria.\n",
    "\n",
    "number = [1,2,3,4,5,6]\n",
    "even_numbers = list(filter(lambda x: x % 2 == 0, number))\n",
    "print(even_numbers)"
   ]
  },
  {
   "cell_type": "code",
   "execution_count": null,
   "metadata": {},
   "outputs": [],
   "source": [
    "# purpose of _name_ variable\n",
    "\n",
    "# __name__ variable is used to check which file are we working on or which file is running "
   ]
  },
  {
   "cell_type": "code",
   "execution_count": null,
   "metadata": {},
   "outputs": [],
   "source": [
    "# purpose of __name__ == \"__main__\"  statement\n",
    "\n",
    "# it means that __name__ variable stores '__main__' file and we are running  '__main__'  file "
   ]
  },
  {
   "cell_type": "code",
   "execution_count": null,
   "metadata": {},
   "outputs": [],
   "source": [
    "# sort() method vs sorted()\n",
    "\n",
    "# sort() will make changes in the same list and it will not create new list \n",
    "\n",
    "# sorted() is used for any data type and it will make new list after sorted() and follows deep copy \n",
    "\n"
   ]
  },
  {
   "cell_type": "code",
   "execution_count": 9,
   "metadata": {},
   "outputs": [
    {
     "name": "stdout",
     "output_type": "stream",
     "text": [
      "[2, 2, 3, 4, 9]\n"
     ]
    }
   ],
   "source": [
    "# this method performs operation in the same list \n",
    "\n",
    "n = [2,3,2,9,4]\n",
    "# a = n.sort()  this will give none \n",
    "n.sort()\n",
    "print(n)"
   ]
  },
  {
   "cell_type": "code",
   "execution_count": 4,
   "metadata": {},
   "outputs": [
    {
     "name": "stdout",
     "output_type": "stream",
     "text": [
      "[2, 2, 3, 4, 9]\n",
      "[2, 3, 2, 9, 4]\n"
     ]
    }
   ],
   "source": [
    "# sorted() is used for any data type and it will make new list after sorted() and follows deep copy \n",
    "# if we keep same list name then we will get error \n",
    "n = [2,3,2,9,4]\n",
    "a = sorted(n)\n",
    "print(a)\n",
    "\n",
    "\n",
    "print(n)"
   ]
  },
  {
   "cell_type": "code",
   "execution_count": 6,
   "metadata": {},
   "outputs": [
    {
     "name": "stdout",
     "output_type": "stream",
     "text": [
      "[2, 2, 3, 4, 9]\n",
      "[2, 2, 3, 4, 9]\n"
     ]
    }
   ],
   "source": [
    "\n",
    "\n",
    "\n",
    "# print(n)"
   ]
  },
  {
   "cell_type": "code",
   "execution_count": null,
   "metadata": {},
   "outputs": [],
   "source": [
    "# pickling and unpickling \n",
    "\n",
    "# pickling means serializing (saving the model or making the pickel file ) It means storing python object in binary format , or  byte stream\n",
    "\n",
    "# unpickling  means deserializing (loading the model, files from database etc)  IT means converting a byte stream into a Python object.\n",
    "\n"
   ]
  },
  {
   "cell_type": "code",
   "execution_count": null,
   "metadata": {},
   "outputs": [],
   "source": [
    "# list and dictonary comprehension\n",
    "\n",
    "[expression for item in iterable if condition]\n",
    "\n",
    "{key_expression: value_expression for item in iterable if condition}"
   ]
  },
  {
   "cell_type": "code",
   "execution_count": 2,
   "metadata": {},
   "outputs": [
    {
     "data": {
      "text/plain": [
       "[1, 4, 9, 16, 25, 36, 49, 64, 81]"
      ]
     },
     "execution_count": 2,
     "metadata": {},
     "output_type": "execute_result"
    }
   ],
   "source": [
    "squares = []\n",
    "for x in range(1,10):\n",
    "    squares.append(x **2 )\n",
    "\n",
    "\n",
    "squares"
   ]
  },
  {
   "cell_type": "code",
   "execution_count": 3,
   "metadata": {},
   "outputs": [
    {
     "name": "stdout",
     "output_type": "stream",
     "text": [
      "[1, 4, 9, 16, 25, 36, 49, 64, 81]\n"
     ]
    }
   ],
   "source": [
    "squares = [x**2 for x in range(1,10)]\n",
    "print(squares)"
   ]
  },
  {
   "cell_type": "code",
   "execution_count": 4,
   "metadata": {},
   "outputs": [
    {
     "name": "stdout",
     "output_type": "stream",
     "text": [
      "{1: 1, 2: 4, 3: 9, 4: 16, 5: 25, 6: 36, 7: 49, 8: 64, 9: 81}\n"
     ]
    }
   ],
   "source": [
    "square_dict = {x: x**2 for x in range(1, 10)}\n",
    "print(square_dict)"
   ]
  },
  {
   "cell_type": "code",
   "execution_count": null,
   "metadata": {},
   "outputs": [],
   "source": []
  },
  {
   "cell_type": "code",
   "execution_count": null,
   "metadata": {},
   "outputs": [],
   "source": []
  },
  {
   "cell_type": "code",
   "execution_count": null,
   "metadata": {},
   "outputs": [],
   "source": []
  },
  {
   "cell_type": "code",
   "execution_count": null,
   "metadata": {},
   "outputs": [],
   "source": []
  },
  {
   "cell_type": "code",
   "execution_count": null,
   "metadata": {},
   "outputs": [],
   "source": []
  },
  {
   "cell_type": "code",
   "execution_count": null,
   "metadata": {},
   "outputs": [],
   "source": []
  },
  {
   "cell_type": "code",
   "execution_count": null,
   "metadata": {},
   "outputs": [],
   "source": []
  },
  {
   "cell_type": "code",
   "execution_count": null,
   "metadata": {},
   "outputs": [],
   "source": []
  },
  {
   "cell_type": "code",
   "execution_count": null,
   "metadata": {},
   "outputs": [],
   "source": []
  },
  {
   "cell_type": "code",
   "execution_count": null,
   "metadata": {},
   "outputs": [],
   "source": []
  },
  {
   "cell_type": "code",
   "execution_count": null,
   "metadata": {},
   "outputs": [],
   "source": []
  },
  {
   "cell_type": "code",
   "execution_count": null,
   "metadata": {},
   "outputs": [],
   "source": []
  },
  {
   "cell_type": "code",
   "execution_count": null,
   "metadata": {},
   "outputs": [],
   "source": []
  },
  {
   "cell_type": "code",
   "execution_count": null,
   "metadata": {},
   "outputs": [],
   "source": []
  },
  {
   "cell_type": "code",
   "execution_count": null,
   "metadata": {},
   "outputs": [],
   "source": []
  },
  {
   "cell_type": "code",
   "execution_count": null,
   "metadata": {},
   "outputs": [],
   "source": []
  },
  {
   "cell_type": "code",
   "execution_count": null,
   "metadata": {},
   "outputs": [],
   "source": []
  },
  {
   "cell_type": "code",
   "execution_count": null,
   "metadata": {},
   "outputs": [],
   "source": []
  },
  {
   "cell_type": "code",
   "execution_count": null,
   "metadata": {},
   "outputs": [],
   "source": []
  },
  {
   "cell_type": "code",
   "execution_count": null,
   "metadata": {},
   "outputs": [],
   "source": []
  },
  {
   "cell_type": "code",
   "execution_count": null,
   "metadata": {},
   "outputs": [],
   "source": []
  },
  {
   "cell_type": "code",
   "execution_count": null,
   "metadata": {},
   "outputs": [],
   "source": []
  },
  {
   "cell_type": "code",
   "execution_count": null,
   "metadata": {},
   "outputs": [],
   "source": []
  },
  {
   "cell_type": "code",
   "execution_count": null,
   "metadata": {},
   "outputs": [],
   "source": []
  },
  {
   "cell_type": "code",
   "execution_count": null,
   "metadata": {},
   "outputs": [],
   "source": []
  },
  {
   "cell_type": "code",
   "execution_count": null,
   "metadata": {},
   "outputs": [],
   "source": []
  },
  {
   "cell_type": "code",
   "execution_count": null,
   "metadata": {},
   "outputs": [],
   "source": []
  },
  {
   "cell_type": "code",
   "execution_count": null,
   "metadata": {},
   "outputs": [],
   "source": []
  },
  {
   "cell_type": "code",
   "execution_count": null,
   "metadata": {},
   "outputs": [],
   "source": []
  },
  {
   "cell_type": "code",
   "execution_count": null,
   "metadata": {},
   "outputs": [],
   "source": []
  },
  {
   "cell_type": "code",
   "execution_count": null,
   "metadata": {},
   "outputs": [],
   "source": []
  },
  {
   "cell_type": "code",
   "execution_count": null,
   "metadata": {},
   "outputs": [],
   "source": []
  },
  {
   "cell_type": "code",
   "execution_count": null,
   "metadata": {},
   "outputs": [],
   "source": []
  },
  {
   "cell_type": "code",
   "execution_count": null,
   "metadata": {},
   "outputs": [],
   "source": []
  },
  {
   "cell_type": "code",
   "execution_count": null,
   "metadata": {},
   "outputs": [],
   "source": []
  },
  {
   "cell_type": "code",
   "execution_count": null,
   "metadata": {},
   "outputs": [],
   "source": []
  },
  {
   "cell_type": "code",
   "execution_count": null,
   "metadata": {},
   "outputs": [],
   "source": []
  },
  {
   "cell_type": "code",
   "execution_count": null,
   "metadata": {},
   "outputs": [],
   "source": []
  },
  {
   "cell_type": "code",
   "execution_count": null,
   "metadata": {},
   "outputs": [],
   "source": []
  },
  {
   "cell_type": "code",
   "execution_count": null,
   "metadata": {},
   "outputs": [],
   "source": []
  },
  {
   "cell_type": "code",
   "execution_count": null,
   "metadata": {},
   "outputs": [],
   "source": []
  },
  {
   "cell_type": "code",
   "execution_count": null,
   "metadata": {},
   "outputs": [],
   "source": []
  },
  {
   "cell_type": "code",
   "execution_count": null,
   "metadata": {},
   "outputs": [],
   "source": []
  },
  {
   "cell_type": "code",
   "execution_count": null,
   "metadata": {},
   "outputs": [],
   "source": []
  }
 ],
 "metadata": {
  "kernelspec": {
   "display_name": "Python 3",
   "language": "python",
   "name": "python3"
  },
  "language_info": {
   "codemirror_mode": {
    "name": "ipython",
    "version": 3
   },
   "file_extension": ".py",
   "mimetype": "text/x-python",
   "name": "python",
   "nbconvert_exporter": "python",
   "pygments_lexer": "ipython3",
   "version": "3.11.2"
  }
 },
 "nbformat": 4,
 "nbformat_minor": 2
}
