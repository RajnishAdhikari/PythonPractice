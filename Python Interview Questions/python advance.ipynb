{
 "cells": [
  {
   "cell_type": "code",
   "execution_count": null,
   "metadata": {},
   "outputs": [],
   "source": [
    "# pass by value \n",
    "# immutable are pass by value \n",
    "\n",
    "\n",
    "\n",
    "\n",
    "# pass by reference \n",
    "# it make changes in the memory address \n",
    "# mutable are pass by reference "
   ]
  }
 ],
 "metadata": {
  "language_info": {
   "name": "python"
  }
 },
 "nbformat": 4,
 "nbformat_minor": 2
}
