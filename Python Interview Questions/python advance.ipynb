{
 "cells": [
  {
   "cell_type": "code",
   "execution_count": null,
   "metadata": {},
   "outputs": [],
   "source": [
    "# pass by value \n",
    "# immutable are pass by value \n",
    "\n",
    "\n",
    "\n",
    "\n",
    "# pass by reference \n",
    "# it make changes in the memory address \n",
    "# mutable are pass by reference "
   ]
  },
  {
   "cell_type": "code",
   "execution_count": null,
   "metadata": {},
   "outputs": [],
   "source": [
    "# split method \n",
    "# The split() method is used to split a string into a list of substrings based on a specified delimeter.\n",
    "\n",
    "# The method returns a list of substrings obtained by splitting the original string. \n",
    "\n",
    "\n",
    "sentence = \"this is sample sentence.\"\n",
    "words = sentence.split()\n",
    "print(words)\n",
    "\n",
    "\n",
    "\n",
    "\n",
    "# split returns answer in list "
   ]
  },
  {
   "cell_type": "code",
   "execution_count": null,
   "metadata": {},
   "outputs": [],
   "source": [
    "type(words[0])"
   ]
  },
  {
   "cell_type": "code",
   "execution_count": null,
   "metadata": {},
   "outputs": [],
   "source": [
    "# join() method \n",
    "\n",
    "# The join() method is used to concatenate a list of strings into a single string using a specified separator. \n",
    "\n",
    "\n",
    "words = ['this', 'is', 'sample', 'sentence.']\n",
    "sentence = ' '.join(words)\n",
    "\n",
    "print(sentence)"
   ]
  },
  {
   "cell_type": "code",
   "execution_count": null,
   "metadata": {},
   "outputs": [],
   "source": [
    "# return vs print vs yield\n",
    "\n",
    "# return\n",
    "# return is the last line of every functoin \n",
    "# after we write any code after return then the particualr code then it will not execute \n",
    "# return statement will respective data type \n",
    "\n",
    "\n",
    "# print \n",
    "# print statement will return none  type (no data type )\n",
    "\n",
    "# yield \n",
    "# it is used to make generator \n",
    "# range function is the example of generator \n",
    "# after we write sth after yeild then it will execute \n"
   ]
  },
  {
   "cell_type": "code",
   "execution_count": null,
   "metadata": {},
   "outputs": [],
   "source": [
    "# set and frozen set \n",
    "\n",
    "# set - set are mutable and do not strore duplicate value \n",
    "\n",
    "\n",
    "# frozen set - it has all the properties of set but only the thing is that (they are immutable )\n"
   ]
  },
  {
   "cell_type": "code",
   "execution_count": null,
   "metadata": {},
   "outputs": [],
   "source": [
    "# attribute error \n",
    "\n"
   ]
  },
  {
   "cell_type": "code",
   "execution_count": null,
   "metadata": {},
   "outputs": [],
   "source": [
    "# *args \n",
    "# full form is arguments \n",
    "# suppose we have function and we don't know how many arguments to pass then in this case we use *args\n",
    "\n",
    "\n",
    "def function_(*args):  # we can write anything in place of args \n",
    "    for i in args:\n",
    "        print(i)\n",
    "\n",
    "function_(1,2,3,4,5)\n",
    "\n",
    "\n"
   ]
  },
  {
   "cell_type": "code",
   "execution_count": null,
   "metadata": {},
   "outputs": [],
   "source": [
    "\n",
    "def function_(*argument):\n",
    "    for i in argument:\n",
    "        print(i)\n",
    "\n",
    "function_(1,2,3,4)"
   ]
  },
  {
   "cell_type": "code",
   "execution_count": null,
   "metadata": {},
   "outputs": [],
   "source": [
    "# **kwargs \n",
    "# full form is keyword arguments \n",
    "# if we want to pass unlimited value in dictonary then in this case we use kwargs\n",
    "\n",
    "def my_function(**kwargs):\n",
    "    for key, value in kwargs.items():\n",
    "        print(key, \":\", value )\n",
    "\n",
    "my_function(name = \"ram\", age = 44, city = \"kathmandu\")\n",
    "\n",
    "    \n",
    "\n",
    "\n"
   ]
  },
  {
   "cell_type": "code",
   "execution_count": null,
   "metadata": {},
   "outputs": [],
   "source": [
    "# append()\n",
    "# we use append with list \n",
    "# if we want to add one element in list then we use append()\n",
    "# It modifies the original list by adding the new element at the end\n",
    "\n",
    "my_list = [1,2]\n",
    "my_list.append(3)\n",
    "my_list"
   ]
  },
  {
   "cell_type": "code",
   "execution_count": null,
   "metadata": {},
   "outputs": [],
   "source": [
    "# insert() \n",
    "# if we want to add in particular position in list then we can use insert \n",
    "our_list = [1,2]\n",
    "our_list.insert(2,9)\n",
    "our_list\n"
   ]
  },
  {
   "cell_type": "code",
   "execution_count": null,
   "metadata": {},
   "outputs": [],
   "source": [
    "# extend()\n",
    "# if we want to add more than one element in the list at last then in this case we can use list \n",
    "# here we can pass list or tuple in list itself \n",
    "\n",
    "a = [1,2]\n",
    "a.extend([3,4,4,5,6])\n",
    "print(a)"
   ]
  },
  {
   "cell_type": "code",
   "execution_count": null,
   "metadata": {},
   "outputs": [],
   "source": [
    "# ways to delete element from the list \n",
    "\n",
    "# using del - deletes the element at particular given index \n",
    "l = [1,2,3,4,5,6]\n",
    "del l[2]\n",
    "print(l)"
   ]
  },
  {
   "cell_type": "code",
   "execution_count": null,
   "metadata": {},
   "outputs": [],
   "source": [
    "# using removes - removes the first occurance of 3 from the list \n",
    "l = [1,2,3,4,5,6]\n",
    "l.remove(3)\n",
    "print(l)"
   ]
  },
  {
   "cell_type": "code",
   "execution_count": null,
   "metadata": {},
   "outputs": [],
   "source": [
    "# using pop - it will delete the last element from the list \n",
    "# using del - deletes the element at particular given index \n",
    "l = [1,2,3,4,5,6]\n",
    "l.pop()\n",
    "print(l)"
   ]
  },
  {
   "cell_type": "code",
   "execution_count": null,
   "metadata": {},
   "outputs": [],
   "source": [
    "# deleting the entire list \n",
    "# using del - deletes the element at particular given index \n",
    "l = [1,2,3,4,5,6]\n",
    "del l \n",
    "print(l)"
   ]
  },
  {
   "cell_type": "code",
   "execution_count": null,
   "metadata": {},
   "outputs": [],
   "source": [
    "# Checking if element is present in the list or not \n",
    "\n",
    "l = [1,2,3,4,5,6]\n",
    "\n",
    "element = 7\n",
    "\n",
    "if element in l:\n",
    "    print(f\"The element {element} is present in the list.\")\n",
    "\n",
    "else:\n",
    "    print(f\"The element {element} is not present in the list.\")"
   ]
  },
  {
   "cell_type": "code",
   "execution_count": null,
   "metadata": {},
   "outputs": [],
   "source": [
    "# Checking if element is present in the list or not \n",
    "\n",
    "l = [1,2,3,4,5,6]\n",
    "\n",
    "element = 6\n",
    "\n",
    "if element in l:\n",
    "    print(f\"The element {element} is present in the list.\")\n",
    "\n",
    "else:\n",
    "    print(f\"The element {element} is not present in the list.\")"
   ]
  },
  {
   "cell_type": "code",
   "execution_count": null,
   "metadata": {},
   "outputs": [],
   "source": [
    "# pop vs remove \n",
    "l = [1,2,3,4,5,6]\n",
    "removed_element = l.pop(2)  # removes and returns the element at index 2 and value 3 \n",
    "\n",
    "# if not mentioned the index then it will delete the last element \n",
    "\n",
    "print(removed_element)\n",
    "print(l)\n",
    "\n",
    "removed_element2 = l.pop()  # it will remove last element from the list \n",
    "\n",
    "print(removed_element2)"
   ]
  },
  {
   "cell_type": "code",
   "execution_count": null,
   "metadata": {},
   "outputs": [],
   "source": [
    "a = 1\n",
    "b = 2\n",
    "c = 3\n",
    "\n",
    "a = b\n",
    "b = c\n",
    "c = a\n",
    "\n",
    "print(a,b,c)"
   ]
  },
  {
   "cell_type": "code",
   "execution_count": 11,
   "metadata": {},
   "outputs": [
    {
     "name": "stdout",
     "output_type": "stream",
     "text": [
      "2\n",
      "-1\n"
     ]
    }
   ],
   "source": [
    "# string    find()   and index \n",
    "\n",
    "# find(): it will return index if value is present and if value is not present then -1 will be returned\n",
    "\n",
    "\n",
    "s = \"This is a sample sentence\"\n",
    "index1 = s.find(\"is\")\n",
    "index2 = s.find(\"not\")\n",
    "\n",
    "print(index1)\n",
    "print(index2)"
   ]
  },
  {
   "cell_type": "code",
   "execution_count": 12,
   "metadata": {},
   "outputs": [
    {
     "name": "stdout",
     "output_type": "stream",
     "text": [
      "8\n",
      "-1\n"
     ]
    }
   ],
   "source": [
    "\n",
    "s = \"This is a sample sentence\"\n",
    "index1 = s.find(\"a\")\n",
    "index2 = s.find(\"not\")\n",
    "\n",
    "print(index1)\n",
    "print(index2)"
   ]
  },
  {
   "cell_type": "code",
   "execution_count": 13,
   "metadata": {},
   "outputs": [
    {
     "name": "stdout",
     "output_type": "stream",
     "text": [
      "17\n",
      "-1\n"
     ]
    }
   ],
   "source": [
    "s = \"This is a sample sentence\"\n",
    "index1 = s.find(\"sentence\")\n",
    "index2 = s.find(\"not\")\n",
    "\n",
    "print(index1)\n",
    "print(index2)"
   ]
  },
  {
   "cell_type": "code",
   "execution_count": 8,
   "metadata": {},
   "outputs": [
    {
     "ename": "ValueError",
     "evalue": "substring not found",
     "output_type": "error",
     "traceback": [
      "\u001b[1;31m---------------------------------------------------------------------------\u001b[0m",
      "\u001b[1;31mValueError\u001b[0m                                Traceback (most recent call last)",
      "Cell \u001b[1;32mIn[8], line 6\u001b[0m\n\u001b[0;32m      4\u001b[0m s \u001b[38;5;241m=\u001b[39m \u001b[38;5;124m\"\u001b[39m\u001b[38;5;124mThis is a sample sentence\u001b[39m\u001b[38;5;124m\"\u001b[39m\n\u001b[0;32m      5\u001b[0m index1 \u001b[38;5;241m=\u001b[39m s\u001b[38;5;241m.\u001b[39mindex(\u001b[38;5;124m\"\u001b[39m\u001b[38;5;124mis\u001b[39m\u001b[38;5;124m\"\u001b[39m)\n\u001b[1;32m----> 6\u001b[0m index2 \u001b[38;5;241m=\u001b[39m \u001b[43ms\u001b[49m\u001b[38;5;241;43m.\u001b[39;49m\u001b[43mindex\u001b[49m\u001b[43m(\u001b[49m\u001b[38;5;124;43m\"\u001b[39;49m\u001b[38;5;124;43mnot\u001b[39;49m\u001b[38;5;124;43m\"\u001b[39;49m\u001b[43m)\u001b[49m\n\u001b[0;32m      8\u001b[0m \u001b[38;5;28mprint\u001b[39m(index1)\n\u001b[0;32m      9\u001b[0m \u001b[38;5;66;03m# print(index2)\u001b[39;00m\n",
      "\u001b[1;31mValueError\u001b[0m: substring not found"
     ]
    }
   ],
   "source": [
    "# index(): if value is present then index will be returned and if value is not presnet then value error will be returned \n",
    "\n",
    "\n",
    "s = \"This is a sample sentence\"\n",
    "index1 = s.index(\"is\")\n",
    "index2 = s.index(\"not\")\n",
    "\n",
    "print(index1)\n",
    "# print(index2)"
   ]
  },
  {
   "cell_type": "code",
   "execution_count": 15,
   "metadata": {},
   "outputs": [
    {
     "name": "stdout",
     "output_type": "stream",
     "text": [
      "{'d': 1, 'b': 2, 'a': 5, 'c': 8}\n"
     ]
    }
   ],
   "source": [
    "# sort dictonary using values \n",
    "\n",
    "d = {'a' : 5, 'b' : 2, 'c' : 8, 'd' : 1}\n",
    "\n",
    "sorted_dict = dict(sorted(d.items(),key=lambda item: item[1]))\n",
    "\n",
    "print(sorted_dict)"
   ]
  },
  {
   "cell_type": "code",
   "execution_count": 16,
   "metadata": {},
   "outputs": [
    {
     "name": "stdout",
     "output_type": "stream",
     "text": [
      "{'a': 1, 'b': 2, 'c': 3}\n"
     ]
    }
   ],
   "source": [
    "# adding 1 values in dictonary \n",
    "dict1 = {'a':1, 'b':2}\n",
    "dict1['c'] = 3\n",
    "print(dict1)"
   ]
  },
  {
   "cell_type": "code",
   "execution_count": 17,
   "metadata": {},
   "outputs": [
    {
     "name": "stdout",
     "output_type": "stream",
     "text": [
      "{'a': 1, 'b': 2, 'c': 3, 'd': 4, 'e': 5}\n"
     ]
    }
   ],
   "source": [
    "# adding 2 or more then 2 values in dictonary \n",
    "dict1 = {'a':1, 'b':2}\n",
    "dict2 = {'c':3, 'd':4, 'e':5}\n",
    "dict1.update(dict2)\n",
    "print(dict1)"
   ]
  },
  {
   "cell_type": "code",
   "execution_count": 18,
   "metadata": {},
   "outputs": [
    {
     "name": "stdout",
     "output_type": "stream",
     "text": [
      "{'a': 1, 'b': 2, 'c': 3, 'd': 4}\n"
     ]
    }
   ],
   "source": [
    "# adding 2 or more then 2 values in dictonary \n",
    "dict1 = {'a':1, 'b':2}\n",
    "dict2 = {'c':3, 'd':4}\n",
    "dict1.update(dict2)   # this is called merging of the dictonary \n",
    "print(dict1)"
   ]
  },
  {
   "cell_type": "code",
   "execution_count": 20,
   "metadata": {},
   "outputs": [
    {
     "name": "stdout",
     "output_type": "stream",
     "text": [
      "{'a': 1, 'b': 2, ('c', 'd'): (3, 4)}\n"
     ]
    }
   ],
   "source": [
    "# this is not what we want \n",
    "\n",
    "dicto = {'a':1, 'b':2}\n",
    "\n",
    "dicto['c', 'd'] = 3, 4\n",
    "print(dicto)"
   ]
  },
  {
   "cell_type": "code",
   "execution_count": 21,
   "metadata": {},
   "outputs": [
    {
     "ename": "NameError",
     "evalue": "name 'dicto' is not defined",
     "output_type": "error",
     "traceback": [
      "\u001b[1;31m---------------------------------------------------------------------------\u001b[0m",
      "\u001b[1;31mNameError\u001b[0m                                 Traceback (most recent call last)",
      "Cell \u001b[1;32mIn[21], line 6\u001b[0m\n\u001b[0;32m      3\u001b[0m dicto \u001b[38;5;241m=\u001b[39m {\u001b[38;5;124m'\u001b[39m\u001b[38;5;124ma\u001b[39m\u001b[38;5;124m'\u001b[39m:\u001b[38;5;241m1\u001b[39m, \u001b[38;5;124m'\u001b[39m\u001b[38;5;124mb\u001b[39m\u001b[38;5;124m'\u001b[39m:\u001b[38;5;241m2\u001b[39m}\n\u001b[0;32m      5\u001b[0m \u001b[38;5;28;01mdel\u001b[39;00m dicto\n\u001b[1;32m----> 6\u001b[0m \u001b[38;5;28mprint\u001b[39m(\u001b[43mdicto\u001b[49m)\n",
      "\u001b[1;31mNameError\u001b[0m: name 'dicto' is not defined"
     ]
    }
   ],
   "source": [
    "# to delete all dictionary then we will use del \n",
    "\n",
    "dicto = {'a':1, 'b':2}\n",
    "\n",
    "del dicto\n",
    "print(dicto)"
   ]
  },
  {
   "cell_type": "code",
   "execution_count": 22,
   "metadata": {},
   "outputs": [
    {
     "name": "stdout",
     "output_type": "stream",
     "text": [
      "{'b': 2}\n"
     ]
    }
   ],
   "source": [
    "# using the del keyword to remove a specific key-value pair \n",
    "\n",
    "dicto = {'a':1, 'b':2}\n",
    "\n",
    "del dicto['a']\n",
    "print(dicto)"
   ]
  },
  {
   "cell_type": "code",
   "execution_count": 24,
   "metadata": {},
   "outputs": [
    {
     "name": "stdout",
     "output_type": "stream",
     "text": [
      "The removed value is 2 \n",
      "{'a': 1}\n"
     ]
    }
   ],
   "source": [
    "# using the pop() method to remove a specific key-value pair \n",
    "\n",
    "dicto = {'a':1, 'b':2}\n",
    "\n",
    "removed_value = dicto.pop('b')\n",
    "print(f\"The removed value is {removed_value} \")\n",
    "print(dicto)"
   ]
  },
  {
   "cell_type": "code",
   "execution_count": null,
   "metadata": {},
   "outputs": [],
   "source": [
    "# in dictionary index means key "
   ]
  },
  {
   "cell_type": "code",
   "execution_count": 27,
   "metadata": {},
   "outputs": [
    {
     "name": "stdout",
     "output_type": "stream",
     "text": [
      "Removed item: ('d', 4)\n",
      "After using popitem() we have the following dictionary: {'a': 1, 'b': 2, 'c': 3}\n"
     ]
    }
   ],
   "source": [
    "# Method 3: using the popitem() method to remove an arbitary key-value pair \n",
    "\n",
    "dicto = {'a':1, 'b':2, 'c':3, 'd':4}\n",
    "\n",
    "removed_item = dicto.popitem()  # it will delete the last key value pair \n",
    "print(f\"Removed item: {removed_item}\")\n",
    "\n",
    "print(f\"After using popitem() we have the following dictionary: {dicto}\")"
   ]
  },
  {
   "cell_type": "code",
   "execution_count": 28,
   "metadata": {},
   "outputs": [
    {
     "name": "stdout",
     "output_type": "stream",
     "text": [
      "{}\n"
     ]
    }
   ],
   "source": [
    "# Method 4: Using the clear() method to remove all key-value pairs\n",
    "\n",
    "\n",
    "dicto = {'a':1, 'b':2, 'c':3, 'd':4}\n",
    "\n",
    "dicto.clear()\n",
    "print(dicto)"
   ]
  },
  {
   "cell_type": "code",
   "execution_count": null,
   "metadata": {},
   "outputs": [],
   "source": [
    "# Iterate : returning or printing element one by one \n",
    "\n",
    "# In for loop we iterate "
   ]
  },
  {
   "cell_type": "code",
   "execution_count": null,
   "metadata": {},
   "outputs": [],
   "source": [
    "# Iteration: The process of returning or printing elements one by one is known as iteration "
   ]
  },
  {
   "cell_type": "code",
   "execution_count": null,
   "metadata": {},
   "outputs": [],
   "source": [
    "# Iterable: This is the property of list and from this we can print or return element from one by one this is known as iterable.\n",
    "# List, Set, Dictonary, Array, String, Tuple all are iterable \n",
    "\n"
   ]
  },
  {
   "cell_type": "code",
   "execution_count": null,
   "metadata": {},
   "outputs": [],
   "source": [
    "# Iterator: after using iter() method, a list becomes iterator \n",
    "\n",
    "# list ma iter() function use gare paxi iterator hunxa \n",
    "\n",
    "# for eg: \n",
    "my_list = [1,2,3,4,5]\n",
    "my_iter = iter(my_list)\n",
    "\n",
    "# not it is iterator "
   ]
  },
  {
   "cell_type": "code",
   "execution_count": 30,
   "metadata": {},
   "outputs": [
    {
     "name": "stdout",
     "output_type": "stream",
     "text": [
      "1\n",
      "2\n",
      "3\n",
      "4\n",
      "5\n"
     ]
    },
    {
     "ename": "StopIteration",
     "evalue": "",
     "output_type": "error",
     "traceback": [
      "\u001b[1;31m---------------------------------------------------------------------------\u001b[0m",
      "\u001b[1;31mStopIteration\u001b[0m                             Traceback (most recent call last)",
      "Cell \u001b[1;32mIn[30], line 9\u001b[0m\n\u001b[0;32m      7\u001b[0m \u001b[38;5;28mprint\u001b[39m(\u001b[38;5;28mnext\u001b[39m(my_iter))\n\u001b[0;32m      8\u001b[0m \u001b[38;5;28mprint\u001b[39m(\u001b[38;5;28mnext\u001b[39m(my_iter))\n\u001b[1;32m----> 9\u001b[0m \u001b[38;5;28mprint\u001b[39m(\u001b[38;5;28;43mnext\u001b[39;49m\u001b[43m(\u001b[49m\u001b[43mmy_iter\u001b[49m\u001b[43m)\u001b[49m)\n\u001b[0;32m     10\u001b[0m \u001b[38;5;28mprint\u001b[39m(\u001b[38;5;28mnext\u001b[39m(my_iter))\n",
      "\u001b[1;31mStopIteration\u001b[0m: "
     ]
    }
   ],
   "source": [
    "my_list = [1,2,3,4,5]\n",
    "my_iter = iter(my_list)\n",
    "\n",
    "print(next(my_iter))\n",
    "print(next(my_iter))\n",
    "print(next(my_iter))\n",
    "print(next(my_iter))\n",
    "print(next(my_iter))\n",
    "\n",
    "\n",
    "\n",
    "#  for loop use the concept of iterator \n"
   ]
  },
  {
   "cell_type": "code",
   "execution_count": null,
   "metadata": {},
   "outputs": [],
   "source": [
    "# Generators \n",
    "\n",
    "# it has yeild keyword \n",
    "# after using yield keyword we cannot return code \n",
    "# it will return each value one by one \n",
    "# we can iterate generator using loop\n",
    "# we can save memory using generator \n"
   ]
  },
  {
   "cell_type": "code",
   "execution_count": 31,
   "metadata": {},
   "outputs": [
    {
     "name": "stdout",
     "output_type": "stream",
     "text": [
      "Something is happening before the function is called.\n",
      "Hello!\n",
      "Something is happening after the function is called.\n"
     ]
    }
   ],
   "source": [
    "# Decorators \n",
    "# Decorators in Python are a powerful tool that allows you to modify the behavior of a function or a method. \n",
    "\n",
    "\n",
    "\n",
    "def my_decorator(func):\n",
    "    def wrapper():\n",
    "        print(\"Something is happening before the function is called.\")\n",
    "        func()\n",
    "        print(\"Something is happening after the function is called.\")\n",
    "    return wrapper\n",
    "\n",
    "@my_decorator\n",
    "def say_hello():\n",
    "    print(\"Hello!\")\n",
    "\n",
    "# Calling the function\n",
    "say_hello()\n",
    "\n"
   ]
  },
  {
   "cell_type": "code",
   "execution_count": null,
   "metadata": {},
   "outputs": [],
   "source": []
  },
  {
   "cell_type": "code",
   "execution_count": null,
   "metadata": {},
   "outputs": [],
   "source": []
  },
  {
   "cell_type": "code",
   "execution_count": null,
   "metadata": {},
   "outputs": [],
   "source": []
  },
  {
   "cell_type": "code",
   "execution_count": null,
   "metadata": {},
   "outputs": [],
   "source": []
  },
  {
   "cell_type": "code",
   "execution_count": null,
   "metadata": {},
   "outputs": [],
   "source": []
  },
  {
   "cell_type": "code",
   "execution_count": null,
   "metadata": {},
   "outputs": [],
   "source": []
  }
 ],
 "metadata": {
  "kernelspec": {
   "display_name": "Python 3",
   "language": "python",
   "name": "python3"
  },
  "language_info": {
   "codemirror_mode": {
    "name": "ipython",
    "version": 3
   },
   "file_extension": ".py",
   "mimetype": "text/x-python",
   "name": "python",
   "nbconvert_exporter": "python",
   "pygments_lexer": "ipython3",
   "version": "3.11.2"
  }
 },
 "nbformat": 4,
 "nbformat_minor": 2
}
