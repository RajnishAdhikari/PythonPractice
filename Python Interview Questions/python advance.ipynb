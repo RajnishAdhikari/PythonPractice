{
 "cells": [
  {
   "cell_type": "code",
   "execution_count": null,
   "metadata": {},
   "outputs": [],
   "source": [
    "# pass by value \n",
    "# immutable are pass by value \n",
    "\n",
    "\n",
    "\n",
    "\n",
    "# pass by reference \n",
    "# it make changes in the memory address \n",
    "# mutable are pass by reference "
   ]
  },
  {
   "cell_type": "code",
   "execution_count": 1,
   "metadata": {},
   "outputs": [
    {
     "name": "stdout",
     "output_type": "stream",
     "text": [
      "['this', 'is', 'sample', 'sentence.']\n"
     ]
    }
   ],
   "source": [
    "# split method \n",
    "# The split() method is used to split a string into a list of substrings based on a specified delimeter.\n",
    "\n",
    "# The method returns a list of substrings obtained by splitting the original string. \n",
    "\n",
    "\n",
    "sentence = \"this is sample sentence.\"\n",
    "words = sentence.split()\n",
    "print(words)\n",
    "\n",
    "\n",
    "\n",
    "\n",
    "# split returns answer in list "
   ]
  },
  {
   "cell_type": "code",
   "execution_count": 3,
   "metadata": {},
   "outputs": [
    {
     "data": {
      "text/plain": [
       "str"
      ]
     },
     "execution_count": 3,
     "metadata": {},
     "output_type": "execute_result"
    }
   ],
   "source": [
    "type(words[0])"
   ]
  },
  {
   "cell_type": "code",
   "execution_count": 7,
   "metadata": {},
   "outputs": [
    {
     "name": "stdout",
     "output_type": "stream",
     "text": [
      "this is sample sentence.\n"
     ]
    }
   ],
   "source": [
    "# join() method \n",
    "\n",
    "# The join() method is used to concatenate a list of strings into a single string using a specified separator. \n",
    "\n",
    "\n",
    "words = ['this', 'is', 'sample', 'sentence.']\n",
    "sentence = ' '.join(words)\n",
    "\n",
    "print(sentence)"
   ]
  },
  {
   "cell_type": "code",
   "execution_count": null,
   "metadata": {},
   "outputs": [],
   "source": [
    "# return vs print vs yield\n",
    "\n",
    "# return\n",
    "# return is the last line of every functoin \n",
    "# after we write any code after return then the particualr code then it will not execute \n",
    "# return statement will respective data type \n",
    "\n",
    "\n",
    "# print \n",
    "# print statement will return none  type (no data type )\n",
    "\n",
    "# yield \n",
    "# it is used to make generator \n",
    "# range function is the example of generator \n",
    "# after we write sth after yeild then it will execute \n"
   ]
  },
  {
   "cell_type": "code",
   "execution_count": null,
   "metadata": {},
   "outputs": [],
   "source": [
    "# set and frozen set \n",
    "\n",
    "# set - set are mutable and do not strore duplicate value \n",
    "\n",
    "\n",
    "# frozen set - it has all the properties of set but only the thing is that (they are immutable )\n"
   ]
  },
  {
   "cell_type": "code",
   "execution_count": null,
   "metadata": {},
   "outputs": [],
   "source": [
    "# attribute error \n",
    "\n"
   ]
  },
  {
   "cell_type": "code",
   "execution_count": 9,
   "metadata": {},
   "outputs": [
    {
     "name": "stdout",
     "output_type": "stream",
     "text": [
      "1\n",
      "2\n",
      "3\n",
      "4\n",
      "5\n"
     ]
    }
   ],
   "source": [
    "# *args \n",
    "# full form is arguments \n",
    "# suppose we have function and we don't know how many arguments to pass then in this case we use *args\n",
    "\n",
    "\n",
    "def function_(*args):  # we can write anything in place of args \n",
    "    for i in args:\n",
    "        print(i)\n",
    "\n",
    "function_(1,2,3,4,5)\n",
    "\n",
    "\n"
   ]
  },
  {
   "cell_type": "code",
   "execution_count": 11,
   "metadata": {},
   "outputs": [
    {
     "name": "stdout",
     "output_type": "stream",
     "text": [
      "1\n",
      "2\n",
      "3\n",
      "4\n"
     ]
    }
   ],
   "source": [
    "\n",
    "def function_(*argument):\n",
    "    for i in argument:\n",
    "        print(i)\n",
    "\n",
    "function_(1,2,3,4)"
   ]
  },
  {
   "cell_type": "code",
   "execution_count": 13,
   "metadata": {},
   "outputs": [
    {
     "name": "stdout",
     "output_type": "stream",
     "text": [
      "name : ram\n",
      "age : 44\n",
      "city : kathmandu\n"
     ]
    }
   ],
   "source": [
    "# **kwargs \n",
    "# full form is keyword arguments \n",
    "# if we want to pass unlimited value in dictonary then in this case we use kwargs\n",
    "\n",
    "def my_function(**kwargs):\n",
    "    for key, value in kwargs.items():\n",
    "        print(key, \":\", value )\n",
    "\n",
    "my_function(name = \"ram\", age = 44, city = \"kathmandu\")\n",
    "\n",
    "    \n",
    "\n",
    "\n"
   ]
  },
  {
   "cell_type": "code",
   "execution_count": 21,
   "metadata": {},
   "outputs": [
    {
     "data": {
      "text/plain": [
       "[1, 2, 3]"
      ]
     },
     "execution_count": 21,
     "metadata": {},
     "output_type": "execute_result"
    }
   ],
   "source": [
    "# append()\n",
    "# we use append with list \n",
    "# if we want to add one element in list then we use append()\n",
    "# It modifies the original list by adding the new element at the end\n",
    "\n",
    "my_list = [1,2]\n",
    "my_list.append(3)\n",
    "my_list"
   ]
  },
  {
   "cell_type": "code",
   "execution_count": 28,
   "metadata": {},
   "outputs": [
    {
     "data": {
      "text/plain": [
       "[1, 2, 9]"
      ]
     },
     "execution_count": 28,
     "metadata": {},
     "output_type": "execute_result"
    }
   ],
   "source": [
    "# insert() \n",
    "# if we want to add in particular position in list then we can use insert \n",
    "our_list = [1,2]\n",
    "our_list.insert(2,9)\n",
    "our_list\n"
   ]
  },
  {
   "cell_type": "code",
   "execution_count": 29,
   "metadata": {},
   "outputs": [
    {
     "name": "stdout",
     "output_type": "stream",
     "text": [
      "[1, 2, 3, 4, 4, 5, 6]\n"
     ]
    }
   ],
   "source": [
    "# extend()\n",
    "# if we want to add more than one element in the list at last then in this case we can use list \n",
    "# here we can pass list or tuple in list itself \n",
    "\n",
    "a = [1,2]\n",
    "a.extend([3,4,4,5,6])\n",
    "print(a)"
   ]
  },
  {
   "cell_type": "code",
   "execution_count": 1,
   "metadata": {},
   "outputs": [
    {
     "name": "stdout",
     "output_type": "stream",
     "text": [
      "[1, 2, 4, 5, 6]\n"
     ]
    }
   ],
   "source": [
    "# ways to delete element from the list \n",
    "\n",
    "# using del - deletes the element at particular given index \n",
    "l = [1,2,3,4,5,6]\n",
    "del l[2]\n",
    "print(l)"
   ]
  },
  {
   "cell_type": "code",
   "execution_count": 2,
   "metadata": {},
   "outputs": [
    {
     "name": "stdout",
     "output_type": "stream",
     "text": [
      "[1, 2, 4, 5, 6]\n"
     ]
    }
   ],
   "source": [
    "# using removes - removes the first occurance of 3 from the list \n",
    "l = [1,2,3,4,5,6]\n",
    "l.remove(3)\n",
    "print(l)"
   ]
  },
  {
   "cell_type": "code",
   "execution_count": 3,
   "metadata": {},
   "outputs": [
    {
     "name": "stdout",
     "output_type": "stream",
     "text": [
      "[1, 2, 3, 4, 5]\n"
     ]
    }
   ],
   "source": [
    "# using pop - it will delete the last element from the list \n",
    "# using del - deletes the element at particular given index \n",
    "l = [1,2,3,4,5,6]\n",
    "l.pop()\n",
    "print(l)"
   ]
  },
  {
   "cell_type": "code",
   "execution_count": 4,
   "metadata": {},
   "outputs": [
    {
     "ename": "NameError",
     "evalue": "name 'l' is not defined",
     "output_type": "error",
     "traceback": [
      "\u001b[1;31m---------------------------------------------------------------------------\u001b[0m",
      "\u001b[1;31mNameError\u001b[0m                                 Traceback (most recent call last)",
      "Cell \u001b[1;32mIn[4], line 5\u001b[0m\n\u001b[0;32m      3\u001b[0m l \u001b[38;5;241m=\u001b[39m [\u001b[38;5;241m1\u001b[39m,\u001b[38;5;241m2\u001b[39m,\u001b[38;5;241m3\u001b[39m,\u001b[38;5;241m4\u001b[39m,\u001b[38;5;241m5\u001b[39m,\u001b[38;5;241m6\u001b[39m]\n\u001b[0;32m      4\u001b[0m \u001b[38;5;28;01mdel\u001b[39;00m l \n\u001b[1;32m----> 5\u001b[0m \u001b[38;5;28mprint\u001b[39m(\u001b[43ml\u001b[49m)\n",
      "\u001b[1;31mNameError\u001b[0m: name 'l' is not defined"
     ]
    }
   ],
   "source": [
    "# deleting the entire list \n",
    "# using del - deletes the element at particular given index \n",
    "l = [1,2,3,4,5,6]\n",
    "del l \n",
    "print(l)"
   ]
  },
  {
   "cell_type": "code",
   "execution_count": 5,
   "metadata": {},
   "outputs": [
    {
     "name": "stdout",
     "output_type": "stream",
     "text": [
      "The element 7 is not present in the list.\n"
     ]
    }
   ],
   "source": [
    "# Checking if element is present in the list or not \n",
    "\n",
    "l = [1,2,3,4,5,6]\n",
    "\n",
    "element = 7\n",
    "\n",
    "if element in l:\n",
    "    print(f\"The element {element} is present in the list.\")\n",
    "\n",
    "else:\n",
    "    print(f\"The element {element} is not present in the list.\")"
   ]
  },
  {
   "cell_type": "code",
   "execution_count": 7,
   "metadata": {},
   "outputs": [
    {
     "name": "stdout",
     "output_type": "stream",
     "text": [
      "The element 6 is present in the list.\n"
     ]
    }
   ],
   "source": [
    "# Checking if element is present in the list or not \n",
    "\n",
    "l = [1,2,3,4,5,6]\n",
    "\n",
    "element = 6\n",
    "\n",
    "if element in l:\n",
    "    print(f\"The element {element} is present in the list.\")\n",
    "\n",
    "else:\n",
    "    print(f\"The element {element} is not present in the list.\")"
   ]
  },
  {
   "cell_type": "code",
   "execution_count": null,
   "metadata": {},
   "outputs": [],
   "source": []
  },
  {
   "cell_type": "code",
   "execution_count": null,
   "metadata": {},
   "outputs": [],
   "source": []
  },
  {
   "cell_type": "code",
   "execution_count": null,
   "metadata": {},
   "outputs": [],
   "source": []
  },
  {
   "cell_type": "code",
   "execution_count": null,
   "metadata": {},
   "outputs": [],
   "source": []
  },
  {
   "cell_type": "code",
   "execution_count": null,
   "metadata": {},
   "outputs": [],
   "source": []
  },
  {
   "cell_type": "code",
   "execution_count": null,
   "metadata": {},
   "outputs": [],
   "source": []
  },
  {
   "cell_type": "code",
   "execution_count": null,
   "metadata": {},
   "outputs": [],
   "source": []
  },
  {
   "cell_type": "code",
   "execution_count": null,
   "metadata": {},
   "outputs": [],
   "source": []
  },
  {
   "cell_type": "code",
   "execution_count": null,
   "metadata": {},
   "outputs": [],
   "source": []
  },
  {
   "cell_type": "code",
   "execution_count": null,
   "metadata": {},
   "outputs": [],
   "source": []
  },
  {
   "cell_type": "code",
   "execution_count": null,
   "metadata": {},
   "outputs": [],
   "source": []
  },
  {
   "cell_type": "code",
   "execution_count": null,
   "metadata": {},
   "outputs": [],
   "source": []
  },
  {
   "cell_type": "code",
   "execution_count": null,
   "metadata": {},
   "outputs": [],
   "source": []
  },
  {
   "cell_type": "code",
   "execution_count": null,
   "metadata": {},
   "outputs": [],
   "source": []
  },
  {
   "cell_type": "code",
   "execution_count": null,
   "metadata": {},
   "outputs": [],
   "source": []
  },
  {
   "cell_type": "code",
   "execution_count": null,
   "metadata": {},
   "outputs": [],
   "source": []
  },
  {
   "cell_type": "code",
   "execution_count": null,
   "metadata": {},
   "outputs": [],
   "source": []
  },
  {
   "cell_type": "code",
   "execution_count": null,
   "metadata": {},
   "outputs": [],
   "source": []
  },
  {
   "cell_type": "code",
   "execution_count": null,
   "metadata": {},
   "outputs": [],
   "source": []
  },
  {
   "cell_type": "code",
   "execution_count": null,
   "metadata": {},
   "outputs": [],
   "source": []
  },
  {
   "cell_type": "code",
   "execution_count": null,
   "metadata": {},
   "outputs": [],
   "source": []
  },
  {
   "cell_type": "code",
   "execution_count": null,
   "metadata": {},
   "outputs": [],
   "source": []
  },
  {
   "cell_type": "code",
   "execution_count": null,
   "metadata": {},
   "outputs": [],
   "source": []
  },
  {
   "cell_type": "code",
   "execution_count": null,
   "metadata": {},
   "outputs": [],
   "source": []
  },
  {
   "cell_type": "code",
   "execution_count": null,
   "metadata": {},
   "outputs": [],
   "source": []
  },
  {
   "cell_type": "code",
   "execution_count": null,
   "metadata": {},
   "outputs": [],
   "source": []
  },
  {
   "cell_type": "code",
   "execution_count": null,
   "metadata": {},
   "outputs": [],
   "source": []
  },
  {
   "cell_type": "code",
   "execution_count": null,
   "metadata": {},
   "outputs": [],
   "source": []
  },
  {
   "cell_type": "code",
   "execution_count": null,
   "metadata": {},
   "outputs": [],
   "source": []
  }
 ],
 "metadata": {
  "kernelspec": {
   "display_name": "Python 3",
   "language": "python",
   "name": "python3"
  },
  "language_info": {
   "codemirror_mode": {
    "name": "ipython",
    "version": 3
   },
   "file_extension": ".py",
   "mimetype": "text/x-python",
   "name": "python",
   "nbconvert_exporter": "python",
   "pygments_lexer": "ipython3",
   "version": "3.11.2"
  }
 },
 "nbformat": 4,
 "nbformat_minor": 2
}
