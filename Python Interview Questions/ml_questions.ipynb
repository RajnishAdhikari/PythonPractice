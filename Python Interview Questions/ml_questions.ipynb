{
 "cells": [
  {
   "cell_type": "code",
   "execution_count": null,
   "metadata": {},
   "outputs": [],
   "source": [
    "# Type 1 Error : Actual True but Models Prediction Fasle    (fasle positive)\n",
    "#  we reject the null hypothesis but in reality it is True \n",
    "\n",
    "# Null hypothesis means prediction\n",
    "\n",
    "\n",
    "# Type 2 Error : Actual False But Models Prediction also false   this is also called fasle negative "
   ]
  }
 ],
 "metadata": {
  "language_info": {
   "name": "python"
  }
 },
 "nbformat": 4,
 "nbformat_minor": 2
}
