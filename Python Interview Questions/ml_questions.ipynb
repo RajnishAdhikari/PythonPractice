{
 "cells": [
  {
   "cell_type": "code",
   "execution_count": null,
   "metadata": {},
   "outputs": [],
   "source": [
    "# Type 1 Error : Actual false but Models Prediction true    (fasle positive)\n",
    "#  we reject the null hypothesis but in reality it is True \n",
    "\n",
    "# Null hypothesis means prediction\n",
    "\n",
    "\n",
    "# Type 2 Error : Actual true But Models Prediction false   this is also called fasle negative \n",
    "# we fail to reject the null hypothesis but in reality it is fasle "
   ]
  },
  {
   "cell_type": "code",
   "execution_count": null,
   "metadata": {},
   "outputs": [],
   "source": [
    "# if there is outlier in dataset then we use lasso regression otherwise we use ridge regression "
   ]
  },
  {
   "cell_type": "code",
   "execution_count": null,
   "metadata": {},
   "outputs": [],
   "source": []
  }
 ],
 "metadata": {
  "language_info": {
   "name": "python"
  }
 },
 "nbformat": 4,
 "nbformat_minor": 2
}
