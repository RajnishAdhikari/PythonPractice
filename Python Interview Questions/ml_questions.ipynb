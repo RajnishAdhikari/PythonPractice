{
 "cells": [
  {
   "cell_type": "code",
   "execution_count": null,
   "metadata": {},
   "outputs": [],
   "source": [
    "# Type 1 Error : Actual false but Models Prediction true    (fasle positive)\n",
    "#  we reject the null hypothesis but in reality it is True \n",
    "\n",
    "# Null hypothesis means prediction\n",
    "\n",
    "\n",
    "# Type 2 Error : Actual true But Models Prediction false   this is also called fasle negative \n",
    "# we fail to reject the null hypothesis but in reality it is fasle "
   ]
  },
  {
   "cell_type": "code",
   "execution_count": null,
   "metadata": {},
   "outputs": [],
   "source": [
    "# if there is outlier in dataset then we use lasso regression otherwise we use ridge regression "
   ]
  },
  {
   "cell_type": "code",
   "execution_count": null,
   "metadata": {},
   "outputs": [],
   "source": [
    "# f1 score is the harmonic mean(harmonic mean vaneko reverse gare rw add garni ) of precision and recall "
   ]
  },
  {
   "cell_type": "markdown",
   "metadata": {},
   "source": [
    "# Using Z-score how can we identify outlier "
   ]
  },
  {
   "cell_type": "code",
   "execution_count": 6,
   "metadata": {},
   "outputs": [
    {
     "name": "stdout",
     "output_type": "stream",
     "text": [
      "Mean: 31.75\n",
      "Standard Deviation: 26.63370358524452\n",
      "Z-scores: [-0.3660775141089146, -0.29098469070195776, -0.25343827899847937, -0.3285311024054362, -0.29098469070195776, -0.3660775141089146, 3.3134708328319706, -0.3285311024054362, -0.29098469070195776, -0.25343827899847937, -0.3285311024054362, -0.21589186729500093]\n",
      "Outliers: [120]\n"
     ]
    }
   ],
   "source": [
    "import numpy as np\n",
    "\n",
    "# Dataset\n",
    "ages = [22, 24, 25, 23, 24, 22, 120, 23, 24, 25, 23, 26]\n",
    "\n",
    "# Calculate the mean and standard deviation\n",
    "mean_age = np.mean(ages)\n",
    "std_age = np.std(ages)\n",
    "\n",
    "# Calculate the Z-scores\n",
    "z_scores = [(age - mean_age) / std_age for age in ages]\n",
    "\n",
    "# Set a threshold for identifying outliers\n",
    "threshold = 2\n",
    "\n",
    "# Identify outliers\n",
    "outliers = [age for age, z in zip(ages, z_scores) if np.abs(z) > threshold]\n",
    "\n",
    "print(\"Mean:\", mean_age)\n",
    "print(\"Standard Deviation:\", std_age)\n",
    "print(\"Z-scores:\", z_scores)\n",
    "print(\"Outliers:\", outliers)\n"
   ]
  },
  {
   "cell_type": "code",
   "execution_count": 15,
   "metadata": {},
   "outputs": [
    {
     "name": "stdout",
     "output_type": "stream",
     "text": [
      "Mean: 250.0625\n",
      "Standard Deviation: 397.06036517606486\n",
      "Z-scores: [-0.5743773995142334, -0.5693403820342511, -0.5668218732942599, -0.5718588907742422, -0.5693403820342511, -0.5743773995142334, -0.32756354299509993, 0.6294697782015399, 1.8887241481971186, 1.9113907268570391, 2.1682786183361373, -0.5718588907742422, -0.5693403820342511, -0.5668218732942599, -0.5718588907742422, -0.5643033645542688]\n",
      "Outliers: [1111]\n"
     ]
    },
    {
     "data": {
      "image/png": "[encoded data removed]",
      "text/plain": [
       "<Figure size 1000x600 with 1 Axes>"
      ]
     },
     "metadata": {},
     "output_type": "display_data"
    }
   ],
   "source": [
    "import numpy as np\n",
    "\n",
    "# Dataset\n",
    "ages = [22, 24, 25, 23, 24, 22, 120, 500, 1000, 1009,1111, 23, 24, 25, 23, 26]\n",
    "\n",
    "# Calculate the mean and standard deviation\n",
    "mean_age = np.mean(ages)\n",
    "std_age = np.std(ages)\n",
    "\n",
    "# Calculate the Z-scores\n",
    "z_scores = [(age - mean_age) / std_age for age in ages]\n",
    "\n",
    "# Set a threshold for identifying outliers\n",
    "threshold = 2\n",
    "\n",
    "# Identify outliers\n",
    "outliers = [age for age, z in zip(ages, z_scores) if np.abs(z) > threshold]\n",
    "\n",
    "print(\"Mean:\", mean_age)\n",
    "print(\"Standard Deviation:\", std_age)\n",
    "print(\"Z-scores:\", z_scores)\n",
    "print(\"Outliers:\", outliers)\n",
    "\n",
    "\n",
    "# Calculate the Z-scores\n",
    "import matplotlib.pyplot as plt\n",
    "z_scores = [(age - mean_age) / std_age for age in ages]\n",
    "\n",
    "# Create a scatter plot\n",
    "plt.figure(figsize=(10, 6))\n",
    "plt.scatter(range(len(ages)), z_scores, color='blue')\n",
    "# Highlight outliers\n",
    "for i, z in enumerate(z_scores):\n",
    "    if np.abs(z) > threshold:\n",
    "        plt.scatter(i, z, color='red')\n",
    "plt.axhline(y=threshold, color='r', linestyle='-')\n",
    "plt.axhline(y=-threshold, color='r', linestyle='-')\n",
    "plt.title('Scatter Plot of Z-scores')\n",
    "plt.xlabel('Index')\n",
    "plt.ylabel('Z-score')\n",
    "plt.show()\n"
   ]
  },
  {
   "cell_type": "code",
   "execution_count": null,
   "metadata": {},
   "outputs": [],
   "source": []
  },
  {
   "cell_type": "code",
   "execution_count": null,
   "metadata": {},
   "outputs": [],
   "source": []
  },
  {
   "cell_type": "code",
   "execution_count": null,
   "metadata": {},
   "outputs": [],
   "source": []
  },
  {
   "cell_type": "code",
   "execution_count": null,
   "metadata": {},
   "outputs": [],
   "source": []
  },
  {
   "cell_type": "code",
   "execution_count": null,
   "metadata": {},
   "outputs": [],
   "source": []
  },
  {
   "cell_type": "code",
   "execution_count": null,
   "metadata": {},
   "outputs": [],
   "source": []
  },
  {
   "cell_type": "code",
   "execution_count": null,
   "metadata": {},
   "outputs": [],
   "source": []
  },
  {
   "cell_type": "code",
   "execution_count": null,
   "metadata": {},
   "outputs": [],
   "source": []
  },
  {
   "cell_type": "code",
   "execution_count": null,
   "metadata": {},
   "outputs": [],
   "source": []
  },
  {
   "cell_type": "code",
   "execution_count": null,
   "metadata": {},
   "outputs": [],
   "source": []
  },
  {
   "cell_type": "code",
   "execution_count": null,
   "metadata": {},
   "outputs": [],
   "source": []
  },
  {
   "cell_type": "code",
   "execution_count": null,
   "metadata": {},
   "outputs": [],
   "source": []
  },
  {
   "cell_type": "code",
   "execution_count": null,
   "metadata": {},
   "outputs": [],
   "source": []
  },
  {
   "cell_type": "code",
   "execution_count": null,
   "metadata": {},
   "outputs": [],
   "source": []
  },
  {
   "cell_type": "code",
   "execution_count": null,
   "metadata": {},
   "outputs": [],
   "source": []
  },
  {
   "cell_type": "code",
   "execution_count": null,
   "metadata": {},
   "outputs": [],
   "source": []
  },
  {
   "cell_type": "code",
   "execution_count": null,
   "metadata": {},
   "outputs": [],
   "source": []
  },
  {
   "cell_type": "code",
   "execution_count": null,
   "metadata": {},
   "outputs": [],
   "source": []
  },
  {
   "cell_type": "code",
   "execution_count": null,
   "metadata": {},
   "outputs": [],
   "source": []
  },
  {
   "cell_type": "code",
   "execution_count": null,
   "metadata": {},
   "outputs": [],
   "source": []
  },
  {
   "cell_type": "code",
   "execution_count": null,
   "metadata": {},
   "outputs": [],
   "source": []
  },
  {
   "cell_type": "code",
   "execution_count": null,
   "metadata": {},
   "outputs": [],
   "source": []
  },
  {
   "cell_type": "code",
   "execution_count": null,
   "metadata": {},
   "outputs": [],
   "source": []
  },
  {
   "cell_type": "code",
   "execution_count": null,
   "metadata": {},
   "outputs": [],
   "source": []
  },
  {
   "cell_type": "code",
   "execution_count": null,
   "metadata": {},
   "outputs": [],
   "source": []
  },
  {
   "cell_type": "code",
   "execution_count": null,
   "metadata": {},
   "outputs": [],
   "source": []
  },
  {
   "cell_type": "code",
   "execution_count": null,
   "metadata": {},
   "outputs": [],
   "source": []
  },
  {
   "cell_type": "code",
   "execution_count": null,
   "metadata": {},
   "outputs": [],
   "source": []
  },
  {
   "cell_type": "code",
   "execution_count": null,
   "metadata": {},
   "outputs": [],
   "source": []
  },
  {
   "cell_type": "code",
   "execution_count": null,
   "metadata": {},
   "outputs": [],
   "source": []
  },
  {
   "cell_type": "code",
   "execution_count": null,
   "metadata": {},
   "outputs": [],
   "source": []
  }
 ],
 "metadata": {
  "kernelspec": {
   "display_name": "Python 3",
   "language": "python",
   "name": "python3"
  },
  "language_info": {
   "codemirror_mode": {
    "name": "ipython",
    "version": 3
   },
   "file_extension": ".py",
   "mimetype": "text/x-python",
   "name": "python",
   "nbconvert_exporter": "python",
   "pygments_lexer": "ipython3",
   "version": "3.11.2"
  }
 },
 "nbformat": 4,
 "nbformat_minor": 2
}
