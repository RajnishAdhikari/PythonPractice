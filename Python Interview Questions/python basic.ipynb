{
 "cells": [
  {
   "cell_type": "code",
   "execution_count": null,
   "metadata": {},
   "outputs": [],
   "source": [
    "# Immutable : int, tuple\n",
    "\n",
    "\n",
    "# Mutable : list, dictonary \n",
    "\n",
    "\n",
    "\n",
    "\n",
    "# key inside dictonary is immutable "
   ]
  }
 ],
 "metadata": {
  "language_info": {
   "name": "python"
  }
 },
 "nbformat": 4,
 "nbformat_minor": 2
}
