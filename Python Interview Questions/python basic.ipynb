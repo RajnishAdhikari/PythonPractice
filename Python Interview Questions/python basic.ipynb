{
 "cells": [
  {
   "cell_type": "code",
   "execution_count": null,
   "metadata": {},
   "outputs": [],
   "source": [
    "# Immutable : int, tuple, frozen set\n",
    "\n",
    "\n",
    "# Mutable : list, dictonary, set\n",
    "\n",
    "\n",
    "\n",
    "\n",
    "# key inside dictonary is immutable \n",
    "# Frozen set : frozen set are immutable \n",
    "# Why set are made : in set duplicate are not stored"
   ]
  },
  {
   "cell_type": "code",
   "execution_count": null,
   "metadata": {},
   "outputs": [],
   "source": [
    "# In python 2 we have (xrange())   and\n",
    "#  in python 3 (range())"
   ]
  },
  {
   "cell_type": "code",
   "execution_count": null,
   "metadata": {},
   "outputs": [],
   "source": [
    "# In Package, __init__ file must be present but in module it is not necessary to present __init__ file \n",
    "# In package there can be multiple file where as in module there is single file present "
   ]
  },
  {
   "cell_type": "code",
   "execution_count": null,
   "metadata": {},
   "outputs": [],
   "source": [
    "# __init__ is used for attribute setup (After making object we can pass value )\n",
    "# __init__ is also used to initialize object"
   ]
  },
  {
   "cell_type": "code",
   "execution_count": null,
   "metadata": {},
   "outputs": [],
   "source": [
    "# access modifier \n",
    "# private , protected comes under encapsulation \n",
    "# protected is indicated using underscore (_) and it can be acccessed within class and subclass \n",
    "\n",
    "# private is indicated using double underscore(__)  and it can be accessed using (_ClassName__attribute)\n"
   ]
  },
  {
   "cell_type": "code",
   "execution_count": null,
   "metadata": {},
   "outputs": [],
   "source": [
    "# using zip we can combine any elements of any data type which is mutable \n",
    "\n",
    "# to find index number and value we can use enumerate \n",
    "\n"
   ]
  },
  {
   "cell_type": "code",
   "execution_count": null,
   "metadata": {},
   "outputs": [],
   "source": [
    "a = 44      # global namespace \n",
    "\n",
    "def func():\n",
    "    a = 1    # local namespace\n",
    "    b = 2\n",
    "\n",
    "func()\n",
    "\n",
    "print(a)"
   ]
  },
  {
   "cell_type": "code",
   "execution_count": 1,
   "metadata": {},
   "outputs": [
    {
     "name": "stdout",
     "output_type": "stream",
     "text": [
      "[1, 4, 9, 16]\n"
     ]
    }
   ],
   "source": [
    "# list comprehension \n",
    "\n",
    "# it is used to make list without following the proper syntax \n",
    "\n",
    "n = [1,2,3,4]\n",
    "l1 = [i**2 for i in n]\n",
    "print(l1)"
   ]
  },
  {
   "cell_type": "code",
   "execution_count": null,
   "metadata": {},
   "outputs": [],
   "source": []
  }
 ],
 "metadata": {
  "kernelspec": {
   "display_name": "Python 3",
   "language": "python",
   "name": "python3"
  },
  "language_info": {
   "codemirror_mode": {
    "name": "ipython",
    "version": 3
   },
   "file_extension": ".py",
   "mimetype": "text/x-python",
   "name": "python",
   "nbconvert_exporter": "python",
   "pygments_lexer": "ipython3",
   "version": "3.11.2"
  }
 },
 "nbformat": 4,
 "nbformat_minor": 2
}
