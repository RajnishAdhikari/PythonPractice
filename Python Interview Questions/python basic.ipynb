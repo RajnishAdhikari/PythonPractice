{
 "cells": [
  {
   "cell_type": "code",
   "execution_count": null,
   "metadata": {},
   "outputs": [],
   "source": [
    "# Immutable : int, tuple, frozen set\n",
    "\n",
    "\n",
    "# Mutable : list, dictonary, set\n",
    "\n",
    "\n",
    "\n",
    "\n",
    "# key inside dictonary is immutable \n",
    "# Frozen set : frozen set are immutable \n",
    "# Why set are made : in set duplicate are not stored"
   ]
  },
  {
   "cell_type": "code",
   "execution_count": null,
   "metadata": {},
   "outputs": [],
   "source": [
    "# In python 2 we have (xrange())   and\n",
    "#  in python 3 (range())"
   ]
  },
  {
   "cell_type": "code",
   "execution_count": null,
   "metadata": {},
   "outputs": [],
   "source": [
    "# In Package, __init__ file must be present but in module it is not necessary to present __init__ file \n",
    "# In package there can be multiple file where as in module there is single file present "
   ]
  },
  {
   "cell_type": "code",
   "execution_count": null,
   "metadata": {},
   "outputs": [],
   "source": [
    "# __init__ is used for attribute setup (After making object we can pass value )\n",
    "# __init__ is also used to initialize object"
   ]
  },
  {
   "cell_type": "code",
   "execution_count": null,
   "metadata": {},
   "outputs": [],
   "source": [
    "# access modifier \n",
    "# private , protected comes under encapsulation \n",
    "# protected is indicated using underscore (_) and it can be acccessed within class and subclass \n",
    "\n",
    "# private is indicated using double underscore(__)  and it can be accessed using (_ClassName__attribute)\n"
   ]
  },
  {
   "cell_type": "code",
   "execution_count": null,
   "metadata": {},
   "outputs": [],
   "source": [
    "# using zip we can combine any elements of any data type which is mutable \n",
    "\n",
    "# to find index number and value we can use enumerate \n",
    "\n"
   ]
  },
  {
   "cell_type": "code",
   "execution_count": null,
   "metadata": {},
   "outputs": [],
   "source": [
    "a = 44      # global namespace \n",
    "\n",
    "def func():\n",
    "    a = 1    # local namespace\n",
    "    b = 2\n",
    "\n",
    "func()\n",
    "\n",
    "print(a)"
   ]
  },
  {
   "cell_type": "code",
   "execution_count": 1,
   "metadata": {},
   "outputs": [
    {
     "name": "stdout",
     "output_type": "stream",
     "text": [
      "[1, 4, 9, 16]\n"
     ]
    }
   ],
   "source": [
    "# list comprehension \n",
    "# if we write logic into the list then it is known as list comprehension \n",
    "# it is used to make list without following the proper syntax \n",
    "\n",
    "n = [1,2,3,4]\n",
    "l1 = [i**2 for i in n]\n",
    "print(l1)"
   ]
  },
  {
   "cell_type": "code",
   "execution_count": 2,
   "metadata": {},
   "outputs": [
    {
     "name": "stdout",
     "output_type": "stream",
     "text": [
      "{1, 2, 3, 4}\n"
     ]
    }
   ],
   "source": [
    "n = [1,2,3,4]\n",
    "l2 = {i for i in n}\n",
    "print(l2)"
   ]
  },
  {
   "cell_type": "code",
   "execution_count": null,
   "metadata": {},
   "outputs": [],
   "source": [
    "# shallow and deep copy \n",
    "\n",
    "\n",
    "# in shallow copy both the list will get changed \n",
    "\n",
    "# while in deep copy only the updated list will gets changed not the original list \n",
    "\n"
   ]
  },
  {
   "cell_type": "code",
   "execution_count": null,
   "metadata": {},
   "outputs": [],
   "source": [
    "# namespace and scope of a variable \n",
    "\n",
    "# namespace take care of the conflict between (local and global) namespace\n",
    "# Built-in : can be used anywhere like len(), sum()   \n",
    "\n",
    "# Global Namespace: particular file \n",
    "\n",
    "# Local namespace: within the particular class or function \n",
    "\n",
    "\n",
    "# scope of a variable take care which variable to use where "
   ]
  },
  {
   "cell_type": "code",
   "execution_count": null,
   "metadata": {},
   "outputs": [],
   "source": [
    "# os vs sys \n",
    "# to create file, folder and to read this file and folder we use os and to give path we use os module\n",
    "\n",
    "#  to convert into binary and handling the output sys module is used "
   ]
  },
  {
   "cell_type": "code",
   "execution_count": null,
   "metadata": {},
   "outputs": [],
   "source": [
    "# Generator \n",
    "\n",
    "# by using yield keyword a normal function becomes generator  \n",
    "# Generator is used to generate data one by one and not all at once "
   ]
  },
  {
   "cell_type": "code",
   "execution_count": 1,
   "metadata": {},
   "outputs": [
    {
     "name": "stdout",
     "output_type": "stream",
     "text": [
      "second largest number is :12\n"
     ]
    }
   ],
   "source": [
    "# Finding the largest number from the given list\n",
    "\n",
    "def find_second_largest(nums):\n",
    "    if len(nums) < 2:\n",
    "        return \"List should have at least 2 elements\"\n",
    "    \n",
    "    largest = max(nums)\n",
    "    nums.remove(largest)\n",
    "    second_largest = max(nums)\n",
    "\n",
    "    return second_largest\n",
    "\n",
    "number = [10, 3, 4,30,12]\n",
    "print(f\"second largest number is :{find_second_largest(number)}\")"
   ]
  },
  {
   "cell_type": "code",
   "execution_count": 2,
   "metadata": {},
   "outputs": [
    {
     "name": "stdout",
     "output_type": "stream",
     "text": [
      "List after removing duplicates: [1, 2, 3, 4, 5, 6]\n"
     ]
    }
   ],
   "source": [
    "# removing duplicate from the list\n",
    "\n",
    "def remove_duplicates(nums):\n",
    "    return(list(set(nums)))\n",
    "\n",
    "numbers = [1,2,2,3,4,5,3,4,5,6]\n",
    "print(f\"List after removing duplicates: {remove_duplicates(numbers)}\")"
   ]
  },
  {
   "cell_type": "code",
   "execution_count": 3,
   "metadata": {},
   "outputs": [
    {
     "name": "stdout",
     "output_type": "stream",
     "text": [
      "Intersection of two list is [3, 4, 5]\n"
     ]
    }
   ],
   "source": [
    "# 3 Finding the intersection of two list \n",
    "\n",
    "def find_intersection(list1, list2):\n",
    "    return list(set(list1) & set(list2))\n",
    "\n",
    "list1 = [1,2,3,4,5]\n",
    "list2 = [3,4,5,6,7]\n",
    "\n",
    "print(f\"Intersection of two list is {find_intersection(list1, list2)}\")"
   ]
  },
  {
   "cell_type": "code",
   "execution_count": 4,
   "metadata": {},
   "outputs": [
    {
     "name": "stdout",
     "output_type": "stream",
     "text": [
      "Intersection of two list is [3, 4, 5]\n"
     ]
    }
   ],
   "source": [
    "# Finding the intersection of two list \n",
    "\n",
    "def find_intersection(a, b):\n",
    "    return list(set(a) & set(b))\n",
    "\n",
    "list1 = [1,2,3,4,5]\n",
    "list2 = [3,4,5,6,7]\n",
    "\n",
    "print(f\"Intersection of two list is {find_intersection(list1, list2)}\")"
   ]
  },
  {
   "cell_type": "code",
   "execution_count": 5,
   "metadata": {},
   "outputs": [
    {
     "name": "stdout",
     "output_type": "stream",
     "text": [
      "Reversed string is: margorp gnirts gnisrever tsuj si siht dlrow olleh\n"
     ]
    }
   ],
   "source": [
    "# reversing a string\n",
    "\n",
    "def reverse_string(s):\n",
    "    return s[::-1]\n",
    "\n",
    "# Test the function\n",
    "text = \"hello world this is just reversing string program\"\n",
    "\n",
    "print(f\"Reversed string is: {reverse_string(text)}\")\n"
   ]
  },
  {
   "cell_type": "code",
   "execution_count": 6,
   "metadata": {},
   "outputs": [
    {
     "name": "stdout",
     "output_type": "stream",
     "text": [
      "Character count: {'h': 2, 'e': 1, 'l': 3, 'o': 4, ' ': 6, 'w': 1, 'r': 4, 'd': 1, 't': 3, 'i': 4, 's': 3, 'n': 3, 'g': 3, 'c': 1, 'u': 1, 'p': 1, 'a': 1, 'm': 1}\n"
     ]
    }
   ],
   "source": [
    "# counting the occurance of letter in string\n",
    "\n",
    "def count_char(s):\n",
    "    char_count = {}\n",
    "    for char in s:\n",
    "        char_count[char] = char_count.get(char, 0)  + 1\n",
    "    return char_count\n",
    "\n",
    "string = 'hello world this is string counting program'\n",
    "print(f\"Character count: {count_char(string)}\")\n"
   ]
  },
  {
   "cell_type": "code",
   "execution_count": 7,
   "metadata": {},
   "outputs": [
    {
     "name": "stdout",
     "output_type": "stream",
     "text": [
      "['a', 'h', 'i', 'j', 'n', 'r', 's']\n"
     ]
    }
   ],
   "source": [
    "r = sorted(\"rajnish\")\n",
    "print(r)"
   ]
  },
  {
   "cell_type": "code",
   "execution_count": 10,
   "metadata": {},
   "outputs": [
    {
     "name": "stdout",
     "output_type": "stream",
     "text": [
      "Are listen and silent anagram? , True\n"
     ]
    }
   ],
   "source": [
    "# Checking for anagram\n",
    "# Anagram means words and length of word equal \n",
    "def is_anagram(s1, s2):\n",
    "    return sorted(s1) == sorted(s2)\n",
    "\n",
    "word1 = \"listen\"\n",
    "word2 = \"silent\"\n",
    "\n",
    "print(f\"Are {word1} and {word2} anagram? , {is_anagram(word2, word1)}\")"
   ]
  },
  {
   "cell_type": "code",
   "execution_count": 12,
   "metadata": {},
   "outputs": [
    {
     "name": "stdout",
     "output_type": "stream",
     "text": [
      "keys with maxinum value: ['d']\n"
     ]
    }
   ],
   "source": [
    "# Finding keys with the maximum value in dictonary\n",
    "\n",
    "def max_value_keys(d):\n",
    "    max_value = max(d.values())\n",
    "    return [key for key, value in d.items() if value == max_value]\n",
    "\n",
    "# testing the function \n",
    "data = {'a' : 10, 'b' : 20, 'c' : 30, 'd' : 40}\n",
    "print(f\"keys with maxinum value: {max_value_keys(data)}\")"
   ]
  },
  {
   "cell_type": "code",
   "execution_count": 14,
   "metadata": {},
   "outputs": [
    {
     "name": "stdout",
     "output_type": "stream",
     "text": [
      "Does key 'e' exists in the diconary? False\n"
     ]
    }
   ],
   "source": [
    "# Checking if key exists or not \n",
    "def is_key_exists(d, key):\n",
    "    return key in d\n",
    "\n",
    "data = {'a' : 10, 'b' : 20, 'c' : 30, 'd' : 40}\n",
    "key = 'e'\n",
    "\n",
    "print(f\"Does key '{key}' exists in the diconary? {is_key_exists(data, key)}\")"
   ]
  },
  {
   "cell_type": "code",
   "execution_count": 15,
   "metadata": {},
   "outputs": [
    {
     "name": "stdout",
     "output_type": "stream",
     "text": [
      "Does key 'c' exists in the diconary? True\n"
     ]
    }
   ],
   "source": [
    "# Checking if key exists or not \n",
    "def is_key_exists(d, key):\n",
    "    return key in d\n",
    "\n",
    "data = {'a' : 10, 'b' : 20, 'c' : 30, 'd' : 40}\n",
    "key = 'c'\n",
    "\n",
    "print(f\"Does key '{key}' exists in the diconary? {is_key_exists(data, key)}\")"
   ]
  },
  {
   "cell_type": "code",
   "execution_count": null,
   "metadata": {},
   "outputs": [],
   "source": [
    "# add or modify elements in dictomary\n",
    "my_dictonary = {'key1': 'value1', 'key2': 'value2'}\n",
    "\n"
   ]
  },
  {
   "cell_type": "code",
   "execution_count": null,
   "metadata": {},
   "outputs": [],
   "source": []
  },
  {
   "cell_type": "code",
   "execution_count": null,
   "metadata": {},
   "outputs": [],
   "source": []
  },
  {
   "cell_type": "code",
   "execution_count": null,
   "metadata": {},
   "outputs": [],
   "source": []
  },
  {
   "cell_type": "code",
   "execution_count": null,
   "metadata": {},
   "outputs": [],
   "source": []
  }
 ],
 "metadata": {
  "kernelspec": {
   "display_name": "Python 3",
   "language": "python",
   "name": "python3"
  },
  "language_info": {
   "codemirror_mode": {
    "name": "ipython",
    "version": 3
   },
   "file_extension": ".py",
   "mimetype": "text/x-python",
   "name": "python",
   "nbconvert_exporter": "python",
   "pygments_lexer": "ipython3",
   "version": "3.11.2"
  }
 },
 "nbformat": 4,
 "nbformat_minor": 2
}
