{
 "cells": [
  {
   "cell_type": "code",
   "execution_count": null,
   "metadata": {},
   "outputs": [],
   "source": [
    "# string manipulation sample asked question \n",
    "\n",
    "x = \"string\"\n",
    "x[3] = \"A\"\n",
    "\n",
    "print(x)   # this is not possible because string is immutable "
   ]
  },
  {
   "cell_type": "code",
   "execution_count": 2,
   "metadata": {},
   "outputs": [
    {
     "name": "stdout",
     "output_type": "stream",
     "text": [
      "git\n"
     ]
    }
   ],
   "source": [
    "x = \"string\"\n",
    "\n",
    "print(x[::-2])\n",
    "\n",
    "# this is reversing the string after 2 interval "
   ]
  },
  {
   "cell_type": "code",
   "execution_count": 12,
   "metadata": {},
   "outputs": [
    {
     "name": "stdout",
     "output_type": "stream",
     "text": [
      "srn\n"
     ]
    }
   ],
   "source": [
    "x = \"string\"\n",
    "\n",
    "# gnirts\n",
    "# sample test \n",
    "print(x[::2])"
   ]
  },
  {
   "cell_type": "code",
   "execution_count": null,
   "metadata": {},
   "outputs": [],
   "source": [
    "# Finding the second-largest number from the given list\n",
    "\n",
    "def find_second_largest(nums):\n",
    "    if len(nums) < 2:\n",
    "        return \"List should have at least 2 elements\"\n",
    "    \n",
    "    largest = max(nums)\n",
    "    nums.remove(largest)\n",
    "    second_largest = max(nums)\n",
    "\n",
    "    return second_largest\n",
    "\n",
    "number = [10, 3, 4,30,12]\n",
    "print(f\"second largest number is :{find_second_largest(number)}\")"
   ]
  },
  {
   "cell_type": "code",
   "execution_count": 2,
   "metadata": {},
   "outputs": [
    {
     "name": "stdout",
     "output_type": "stream",
     "text": [
      "['a', 'a', 'd', 'h', 'i', 'i', 'k', 'r']\n"
     ]
    }
   ],
   "source": [
    "# Sorting the string \n",
    "r = sorted(\"adhikari\")\n",
    "print(r)"
   ]
  },
  {
   "cell_type": "code",
   "execution_count": 1,
   "metadata": {},
   "outputs": [
    {
     "name": "stdout",
     "output_type": "stream",
     "text": [
      "List after removing duplicate we have [1, 2, 3, 4, 5, 6]\n"
     ]
    }
   ],
   "source": [
    "# Program to remove duplicate from the given list \n",
    "\n",
    "def rem_dup(n):\n",
    "    list_after_duplicate = list(set(n))\n",
    "    print(f\"List after removing duplicate we have {list_after_duplicate}\")\n",
    "\n",
    "rem_dup([1,2,3,4,5,6,6,5,4])\n"
   ]
  },
  {
   "cell_type": "markdown",
   "metadata": {},
   "source": [
    "Program to remove duplicate from the given list by asking input with users \n"
   ]
  },
  {
   "cell_type": "code",
   "execution_count": 6,
   "metadata": {},
   "outputs": [
    {
     "name": "stdout",
     "output_type": "stream",
     "text": [
      "List after removing duplicate we have [1.0, 2.0, 3.0]\n",
      "The orinal list is: [1 2 3 2] \n"
     ]
    }
   ],
   "source": [
    "# Program to remove duplicate from the given list \n",
    "\n",
    "user_input= input(\"Enter the list seperated by space: \")\n",
    "input_list = list(map(float, user_input.split()))\n",
    "\n",
    "def rem_dup(n):\n",
    "    list_after_duplicate = list(set(n))\n",
    "    print(f\"List after removing duplicate we have {list_after_duplicate}\")\n",
    "\n",
    "\n",
    "rem_dup(input_list)\n",
    "\n",
    "# printing the original list seperated by comma \n",
    "formatted_input_list = \"\".join(map(str, user_input))\n",
    "print(f\"The orinal list is: [{formatted_input_list}] \")\n"
   ]
  },
  {
   "cell_type": "markdown",
   "metadata": {},
   "source": [
    "## 50 Questions for Building Logic in Programming Language\n"
   ]
  },
  {
   "cell_type": "markdown",
   "metadata": {},
   "source": [
    "1. Write a program to find the oldest age among three given ages provided by the user."
   ]
  },
  {
   "cell_type": "code",
   "execution_count": 7,
   "metadata": {},
   "outputs": [
    {
     "name": "stdout",
     "output_type": "stream",
     "text": [
      "300 is the oldest age.\n"
     ]
    }
   ],
   "source": [
    "\n",
    "def oldest_age(a,b,c):\n",
    "    if a > b and a > c:\n",
    "        print(f\"{a} is the oldest age.\")\n",
    "    elif b > a and b >c:\n",
    "        print(f\"{b} is the largest age.\")\n",
    "    else:\n",
    "        print(f\"{c} is the oldest age.\")\n",
    "\n",
    "a = int(input(\"Enter first age: \"))\n",
    "b = int(input(\"Enter second age:\"))\n",
    "c = int(input(\"Enter third age: \"))\n",
    "\n",
    "oldest_age(a,b,c)\n"
   ]
  },
  {
   "cell_type": "markdown",
   "metadata": {},
   "source": [
    "2. Write a program to convert Celsius to Fahrenheit."
   ]
  },
  {
   "cell_type": "code",
   "execution_count": 17,
   "metadata": {},
   "outputs": [
    {
     "name": "stdout",
     "output_type": "stream",
     "text": [
      "The temp is 91.4 in fahrenheit for you entered 33.0 in celsius\n"
     ]
    }
   ],
   "source": [
    "n = float(input(\"Enter the temperature in celsius: \"))\n",
    "\n",
    "def celtofah(n):\n",
    "    fah = (n * 9/5) + 32\n",
    "    print(f\"The temp is {fah} in fahrenheit for you entered {n} in celsius\")\n",
    "\n",
    "celtofah(n)"
   ]
  },
  {
   "cell_type": "markdown",
   "metadata": {},
   "source": [
    "3. Write a program to swap two numbers provided by the user."
   ]
  },
  {
   "cell_type": "code",
   "execution_count": 16,
   "metadata": {},
   "outputs": [
    {
     "data": {
      "text/plain": [
       "(55.5, 3.4)"
      ]
     },
     "execution_count": 16,
     "metadata": {},
     "output_type": "execute_result"
    }
   ],
   "source": [
    "a = float(input(\"Enter first number to swap: \"))\n",
    "b = float(input(\"Enter second number to swap: \"))\n",
    "\n",
    "def swap(a,b):\n",
    "    a,b = b,a\n",
    "    return a,b\n",
    "\n",
    "swap(a,b)"
   ]
  },
  {
   "cell_type": "markdown",
   "metadata": {},
   "source": [
    "4. Write a program to find the sum of three digits provided by the user."
   ]
  },
  {
   "cell_type": "code",
   "execution_count": 13,
   "metadata": {},
   "outputs": [
    {
     "name": "stdout",
     "output_type": "stream",
     "text": [
      "The sum of 3 number is 6\n",
      "None\n"
     ]
    }
   ],
   "source": [
    "def sum(a,b,c):\n",
    "    sum = a+b+c\n",
    "    print(f\"The sum of 3 number is {sum}\")\n",
    "\n",
    "a = int(input(\"Enter first age: \"))\n",
    "b = int(input(\"Enter second age:\"))\n",
    "c = int(input(\"Enter third age: \"))\n",
    "\n",
    "print(sum(a,b,c))"
   ]
  },
  {
   "cell_type": "code",
   "execution_count": null,
   "metadata": {},
   "outputs": [],
   "source": []
  },
  {
   "cell_type": "markdown",
   "metadata": {},
   "source": [
    "5. Write a program to reverse a four-digit number and check if the reverse is the same as the original."
   ]
  },
  {
   "cell_type": "markdown",
   "metadata": {},
   "source": [
    "6. Write a program to determine whether a number entered by the user is odd or even."
   ]
  },
  {
   "cell_type": "markdown",
   "metadata": {},
   "source": [
    "7. Write a program to determine whether a given year is a leap year or not."
   ]
  },
  {
   "cell_type": "markdown",
   "metadata": {},
   "source": [
    "8. Write a program to find the Euclidean distance between two coordinates provided by the user."
   ]
  },
  {
   "cell_type": "markdown",
   "metadata": {},
   "source": [
    "\n",
    "9. Write a program to determine whether three given angles can form a triangle."
   ]
  },
  {
   "cell_type": "markdown",
   "metadata": {},
   "source": [
    "10. Write a program to determine whether a transaction results in a loss or profit based on cost price and selling price provided by the user."
   ]
  },
  {
   "cell_type": "markdown",
   "metadata": {},
   "source": [
    "11. Write a program to find the simple interest given the principal, rate of interest, and time period."
   ]
  },
  {
   "cell_type": "code",
   "execution_count": 14,
   "metadata": {},
   "outputs": [
    {
     "name": "stdout",
     "output_type": "stream",
     "text": [
      "the simple interest is 50000.0\n"
     ]
    }
   ],
   "source": [
    "def sim_int(p,t,r):\n",
    "    si = (p*t*r)/100\n",
    "    print(f\"the simple interest is {si}\")\n",
    "\n",
    "p = int(input(\"Enter the Principal amount: \"))\n",
    "t = int(input(\"Enter the time in year:\"))\n",
    "r = float(input(\"Enter the rate of interest: \"))\n",
    "\n",
    "sim_int(p,t,r)"
   ]
  },
  {
   "cell_type": "markdown",
   "metadata": {},
   "source": [
    "\n",
    "\n",
    "\n",
    "12. Write a program to find the volume of a cylinder and calculate the cost when the cost of 1 liter of milk is 40 Rs.\n",
    "13. Write a program to determine whether a given number is divisible by 3 and 6.\n",
    "14. Write a program to calculate the angle between the hour and minute hands of a clock.\n",
    "15. Write a program to determine whether two rectangles overlap.\n",
    "16. Write a program to determine the weather condition based on temperature and humidity provided by the user.\n",
    "17. Write a program to add the squares of three digits provided by the user.\n",
    "18. Write a program to check whether a number is an Armstrong number.\n",
    "19. Write a program to check whether a number is a narcissistic number.\n",
    "20. Write a program to calculate the net salary after deductions based on HRA, DA, PF, and tax.\n",
    "21. Write a menu-driven program for unit conversions (cm to ft, km to miles, USD to INR).\n",
    "22. Write a program to determine the number of dogs and chickens based on the total number of heads and legs provided by the user.\n",
    "23. Write a program to swap two numbers.\n",
    "24. Write a program to find the sum of the first 'n' numbers provided by the user.\n",
    "25. Write a program to multiply two numbers without using the * operator.\n",
    "26. Write a program to find the factorial of a given number.\n",
    "27. Write a program to print the first 25 odd numbers.\n",
    "28. Write a program to check whether a given number is prime.\n",
    "29. Write a program to print all Armstrong numbers between 100 and 1000.\n",
    "30. Write a program to calculate the population of a town for the next 10 years given the current population and growth rate.\n",
    "31. Write a program to print all unique combinations of 1, 2, 3, and 4.\n",
    "32. Write a program to find the highest common factor (HCF) of two numbers provided by the user.\n",
    "33. Write a program to find the least common multiple (LCM) of two numbers provided by the user.\n",
    "34. Write a program to print the first 25 prime numbers.\n",
    "35. Write a program to print the first 20 numbers of the Fibonacci series.\n",
    "36. Write a program to find compound interest.\n",
    "37. Write a program to compute the value of n + nn + nnn.\n",
    "38. Write a program to find the number of digits in a given number.\n",
    "39. Write a program to print all factors of a given number.\n",
    "40. Write a program to reverse a given number.\n",
    "41. Write a program to print a pattern of asterisks.\n",
    "42. Write a program to print a specific pattern of asterisks.\n",
    "43. Write a program to print a triangle pattern.\n",
    "\n",
    "\n",
    "\n",
    "\n",
    "\n",
    "\n"
   ]
  },
  {
   "cell_type": "markdown",
   "metadata": {},
   "source": [
    "44. Write a program to print a pyramid pattern."
   ]
  },
  {
   "cell_type": "markdown",
   "metadata": {},
   "source": [
    "45. Write a program to print a pattern of numbers."
   ]
  },
  {
   "cell_type": "markdown",
   "metadata": {},
   "source": [
    "46. Write a program to print a specific pattern of numbers."
   ]
  },
  {
   "cell_type": "markdown",
   "metadata": {},
   "source": [
    "47. Write a program to calculate the sum of a series."
   ]
  },
  {
   "cell_type": "markdown",
   "metadata": {},
   "source": [
    "48. Write a program to calculate the sum of the series (1 + x^2/2 + x^3/3 + … x^n/n)."
   ]
  },
  {
   "cell_type": "markdown",
   "metadata": {},
   "source": [
    "49. Write a program to approximate the natural logarithm using a series."
   ]
  },
  {
   "cell_type": "markdown",
   "metadata": {},
   "source": [
    "50. Write a program to accept numbers from the user until zero is entered and then display the sum and average."
   ]
  },
  {
   "cell_type": "markdown",
   "metadata": {},
   "source": []
  },
  {
   "cell_type": "markdown",
   "metadata": {},
   "source": []
  },
  {
   "cell_type": "markdown",
   "metadata": {},
   "source": []
  },
  {
   "cell_type": "markdown",
   "metadata": {},
   "source": []
  },
  {
   "cell_type": "markdown",
   "metadata": {},
   "source": []
  },
  {
   "cell_type": "markdown",
   "metadata": {},
   "source": []
  },
  {
   "cell_type": "markdown",
   "metadata": {},
   "source": []
  },
  {
   "cell_type": "markdown",
   "metadata": {},
   "source": []
  },
  {
   "cell_type": "markdown",
   "metadata": {},
   "source": []
  },
  {
   "cell_type": "markdown",
   "metadata": {},
   "source": []
  },
  {
   "cell_type": "markdown",
   "metadata": {},
   "source": []
  },
  {
   "cell_type": "markdown",
   "metadata": {},
   "source": []
  },
  {
   "cell_type": "markdown",
   "metadata": {},
   "source": []
  },
  {
   "cell_type": "markdown",
   "metadata": {},
   "source": []
  },
  {
   "cell_type": "markdown",
   "metadata": {},
   "source": []
  },
  {
   "cell_type": "markdown",
   "metadata": {},
   "source": []
  },
  {
   "cell_type": "markdown",
   "metadata": {},
   "source": []
  },
  {
   "cell_type": "markdown",
   "metadata": {},
   "source": []
  },
  {
   "cell_type": "markdown",
   "metadata": {},
   "source": []
  },
  {
   "cell_type": "markdown",
   "metadata": {},
   "source": []
  },
  {
   "cell_type": "markdown",
   "metadata": {},
   "source": []
  },
  {
   "cell_type": "markdown",
   "metadata": {},
   "source": []
  },
  {
   "cell_type": "code",
   "execution_count": null,
   "metadata": {},
   "outputs": [],
   "source": []
  }
 ],
 "metadata": {
  "kernelspec": {
   "display_name": "Python 3",
   "language": "python",
   "name": "python3"
  },
  "language_info": {
   "codemirror_mode": {
    "name": "ipython",
    "version": 3
   },
   "file_extension": ".py",
   "mimetype": "text/x-python",
   "name": "python",
   "nbconvert_exporter": "python",
   "pygments_lexer": "ipython3",
   "version": "3.11.2"
  }
 },
 "nbformat": 4,
 "nbformat_minor": 2
}
