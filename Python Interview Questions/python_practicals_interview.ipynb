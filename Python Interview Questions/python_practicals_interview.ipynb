{
 "cells": [
  {
   "cell_type": "markdown",
   "metadata": {},
   "source": [
    "## 50 Questions for Building Logic in Programming Language\n"
   ]
  },
  {
   "cell_type": "markdown",
   "metadata": {},
   "source": [
    "1. Write a program to find the oldest age among three given ages provided by the user."
   ]
  },
  {
   "cell_type": "code",
   "execution_count": null,
   "metadata": {},
   "outputs": [],
   "source": []
  },
  {
   "cell_type": "markdown",
   "metadata": {},
   "source": [
    "2. Write a program to convert Celsius to Fahrenheit.\n",
    "3. Write a program to swap two numbers provided by the user.\n",
    "4. Write a program to find the sum of three digits provided by the user.\n",
    "5. Write a program to reverse a four-digit number and check if the reverse is the same as the original.\n",
    "6. Write a program to determine whether a number entered by the user is odd or even.\n",
    "7. Write a program to determine whether a given year is a leap year or not.\n",
    "8. Write a program to find the Euclidean distance between two coordinates provided by the user.\n",
    "9. Write a program to determine whether three given angles can form a triangle.\n",
    "10. Write a program to determine whether a transaction results in a loss or profit based on cost price and selling price provided by the user.\n",
    "11. Write a program to find the simple interest given the principal, rate of interest, and time period.\n",
    "12. Write a program to find the volume of a cylinder and calculate the cost when the cost of 1 liter of milk is 40 Rs.\n",
    "13. Write a program to determine whether a given number is divisible by 3 and 6.\n",
    "14. Write a program to calculate the angle between the hour and minute hands of a clock.\n",
    "15. Write a program to determine whether two rectangles overlap.\n",
    "16. Write a program to determine the weather condition based on temperature and humidity provided by the user.\n",
    "17. Write a program to add the squares of three digits provided by the user.\n",
    "18. Write a program to check whether a number is an Armstrong number.\n",
    "19. Write a program to check whether a number is a narcissistic number.\n",
    "20. Write a program to calculate the net salary after deductions based on HRA, DA, PF, and tax.\n",
    "21. Write a menu-driven program for unit conversions (cm to ft, km to miles, USD to INR).\n",
    "22. Write a program to determine the number of dogs and chickens based on the total number of heads and legs provided by the user.\n",
    "23. Write a program to swap two numbers.\n",
    "24. Write a program to find the sum of the first 'n' numbers provided by the user.\n",
    "25. Write a program to multiply two numbers without using the * operator.\n",
    "26. Write a program to find the factorial of a given number.\n",
    "27. Write a program to print the first 25 odd numbers.\n",
    "28. Write a program to check whether a given number is prime.\n",
    "29. Write a program to print all Armstrong numbers between 100 and 1000.\n",
    "30. Write a program to calculate the population of a town for the next 10 years given the current population and growth rate.\n",
    "31. Write a program to print all unique combinations of 1, 2, 3, and 4.\n",
    "32. Write a program to find the highest common factor (HCF) of two numbers provided by the user.\n",
    "33. Write a program to find the least common multiple (LCM) of two numbers provided by the user.\n",
    "34. Write a program to print the first 25 prime numbers.\n",
    "35. Write a program to print the first 20 numbers of the Fibonacci series.\n",
    "36. Write a program to find compound interest.\n",
    "37. Write a program to compute the value of n + nn + nnn.\n",
    "38. Write a program to find the number of digits in a given number.\n",
    "39. Write a program to print all factors of a given number.\n",
    "40. Write a program to reverse a given number.\n",
    "41. Write a program to print a pattern of asterisks.\n",
    "42. Write a program to print a specific pattern of asterisks.\n",
    "43. Write a program to print a triangle pattern.\n",
    "44. Write a program to print a pyramid pattern.\n",
    "45. Write a program to print a pattern of numbers.\n",
    "46. Write a program to print a specific pattern of numbers.\n",
    "47. Write a program to calculate the sum of a series.\n",
    "48. Write a program to calculate the sum of the series (1 + x^2/2 + x^3/3 + … x^n/n).\n",
    "49. Write a program to approximate the natural logarithm using a series.\n",
    "50. Write a program to accept numbers from the user until zero is entered and then display the sum and average."
   ]
  },
  {
   "cell_type": "markdown",
   "metadata": {},
   "source": []
  },
  {
   "cell_type": "markdown",
   "metadata": {},
   "source": []
  },
  {
   "cell_type": "markdown",
   "metadata": {},
   "source": []
  },
  {
   "cell_type": "markdown",
   "metadata": {},
   "source": []
  },
  {
   "cell_type": "markdown",
   "metadata": {},
   "source": []
  },
  {
   "cell_type": "markdown",
   "metadata": {},
   "source": []
  },
  {
   "cell_type": "markdown",
   "metadata": {},
   "source": []
  },
  {
   "cell_type": "markdown",
   "metadata": {},
   "source": []
  },
  {
   "cell_type": "markdown",
   "metadata": {},
   "source": []
  },
  {
   "cell_type": "markdown",
   "metadata": {},
   "source": []
  },
  {
   "cell_type": "markdown",
   "metadata": {},
   "source": []
  },
  {
   "cell_type": "markdown",
   "metadata": {},
   "source": []
  },
  {
   "cell_type": "markdown",
   "metadata": {},
   "source": []
  },
  {
   "cell_type": "markdown",
   "metadata": {},
   "source": []
  },
  {
   "cell_type": "markdown",
   "metadata": {},
   "source": []
  },
  {
   "cell_type": "markdown",
   "metadata": {},
   "source": []
  },
  {
   "cell_type": "markdown",
   "metadata": {},
   "source": []
  },
  {
   "cell_type": "markdown",
   "metadata": {},
   "source": []
  },
  {
   "cell_type": "markdown",
   "metadata": {},
   "source": []
  },
  {
   "cell_type": "markdown",
   "metadata": {},
   "source": []
  },
  {
   "cell_type": "markdown",
   "metadata": {},
   "source": []
  },
  {
   "cell_type": "markdown",
   "metadata": {},
   "source": []
  },
  {
   "cell_type": "markdown",
   "metadata": {},
   "source": []
  },
  {
   "cell_type": "code",
   "execution_count": null,
   "metadata": {},
   "outputs": [],
   "source": []
  }
 ],
 "metadata": {
  "language_info": {
   "name": "python"
  }
 },
 "nbformat": 4,
 "nbformat_minor": 2
}
