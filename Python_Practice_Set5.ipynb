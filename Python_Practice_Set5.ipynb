{
 "cells": [
  {
   "cell_type": "code",
   "execution_count": 2,
   "metadata": {},
   "outputs": [
    {
     "name": "stdout",
     "output_type": "stream",
     "text": [
      "Total number of words in the file: 4\n"
     ]
    }
   ],
   "source": [
    "# Q1. Can you create a Python program that reads a text file and counts the number of words contained\n",
    "# within it? The program should be designed to read the file and break it down into individual words, using\n",
    "# spaces, punctuation marks, and other delimiters to separate the words. It should then count the number\n",
    "# of words found in the file and display this count as output. The program should be flexible enough to work\n",
    "# with different text files and should be able to handle a variety of formatting and punctuation styles.\n",
    "\n",
    "import string\n",
    "def count_words_in_file(file_path):\n",
    "    word_count = 0\n",
    "    # opening the file and reading its content line by line\n",
    "    with open(file_path, 'r') as file:\n",
    "        for line in file:\n",
    "            # Removing punctuation and split the line into words\n",
    "            words = line.translate(str.maketrans('', '', string.punctuation)).split()\n",
    "            word_count += len(words)\n",
    "    return word_count\n",
    "\n",
    "if __name__ == \"__main__\":\n",
    "    file_path = input(\"Enter the path to the text file: \")\n",
    "    try:\n",
    "        total_words = count_words_in_file(file_path)\n",
    "        print(f\"Total number of words in the file: {total_words}\")\n",
    "\n",
    "    except FileNotFoundError:\n",
    "        print(\"Error: File not found.\")\n",
    "    except Exception as e:\n",
    "        print(f\"An error occurred: {e}\")"
   ]
  },
  {
   "cell_type": "code",
   "execution_count": 4,
   "metadata": {},
   "outputs": [
    {
     "name": "stdout",
     "output_type": "stream",
     "text": [
      "The longest word in the file is: adhikari\n"
     ]
    }
   ],
   "source": [
    "# Q2. Could you help me create a Python program that can find and display the longest word in a text file?\n",
    "# The program should be able to read any text file and separate its contents into individual words, taking\n",
    "# into account various delimiters like spaces, punctuation marks, and other characters. Then, it should\n",
    "# compare the length of each word and determine which one is the longest, and finally, print that word as\n",
    "# output. The program should be versatile enough to work with various text files and be able to handle\n",
    "# different formatting styles and punctuation.\n",
    "\n",
    "import re\n",
    "\n",
    "def get_longest_word(file_path):\n",
    "    try:\n",
    "        # Reading the contents of the text file\n",
    "        with open(file_path, 'r') as file:\n",
    "            text = file.read()\n",
    "\n",
    "        # Using regular expression to split the text into words\n",
    "        words = re.findall(r'\\b\\w+\\b', text)\n",
    "\n",
    "        # Finding the longest word\n",
    "        longest_word = max(words, key=len)\n",
    "        return longest_word\n",
    "    \n",
    "    except FileNotFoundError:\n",
    "        print(\"Error: The file was not found.\")\n",
    "        return None\n",
    "    \n",
    "if __name__ == \"__main__\":\n",
    "    file_path = 'file.txt'\n",
    "    longest_word = get_longest_word(file_path)\n",
    "\n",
    "    if longest_word:\n",
    "        print(\"The longest word in the file is:\", longest_word)\n",
    "\n"
   ]
  },
  {
   "cell_type": "code",
   "execution_count": 3,
   "metadata": {},
   "outputs": [
    {
     "name": "stdout",
     "output_type": "stream",
     "text": [
      "The most frequent word in the file is 'i' and it appears 7 time(s).\n"
     ]
    }
   ],
   "source": [
    "# Q3. Write a Python program to read a text file and print out the most frequent word(s) in the file.\n",
    "import re\n",
    "from collections import Counter\n",
    "def get_most_frequent_word(file_path, num_words=1):\n",
    "    try:\n",
    "        # Reading the contents of the text file\n",
    "        with open(file_path, 'r') as file:\n",
    "            text = file.read()\n",
    "\n",
    "        # Using regular expression to split the text into words\n",
    "        words = re.findall(r'\\b\\w+\\b', text.lower())\n",
    "\n",
    "        # Counting the occurrences of each word using the Counter class from collections\n",
    "        word_count = Counter(words)\n",
    "\n",
    "        # Extracting the most common word(s)\n",
    "        most_common_words, most_common_count = word_count.most_common(1)[0]\n",
    "        return most_common_words, most_common_count\n",
    "    \n",
    "    except FileNotFoundError:\n",
    "        print(\"Error: The file was not found.\")\n",
    "        return None\n",
    "    \n",
    "if __name__ == \"__main__\":\n",
    "    \n",
    "    file_path = 'file.txt'\n",
    "    most_frequent_word, frequency = get_most_frequent_word(file_path)\n",
    "\n",
    "    if most_frequent_word and frequency:\n",
    "        print(f\"The most frequent word in the file is '{most_frequent_word}' \"\n",
    "              f\"and it appears {frequency} time(s).\")\n",
    "\n"
   ]
  },
  {
   "cell_type": "code",
   "execution_count": 3,
   "metadata": {},
   "outputs": [
    {
     "name": "stdout",
     "output_type": "stream",
     "text": [
      "The number of rows in the CSV file is: 249\n"
     ]
    }
   ],
   "source": [
    "# Q4. How can you use Python to count the number of rows in a CSV file?\n",
    "import csv\n",
    "def count_rows_in_csv(file_path):\n",
    "    try:\n",
    "        # Opening the CSV file in read mode\n",
    "        with open(file_path, 'r', newline='') as csvfile:\n",
    "            # Creating a CSV reader object\n",
    "            csv_reader = csv.reader(csvfile)\n",
    "\n",
    "            # Using the len() function to count the number of rows\n",
    "            num_rows = len(list(csv_reader))\n",
    "        return num_rows\n",
    "    \n",
    "    except FileNotFoundError:\n",
    "        print(\"Error: The file was not found.\")\n",
    "        return None\n",
    "    \n",
    "if __name__ == \"__main__\":\n",
    "\n",
    "    file_path = 'Algerian_forest_fires_dataset_UPDATE.csv'\n",
    "    num_rows = count_rows_in_csv(file_path)\n",
    "\n",
    "    if num_rows is not None:\n",
    "        print(f\"The number of rows in the CSV file is: {num_rows}\")\n",
    "\n",
    "\n",
    "\n",
    "\n"
   ]
  },
  {
   "cell_type": "code",
   "execution_count": 13,
   "metadata": {},
   "outputs": [
    {
     "name": "stdout",
     "output_type": "stream",
     "text": [
      "The average of 'Temperature' is: 32.1522633744856\n"
     ]
    }
   ],
   "source": [
    "# Q5. How can you use Python to calculate the average of a specific column in a CSV file?\n",
    "import pandas as pd\n",
    "file_path = 'Algerian_forest_fires_cleaned_dataset.csv'\n",
    "df = pd.read_csv(file_path)\n",
    "column_name = 'Temperature'\n",
    "average_value = df[column_name].mean()\n",
    "\n",
    "print(f\"The average of '{column_name}' is: {average_value}\")"
   ]
  },
  {
   "cell_type": "code",
   "execution_count": 14,
   "metadata": {},
   "outputs": [
    {
     "data": {
      "text/html": [
       "<div>\n",
       "<style scoped>\n",
       "    .dataframe tbody tr th:only-of-type {\n",
       "        vertical-align: middle;\n",
       "    }\n",
       "\n",
       "    .dataframe tbody tr th {\n",
       "        vertical-align: top;\n",
       "    }\n",
       "\n",
       "    .dataframe thead th {\n",
       "        text-align: right;\n",
       "    }\n",
       "</style>\n",
       "<table border=\"1\" class=\"dataframe\">\n",
       "  <thead>\n",
       "    <tr style=\"text-align: right;\">\n",
       "      <th></th>\n",
       "      <th>day</th>\n",
       "      <th>month</th>\n",
       "      <th>year</th>\n",
       "      <th>Temperature</th>\n",
       "      <th>RH</th>\n",
       "      <th>Ws</th>\n",
       "      <th>Rain</th>\n",
       "      <th>FFMC</th>\n",
       "      <th>DMC</th>\n",
       "      <th>DC</th>\n",
       "      <th>ISI</th>\n",
       "      <th>BUI</th>\n",
       "      <th>FWI</th>\n",
       "      <th>Classes</th>\n",
       "      <th>Region</th>\n",
       "    </tr>\n",
       "  </thead>\n",
       "  <tbody>\n",
       "    <tr>\n",
       "      <th>0</th>\n",
       "      <td>1</td>\n",
       "      <td>6</td>\n",
       "      <td>2012</td>\n",
       "      <td>29</td>\n",
       "      <td>57</td>\n",
       "      <td>18</td>\n",
       "      <td>0.0</td>\n",
       "      <td>65.7</td>\n",
       "      <td>3.4</td>\n",
       "      <td>7.6</td>\n",
       "      <td>1.3</td>\n",
       "      <td>3.4</td>\n",
       "      <td>0.5</td>\n",
       "      <td>not fire</td>\n",
       "      <td>0</td>\n",
       "    </tr>\n",
       "    <tr>\n",
       "      <th>1</th>\n",
       "      <td>2</td>\n",
       "      <td>6</td>\n",
       "      <td>2012</td>\n",
       "      <td>29</td>\n",
       "      <td>61</td>\n",
       "      <td>13</td>\n",
       "      <td>1.3</td>\n",
       "      <td>64.4</td>\n",
       "      <td>4.1</td>\n",
       "      <td>7.6</td>\n",
       "      <td>1.0</td>\n",
       "      <td>3.9</td>\n",
       "      <td>0.4</td>\n",
       "      <td>not fire</td>\n",
       "      <td>0</td>\n",
       "    </tr>\n",
       "    <tr>\n",
       "      <th>2</th>\n",
       "      <td>3</td>\n",
       "      <td>6</td>\n",
       "      <td>2012</td>\n",
       "      <td>26</td>\n",
       "      <td>82</td>\n",
       "      <td>22</td>\n",
       "      <td>13.1</td>\n",
       "      <td>47.1</td>\n",
       "      <td>2.5</td>\n",
       "      <td>7.1</td>\n",
       "      <td>0.3</td>\n",
       "      <td>2.7</td>\n",
       "      <td>0.1</td>\n",
       "      <td>not fire</td>\n",
       "      <td>0</td>\n",
       "    </tr>\n",
       "    <tr>\n",
       "      <th>3</th>\n",
       "      <td>4</td>\n",
       "      <td>6</td>\n",
       "      <td>2012</td>\n",
       "      <td>25</td>\n",
       "      <td>89</td>\n",
       "      <td>13</td>\n",
       "      <td>2.5</td>\n",
       "      <td>28.6</td>\n",
       "      <td>1.3</td>\n",
       "      <td>6.9</td>\n",
       "      <td>0.0</td>\n",
       "      <td>1.7</td>\n",
       "      <td>0.0</td>\n",
       "      <td>not fire</td>\n",
       "      <td>0</td>\n",
       "    </tr>\n",
       "    <tr>\n",
       "      <th>4</th>\n",
       "      <td>5</td>\n",
       "      <td>6</td>\n",
       "      <td>2012</td>\n",
       "      <td>27</td>\n",
       "      <td>77</td>\n",
       "      <td>16</td>\n",
       "      <td>0.0</td>\n",
       "      <td>64.8</td>\n",
       "      <td>3.0</td>\n",
       "      <td>14.2</td>\n",
       "      <td>1.2</td>\n",
       "      <td>3.9</td>\n",
       "      <td>0.5</td>\n",
       "      <td>not fire</td>\n",
       "      <td>0</td>\n",
       "    </tr>\n",
       "  </tbody>\n",
       "</table>\n",
       "</div>"
      ],
      "text/plain": [
       "   day  month  year  Temperature  RH  Ws  Rain  FFMC  DMC    DC  ISI  BUI  \\\n",
       "0    1      6  2012           29  57  18   0.0  65.7  3.4   7.6  1.3  3.4   \n",
       "1    2      6  2012           29  61  13   1.3  64.4  4.1   7.6  1.0  3.9   \n",
       "2    3      6  2012           26  82  22  13.1  47.1  2.5   7.1  0.3  2.7   \n",
       "3    4      6  2012           25  89  13   2.5  28.6  1.3   6.9  0.0  1.7   \n",
       "4    5      6  2012           27  77  16   0.0  64.8  3.0  14.2  1.2  3.9   \n",
       "\n",
       "   FWI      Classes  Region  \n",
       "0  0.5  not fire          0  \n",
       "1  0.4  not fire          0  \n",
       "2  0.1  not fire          0  \n",
       "3  0.0  not fire          0  \n",
       "4  0.5  not fire          0  "
      ]
     },
     "execution_count": 14,
     "metadata": {},
     "output_type": "execute_result"
    }
   ],
   "source": [
    "df.head()"
   ]
  },
  {
   "cell_type": "code",
   "execution_count": 5,
   "metadata": {},
   "outputs": [
    {
     "name": "stdout",
     "output_type": "stream",
     "text": [
      "The value of 'person' is: {'name': 'Jane Smith', 'age': 28, 'email': 'jane.smith@example.com', 'address': {'street': '123 Main St', 'city': 'Los Angeles', 'zipcode': '90001', 'country': 'USA'}, 'is_student': False, 'grades': {'math': 95, 'science': 88, 'history': 78}, 'hobbies': ['reading', 'traveling', 'painting'], 'friends': [{'name': 'Tom', 'age': 30, 'email': 'tom@example.com'}, {'name': 'Emily', 'age': 27, 'email': 'emily@example.com'}]}\n"
     ]
    }
   ],
   "source": [
    "# Q6. Write a Python program to read a JSON file and print out the value of a specified key.\n",
    "import json\n",
    "def get_value_from_json(json_file, key):\n",
    "    try:\n",
    "        with open(json_file, 'r') as file:\n",
    "            data = json.load(file)\n",
    "            value = data.get(key)\n",
    "            return value\n",
    "    except FileNotFoundError:\n",
    "        print(f\"Error: File '{json_file}' not found.\")\n",
    "    except json.JSONDecodeError:\n",
    "        print(f\"Error: Unable to parse JSON data in '{json_file}'.\")\n",
    "    except Exception as e:\n",
    "        print(f\"An error occurred: {e}\")\n",
    "\n",
    "if __name__ == \"__main__\":\n",
    "    json_file_path = 'data.json'\n",
    "    \n",
    "    key_to_find = 'person'\n",
    "\n",
    "    value = get_value_from_json(json_file_path, key_to_find)\n",
    "\n",
    "    if value is not None:\n",
    "        print(f\"The value of '{key_to_find}' is: {value}\")\n"
   ]
  },
  {
   "cell_type": "code",
   "execution_count": 2,
   "metadata": {},
   "outputs": [
    {
     "name": "stdout",
     "output_type": "stream",
     "text": [
      "Successfully wrote 5 strings to 'strings.txt'.\n"
     ]
    }
   ],
   "source": [
    "# Q7. Can you provide a Python code snippet to write a list of strings into a text file where each string is\n",
    "# written on a new line?\n",
    "\n",
    "def write_list_to_text_file(file_path, string_list):\n",
    "    try:\n",
    "        with open(file_path, 'w') as file:\n",
    "            for string in string_list:\n",
    "                file.write(string + '\\n')\n",
    "        print(f\"Successfully wrote {len(string_list)} strings to '{file_path}'.\")\n",
    "    except Exception as e:\n",
    "        print(f\"An error occurred: {e}\")\n",
    "if __name__ == \"__main__\":\n",
    "    file_path = 'strings.txt'\n",
    "    strings_to_write = [\"Hello\", \"World\", \"Python\", \"is\", \"awesome\"]\n",
    "    write_list_to_text_file(file_path, strings_to_write)\n",
    "\n"
   ]
  },
  {
   "cell_type": "code",
   "execution_count": 2,
   "metadata": {},
   "outputs": [
    {
     "name": "stdout",
     "output_type": "stream",
     "text": [
      "31303031303131300d0a31303030303031\n"
     ]
    }
   ],
   "source": [
    "# Q8. Can you provide a Python code to read a binary file and display the data in hexadecimal format.\n",
    "\n",
    "def display_binary_file_in_hex(file_path):\n",
    "    try:\n",
    "        with open(file_path, 'rb') as file:\n",
    "            data = file.read()\n",
    "            hex_data = data.hex()\n",
    "            print(hex_data)\n",
    "    except FileNotFoundError:\n",
    "        print(f\"Error: File '{file_path}' not found.\")\n",
    "    except Exception as e:\n",
    "        print(f\"An error occurred: {e}\")\n",
    "\n",
    "if __name__ == \"__main__\":\n",
    "    binary_file_path = 'binary_file.dat'\n",
    "    display_binary_file_in_hex(binary_file_path)\n"
   ]
  },
  {
   "cell_type": "code",
   "execution_count": null,
   "metadata": {},
   "outputs": [],
   "source": [
    "# Q9. Can you write a Python code to read a Comma-Separated Values (CSV) file, apply a specific condition\n",
    "# to each row, and create a new CSV file that contains only the rows that satisfy the condition? For example,\n",
    "# if the CSV file contains information about products and their prices, you may want to create a new CSV\n",
    "# file that only includes the products that are within a certain price range. The program should be able to\n",
    "# read the CSV file, compare the values in each row to the specified condition, and write the rows that meet\n",
    "# the criteria to a new CSV file.\n",
    "\n",
    "import csv\n",
    "def filter_csv(input_file, output_file, price_range):\n",
    "    try:\n",
    "        with open(input_file, 'r') as csv_in, open(output_file, 'w', newline='') as csv_out:\n",
    "            reader = csv.reader(csv_in)\n",
    "            writer = csv.writer(csv_out)\n",
    "\n",
    "            # Writing the header row to the output file (assuming the first row is the header)\n",
    "            header = next(reader)\n"
   ]
  }
 ],
 "metadata": {
  "kernelspec": {
   "display_name": "Python 3",
   "language": "python",
   "name": "python3"
  },
  "language_info": {
   "codemirror_mode": {
    "name": "ipython",
    "version": 3
   },
   "file_extension": ".py",
   "mimetype": "text/x-python",
   "name": "python",
   "nbconvert_exporter": "python",
   "pygments_lexer": "ipython3",
   "version": "3.11.2"
  },
  "orig_nbformat": 4
 },
 "nbformat": 4,
 "nbformat_minor": 2
}
