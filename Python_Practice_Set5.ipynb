{
 "cells": [
  {
   "cell_type": "code",
   "execution_count": 2,
   "metadata": {},
   "outputs": [
    {
     "name": "stdout",
     "output_type": "stream",
     "text": [
      "Total number of words in the file: 4\n"
     ]
    }
   ],
   "source": [
    "# Q1. Can you create a Python program that reads a text file and counts the number of words contained\n",
    "# within it? The program should be designed to read the file and break it down into individual words, using\n",
    "# spaces, punctuation marks, and other delimiters to separate the words. It should then count the number\n",
    "# of words found in the file and display this count as output. The program should be flexible enough to work\n",
    "# with different text files and should be able to handle a variety of formatting and punctuation styles.\n",
    "\n",
    "import string\n",
    "def count_words_in_file(file_path):\n",
    "    word_count = 0\n",
    "    # opening the file and reading its content line by line\n",
    "    with open(file_path, 'r') as file:\n",
    "        for line in file:\n",
    "            # Removing punctuation and split the line into words\n",
    "            words = line.translate(str.maketrans('', '', string.punctuation)).split()\n",
    "            word_count += len(words)\n",
    "    return word_count\n",
    "\n",
    "if __name__ == \"__main__\":\n",
    "    file_path = input(\"Enter the path to the text file: \")\n",
    "    try:\n",
    "        total_words = count_words_in_file(file_path)\n",
    "        print(f\"Total number of words in the file: {total_words}\")\n",
    "\n",
    "    except FileNotFoundError:\n",
    "        print(\"Error: File not found.\")\n",
    "    except Exception as e:\n",
    "        print(f\"An error occurred: {e}\")"
   ]
  },
  {
   "cell_type": "code",
   "execution_count": 4,
   "metadata": {},
   "outputs": [
    {
     "name": "stdout",
     "output_type": "stream",
     "text": [
      "The longest word in the file is: adhikari\n"
     ]
    }
   ],
   "source": [
    "# Q2. Could you help me create a Python program that can find and display the longest word in a text file?\n",
    "# The program should be able to read any text file and separate its contents into individual words, taking\n",
    "# into account various delimiters like spaces, punctuation marks, and other characters. Then, it should\n",
    "# compare the length of each word and determine which one is the longest, and finally, print that word as\n",
    "# output. The program should be versatile enough to work with various text files and be able to handle\n",
    "# different formatting styles and punctuation.\n",
    "\n",
    "import re\n",
    "\n",
    "def get_longest_word(file_path):\n",
    "    try:\n",
    "        # Reading the contents of the text file\n",
    "        with open(file_path, 'r') as file:\n",
    "            text = file.read()\n",
    "\n",
    "        # Using regular expression to split the text into words\n",
    "        words = re.findall(r'\\b\\w+\\b', text)\n",
    "\n",
    "        # Finding the longest word\n",
    "        longest_word = max(words, key=len)\n",
    "        return longest_word\n",
    "    \n",
    "    except FileNotFoundError:\n",
    "        print(\"Error: The file was not found.\")\n",
    "        return None\n",
    "    \n",
    "if __name__ == \"__main__\":\n",
    "    file_path = 'file.txt'\n",
    "    longest_word = get_longest_word(file_path)\n",
    "\n",
    "    if longest_word:\n",
    "        print(\"The longest word in the file is:\", longest_word)\n",
    "\n"
   ]
  },
  {
   "cell_type": "code",
   "execution_count": 3,
   "metadata": {},
   "outputs": [
    {
     "name": "stdout",
     "output_type": "stream",
     "text": [
      "The most frequent word in the file is 'i' and it appears 7 time(s).\n"
     ]
    }
   ],
   "source": [
    "# Q3. Write a Python program to read a text file and print out the most frequent word(s) in the file.\n",
    "import re\n",
    "from collections import Counter\n",
    "def get_most_frequent_word(file_path, num_words=1):\n",
    "    try:\n",
    "        # Reading the contents of the text file\n",
    "        with open(file_path, 'r') as file:\n",
    "            text = file.read()\n",
    "\n",
    "        # Using regular expression to split the text into words\n",
    "        words = re.findall(r'\\b\\w+\\b', text.lower())\n",
    "\n",
    "        # Counting the occurrences of each word using the Counter class from collections\n",
    "        word_count = Counter(words)\n",
    "\n",
    "        # Extracting the most common word(s)\n",
    "        most_common_words, most_common_count = word_count.most_common(1)[0]\n",
    "        return most_common_words, most_common_count\n",
    "    \n",
    "    except FileNotFoundError:\n",
    "        print(\"Error: The file was not found.\")\n",
    "        return None\n",
    "    \n",
    "if __name__ == \"__main__\":\n",
    "    \n",
    "    file_path = 'file.txt'\n",
    "    most_frequent_word, frequency = get_most_frequent_word(file_path)\n",
    "\n",
    "    if most_frequent_word and frequency:\n",
    "        print(f\"The most frequent word in the file is '{most_frequent_word}' \"\n",
    "              f\"and it appears {frequency} time(s).\")\n",
    "\n"
   ]
  },
  {
   "cell_type": "code",
   "execution_count": null,
   "metadata": {},
   "outputs": [],
   "source": [
    "# Q4. How can you use Python to count the number of rows in a CSV file?\n",
    "import csv\n",
    "def count_rows_in_csv(file_path):\n",
    "    try:\n",
    "        # Opening the CSV file in read mode\n",
    "        with open(file_path, 'r', newline='') as csvfile:\n",
    "            # Creating a CSV reader object\n",
    "            csv_reader = csv.reader(csvfile)\n",
    "\n",
    "\n"
   ]
  }
 ],
 "metadata": {
  "kernelspec": {
   "display_name": "Python 3",
   "language": "python",
   "name": "python3"
  },
  "language_info": {
   "codemirror_mode": {
    "name": "ipython",
    "version": 3
   },
   "file_extension": ".py",
   "mimetype": "text/x-python",
   "name": "python",
   "nbconvert_exporter": "python",
   "pygments_lexer": "ipython3",
   "version": "3.11.2"
  },
  "orig_nbformat": 4
 },
 "nbformat": 4,
 "nbformat_minor": 2
}
