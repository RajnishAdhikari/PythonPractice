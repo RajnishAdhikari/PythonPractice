{
 "cells": [
  {
   "cell_type": "code",
   "execution_count": null,
   "metadata": {},
   "outputs": [],
   "source": [
    "# Q1. Can you create a Python program that reads a text file and counts the number of words contained\n",
    "# within it? The program should be designed to read the file and break it down into individual words, using\n",
    "# spaces, punctuation marks, and other delimiters to separate the words. It should then count the number\n",
    "# of words found in the file and display this count as output. The program should be flexible enough to work\n",
    "# with different text files and should be able to handle a variety of formatting and punctuation styles.\n",
    "\n",
    "import string\n",
    "def count_words_in_file(file_path):\n",
    "    word_count = 0\n",
    "    # opening the file and reading its content line by line\n",
    "    with open(file_path, 'r') as file:\n",
    "        for line in file:\n",
    "            # Removing punctuation and split the line into words\n",
    "            words = line.translate(str.maketrans('', '', string.punctuation)).split()\n",
    "            word_count += len(words)\n",
    "    return word_count\n",
    "\n",
    "if __name__ == \"__main__\":\n",
    "    file_path = input(\"Enter the path to the text file: \")\n",
    "    try:\n",
    "        total_words = count_words_in_file(file_path)\n",
    "        print(f\"Total number of words in the file: {total_words}\")\n",
    "\n",
    "    except FileNotFoundError:\n",
    "        print(\"Error: File not found.\")\n",
    "    except Exception as e:\n",
    "        print(f\"An error occurred: {e}\")"
   ]
  }
 ],
 "metadata": {
  "language_info": {
   "name": "python"
  },
  "orig_nbformat": 4
 },
 "nbformat": 4,
 "nbformat_minor": 2
}
