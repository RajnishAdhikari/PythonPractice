{
 "cells": [
  {
   "cell_type": "markdown",
   "metadata": {},
   "source": [
    "Q1. Write a program that prints the first 10 even numbers using a for loop. "
   ]
  },
  {
   "cell_type": "code",
   "execution_count": 2,
   "metadata": {},
   "outputs": [
    {
     "name": "stdout",
     "output_type": "stream",
     "text": [
      "2\n",
      "4\n",
      "6\n",
      "8\n",
      "10\n",
      "12\n",
      "14\n",
      "16\n",
      "18\n",
      "20\n"
     ]
    }
   ],
   "source": [
    "for i in range (2, 21, 2):\n",
    "    print(i)"
   ]
  },
  {
   "cell_type": "code",
   "execution_count": 3,
   "metadata": {},
   "outputs": [
    {
     "name": "stdout",
     "output_type": "stream",
     "text": [
      " the first 10 even numbers are: [2, 4, 6, 8, 10, 12, 14, 16, 18, 20]\n"
     ]
    }
   ],
   "source": [
    "# another way\n",
    "even_numbers = []\n",
    "\n",
    "for i in range(2,21, 2):\n",
    "    even_numbers.append(i)\n",
    "\n",
    "print(\" the first 10 even numbers are:\", even_numbers)"
   ]
  },
  {
   "cell_type": "markdown",
   "metadata": {},
   "source": [
    "Q2. Write a program that takes a list of strings and prints out each string in reverse order using a for loop."
   ]
  },
  {
   "cell_type": "code",
   "execution_count": 4,
   "metadata": {},
   "outputs": [
    {
     "name": "stdout",
     "output_type": "stream",
     "text": [
      "olleH\n",
      "dlroW\n",
      "nohtyP\n",
      "si\n",
      "!nuf\n"
     ]
    }
   ],
   "source": [
    "strings = [\"Hello\", \"World\", \"Python\", \"is\", \"fun!\"]\n",
    "\n",
    "for string in strings:\n",
    "  # Use reversed() to iterate through the string in reverse order\n",
    "  for char in reversed(string):\n",
    "    print(char, end=\"\")\n",
    "  print()  # Add a newline after each string\n"
   ]
  },
  {
   "cell_type": "code",
   "execution_count": 5,
   "metadata": {},
   "outputs": [
    {
     "name": "stdout",
     "output_type": "stream",
     "text": [
      "Original: hello  |  Reversed: olleh\n",
      "Original: rajnish  |  Reversed: hsinjar\n",
      "Original: python  |  Reversed: nohtyp\n",
      "Original: data science  |  Reversed: ecneics atad\n"
     ]
    }
   ],
   "source": [
    "# another way \n",
    "# Python program to print each string in reverse order\n",
    "def reverse_strings(strings_list):\n",
    "    for string in strings_list:\n",
    "        reversed_string = ''.join(reversed(string))\n",
    "        print(f\"Original: {string}  |  Reversed: {reversed_string}\")\n",
    "\n",
    "# Example usage\n",
    "string_list = [\"hello\", 'rajnish', \"python\", \"data science\"]\n",
    "reverse_strings(string_list)\n"
   ]
  },
  {
   "cell_type": "markdown",
   "metadata": {},
   "source": [
    "Q3. Write a program that prints the multiplication table of a given number using a for loop."
   ]
  },
  {
   "cell_type": "code",
   "execution_count": null,
   "metadata": {},
   "outputs": [],
   "source": [
    "def multiplication(num):\n",
    "    print(f\"Multiplication table for {num}:\")\n",
    "    for i in range(1,11):\n",
    "        result = num * 1\n",
    "        "
   ]
  },
  {
   "cell_type": "code",
   "execution_count": null,
   "metadata": {},
   "outputs": [],
   "source": []
  }
 ],
 "metadata": {
  "kernelspec": {
   "display_name": "Python 3",
   "language": "python",
   "name": "python3"
  },
  "language_info": {
   "codemirror_mode": {
    "name": "ipython",
    "version": 3
   },
   "file_extension": ".py",
   "mimetype": "text/x-python",
   "name": "python",
   "nbconvert_exporter": "python",
   "pygments_lexer": "ipython3",
   "version": "3.11.2"
  }
 },
 "nbformat": 4,
 "nbformat_minor": 2
}
