{
 "cells": [
  {
   "cell_type": "markdown",
   "metadata": {},
   "source": [
    "Q1. Write a program that prints the first 10 even numbers using a for loop. "
   ]
  },
  {
   "cell_type": "code",
   "execution_count": 2,
   "metadata": {},
   "outputs": [
    {
     "name": "stdout",
     "output_type": "stream",
     "text": [
      "2\n",
      "4\n",
      "6\n",
      "8\n",
      "10\n",
      "12\n",
      "14\n",
      "16\n",
      "18\n",
      "20\n"
     ]
    }
   ],
   "source": [
    "for i in range (2, 21, 2):\n",
    "    print(i)"
   ]
  },
  {
   "cell_type": "code",
   "execution_count": 3,
   "metadata": {},
   "outputs": [
    {
     "name": "stdout",
     "output_type": "stream",
     "text": [
      " the first 10 even numbers are: [2, 4, 6, 8, 10, 12, 14, 16, 18, 20]\n"
     ]
    }
   ],
   "source": [
    "# another way\n",
    "even_numbers = []\n",
    "\n",
    "for i in range(2,21, 2):\n",
    "    even_numbers.append(i)\n",
    "\n",
    "print(\" the first 10 even numbers are:\", even_numbers)"
   ]
  },
  {
   "cell_type": "markdown",
   "metadata": {},
   "source": [
    "Q2. Write a program that takes a list of strings and prints out each string in reverse order using a for loop."
   ]
  },
  {
   "cell_type": "code",
   "execution_count": 4,
   "metadata": {},
   "outputs": [
    {
     "name": "stdout",
     "output_type": "stream",
     "text": [
      "olleH\n",
      "dlroW\n",
      "nohtyP\n",
      "si\n",
      "!nuf\n"
     ]
    }
   ],
   "source": [
    "strings = [\"Hello\", \"World\", \"Python\", \"is\", \"fun!\"]\n",
    "\n",
    "for string in strings:\n",
    "  # Use reversed() to iterate through the string in reverse order\n",
    "  for char in reversed(string):\n",
    "    print(char, end=\"\")\n",
    "  print()  # Add a newline after each string\n"
   ]
  },
  {
   "cell_type": "code",
   "execution_count": 5,
   "metadata": {},
   "outputs": [
    {
     "name": "stdout",
     "output_type": "stream",
     "text": [
      "Original: hello  |  Reversed: olleh\n",
      "Original: rajnish  |  Reversed: hsinjar\n",
      "Original: python  |  Reversed: nohtyp\n",
      "Original: data science  |  Reversed: ecneics atad\n"
     ]
    }
   ],
   "source": [
    "# another way \n",
    "# Python program to print each string in reverse order\n",
    "def reverse_strings(strings_list):\n",
    "    for string in strings_list:\n",
    "        reversed_string = ''.join(reversed(string))\n",
    "        print(f\"Original: {string}  |  Reversed: {reversed_string}\")\n",
    "\n",
    "# Example usage\n",
    "string_list = [\"hello\", 'rajnish', \"python\", \"data science\"]\n",
    "reverse_strings(string_list)\n"
   ]
  },
  {
   "cell_type": "markdown",
   "metadata": {},
   "source": [
    "Q3. Write a program that prints the multiplication table of a given number using a for loop."
   ]
  },
  {
   "cell_type": "code",
   "execution_count": 3,
   "metadata": {},
   "outputs": [
    {
     "name": "stdout",
     "output_type": "stream",
     "text": [
      "Multiplication table for 90:\n",
      "90 x 1 = 90\n",
      "90 x 2 = 180\n",
      "90 x 3 = 270\n",
      "90 x 4 = 360\n",
      "90 x 5 = 450\n",
      "90 x 6 = 540\n",
      "90 x 7 = 630\n",
      "90 x 8 = 720\n",
      "90 x 9 = 810\n",
      "90 x 10 = 900\n"
     ]
    }
   ],
   "source": [
    "def multiplication():\n",
    "    # Taking input from the user\n",
    "    num = int(input(\"Enter a number to get its multiplication table: \"))\n",
    "    \n",
    "    print(f\"Multiplication table for {num}:\")\n",
    "    \n",
    "    # Printing the multiplication table using a for loop\n",
    "    for i in range(1, 11):\n",
    "        result = num * i\n",
    "        print(f\"{num} x {i} = {result}\")\n",
    "\n",
    "# Calling the function\n",
    "multiplication()\n"
   ]
  },
  {
   "cell_type": "markdown",
   "metadata": {},
   "source": [
    "Q4. Write a program that takes a list of integers as input and returns the sum of all the numbers in the list\n",
    "using a for loop."
   ]
  },
  {
   "cell_type": "code",
   "execution_count": 6,
   "metadata": {},
   "outputs": [
    {
     "name": "stdout",
     "output_type": "stream",
     "text": [
      "The sum of the numbers in the list is :13\n"
     ]
    }
   ],
   "source": [
    "def sum(number):\n",
    "    # Initializing sum to 0\n",
    "    sum_result = 0\n",
    "\n",
    "    # Calculating sum using a for loop\n",
    "    for num in number:\n",
    "        sum_result += num\n",
    "\n",
    "    return sum_result\n",
    "\n",
    "\n",
    "result = sum([3,4,2,4])\n",
    "print(f\"The sum of the numbers in the list is :{result}\")"
   ]
  },
  {
   "cell_type": "markdown",
   "metadata": {},
   "source": [
    "Q5. Write a program that prompts the user for a positive integer and then prints out all the prime\n",
    "numbers up to that number using a for loop."
   ]
  },
  {
   "cell_type": "code",
   "execution_count": 2,
   "metadata": {},
   "outputs": [
    {
     "name": "stdout",
     "output_type": "stream",
     "text": [
      "Prime numbers upto 98:\n",
      "2\n",
      "3\n",
      "5\n",
      "7\n",
      "11\n",
      "13\n",
      "17\n",
      "19\n",
      "23\n",
      "29\n",
      "31\n",
      "37\n",
      "41\n",
      "43\n",
      "47\n",
      "53\n",
      "59\n",
      "61\n",
      "67\n",
      "71\n",
      "73\n",
      "79\n",
      "83\n",
      "89\n",
      "97\n"
     ]
    }
   ],
   "source": [
    "def is_prime(num):\n",
    "    # Function to check if a number is prime\n",
    "    if num < 2:\n",
    "        return False\n",
    "    for i in range(2, int(num**0.5) + 1):\n",
    "        if num % i == 0:\n",
    "            return False\n",
    "    return True\n",
    "\n",
    "def print_prime(limit):\n",
    "    # Function to print prime number upto a given limit\n",
    "    print(f\"Prime numbers upto {limit}:\")\n",
    "    for num in range(2, limit + 1):\n",
    "        if is_prime(num):\n",
    "            print(num)\n",
    "\n",
    "# taking user input for the limit\n",
    "user_limit = int(input(\"Enter a positive integer: \"))\n",
    "if user_limit <= 0:\n",
    "    print(f\"Please enter a positive integer. \")\n",
    "else:\n",
    "    #calling the func to print prime numbers\n",
    "    print_prime(user_limit)"
   ]
  },
  {
   "cell_type": "markdown",
   "metadata": {},
   "source": [
    "Q6. Write a program that prompts the user to enter a password until the correct password is entered\n",
    "using a while loop."
   ]
  },
  {
   "cell_type": "code",
   "execution_count": 4,
   "metadata": {},
   "outputs": [
    {
     "name": "stdout",
     "output_type": "stream",
     "text": [
      "Incorrect password. Please try again.\n",
      "Correct password! Access granted.\n"
     ]
    }
   ],
   "source": [
    "# Correct password (you can replace it with your desired password)\n",
    "correct_password = \"mypassword\"\n",
    "\n",
    "# Prompting the user for password until it's correct\n",
    "while True:\n",
    "    user_password = input(\"Enter the password: \")\n",
    "\n",
    "    if user_password == correct_password:\n",
    "        print(\"Correct password! Access granted.\")\n",
    "        break  # Exit the loop if the password is correct\n",
    "    else:\n",
    "        print(\"Incorrect password. Please try again.\")"
   ]
  },
  {
   "cell_type": "markdown",
   "metadata": {},
   "source": [
    "Q7. Write a program that takes a list of strings and prints out each string in reverse order using a while loop."
   ]
  },
  {
   "cell_type": "code",
   "execution_count": 5,
   "metadata": {},
   "outputs": [
    {
     "name": "stdout",
     "output_type": "stream",
     "text": [
      "Original :hello | Reversed: olleh\n",
      "Original :python | Reversed: nohtyp\n",
      "Original :data | Reversed: atad\n",
      "Original :science | Reversed: ecneics\n",
      "Original :Rajnish Adhikari | Reversed: irakihdA hsinjaR\n"
     ]
    }
   ],
   "source": [
    "def reverse_string(string_list):\n",
    "    index = 0\n",
    "\n",
    "    while index < len(string_list):\n",
    "        reversed_string = ''.join(reversed(string_list[index]))\n",
    "        print(f\"Original :{string_list[index]} | Reversed: {reversed_string}\")\n",
    "\n",
    "        # Move to the next string in the list\n",
    "        index = index + 1\n",
    "\n",
    "# example\n",
    "        \n",
    "string_list = [\"hello\", \"python\", \"data\", \"science\" ,\"Rajnish Adhikari\"]\n",
    "reverse_string(string_list)\n",
    "\n",
    "\n",
    "\n",
    "# strings_list[index]: \n",
    "# Accesses the string at the current index in the list strings_list.\n",
    "\n",
    "# reversed(strings_list[index]): \n",
    "# Reverses the characters of the selected string. The reversed function returns a reverse iterator.\n",
    "\n",
    "# ''.join(...): \n",
    "# Joins the reversed characters into a single string. \n",
    "\n",
    "# The empty string '' is used as a separator between the reversed characters, effectively \n",
    "\n"
   ]
  },
  {
   "cell_type": "markdown",
   "metadata": {},
   "source": [
    "Q8. Write a program that prompts the user to enter a positive integer and then prints out all the Fibonacci\n",
    "numbers up to that number using a while loop."
   ]
  },
  {
   "cell_type": "code",
   "execution_count": null,
   "metadata": {},
   "outputs": [],
   "source": [
    "def generate_fibonacci(limit):\n",
    "    # Function to generate Fibonacci numbers up to a given limit\n",
    "    a, b = 0, 1\n",
    "    fibonacci_numbers = []\n",
    "\n",
    "    while a <= limit:\n"
   ]
  },
  {
   "cell_type": "code",
   "execution_count": null,
   "metadata": {},
   "outputs": [],
   "source": []
  }
 ],
 "metadata": {
  "kernelspec": {
   "display_name": "Python 3",
   "language": "python",
   "name": "python3"
  },
  "language_info": {
   "codemirror_mode": {
    "name": "ipython",
    "version": 3
   },
   "file_extension": ".py",
   "mimetype": "text/x-python",
   "name": "python",
   "nbconvert_exporter": "python",
   "pygments_lexer": "ipython3",
   "version": "3.11.2"
  }
 },
 "nbformat": 4,
 "nbformat_minor": 2
}
