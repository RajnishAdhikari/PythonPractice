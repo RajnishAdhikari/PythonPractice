{
 "cells": [
  {
   "cell_type": "code",
   "execution_count": 1,
   "metadata": {},
   "outputs": [],
   "source": [
    "import turtle\n",
    "\n",
    "# Set up the turtle\n",
    "t = turtle.Turtle()\n",
    "t.speed(0)  # Set the drawing speed to fastest\n",
    "\n",
    "# Draw the trishul (trident)\n",
    "t.penup()\n",
    "t.goto(0, -200)\n",
    "t.pendown()\n",
    "t.goto(0, 200)\n",
    "t.goto(-50, 100)\n",
    "t.goto(50, 100)\n",
    "t.goto(0, 200)\n",
    "\n",
    "# Draw the crescent moon on top of the trishul\n",
    "t.penup()\n",
    "t.goto(0, 200)\n",
    "t.pendown()\n",
    "t.circle(50)\n",
    "\n",
    "# Draw the third eye of Lord Shiva\n",
    "t.penup()\n",
    "t.goto(0, 50)\n",
    "t.dot(20, \"red\")\n",
    "\n",
    "# Hide the turtle\n",
    "t.hideturtle()\n",
    "\n",
    "# Keep the window open\n",
    "turtle.done()\n"
   ]
  },
  {
   "cell_type": "code",
   "execution_count": 2,
   "metadata": {},
   "outputs": [],
   "source": [
    "from PIL import Image, ImageDraw\n",
    "\n",
    "# Create a new image with white background\n",
    "width, height = 400, 400\n",
    "image = Image.new(\"RGB\", (width, height), \"white\")\n",
    "draw = ImageDraw.Draw(image)\n",
    "\n",
    "# Draw the trishul (trident)\n",
    "draw.line((200, 50, 200, 250), fill=\"black\", width=10)\n",
    "draw.line((150, 150, 250, 150), fill=\"black\", width=10)\n",
    "\n",
    "# Draw the crescent moon\n",
    "draw.ellipse((175, 0, 225, 50), fill=\"black\")\n",
    "\n",
    "# Draw the third eye of Lord Shiva\n",
    "draw.ellipse((190, 120, 210, 140), fill=\"red\")\n",
    "\n",
    "# Save the image\n",
    "image.save(\"lord_shiva_art.png\")\n",
    "\n",
    "# Display the image\n",
    "image.show()\n"
   ]
  },
  {
   "cell_type": "code",
   "execution_count": null,
   "metadata": {},
   "outputs": [],
   "source": []
  }
 ],
 "metadata": {
  "kernelspec": {
   "display_name": "Python 3",
   "language": "python",
   "name": "python3"
  },
  "language_info": {
   "codemirror_mode": {
    "name": "ipython",
    "version": 3
   },
   "file_extension": ".py",
   "mimetype": "text/x-python",
   "name": "python",
   "nbconvert_exporter": "python",
   "pygments_lexer": "ipython3",
   "version": "3.11.2"
  }
 },
 "nbformat": 4,
 "nbformat_minor": 2
}
