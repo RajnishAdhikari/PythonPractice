{
 "cells": [
  {
   "cell_type": "markdown",
   "metadata": {},
   "source": [
    "# Class Method"
   ]
  },
  {
   "cell_type": "code",
   "execution_count": 8,
   "metadata": {},
   "outputs": [],
   "source": [
    "# without class methods\n",
    "class ineuron:\n",
    "    def __init__(self, name, email):\n",
    "        self.name = name\n",
    "        self.email = email\n",
    "\n",
    "\n",
    "\n",
    "    def details(self):\n",
    "        print(self.name, self.email)\n"
   ]
  },
  {
   "cell_type": "code",
   "execution_count": 9,
   "metadata": {},
   "outputs": [
    {
     "name": "stdout",
     "output_type": "stream",
     "text": [
      "ram ram@gmail.com\n"
     ]
    }
   ],
   "source": [
    "\n",
    "in1 = ineuron(\"ram\", \"ram@gmail.com\")\n",
    "in1.name\n",
    "in1.details()"
   ]
  },
  {
   "cell_type": "code",
   "execution_count": 13,
   "metadata": {},
   "outputs": [],
   "source": [
    "# With class method \n",
    "class ineuron:\n",
    "    def __init__(self, name, email):\n",
    "        self.name = name\n",
    "        self.email = email\n",
    "\n",
    "    @classmethod\n",
    "    def detatils(cls, name, email):\n",
    "        return cls(name, email)\n",
    "\n",
    "    def stu_details(self):\n",
    "        print(self.name, self.email)"
   ]
  },
  {
   "cell_type": "code",
   "execution_count": 14,
   "metadata": {},
   "outputs": [
    {
     "data": {
      "text/plain": [
       "'ram'"
      ]
     },
     "execution_count": 14,
     "metadata": {},
     "output_type": "execute_result"
    }
   ],
   "source": [
    "ineuron.detatils(\"ram\", \"ram@@gmail.com\")\n",
    "ineuron.detatils(\"ram\", \"ram@@gmail.com\").name"
   ]
  },
  {
   "cell_type": "code",
   "execution_count": 1,
   "metadata": {},
   "outputs": [],
   "source": [
    "class ineuron2:\n",
    "\n",
    "    mobile_num = 12344343433232  \n",
    "    # this is static variable, we cannot access static variable with class object so we need to use @classmethod\n",
    "\n",
    "\n",
    "    def __init__(self, name, email):\n",
    "        self.name = name\n",
    "        self.email = email\n",
    "\n",
    "\n",
    "    # changing the value in static variable \n",
    "    @classmethod\n",
    "    def change_number(cls, mobile):\n",
    "        ineuron2.mobile_num = mobile\n",
    "\n",
    "    @classmethod\n",
    "    def detatils(cls, name, email):\n",
    "        return cls(name, email)\n",
    "\n",
    "    def stu_details(self):\n",
    "        print(self.name, self.email)"
   ]
  },
  {
   "cell_type": "code",
   "execution_count": 2,
   "metadata": {},
   "outputs": [
    {
     "data": {
      "text/plain": [
       "12344343433232"
      ]
     },
     "execution_count": 2,
     "metadata": {},
     "output_type": "execute_result"
    }
   ],
   "source": [
    "ineuron2.mobile_num"
   ]
  },
  {
   "cell_type": "code",
   "execution_count": 3,
   "metadata": {},
   "outputs": [],
   "source": [
    "ineuron2.change_number(22342323)"
   ]
  },
  {
   "cell_type": "code",
   "execution_count": 4,
   "metadata": {},
   "outputs": [
    {
     "data": {
      "text/plain": [
       "22342323"
      ]
     },
     "execution_count": 4,
     "metadata": {},
     "output_type": "execute_result"
    }
   ],
   "source": [
    "ineuron2.mobile_num"
   ]
  },
  {
   "cell_type": "code",
   "execution_count": 5,
   "metadata": {},
   "outputs": [],
   "source": [
    "in2 = ineuron2(\"hari\", \"hari@gmai.com\")"
   ]
  },
  {
   "cell_type": "code",
   "execution_count": 8,
   "metadata": {},
   "outputs": [
    {
     "name": "stdout",
     "output_type": "stream",
     "text": [
      "hari hari@gmai.com\n"
     ]
    }
   ],
   "source": [
    "in2.stu_details()"
   ]
  },
  {
   "cell_type": "code",
   "execution_count": 9,
   "metadata": {},
   "outputs": [],
   "source": [
    "# to access static variable from method using self \n",
    "class ineuron2:\n",
    "\n",
    "    mobile_num = 12344343433232  \n",
    "    # this is static variable, we cannot access static variable with class object so we need to use @classmethod\n",
    "\n",
    "\n",
    "    def __init__(self, name, email):\n",
    "        self.name = name\n",
    "        self.email = email\n",
    "\n",
    "\n",
    "    # changing the value in static variable \n",
    "    @classmethod\n",
    "    def change_number(cls, mobile):\n",
    "        ineuron2.mobile_num = mobile\n",
    "\n",
    "    @classmethod\n",
    "    def detatils(cls, name, email):\n",
    "        return cls(name, email)\n",
    "\n",
    "    def stu_details(self):\n",
    "        print(self.name, self.email, self.mobile_num)\n"
   ]
  },
  {
   "cell_type": "code",
   "execution_count": 10,
   "metadata": {},
   "outputs": [
    {
     "name": "stdout",
     "output_type": "stream",
     "text": [
      "hari hari@gmai.com 12344343433232\n"
     ]
    }
   ],
   "source": [
    "in2 = ineuron2(\"hari\", \"hari@gmai.com\")\n",
    "in2.stu_details()"
   ]
  },
  {
   "cell_type": "code",
   "execution_count": 11,
   "metadata": {},
   "outputs": [],
   "source": [
    "# to access static variable from method using class name\n",
    "class ineuron2:\n",
    "\n",
    "    mobile_num = 12344343433232  \n",
    "    # this is static variable, we cannot access static variable with class object so we need to use @classmethod\n",
    "\n",
    "\n",
    "    def __init__(self, name, email):\n",
    "        self.name = name\n",
    "        self.email = email\n",
    "\n",
    "\n",
    "    # changing the value in static variable \n",
    "    @classmethod\n",
    "    def change_number(cls, mobile):\n",
    "        ineuron2.mobile_num = mobile\n",
    "\n",
    "    @classmethod\n",
    "    def detatils(cls, name, email):\n",
    "        return cls(name, email)\n",
    "\n",
    "    def stu_details(self):\n",
    "        print(self.name, self.email, ineuron2.mobile_num)\n"
   ]
  },
  {
   "cell_type": "code",
   "execution_count": 12,
   "metadata": {},
   "outputs": [
    {
     "name": "stdout",
     "output_type": "stream",
     "text": [
      "hari hari@gmai.com 12344343433232\n"
     ]
    }
   ],
   "source": [
    "in2 = ineuron2(\"hari\", \"hari@gmai.com\")\n",
    "in2.stu_details()"
   ]
  },
  {
   "cell_type": "code",
   "execution_count": 14,
   "metadata": {},
   "outputs": [
    {
     "name": "stdout",
     "output_type": "stream",
     "text": [
      "['ram', 'ram@@@gmai.com']\n"
     ]
    }
   ],
   "source": [
    "# making function outside of the class and using with class \n",
    "def mentor(cls, list_of_mentors):\n",
    "    print(list_of_mentors)\n",
    "\n",
    "ineuron2.mentor = classmethod(mentor)\n",
    "ineuron2.mentor([\"ram\", \"ram@@@gmai.com\"])"
   ]
  },
  {
   "cell_type": "code",
   "execution_count": 15,
   "metadata": {},
   "outputs": [],
   "source": [
    "del ineuron2.change_number"
   ]
  },
  {
   "cell_type": "code",
   "execution_count": null,
   "metadata": {},
   "outputs": [],
   "source": []
  },
  {
   "cell_type": "markdown",
   "metadata": {},
   "source": [
    "# Static Methods"
   ]
  },
  {
   "cell_type": "code",
   "execution_count": null,
   "metadata": {},
   "outputs": [],
   "source": []
  },
  {
   "cell_type": "code",
   "execution_count": null,
   "metadata": {},
   "outputs": [],
   "source": []
  }
 ],
 "metadata": {
  "kernelspec": {
   "display_name": "Python 3",
   "language": "python",
   "name": "python3"
  },
  "language_info": {
   "codemirror_mode": {
    "name": "ipython",
    "version": 3
   },
   "file_extension": ".py",
   "mimetype": "text/x-python",
   "name": "python",
   "nbconvert_exporter": "python",
   "pygments_lexer": "ipython3",
   "version": "3.11.2"
  }
 },
 "nbformat": 4,
 "nbformat_minor": 2
}
