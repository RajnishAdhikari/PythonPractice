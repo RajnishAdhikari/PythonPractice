{
 "cells": [
  {
   "cell_type": "code",
   "execution_count": 1,
   "metadata": {},
   "outputs": [
    {
     "name": "stdout",
     "output_type": "stream",
     "text": [
      "9\n"
     ]
    }
   ],
   "source": [
    "# If we have no idea that how many will be given by user then we can use below function \n",
    "\n",
    "def func(*args):\n",
    "    result = sum(args)\n",
    "    print(result)\n",
    "\n",
    "#  *-this makes tuple \n",
    "\n",
    "func(4,5)"
   ]
  },
  {
   "cell_type": "code",
   "execution_count": 2,
   "metadata": {},
   "outputs": [
    {
     "name": "stdout",
     "output_type": "stream",
     "text": [
      "9\n"
     ]
    }
   ],
   "source": [
    "def func(*pri):\n",
    "    result = sum(pri)\n",
    "    print(result)\n",
    "\n",
    "func(4,5)"
   ]
  },
  {
   "cell_type": "code",
   "execution_count": 3,
   "metadata": {},
   "outputs": [
    {
     "data": {
      "text/plain": [
       "{'name': 'rajnish', 'address': 'nayabazar'}"
      ]
     },
     "execution_count": 3,
     "metadata": {},
     "output_type": "execute_result"
    }
   ],
   "source": [
    "# storing in key value pair or dictonary \n",
    "def func1(**argument):\n",
    "    return argument\n",
    "\n",
    "func1(name = \"rajnish\", address = 'nayabazar')"
   ]
  },
  {
   "cell_type": "code",
   "execution_count": 5,
   "metadata": {},
   "outputs": [
    {
     "data": {
      "text/plain": [
       "((1, 2, 3, 4, 5, 33, 33, 33, 22, 11, 1, 32),\n",
       " {'name': 'rajnish', 'address': 'nayabazar'})"
      ]
     },
     "execution_count": 5,
     "metadata": {},
     "output_type": "execute_result"
    }
   ],
   "source": [
    "# Tuple and dictonary at same time \n",
    "def func2(*print1, **print2):\n",
    "    return print1, print2\n",
    "\n",
    "func2(1,2,3,4,5,33,33,33,22,11,1,32, name = \"rajnish\", address = 'nayabazar' )"
   ]
  },
  {
   "cell_type": "code",
   "execution_count": null,
   "metadata": {},
   "outputs": [],
   "source": []
  }
 ],
 "metadata": {
  "kernelspec": {
   "display_name": "Python 3",
   "language": "python",
   "name": "python3"
  },
  "language_info": {
   "codemirror_mode": {
    "name": "ipython",
    "version": 3
   },
   "file_extension": ".py",
   "mimetype": "text/x-python",
   "name": "python",
   "nbconvert_exporter": "python",
   "pygments_lexer": "ipython3",
   "version": "3.11.2"
  }
 },
 "nbformat": 4,
 "nbformat_minor": 2
}
