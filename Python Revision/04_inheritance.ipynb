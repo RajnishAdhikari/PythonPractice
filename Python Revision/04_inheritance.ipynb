{
 "cells": [
  {
   "cell_type": "markdown",
   "metadata": {},
   "source": [
    "# Inheritance "
   ]
  },
  {
   "cell_type": "code",
   "execution_count": 12,
   "metadata": {},
   "outputs": [],
   "source": [
    "# sample example \n",
    "class test:   # paretnt class \n",
    "\n",
    "    # making constructor\n",
    "    def __init__(self, name):\n",
    "        self.name = name\n",
    "        \n",
    "\n",
    "    # making method\n",
    "    def test1(self):\n",
    "        return \"this is my first class\""
   ]
  },
  {
   "cell_type": "code",
   "execution_count": 13,
   "metadata": {},
   "outputs": [],
   "source": [
    "class child_test(test):    # child class \n",
    "    pass"
   ]
  },
  {
   "cell_type": "code",
   "execution_count": 14,
   "metadata": {},
   "outputs": [
    {
     "data": {
      "text/plain": [
       "'this is my first class'"
      ]
     },
     "execution_count": 14,
     "metadata": {},
     "output_type": "execute_result"
    }
   ],
   "source": [
    "child = child_test(\"ram\")\n",
    "child.test1()\n"
   ]
  },
  {
   "cell_type": "code",
   "execution_count": 15,
   "metadata": {},
   "outputs": [
    {
     "data": {
      "text/plain": [
       "'ram'"
      ]
     },
     "execution_count": 15,
     "metadata": {},
     "output_type": "execute_result"
    }
   ],
   "source": [
    "child.name "
   ]
  },
  {
   "cell_type": "code",
   "execution_count": 16,
   "metadata": {},
   "outputs": [],
   "source": [
    "class test:\n",
    "    def __init__(self, name):\n",
    "        self.name = name  # this is data attribute\n",
    "\n",
    "\n",
    "    def test1(self):\n",
    "        return\" this is my first class\""
   ]
  },
  {
   "cell_type": "code",
   "execution_count": 18,
   "metadata": {},
   "outputs": [
    {
     "data": {
      "text/plain": [
       "'ram'"
      ]
     },
     "execution_count": 18,
     "metadata": {},
     "output_type": "execute_result"
    }
   ],
   "source": [
    "child = child_test(\"ram\")\n",
    "child.test1()\n",
    "child.name"
   ]
  },
  {
   "cell_type": "code",
   "execution_count": 5,
   "metadata": {},
   "outputs": [],
   "source": [
    "# constructor and inheriting constructor \n",
    "class phone:\n",
    "    def __init__(self, price, brand):\n",
    "        print(\"We are inside of constructor\")\n",
    "        self.price = price\n",
    "        self.brand = brand\n",
    "        \n",
    "    def buy(self):\n",
    "        print(\"I want to buy phone\")\n",
    "\n",
    "# Making other class \n",
    "class mobilephone(phone):\n",
    "    pass"
   ]
  },
  {
   "cell_type": "code",
   "execution_count": 6,
   "metadata": {},
   "outputs": [
    {
     "name": "stdout",
     "output_type": "stream",
     "text": [
      "We are inside of constructor\n"
     ]
    }
   ],
   "source": [
    "s = mobilephone(2000, \"samsung\")"
   ]
  },
  {
   "cell_type": "code",
   "execution_count": 14,
   "metadata": {},
   "outputs": [],
   "source": [
    "# Accessing private variable \n",
    "class device:\n",
    "    def __init__(self, cost, manufacturer, camera):\n",
    "        print(\"WE are inside the constructor\")\n",
    "        self.__cost = cost\n",
    "        self.manufacture = manufacturer\n",
    "        self.camera = camera\n",
    "\n",
    "# this is child class\n",
    "class mobile(device):\n",
    "    def check(self):\n",
    "        print(self.__cost)"
   ]
  },
  {
   "cell_type": "code",
   "execution_count": 15,
   "metadata": {},
   "outputs": [
    {
     "name": "stdout",
     "output_type": "stream",
     "text": [
      "WE are inside the constructor\n"
     ]
    },
    {
     "ename": "AttributeError",
     "evalue": "'mobile' object has no attribute '_mobile__cost'",
     "output_type": "error",
     "traceback": [
      "\u001b[1;31m---------------------------------------------------------------------------\u001b[0m",
      "\u001b[1;31mAttributeError\u001b[0m                            Traceback (most recent call last)",
      "Cell \u001b[1;32mIn[15], line 4\u001b[0m\n\u001b[0;32m      2\u001b[0m m \u001b[38;5;241m=\u001b[39m mobile(\u001b[38;5;241m20000\u001b[39m, \u001b[38;5;124m\"\u001b[39m\u001b[38;5;124msamsung\u001b[39m\u001b[38;5;124m\"\u001b[39m, \u001b[38;5;124m\"\u001b[39m\u001b[38;5;124m100 mp \u001b[39m\u001b[38;5;124m\"\u001b[39m)\n\u001b[0;32m      3\u001b[0m m\u001b[38;5;241m.\u001b[39mcamera\n\u001b[1;32m----> 4\u001b[0m \u001b[43mm\u001b[49m\u001b[38;5;241;43m.\u001b[39;49m\u001b[43mcheck\u001b[49m\u001b[43m(\u001b[49m\u001b[43m)\u001b[49m   \u001b[38;5;66;03m# we cannot access the check method because there are private variable in the child class \u001b[39;00m\n",
      "Cell \u001b[1;32mIn[14], line 12\u001b[0m, in \u001b[0;36mmobile.check\u001b[1;34m(self)\u001b[0m\n\u001b[0;32m     11\u001b[0m \u001b[38;5;28;01mdef\u001b[39;00m \u001b[38;5;21mcheck\u001b[39m(\u001b[38;5;28mself\u001b[39m):\n\u001b[1;32m---> 12\u001b[0m     \u001b[38;5;28mprint\u001b[39m(\u001b[38;5;28;43mself\u001b[39;49m\u001b[38;5;241;43m.\u001b[39;49m\u001b[43m__cost\u001b[49m)\n",
      "\u001b[1;31mAttributeError\u001b[0m: 'mobile' object has no attribute '_mobile__cost'"
     ]
    }
   ],
   "source": [
    "# Accessing the object of child class and passing arguments\n",
    "m = mobile(20000, \"samsung\", \"100 mp \")\n",
    "m.camera\n",
    "m.check()   # we cannot access the check method because there are private variable in the child class "
   ]
  },
  {
   "cell_type": "code",
   "execution_count": 16,
   "metadata": {},
   "outputs": [
    {
     "data": {
      "text/plain": [
       "'100 mp '"
      ]
     },
     "execution_count": 16,
     "metadata": {},
     "output_type": "execute_result"
    }
   ],
   "source": [
    "m.camera"
   ]
  },
  {
   "cell_type": "code",
   "execution_count": 17,
   "metadata": {},
   "outputs": [],
   "source": [
    "# Using getter function to access private variable\n",
    "# Accessing private variable \n",
    "class device:\n",
    "    def __init__(self, cost, manufacturer, camera):\n",
    "        print(\"WE are inside the constructor\")\n",
    "        self.__cost = cost\n",
    "        self.manufacturer = manufacturer\n",
    "        self.camera = camera\n",
    "\n",
    "# making getter function \n",
    "    def show(self):\n",
    "        print(self.__cost)\n",
    "\n",
    "\n",
    "# this is child class\n",
    "class mobile(device):\n",
    "\n",
    "    # this is getter method inside of the child class and we cannot access this getter method because it is inside of child method \n",
    "    def check(self):\n",
    "        print(self.__cost)"
   ]
  },
  {
   "cell_type": "code",
   "execution_count": 19,
   "metadata": {},
   "outputs": [
    {
     "name": "stdout",
     "output_type": "stream",
     "text": [
      "WE are inside the constructor\n",
      "30000\n"
     ]
    }
   ],
   "source": [
    "m = mobile(30000, \"apple\", \"12 MP\")\n",
    "m.show()"
   ]
  },
  {
   "cell_type": "code",
   "execution_count": 20,
   "metadata": {},
   "outputs": [
    {
     "ename": "AttributeError",
     "evalue": "'mobile' object has no attribute '_mobile__cost'",
     "output_type": "error",
     "traceback": [
      "\u001b[1;31m---------------------------------------------------------------------------\u001b[0m",
      "\u001b[1;31mAttributeError\u001b[0m                            Traceback (most recent call last)",
      "Cell \u001b[1;32mIn[20], line 1\u001b[0m\n\u001b[1;32m----> 1\u001b[0m \u001b[43mm\u001b[49m\u001b[38;5;241;43m.\u001b[39;49m\u001b[43mcheck\u001b[49m\u001b[43m(\u001b[49m\u001b[43m)\u001b[49m\n",
      "Cell \u001b[1;32mIn[17], line 18\u001b[0m, in \u001b[0;36mmobile.check\u001b[1;34m(self)\u001b[0m\n\u001b[0;32m     17\u001b[0m \u001b[38;5;28;01mdef\u001b[39;00m \u001b[38;5;21mcheck\u001b[39m(\u001b[38;5;28mself\u001b[39m):\n\u001b[1;32m---> 18\u001b[0m     \u001b[38;5;28mprint\u001b[39m(\u001b[38;5;28;43mself\u001b[39;49m\u001b[38;5;241;43m.\u001b[39;49m\u001b[43m__cost\u001b[49m)\n",
      "\u001b[1;31mAttributeError\u001b[0m: 'mobile' object has no attribute '_mobile__cost'"
     ]
    }
   ],
   "source": [
    "m.check()"
   ]
  },
  {
   "cell_type": "code",
   "execution_count": 17,
   "metadata": {},
   "outputs": [],
   "source": [
    "# Use of super() keyword\n",
    "class person:\n",
    "    def __init__(self,  name, age):\n",
    "        self.name = name\n",
    "        self.age = age\n",
    "\n",
    "    def display(self):\n",
    "        print(self.name, self.age)\n",
    "\n",
    "\n",
    "# making child class \n",
    "class student(person):\n",
    "# if we want to use the variables and methods of parent class in child class then we need to use super keyword\n",
    "    def __init__(self, name, age):\n",
    "        self.cname = name\n",
    "        self.cage = age\n",
    "\n",
    "\n",
    "        super().__init__(\"shyam\", 25)\n",
    "\n",
    "    def displayinfo(self):\n",
    "        print(self.cname, self.cage)"
   ]
  },
  {
   "cell_type": "code",
   "execution_count": 18,
   "metadata": {},
   "outputs": [
    {
     "name": "stdout",
     "output_type": "stream",
     "text": [
      "ram 20\n"
     ]
    }
   ],
   "source": [
    "# making object of child class \n",
    "obj = student(\"ram\", 20)\n",
    "obj.displayinfo()"
   ]
  },
  {
   "cell_type": "code",
   "execution_count": 19,
   "metadata": {},
   "outputs": [
    {
     "name": "stdout",
     "output_type": "stream",
     "text": [
      "shyam 25\n"
     ]
    }
   ],
   "source": [
    "# to use method of parent class we need to use super() keyword \n",
    "obj.display()"
   ]
  },
  {
   "cell_type": "code",
   "execution_count": null,
   "metadata": {},
   "outputs": [],
   "source": []
  }
 ],
 "metadata": {
  "kernelspec": {
   "display_name": "Python 3",
   "language": "python",
   "name": "python3"
  },
  "language_info": {
   "codemirror_mode": {
    "name": "ipython",
    "version": 3
   },
   "file_extension": ".py",
   "mimetype": "text/x-python",
   "name": "python",
   "nbconvert_exporter": "python",
   "pygments_lexer": "ipython3",
   "version": "3.11.2"
  }
 },
 "nbformat": 4,
 "nbformat_minor": 2
}
