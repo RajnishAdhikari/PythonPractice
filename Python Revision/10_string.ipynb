{
 "cells": [
  {
   "cell_type": "code",
   "execution_count": null,
   "metadata": {},
   "outputs": [],
   "source": [
    "# string is a sequence of characters\n",
    "# we can access elements in string by using indexing and slicing "
   ]
  }
 ],
 "metadata": {
  "language_info": {
   "name": "python"
  }
 },
 "nbformat": 4,
 "nbformat_minor": 2
}
