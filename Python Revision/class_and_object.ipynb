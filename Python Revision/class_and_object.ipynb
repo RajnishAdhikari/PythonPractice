{
 "cells": [
  {
   "cell_type": "code",
   "execution_count": 1,
   "metadata": {},
   "outputs": [
    {
     "name": "stdout",
     "output_type": "stream",
     "text": [
      "hello\n"
     ]
    }
   ],
   "source": [
    "class ram:\n",
    "    def welcome_msg(self):\n",
    "        print(\"hello\")\n",
    "\n",
    "obj = ram()   #  making object of class here obj is the object\n",
    "obj.welcome_msg()   # here we call the function \n"
   ]
  },
  {
   "cell_type": "code",
   "execution_count": 3,
   "metadata": {},
   "outputs": [
    {
     "name": "stdout",
     "output_type": "stream",
     "text": [
      "hello\n"
     ]
    },
    {
     "data": {
      "text/plain": [
       "6"
      ]
     },
     "execution_count": 3,
     "metadata": {},
     "output_type": "execute_result"
    }
   ],
   "source": [
    "class ram:\n",
    "\n",
    "    a = 5\n",
    "    b = 6\n",
    "\n",
    "    def welcome_msg(self):\n",
    "        print(\"hello\")\n",
    "\n",
    "obj = ram()   #  making object of class here obj is the object\n",
    "obj.welcome_msg()   # here we call the function \n",
    "obj.a\n"
   ]
  },
  {
   "cell_type": "code",
   "execution_count": 4,
   "metadata": {},
   "outputs": [
    {
     "name": "stdout",
     "output_type": "stream",
     "text": [
      "hello\n"
     ]
    },
    {
     "data": {
      "text/plain": [
       "6"
      ]
     },
     "execution_count": 4,
     "metadata": {},
     "output_type": "execute_result"
    }
   ],
   "source": [
    "class ram:\n",
    "\n",
    "    a = 5\n",
    "    b = 6\n",
    "\n",
    "    def welcome_msg(self):\n",
    "        print(\"hello\")\n",
    "\n",
    "obj = ram()   #  making object of class here obj is the object\n",
    "obj.welcome_msg()   # here we call the function \n",
    "obj.b\n"
   ]
  },
  {
   "cell_type": "markdown",
   "metadata": {},
   "source": [
    "## What we can pass in class?"
   ]
  },
  {
   "cell_type": "code",
   "execution_count": 5,
   "metadata": {},
   "outputs": [],
   "source": [
    "# variable : attribute\n",
    "# Function  : method\n",
    "\n",
    "# object : instance of class or variable of class"
   ]
  },
  {
   "cell_type": "code",
   "execution_count": 6,
   "metadata": {},
   "outputs": [
    {
     "name": "stdout",
     "output_type": "stream",
     "text": [
      "ram\n",
      "23\n"
     ]
    }
   ],
   "source": [
    "# constructor Example \n",
    "class person: \n",
    "    def __init__(self, name, age):\n",
    "        self.name = name\n",
    "        self.age = age\n",
    "        print(self.name)\n",
    "        print(self.age)\n",
    "\n",
    "per = person(\"ram\", 23)"
   ]
  },
  {
   "cell_type": "code",
   "execution_count": null,
   "metadata": {},
   "outputs": [],
   "source": []
  }
 ],
 "metadata": {
  "kernelspec": {
   "display_name": "Python 3",
   "language": "python",
   "name": "python3"
  },
  "language_info": {
   "codemirror_mode": {
    "name": "ipython",
    "version": 3
   },
   "file_extension": ".py",
   "mimetype": "text/x-python",
   "name": "python",
   "nbconvert_exporter": "python",
   "pygments_lexer": "ipython3",
   "version": "3.11.2"
  }
 },
 "nbformat": 4,
 "nbformat_minor": 2
}
