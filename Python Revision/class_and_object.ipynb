{
 "cells": [
  {
   "cell_type": "code",
   "execution_count": 1,
   "metadata": {},
   "outputs": [
    {
     "name": "stdout",
     "output_type": "stream",
     "text": [
      "hello\n"
     ]
    }
   ],
   "source": [
    "class ram:\n",
    "    def welcome_msg(self):\n",
    "        print(\"hello\")\n",
    "\n",
    "obj = ram()   #  making object of class here obj is the object\n",
    "obj.welcome_msg()   # here we call the function \n"
   ]
  },
  {
   "cell_type": "code",
   "execution_count": 3,
   "metadata": {},
   "outputs": [
    {
     "name": "stdout",
     "output_type": "stream",
     "text": [
      "hello\n"
     ]
    },
    {
     "data": {
      "text/plain": [
       "6"
      ]
     },
     "execution_count": 3,
     "metadata": {},
     "output_type": "execute_result"
    }
   ],
   "source": [
    "class ram:\n",
    "\n",
    "    a = 5\n",
    "    b = 6\n",
    "\n",
    "    def welcome_msg(self):\n",
    "        print(\"hello\")\n",
    "\n",
    "obj = ram()   #  making object of class here obj is the object\n",
    "obj.welcome_msg()   # here we call the function \n",
    "obj.a\n"
   ]
  },
  {
   "cell_type": "code",
   "execution_count": 4,
   "metadata": {},
   "outputs": [
    {
     "name": "stdout",
     "output_type": "stream",
     "text": [
      "hello\n"
     ]
    },
    {
     "data": {
      "text/plain": [
       "6"
      ]
     },
     "execution_count": 4,
     "metadata": {},
     "output_type": "execute_result"
    }
   ],
   "source": [
    "class ram:\n",
    "\n",
    "    a = 5\n",
    "    b = 6\n",
    "\n",
    "    def welcome_msg(self):\n",
    "        print(\"hello\")\n",
    "\n",
    "obj = ram()   #  making object of class here obj is the object\n",
    "obj.welcome_msg()   # here we call the function \n",
    "obj.b\n"
   ]
  },
  {
   "cell_type": "markdown",
   "metadata": {},
   "source": [
    "## What we can pass in class?"
   ]
  },
  {
   "cell_type": "code",
   "execution_count": 5,
   "metadata": {},
   "outputs": [],
   "source": [
    "# variable : attribute\n",
    "# Function  : method\n",
    "\n",
    "# object : instance of class or variable of class"
   ]
  },
  {
   "cell_type": "code",
   "execution_count": 6,
   "metadata": {},
   "outputs": [
    {
     "name": "stdout",
     "output_type": "stream",
     "text": [
      "ram\n",
      "23\n"
     ]
    }
   ],
   "source": [
    "# constructor Example \n",
    "class person: \n",
    "    def __init__(self, name, age):\n",
    "        self.name = name\n",
    "        self.age = age\n",
    "        print(self.name)\n",
    "        print(self.age)\n",
    "\n",
    "per = person(\"ram\", 23)"
   ]
  },
  {
   "cell_type": "code",
   "execution_count": 7,
   "metadata": {},
   "outputs": [
    {
     "name": "stdout",
     "output_type": "stream",
     "text": [
      "ram\n",
      "23\n",
      "hello this is outside of the cosntructor printing.\n"
     ]
    }
   ],
   "source": [
    "# constructor Example \n",
    "class person: \n",
    "    def __init__(self, name, age):\n",
    "        self.name = name\n",
    "        self.age = age\n",
    "        print(self.name)\n",
    "        print(self.age)\n",
    "\n",
    "    def sample (self):\n",
    "        print(\"hello this is outside of the cosntructor printing.\")\n",
    "\n",
    "per = person(\"ram\", 23)\n",
    "\n",
    "\n",
    "# For printing outside of the constructor \n",
    "per.sample()"
   ]
  },
  {
   "cell_type": "code",
   "execution_count": 10,
   "metadata": {},
   "outputs": [
    {
     "name": "stdout",
     "output_type": "stream",
     "text": [
      "ram\n",
      "23\n",
      "hello this is inside of the cosntructor printing.\n"
     ]
    }
   ],
   "source": [
    "# constructor Example \n",
    "class person: \n",
    "    def __init__(self, name, age):\n",
    "        self.name = name\n",
    "        self.age = age\n",
    "        print(self.name)\n",
    "        print(self.age)\n",
    "        self.sample() # after this we don't need to call the object\n",
    "\n",
    "    def sample (self):\n",
    "        print(\"hello this is inside of the cosntructor printing.\")\n",
    "\n",
    "per = person(\"ram\", 23)\n"
   ]
  },
  {
   "cell_type": "markdown",
   "metadata": {},
   "source": [
    "## types of Constructor "
   ]
  },
  {
   "cell_type": "code",
   "execution_count": null,
   "metadata": {},
   "outputs": [],
   "source": [
    "# 1. Parameterized Constructor \n",
    "class person: \n",
    "    def __init__(self, name, age):\n",
    "        self.name = name\n",
    "        self.age = age\n",
    "        print(self.name)\n",
    "        print(self.age)\n",
    "        self.sample() # after this we don't need to call the object\n",
    "\n",
    "    def sample (self):\n",
    "        print(\"hello this is inside of the cosntructor printing.\")\n",
    "\n"
   ]
  },
  {
   "cell_type": "code",
   "execution_count": 11,
   "metadata": {},
   "outputs": [
    {
     "name": "stdout",
     "output_type": "stream",
     "text": [
      "Ram\n",
      "23\n",
      "hello this is inside of the cosntructor printing.\n"
     ]
    }
   ],
   "source": [
    "# 1. Non-Parameterized Constructor \n",
    "class person: \n",
    "    def __init__(self):\n",
    "        self.name = \"Ram\"\n",
    "        self.age = 23\n",
    "        print(self.name)\n",
    "        print(self.age)\n",
    "        self.sample()\n",
    "\n",
    "    def sample (self):\n",
    "        print(\"hello this is inside of the cosntructor printing.\")\n",
    "\n",
    "per1 = person()"
   ]
  },
  {
   "cell_type": "code",
   "execution_count": 12,
   "metadata": {},
   "outputs": [
    {
     "name": "stdout",
     "output_type": "stream",
     "text": [
      "Ram\n",
      "23\n",
      "hello this is inside of the cosntructor printing.\n"
     ]
    }
   ],
   "source": [
    "# self is not fixed we can use any name we want \n",
    "class person: \n",
    "    def __init__(replacing_self):\n",
    "        replacing_self.name = \"Ram\"\n",
    "        replacing_self.age = 23\n",
    "        print(replacing_self.name)\n",
    "        print(replacing_self.age)\n",
    "        replacing_self.sample()\n",
    "\n",
    "    def sample (replacing_self):\n",
    "        print(\"hello this is inside of the cosntructor printing.\")\n",
    "\n",
    "per1 = person()"
   ]
  },
  {
   "cell_type": "code",
   "execution_count": 21,
   "metadata": {},
   "outputs": [
    {
     "name": "stdout",
     "output_type": "stream",
     "text": [
      "10\n",
      "12\n"
     ]
    },
    {
     "data": {
      "text/plain": [
       "2"
      ]
     },
     "execution_count": 21,
     "metadata": {},
     "output_type": "execute_result"
    }
   ],
   "source": [
    "# use of magic method to add or subtract \n",
    "\n",
    "class Myclass: \n",
    "    def __init__(self, value):\n",
    "        self.value = value\n",
    "        print(self.value)\n",
    "\n",
    "\n",
    "    def __add__(self, other):\n",
    "        return self.value + other.value    \n",
    "    \n",
    "    def __sub__(self, other):\n",
    "        return(self.value - other.value)\n",
    "\n",
    "m = Myclass(10)\n",
    "m1 = Myclass(12)\n",
    "m1 - m"
   ]
  },
  {
   "cell_type": "code",
   "execution_count": 26,
   "metadata": {},
   "outputs": [
    {
     "name": "stdout",
     "output_type": "stream",
     "text": [
      "10\n",
      "12\n",
      "120\n"
     ]
    }
   ],
   "source": [
    "class Myclass: \n",
    "    def __init__(self, value):\n",
    "        self.value = value\n",
    "        print(self.value)\n",
    "\n",
    "\n",
    "    def __mul__(self, s):\n",
    "        return self.value * s.value\n",
    "\n",
    "m = Myclass(10)\n",
    "m1 = Myclass(12)\n",
    "print (m1 * m) "
   ]
  },
  {
   "cell_type": "code",
   "execution_count": 2,
   "metadata": {},
   "outputs": [
    {
     "name": "stdout",
     "output_type": "stream",
     "text": [
      "5\n",
      "2\n"
     ]
    },
    {
     "data": {
      "text/plain": [
       "7"
      ]
     },
     "execution_count": 2,
     "metadata": {},
     "output_type": "execute_result"
    }
   ],
   "source": [
    "# only for adding \n",
    "class AddClass:\n",
    "    def __init__(self,value):\n",
    "        self.value = value\n",
    "        print(self.value)\n",
    "\n",
    "    def __add__(self,other_value):\n",
    "        return self.value + other_value.value\n",
    "    \n",
    "    \n",
    "m1 = AddClass(5)\n",
    "m2 = AddClass(2)\n",
    "m1 + m2\n",
    "    "
   ]
  },
  {
   "cell_type": "code",
   "execution_count": null,
   "metadata": {},
   "outputs": [],
   "source": [
    "# Bank account example \n",
    "class BankAccount:\n",
    "    # self is runtime or current time object which is present in class\n",
    "    def __init__(self, account_number, balance):\n",
    "        self.account_number = account_number\n",
    "        self.balance = balance\n",
    "        \n",
    "    def deposit(self, ):\n",
    "        pass\n",
    "    def withdraw(self, ):\n",
    "        pass\n",
    "    def remaining_balance(self):\n",
    "        print(f\"your remaining balance is {balance}\")\n",
    "    \n"
   ]
  }
 ],
 "metadata": {
  "kernelspec": {
   "display_name": "Python 3",
   "language": "python",
   "name": "python3"
  },
  "language_info": {
   "codemirror_mode": {
    "name": "ipython",
    "version": 3
   },
   "file_extension": ".py",
   "mimetype": "text/x-python",
   "name": "python",
   "nbconvert_exporter": "python",
   "pygments_lexer": "ipython3",
   "version": "3.11.2"
  }
 },
 "nbformat": 4,
 "nbformat_minor": 2
}
