{
 "cells": [
  {
   "cell_type": "code",
   "execution_count": 1,
   "metadata": {},
   "outputs": [
    {
     "name": "stdout",
     "output_type": "stream",
     "text": [
      "hello\n"
     ]
    }
   ],
   "source": [
    "class ram:\n",
    "    def welcome_msg(self):\n",
    "        print(\"hello\")\n",
    "\n",
    "obj = ram()   #  making object of class here obj is the object\n",
    "obj.welcome_msg()   # here we call the function \n"
   ]
  },
  {
   "cell_type": "code",
   "execution_count": 3,
   "metadata": {},
   "outputs": [
    {
     "name": "stdout",
     "output_type": "stream",
     "text": [
      "hello\n"
     ]
    },
    {
     "data": {
      "text/plain": [
       "6"
      ]
     },
     "execution_count": 3,
     "metadata": {},
     "output_type": "execute_result"
    }
   ],
   "source": [
    "class ram:\n",
    "\n",
    "    a = 5\n",
    "    b = 6\n",
    "\n",
    "    def welcome_msg(self):\n",
    "        print(\"hello\")\n",
    "\n",
    "obj = ram()   #  making object of class here obj is the object\n",
    "obj.welcome_msg()   # here we call the function \n",
    "obj.a\n"
   ]
  },
  {
   "cell_type": "code",
   "execution_count": 4,
   "metadata": {},
   "outputs": [
    {
     "name": "stdout",
     "output_type": "stream",
     "text": [
      "hello\n"
     ]
    },
    {
     "data": {
      "text/plain": [
       "6"
      ]
     },
     "execution_count": 4,
     "metadata": {},
     "output_type": "execute_result"
    }
   ],
   "source": [
    "class ram:\n",
    "\n",
    "    a = 5\n",
    "    b = 6\n",
    "\n",
    "    def welcome_msg(self):\n",
    "        print(\"hello\")\n",
    "\n",
    "obj = ram()   #  making object of class here obj is the object\n",
    "obj.welcome_msg()   # here we call the function \n",
    "obj.b\n"
   ]
  },
  {
   "cell_type": "markdown",
   "metadata": {},
   "source": [
    "## What we can pass in class?"
   ]
  },
  {
   "cell_type": "code",
   "execution_count": 5,
   "metadata": {},
   "outputs": [],
   "source": [
    "# variable : attribute\n",
    "# Function  : method\n",
    "\n",
    "# object : instance of class or variable of class"
   ]
  },
  {
   "cell_type": "code",
   "execution_count": 6,
   "metadata": {},
   "outputs": [
    {
     "name": "stdout",
     "output_type": "stream",
     "text": [
      "ram\n",
      "23\n"
     ]
    }
   ],
   "source": [
    "# constructor Example \n",
    "class person: \n",
    "    def __init__(self, name, age):\n",
    "        self.name = name\n",
    "        self.age = age\n",
    "        print(self.name)\n",
    "        print(self.age)\n",
    "\n",
    "per = person(\"ram\", 23)"
   ]
  },
  {
   "cell_type": "code",
   "execution_count": 7,
   "metadata": {},
   "outputs": [
    {
     "name": "stdout",
     "output_type": "stream",
     "text": [
      "ram\n",
      "23\n",
      "hello this is outside of the cosntructor printing.\n"
     ]
    }
   ],
   "source": [
    "# constructor Example \n",
    "class person: \n",
    "    def __init__(self, name, age):\n",
    "        self.name = name\n",
    "        self.age = age\n",
    "        print(self.name)\n",
    "        print(self.age)\n",
    "\n",
    "    def sample (self):\n",
    "        print(\"hello this is outside of the cosntructor printing.\")\n",
    "\n",
    "per = person(\"ram\", 23)\n",
    "\n",
    "\n",
    "# For printing outside of the constructor \n",
    "per.sample()"
   ]
  },
  {
   "cell_type": "code",
   "execution_count": 10,
   "metadata": {},
   "outputs": [
    {
     "name": "stdout",
     "output_type": "stream",
     "text": [
      "ram\n",
      "23\n",
      "hello this is inside of the cosntructor printing.\n"
     ]
    }
   ],
   "source": [
    "# constructor Example \n",
    "class person: \n",
    "    def __init__(self, name, age):\n",
    "        self.name = name\n",
    "        self.age = age\n",
    "        print(self.name)\n",
    "        print(self.age)\n",
    "        self.sample() # after this we don't need to call the object\n",
    "\n",
    "    def sample (self):\n",
    "        print(\"hello this is inside of the cosntructor printing.\")\n",
    "\n",
    "per = person(\"ram\", 23)\n"
   ]
  },
  {
   "cell_type": "markdown",
   "metadata": {},
   "source": [
    "## types of Constructor "
   ]
  },
  {
   "cell_type": "code",
   "execution_count": null,
   "metadata": {},
   "outputs": [],
   "source": [
    "# 1. Parameterized Constructor \n",
    "class person: \n",
    "    def __init__(self, name, age):\n",
    "        self.name = name\n",
    "        self.age = age\n",
    "        print(self.name)\n",
    "        print(self.age)\n",
    "        self.sample() # after this we don't need to call the object\n",
    "\n",
    "    def sample (self):\n",
    "        print(\"hello this is inside of the cosntructor printing.\")\n",
    "\n"
   ]
  },
  {
   "cell_type": "code",
   "execution_count": 11,
   "metadata": {},
   "outputs": [
    {
     "name": "stdout",
     "output_type": "stream",
     "text": [
      "Ram\n",
      "23\n",
      "hello this is inside of the cosntructor printing.\n"
     ]
    }
   ],
   "source": [
    "# 1. Non-Parameterized Constructor \n",
    "class person: \n",
    "    def __init__(self):\n",
    "        self.name = \"Ram\"\n",
    "        self.age = 23\n",
    "        print(self.name)\n",
    "        print(self.age)\n",
    "        self.sample()\n",
    "\n",
    "    def sample (self):\n",
    "        print(\"hello this is inside of the cosntructor printing.\")\n",
    "\n",
    "per1 = person()"
   ]
  },
  {
   "cell_type": "code",
   "execution_count": 12,
   "metadata": {},
   "outputs": [
    {
     "name": "stdout",
     "output_type": "stream",
     "text": [
      "Ram\n",
      "23\n",
      "hello this is inside of the cosntructor printing.\n"
     ]
    }
   ],
   "source": [
    "# self is not fixed we can use any name we want \n",
    "class person: \n",
    "    def __init__(replacing_self):\n",
    "        replacing_self.name = \"Ram\"\n",
    "        replacing_self.age = 23\n",
    "        print(replacing_self.name)\n",
    "        print(replacing_self.age)\n",
    "        replacing_self.sample()\n",
    "\n",
    "    def sample (replacing_self):\n",
    "        print(\"hello this is inside of the cosntructor printing.\")\n",
    "\n",
    "per1 = person()"
   ]
  },
  {
   "cell_type": "code",
   "execution_count": 19,
   "metadata": {},
   "outputs": [
    {
     "name": "stdout",
     "output_type": "stream",
     "text": [
      "12\n",
      "12\n"
     ]
    },
    {
     "ename": "TypeError",
     "evalue": "unsupported operand type(s) for +: 'int' and 'Myclass'",
     "output_type": "error",
     "traceback": [
      "\u001b[1;31m---------------------------------------------------------------------------\u001b[0m",
      "\u001b[1;31mTypeError\u001b[0m                                 Traceback (most recent call last)",
      "Cell \u001b[1;32mIn[19], line 14\u001b[0m\n\u001b[0;32m     12\u001b[0m m \u001b[38;5;241m=\u001b[39m Myclass(\u001b[38;5;241m12\u001b[39m)\n\u001b[0;32m     13\u001b[0m m1 \u001b[38;5;241m=\u001b[39m Myclass(\u001b[38;5;241m12\u001b[39m)\n\u001b[1;32m---> 14\u001b[0m \u001b[43mm1\u001b[49m\u001b[43m \u001b[49m\u001b[38;5;241;43m+\u001b[39;49m\u001b[43m \u001b[49m\u001b[43mm\u001b[49m\n",
      "Cell \u001b[1;32mIn[19], line 10\u001b[0m, in \u001b[0;36mMyclass.__add__\u001b[1;34m(self, other)\u001b[0m\n\u001b[0;32m      9\u001b[0m \u001b[38;5;28;01mdef\u001b[39;00m \u001b[38;5;21m__add__\u001b[39m(\u001b[38;5;28mself\u001b[39m, other):\n\u001b[1;32m---> 10\u001b[0m     \u001b[38;5;28;01mreturn\u001b[39;00m \u001b[38;5;28;43mself\u001b[39;49m\u001b[38;5;241;43m.\u001b[39;49m\u001b[43mvalue\u001b[49m\u001b[43m \u001b[49m\u001b[38;5;241;43m+\u001b[39;49m\u001b[43m \u001b[49m\u001b[43mother\u001b[49m\n",
      "\u001b[1;31mTypeError\u001b[0m: unsupported operand type(s) for +: 'int' and 'Myclass'"
     ]
    }
   ],
   "source": [
    "# use of magic method \n",
    "\n",
    "class Myclass: \n",
    "    def __init__(self, value):\n",
    "        self.value = value\n",
    "        print(self.value)\n",
    "\n",
    "\n",
    "    def __add__(self, other):\n",
    "        return self.value + other    \n",
    "\n",
    "m = Myclass(10)\n",
    "m1 = Myclass(12)\n",
    "m1 + m"
   ]
  },
  {
   "cell_type": "code",
   "execution_count": null,
   "metadata": {},
   "outputs": [],
   "source": []
  }
 ],
 "metadata": {
  "kernelspec": {
   "display_name": "Python 3",
   "language": "python",
   "name": "python3"
  },
  "language_info": {
   "codemirror_mode": {
    "name": "ipython",
    "version": 3
   },
   "file_extension": ".py",
   "mimetype": "text/x-python",
   "name": "python",
   "nbconvert_exporter": "python",
   "pygments_lexer": "ipython3",
   "version": "3.11.2"
  }
 },
 "nbformat": 4,
 "nbformat_minor": 2
}
