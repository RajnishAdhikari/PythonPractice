{
 "cells": [
  {
   "cell_type": "code",
   "execution_count": 2,
   "metadata": {},
   "outputs": [
    {
     "data": {
      "text/plain": [
       "'M'"
      ]
     },
     "execution_count": 2,
     "metadata": {},
     "output_type": "execute_result"
    }
   ],
   "source": [
    "class Person:\n",
    "    def __init__(self, name, gender):\n",
    "        self.name = name\n",
    "        self.gender = gender\n",
    "\n",
    "\n",
    "p = Person(\"ram\", \"M\")\n",
    "p.name\n",
    "p.gender"
   ]
  },
  {
   "cell_type": "code",
   "execution_count": 3,
   "metadata": {},
   "outputs": [
    {
     "data": {
      "text/plain": [
       "'M'"
      ]
     },
     "execution_count": 3,
     "metadata": {},
     "output_type": "execute_result"
    }
   ],
   "source": [
    "p = Person(\"ram\", \"M\")\n",
    "q = p\n",
    "q.gender   # p and q are only storing the reference of the memory "
   ]
  },
  {
   "cell_type": "code",
   "execution_count": 6,
   "metadata": {},
   "outputs": [
    {
     "data": {
      "text/plain": [
       "'ankit'"
      ]
     },
     "execution_count": 6,
     "metadata": {},
     "output_type": "execute_result"
    }
   ],
   "source": [
    "p.name = \"ankit\"\n",
    "\n",
    "# here we don't go inside of the class and we can change from outside \n",
    "p.name"
   ]
  },
  {
   "cell_type": "code",
   "execution_count": 7,
   "metadata": {},
   "outputs": [],
   "source": [
    "# So to overcome this issue we use encapsulation so that the class cannot be acccessed outside of class \n",
    "# we use encapsulation so that we can prevent the changes outside of the class "
   ]
  },
  {
   "cell_type": "markdown",
   "metadata": {},
   "source": [
    "# Checking if we can change value using function or not "
   ]
  },
  {
   "cell_type": "code",
   "execution_count": 10,
   "metadata": {},
   "outputs": [
    {
     "name": "stdout",
     "output_type": "stream",
     "text": [
      "ram\n",
      "M\n"
     ]
    }
   ],
   "source": [
    "class Person:\n",
    "    def __init__(self, name, gender):\n",
    "        self.name = name\n",
    "        self.gender = gender\n",
    "\n",
    "# we can pass class inside of the function which is outside of the class \n",
    "def my(Person):\n",
    "    print(Person.name)\n",
    "    print(Person.gender)\n",
    "\n",
    "\n",
    "p = Person(\"ram\", \"M\")\n",
    "my(p)  # this output shows that we can access through function so we need  to stop this using encapsulation "
   ]
  },
  {
   "cell_type": "code",
   "execution_count": null,
   "metadata": {},
   "outputs": [],
   "source": [
    "# In above case this means we can access the class \n",
    "\n",
    "def my(Person):\n",
    "    print(Person.name)\n",
    "    print(Person.gender)"
   ]
  },
  {
   "cell_type": "code",
   "execution_count": null,
   "metadata": {},
   "outputs": [],
   "source": [
    "# similarly checking if we can make changes using function (This process is called pass by reference)"
   ]
  },
  {
   "cell_type": "code",
   "execution_count": 14,
   "metadata": {},
   "outputs": [
    {
     "name": "stdout",
     "output_type": "stream",
     "text": [
      "ram\n",
      "M\n"
     ]
    },
    {
     "data": {
      "text/plain": [
       "'sita'"
      ]
     },
     "execution_count": 14,
     "metadata": {},
     "output_type": "execute_result"
    }
   ],
   "source": [
    "class Person:\n",
    "    def __init__(self, name, gender):\n",
    "        self.name = name\n",
    "        self.gender = gender\n",
    "\n",
    "def my(p):\n",
    "    print(p.name)\n",
    "    print(p.gender)\n",
    "    p1=Person(\"sita\", \"female\")\n",
    "    return p1\n",
    "\n",
    "\n",
    "p = Person(\"ram\", \"M\")\n",
    "my1 = my(p)\n",
    "my1.name\n",
    "# my1.gender"
   ]
  },
  {
   "cell_type": "code",
   "execution_count": 16,
   "metadata": {},
   "outputs": [
    {
     "name": "stdout",
     "output_type": "stream",
     "text": [
      "ram\n",
      "M\n",
      "abc\n"
     ]
    }
   ],
   "source": [
    "class Person:\n",
    "    def __init__(self, name, gender):\n",
    "        self.name = name\n",
    "        self.gender = gender\n",
    "\n",
    "# we can pass class inside of the function which is outside of the class \n",
    "def my(Person):\n",
    "    print(Person.name)\n",
    "    print(Person.gender)\n",
    "    # dirctly changing by assigning the name \n",
    "    p.name = \"abc\"\n",
    "    print(p.name)\n",
    "\n",
    "\n",
    "p = Person(\"ram\", \"M\")\n",
    "my(p)"
   ]
  },
  {
   "cell_type": "code",
   "execution_count": 12,
   "metadata": {},
   "outputs": [
    {
     "name": "stdout",
     "output_type": "stream",
     "text": [
      "Total deposit amount is 5000\n",
      "You have withdrawn 1500 and the remainig balance is 13500\n",
      "your remaining balance is 13500\n"
     ]
    }
   ],
   "source": [
    "# Bank account example (in this example we will implement the concept of encapsulation)\n",
    "# to implement encapsulation we need to use double underscore (__ ) in variable or method \n",
    "class BankAccount:\n",
    "    # self is runtime or current time object which is present in class\n",
    "    def __init__(self, account_name, balance):\n",
    "        self.account_name = account_name\n",
    "        self.__balance = balance\n",
    "        \n",
    "    def deposit(self,amount ):\n",
    "        self.__balance = self.__balance + amount\n",
    "        # print(f\"Total deposit amount is {self.__balance}\")\n",
    "        print(f\"Total deposit amount is {amount}\")\n",
    "\n",
    "    def withdraw(self,amount ):\n",
    "        if amount > self.__balance:\n",
    "            print(\"Insufficient balance\")\n",
    "\n",
    "        else:\n",
    "            self.__balance = self.__balance - amount\n",
    "            print(f\"You have withdrawn {amount} and the remainig balance is {self.__balance}\")\n",
    "\n",
    "\n",
    "    def check_balance(self):\n",
    "        print(f\"your remaining balance is {self.__balance}\")\n",
    "    \n",
    "\n",
    "\n",
    "account = BankAccount(\"ram\" , 10000)\n",
    "account.deposit(5000)\n",
    "account.withdraw(1500)\n",
    "account.check_balance()"
   ]
  },
  {
   "cell_type": "code",
   "execution_count": 10,
   "metadata": {},
   "outputs": [
    {
     "name": "stdout",
     "output_type": "stream",
     "text": [
      "Total deposit amount is 500\n"
     ]
    },
    {
     "ename": "AttributeError",
     "evalue": "'BankAccount' object has no attribute '__balance'",
     "output_type": "error",
     "traceback": [
      "\u001b[1;31m---------------------------------------------------------------------------\u001b[0m",
      "\u001b[1;31mAttributeError\u001b[0m                            Traceback (most recent call last)",
      "Cell \u001b[1;32mIn[10], line 3\u001b[0m\n\u001b[0;32m      1\u001b[0m shyam \u001b[38;5;241m=\u001b[39m BankAccount(\u001b[38;5;124m\"\u001b[39m\u001b[38;5;124mshyam\u001b[39m\u001b[38;5;124m\"\u001b[39m, \u001b[38;5;241m2000\u001b[39m)\n\u001b[0;32m      2\u001b[0m shyam\u001b[38;5;241m.\u001b[39mdeposit(\u001b[38;5;241m500\u001b[39m)\n\u001b[1;32m----> 3\u001b[0m \u001b[43mshyam\u001b[49m\u001b[38;5;241;43m.\u001b[39;49m\u001b[43m__balance\u001b[49m\n",
      "\u001b[1;31mAttributeError\u001b[0m: 'BankAccount' object has no attribute '__balance'"
     ]
    }
   ],
   "source": [
    "shyam = BankAccount(\"shyam\", 2000)\n",
    "shyam.deposit(500)\n",
    "shyam.__balance # this way we cannot access the attribute(vairable)"
   ]
  },
  {
   "cell_type": "code",
   "execution_count": 13,
   "metadata": {},
   "outputs": [
    {
     "name": "stdout",
     "output_type": "stream",
     "text": [
      "Total deposit amount is 500\n"
     ]
    },
    {
     "data": {
      "text/plain": [
       "2500"
      ]
     },
     "execution_count": 13,
     "metadata": {},
     "output_type": "execute_result"
    }
   ],
   "source": [
    "hari = BankAccount(\"hari\", 2000)\n",
    "hari.deposit(500)\n",
    "hari._BankAccount__balance # this way we cannot access the attribute(vairable)"
   ]
  },
  {
   "cell_type": "code",
   "execution_count": 14,
   "metadata": {},
   "outputs": [
    {
     "name": "stdout",
     "output_type": "stream",
     "text": [
      "Total deposit amount is 500\n"
     ]
    }
   ],
   "source": [
    "hari = BankAccount(\"hari\", 2000)\n",
    "\n",
    "hari._BankAccount__balance # this way we cannot access the attribute(vairable)\n",
    "\n",
    "hari.deposit(500)"
   ]
  },
  {
   "cell_type": "code",
   "execution_count": null,
   "metadata": {},
   "outputs": [],
   "source": [
    "#In python we cannot make anything anything private \n",
    "\n",
    "# how to access private variable:\n",
    "# 1. getter method()   -- to access\n",
    "# 2. setter method()   -- to modify \n"
   ]
  },
  {
   "cell_type": "markdown",
   "metadata": {},
   "source": [
    "# Setter and Getter method"
   ]
  },
  {
   "cell_type": "code",
   "execution_count": 31,
   "metadata": {},
   "outputs": [
    {
     "name": "stdout",
     "output_type": "stream",
     "text": [
      "2023\n",
      "11\n",
      "fortuner\n",
      "3333\n"
     ]
    }
   ],
   "source": [
    "\n",
    "class car:\n",
    "    def __init__(self, year,make, model, speed):\n",
    "    # making variablels \n",
    "        self.year = year\n",
    "        self.make = make\n",
    "        self.model = model\n",
    "        self.speed = speed\n",
    "\n",
    "c1 = car(2023, 11, 'fortuner', 3333)\n",
    "print(c1.year)\n",
    "print(c1.make)\n",
    "print(c1.model)\n",
    "print(c1.speed)"
   ]
  },
  {
   "cell_type": "code",
   "execution_count": 24,
   "metadata": {},
   "outputs": [],
   "source": [
    "# making variables private \n",
    "class car:\n",
    "    def __init__(self, year,make, model, speed):\n",
    "    # making variablels \n",
    "        self.__year = year\n",
    "        self.__make = make\n",
    "        self.__model = model\n",
    "        self.__speed = 0\n",
    "\n"
   ]
  },
  {
   "cell_type": "code",
   "execution_count": 26,
   "metadata": {},
   "outputs": [
    {
     "data": {
      "text/plain": [
       "2023"
      ]
     },
     "execution_count": 26,
     "metadata": {},
     "output_type": "execute_result"
    }
   ],
   "source": [
    "c = car(2023, \"toyota\", \"landcurser\", 200 )\n",
    "c._car__year"
   ]
  },
  {
   "cell_type": "code",
   "execution_count": 34,
   "metadata": {},
   "outputs": [
    {
     "data": {
      "text/plain": [
       "300"
      ]
     },
     "execution_count": 34,
     "metadata": {},
     "output_type": "execute_result"
    }
   ],
   "source": [
    "# accessing using getter and setter\n",
    "\n",
    "class car:\n",
    "    def __init__(self, year,make, model, speed):\n",
    "    # making variablels \n",
    "        self.__year = year\n",
    "        self.__make = make\n",
    "        self.__model = model\n",
    "        self.__speed = speed\n",
    "\n",
    "    def get_speed(self):\n",
    "        return self.__speed\n",
    "\n",
    "c = car(2024, \"Toyota\", \"Landcruser\", 300)\n",
    "c.get_speed()"
   ]
  },
  {
   "cell_type": "code",
   "execution_count": 35,
   "metadata": {},
   "outputs": [
    {
     "data": {
      "text/plain": [
       "93939"
      ]
     },
     "execution_count": 35,
     "metadata": {},
     "output_type": "execute_result"
    }
   ],
   "source": [
    "# changing value using setter method\n",
    "\n",
    "class car:\n",
    "    def __init__(self, year,make, model, speed):\n",
    "    # making variablels \n",
    "        self.__year = year\n",
    "        self.__make = make\n",
    "        self.__model = model\n",
    "        self.__speed = speed\n",
    "\n",
    "    def set_speed(self, speed):\n",
    "        self.__speed = 0 if speed < 0 else speed\n",
    "\n",
    "    def get_speed(self):\n",
    "        return self.__speed\n",
    "\n",
    "c = car(2024, \"Toyota\", \"Landcruser\", 300)\n",
    "c.set_speed(93939)\n",
    "c.get_speed()"
   ]
  },
  {
   "cell_type": "code",
   "execution_count": 47,
   "metadata": {},
   "outputs": [
    {
     "name": "stdout",
     "output_type": "stream",
     "text": [
      "your initial available balance is 10000\n",
      "you have deposited 500 and your new balance is 10500\n",
      "you have withdrawn 2000 and your remaining balance is 8500\n"
     ]
    }
   ],
   "source": [
    "class bank_account:\n",
    "    def __init__(self, balance):\n",
    "        self.__balance = balance\n",
    "        print(f\"your initial available balance is {self.__balance}\")\n",
    "\n",
    "\n",
    "    def deposit(self, amount):\n",
    "        self.__balance = self.__balance +  amount\n",
    "        print(f\"you have deposited {amount} and your new balance is {self.__balance}\")\n",
    "\n",
    "    def withdraw(self, amount):\n",
    "        if self.__balance >= amount:\n",
    "            self.__balance = self.__balance - amount\n",
    "            print(f\"you have withdrawn {amount} and your remaining balance is {self.__balance}\")\n",
    "\n",
    "        else:\n",
    "            print(f\"earn {amount}  first to withdraw\")\n",
    "\n",
    "    # getter method\n",
    "    def get_balance(self):\n",
    "        return self.__balance\n",
    "\n",
    "        \n",
    "b = bank_account(10000)\n",
    "b.deposit(500)\n",
    "b.withdraw(2000)"
   ]
  },
  {
   "cell_type": "markdown",
   "metadata": {},
   "source": [
    "## static and instance variable "
   ]
  },
  {
   "cell_type": "code",
   "execution_count": null,
   "metadata": {},
   "outputs": [],
   "source": [
    "# instance variable store value for a period of object life Time\n",
    "# static variable store value for a period of class lifetime \n",
    "\n",
    "\n",
    "\n",
    "# Instance variable can be accessed through object\n",
    "# Static Variable can be accessed through class\n",
    "\n",
    "# Instance variable is related to object\n",
    "# Static variable is relared to class"
   ]
  },
  {
   "cell_type": "code",
   "execution_count": 10,
   "metadata": {},
   "outputs": [
    {
     "data": {
      "text/plain": [
       "'My bank'"
      ]
     },
     "execution_count": 10,
     "metadata": {},
     "output_type": "execute_result"
    }
   ],
   "source": [
    "# Example of static variable \n",
    "\n",
    "class bank_account:\n",
    "\n",
    "    bank_name = \"My bank\"    # this  is static variable\n",
    "\n",
    "    def __init__(self, balance):\n",
    "        self.balance = balance\n",
    "        \n",
    "\n",
    "\n",
    "    def deposit(self, amount):\n",
    "        self.balance = self.balance +  amount\n",
    "        print(f\"you have deposited {amount} and your new balance is {self.balance}\")\n",
    "\n",
    "    def withdraw(self, amount):\n",
    "        if self.balance >= amount:\n",
    "            self.balance = self.balance - amount\n",
    "            print(f\"you have withdrawn {amount} and your remaining balance is {self.balance}\")\n",
    "\n",
    "        else:\n",
    "            print(f\"earn {amount}  first to withdraw\")\n",
    "\n",
    "    # getter method\n",
    "    def get_balance(self):\n",
    "        return self.balance\n",
    "\n",
    "\n",
    "# Accessing static variable\n",
    "bank_account.bank_name  \n"
   ]
  },
  {
   "cell_type": "code",
   "execution_count": 11,
   "metadata": {},
   "outputs": [
    {
     "data": {
      "text/plain": [
       "22222"
      ]
     },
     "execution_count": 11,
     "metadata": {},
     "output_type": "execute_result"
    }
   ],
   "source": [
    "## Accessing the instance variable \n",
    "b = bank_account(22222)\n",
    "b.get_balance()"
   ]
  },
  {
   "cell_type": "code",
   "execution_count": null,
   "metadata": {},
   "outputs": [],
   "source": [
    "# static method and instnace method\n",
    "# static method : "
   ]
  }
 ],
 "metadata": {
  "kernelspec": {
   "display_name": "Python 3",
   "language": "python",
   "name": "python3"
  },
  "language_info": {
   "codemirror_mode": {
    "name": "ipython",
    "version": 3
   },
   "file_extension": ".py",
   "mimetype": "text/x-python",
   "name": "python",
   "nbconvert_exporter": "python",
   "pygments_lexer": "ipython3",
   "version": "3.11.2"
  }
 },
 "nbformat": 4,
 "nbformat_minor": 2
}
