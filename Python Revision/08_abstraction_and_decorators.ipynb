{
 "cells": [
  {
   "cell_type": "markdown",
   "metadata": {},
   "source": [
    "# Abstraction"
   ]
  },
  {
   "cell_type": "code",
   "execution_count": 2,
   "metadata": {},
   "outputs": [],
   "source": [
    "# to implement abstraction we normally have 2 way to do:\n",
    "\n",
    "# 1. Import abstract class(from abstract method)\n",
    "\n",
    "from abc import ABC, abstractmethod\n",
    "class shape(ABC):\n",
    "\n",
    "    \n",
    "\n",
    "    def database(self):\n",
    "        pass\n",
    "\n",
    "    @abstractmethod\n",
    "    def display(self):\n",
    "        pass"
   ]
  },
  {
   "cell_type": "code",
   "execution_count": 3,
   "metadata": {},
   "outputs": [],
   "source": [
    "# 2. Directly importing abc\n",
    "\n",
    "import abc\n",
    "class ram:\n",
    "\n",
    "\n",
    "    @abc.abstractmethod\n",
    "    def student(self):\n",
    "        pass\n",
    "\n"
   ]
  },
  {
   "cell_type": "code",
   "execution_count": 4,
   "metadata": {},
   "outputs": [],
   "source": [
    "# Example \n",
    "\n",
    "import abc\n",
    "class ram:\n",
    "\n",
    "\n",
    "    @abc.abstractmethod\n",
    "    def student(self):\n",
    "        pass\n",
    "\n",
    "    @abc.abstractmethod\n",
    "    def student_marks(self):\n",
    "        pass\n",
    "\n",
    "    @abc.abstractmethod\n",
    "    def student_details(self):\n",
    "        pass"
   ]
  },
  {
   "cell_type": "code",
   "execution_count": 5,
   "metadata": {},
   "outputs": [],
   "source": [
    "p = ram()"
   ]
  },
  {
   "cell_type": "code",
   "execution_count": null,
   "metadata": {},
   "outputs": [],
   "source": [
    "class student_details(ram):\n",
    "    def student_details(self):\n",
    "        return \" this is my student details related work\"\n",
    "    \n",
    "\n",
    "    def student_marks(self):\n",
    "        return \" this is student marks related work\"\n",
    "    \n",
    "    def student(self):\n",
    "        return \"this is student relared work\""
   ]
  },
  {
   "cell_type": "code",
   "execution_count": 8,
   "metadata": {},
   "outputs": [],
   "source": [
    "# another example of ABC\n",
    "from abc import ABC, abstractmethod\n",
    "class person(ABC):\n",
    "\n",
    "    def __init__(self, name, age):\n",
    "        self.name = name\n",
    "        self.age = age\n",
    "        \n",
    "    def display_info(self):\n",
    "        print(self.name)\n",
    "        print(self.age)\n",
    "\n",
    "    # making abstract method\n",
    "    @abstractmethod\n",
    "    def work(self):\n",
    "        pass\n",
    "\n",
    "    @abstractmethod\n",
    "    def speaker(self):\n",
    "        pass"
   ]
  },
  {
   "cell_type": "code",
   "execution_count": 9,
   "metadata": {},
   "outputs": [
    {
     "ename": "TypeError",
     "evalue": "Can't instantiate abstract class person with abstract methods speaker, work",
     "output_type": "error",
     "traceback": [
      "\u001b[1;31m---------------------------------------------------------------------------\u001b[0m",
      "\u001b[1;31mTypeError\u001b[0m                                 Traceback (most recent call last)",
      "Cell \u001b[1;32mIn[9], line 1\u001b[0m\n\u001b[1;32m----> 1\u001b[0m p \u001b[38;5;241m=\u001b[39m \u001b[43mperson\u001b[49m\u001b[43m(\u001b[49m\u001b[38;5;124;43m\"\u001b[39;49m\u001b[38;5;124;43mram\u001b[39;49m\u001b[38;5;124;43m\"\u001b[39;49m\u001b[43m,\u001b[49m\u001b[43m \u001b[49m\u001b[38;5;241;43m34\u001b[39;49m\u001b[43m)\u001b[49m\n\u001b[0;32m      3\u001b[0m p\u001b[38;5;241m.\u001b[39mdisplay_info()\n",
      "\u001b[1;31mTypeError\u001b[0m: Can't instantiate abstract class person with abstract methods speaker, work"
     ]
    }
   ],
   "source": [
    "p = person(\"ram\", 34)\n",
    "# we cannot access this because we have abstract method"
   ]
  },
  {
   "cell_type": "code",
   "execution_count": null,
   "metadata": {},
   "outputs": [],
   "source": [
    "# another example of ABC\n",
    "from abc import ABC, abstractmethod\n",
    "class person(ABC):\n",
    "\n",
    "    def __init__(self, name, age):\n",
    "        self.name = name\n",
    "        self.age = age\n",
    "        \n",
    "    def display_info(self):\n",
    "        print(self.name)\n",
    "        print(self.age)\n",
    "\n",
    "    # making abstract method\n",
    "    @abstractmethod\n",
    "    def work(self):\n",
    "        pass\n",
    "\n",
    "    @abstractmethod\n",
    "    def speaker(self):\n",
    "        pass"
   ]
  },
  {
   "cell_type": "code",
   "execution_count": 11,
   "metadata": {},
   "outputs": [],
   "source": [
    "# we have to use this steps to use the abstract method\n",
    "class Employee(person):\n",
    "    def trail(self):\n",
    "        print(\"this is for trial example\")\n",
    "\n",
    "    def speak(self):\n",
    "        print(\"this is for the speak method sample example\")"
   ]
  },
  {
   "cell_type": "code",
   "execution_count": 13,
   "metadata": {},
   "outputs": [
    {
     "ename": "TypeError",
     "evalue": "Can't instantiate abstract class Employee with abstract methods speaker, work",
     "output_type": "error",
     "traceback": [
      "\u001b[1;31m---------------------------------------------------------------------------\u001b[0m",
      "\u001b[1;31mTypeError\u001b[0m                                 Traceback (most recent call last)",
      "Cell \u001b[1;32mIn[13], line 2\u001b[0m\n\u001b[0;32m      1\u001b[0m \u001b[38;5;66;03m# making object\u001b[39;00m\n\u001b[1;32m----> 2\u001b[0m e \u001b[38;5;241m=\u001b[39m \u001b[43mEmployee\u001b[49m\u001b[43m(\u001b[49m\u001b[38;5;124;43m\"\u001b[39;49m\u001b[38;5;124;43mhari\u001b[39;49m\u001b[38;5;124;43m\"\u001b[39;49m\u001b[43m,\u001b[49m\u001b[43m \u001b[49m\u001b[38;5;241;43m25\u001b[39;49m\u001b[43m)\u001b[49m\n",
      "\u001b[1;31mTypeError\u001b[0m: Can't instantiate abstract class Employee with abstract methods speaker, work"
     ]
    }
   ],
   "source": [
    "# making object\n",
    "e = Employee(\"hari\", 25)\n",
    "\n",
    "# this gives error because we have made work abstract class above and now we are not using it "
   ]
  },
  {
   "cell_type": "code",
   "execution_count": 15,
   "metadata": {},
   "outputs": [],
   "source": [
    "# another example of ABC\n",
    "from abc import ABC, abstractmethod\n",
    "class person(ABC):\n",
    "\n",
    "    def __init__(self, name, age):\n",
    "        self.name = name\n",
    "        self.age = age\n",
    "        \n",
    "    def display_info(self):\n",
    "        print(self.name)\n",
    "        print(self.age)\n",
    "\n",
    "    # making abstract method\n",
    "    @abstractmethod\n",
    "    def work(self):\n",
    "        pass\n",
    "\n",
    "    @abstractmethod\n",
    "    def speaker(self):\n",
    "        pass\n",
    "\n",
    "\n",
    "# we have to use this steps to use the abstract method\n",
    "class Employee(person):\n",
    "    def trail(self):\n",
    "        print(\"this is for trial example\")\n",
    "\n",
    "    def speaker(self):\n",
    "        print(\"this is for the speak method sample example\")\n",
    "\n",
    "    def work(self):\n",
    "        print(\" this is for the work related sample example \")\n",
    "\n",
    "# making object\n",
    "e = Employee(\"hari\", 25)"
   ]
  },
  {
   "cell_type": "markdown",
   "metadata": {},
   "source": [
    "# Decorators"
   ]
  },
  {
   "cell_type": "code",
   "execution_count": 11,
   "metadata": {},
   "outputs": [
    {
     "name": "stdout",
     "output_type": "stream",
     "text": [
      "**********\n",
      "this is just sample check for decorators\n",
      "&&&&&&&&&\n"
     ]
    }
   ],
   "source": [
    "# logic for decorator\n",
    "def mydeco(func):\n",
    "    def inner():\n",
    "        print(\"**********\")\n",
    "        func()\n",
    "        print(\"&&&&&&&&&\")\n",
    "\n",
    "    return inner\n",
    "\n",
    "def hello():\n",
    "    print(\"this is just sample check for decorators\")\n",
    "\n",
    "a = mydeco(hello)\n",
    "a()"
   ]
  },
  {
   "cell_type": "code",
   "execution_count": 12,
   "metadata": {},
   "outputs": [
    {
     "name": "stdout",
     "output_type": "stream",
     "text": [
      "**********\n",
      "this is just sample check for decorators\n",
      "&&&&&&&&&\n"
     ]
    }
   ],
   "source": [
    "# logic for decorator\n",
    "def mydeco(hello):\n",
    "    def inner():\n",
    "        print(\"**********\")\n",
    "        hello()\n",
    "        print(\"&&&&&&&&&\")\n",
    "\n",
    "    return inner\n",
    "\n",
    "def hello():\n",
    "    print(\"this is just sample check for decorators\")\n",
    "\n",
    "a = mydeco(hello)\n",
    "a()\n",
    "\n",
    "# this is now how we use decorator "
   ]
  },
  {
   "cell_type": "code",
   "execution_count": 14,
   "metadata": {},
   "outputs": [
    {
     "name": "stdout",
     "output_type": "stream",
     "text": [
      "**********\n",
      "this is just sample check for decorators\n",
      "&&&&&&&&&\n"
     ]
    }
   ],
   "source": [
    "# Another way to use decorator \n",
    "# logic for decorator\n",
    "def mydeco(func):\n",
    "    def inner():\n",
    "        print(\"**********\")\n",
    "        func()\n",
    "        print(\"&&&&&&&&&\")\n",
    "\n",
    "    return inner\n",
    "\n",
    "@mydeco\n",
    "def hello():\n",
    "    print(\"this is just sample check for decorators\")\n",
    "\n",
    "hello()"
   ]
  },
  {
   "cell_type": "code",
   "execution_count": 15,
   "metadata": {},
   "outputs": [
    {
     "name": "stdout",
     "output_type": "stream",
     "text": [
      "**********\n",
      "this is just sample check for decorators\n",
      "&&&&&&&&&\n"
     ]
    }
   ],
   "source": [
    "# Another way to use decorator \n",
    "# logic for decorator\n",
    "def mydeco(hello):\n",
    "    def inner():\n",
    "        print(\"**********\")\n",
    "        hello()\n",
    "        print(\"&&&&&&&&&\")\n",
    "\n",
    "    return inner\n",
    "\n",
    "@mydeco\n",
    "def hello():\n",
    "    print(\"this is just sample check for decorators\")\n",
    "\n",
    "hello()"
   ]
  },
  {
   "cell_type": "code",
   "execution_count": 16,
   "metadata": {},
   "outputs": [
    {
     "name": "stdout",
     "output_type": "stream",
     "text": [
      "**********\n",
      "this is my second hello world test\n",
      "&&&&&&&&&\n"
     ]
    }
   ],
   "source": [
    "@mydeco\n",
    "def hello1():\n",
    "    print(\"this is my second hello world test\")\n",
    "hello1()"
   ]
  },
  {
   "cell_type": "code",
   "execution_count": 20,
   "metadata": {},
   "outputs": [
    {
     "name": "stdout",
     "output_type": "stream",
     "text": [
      "68\n",
      "0.003513813018798828\n"
     ]
    }
   ],
   "source": [
    "# Another example \n",
    "import time\n",
    "def timer_func(test2):\n",
    "    def time_test_inner():\n",
    "        start = time.time()\n",
    "        test2()\n",
    "        end = time.time()\n",
    "        print(end-start)\n",
    "    return time_test_inner\n",
    "\n",
    "@timer_func\n",
    "def test2():\n",
    "    print(23 + 45)\n",
    "test2()"
   ]
  },
  {
   "cell_type": "code",
   "execution_count": 25,
   "metadata": {},
   "outputs": [
    {
     "data": {
      "text/plain": [
       "9"
      ]
     },
     "execution_count": 25,
     "metadata": {},
     "output_type": "execute_result"
    }
   ],
   "source": [
    "# decorator example \n",
    "\n",
    "def square_deco(square):\n",
    "    def inner_func(*args):\n",
    "        result = square(*args)\n",
    "        return result **2\n",
    "    return inner_func\n",
    "\n",
    "@square_deco\n",
    "def square(x):\n",
    "    return x\n",
    "\n",
    "square(3 )"
   ]
  },
  {
   "cell_type": "markdown",
   "metadata": {},
   "source": [
    "# Property decorator"
   ]
  },
  {
   "cell_type": "code",
   "execution_count": null,
   "metadata": {},
   "outputs": [],
   "source": []
  }
 ],
 "metadata": {
  "kernelspec": {
   "display_name": "Python 3",
   "language": "python",
   "name": "python3"
  },
  "language_info": {
   "codemirror_mode": {
    "name": "ipython",
    "version": 3
   },
   "file_extension": ".py",
   "mimetype": "text/x-python",
   "name": "python",
   "nbconvert_exporter": "python",
   "pygments_lexer": "ipython3",
   "version": "3.11.2"
  }
 },
 "nbformat": 4,
 "nbformat_minor": 2
}
