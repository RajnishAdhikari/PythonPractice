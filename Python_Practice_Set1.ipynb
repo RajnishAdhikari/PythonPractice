{
 "cells": [
  {
   "cell_type": "code",
   "execution_count": null,
   "metadata": {},
   "outputs": [],
   "source": [
    "# Pw skills python Practice questions "
   ]
  },
  {
   "cell_type": "code",
   "execution_count": 1,
   "metadata": {},
   "outputs": [
    {
     "name": "stdout",
     "output_type": "stream",
     "text": [
      "11\n"
     ]
    }
   ],
   "source": [
    "# Q1. Write a Python program that defines a function called \"add_numbers\" that takes two arguments (i.e.,\n",
    "# numbers) and returns their sum. Within the function, add the two numbers together and return the result\n",
    "# using the return statement. Call the function with the values 5 and 6, and print out the returned result.\n",
    "# This will result in the addition of 5 and 6, with the output of the program being the sum of these two\n",
    "# numbers.\n",
    "\n",
    "\n",
    "def add_numbers(a,b):\n",
    "    c = a + b\n",
    "    print(c)\n",
    "\n",
    "add_numbers(5,6)"
   ]
  },
  {
   "cell_type": "code",
   "execution_count": 6,
   "metadata": {},
   "outputs": [
    {
     "name": "stdout",
     "output_type": "stream",
     "text": [
      "The square root of 625.0  is : 25.0\n"
     ]
    }
   ],
   "source": [
    "# Q2. Write a Python program that calculates the square root of a given number using a built-in function.\n",
    "# Specifically, the program should take an integer or float input from the user, calculate its square root\n",
    "# using the 'sqrt()' function from the 'math' module, and print out the result to the user. As an example,\n",
    "# calculate the square root of the number 625 using this program, which should output the value of 25.\n",
    "\n",
    "import math\n",
    "n = float(input(\"Enter a number:\"))\n",
    "print(\"The square root of\", n , \" is :\", math.sqrt(n)) \n",
    "\n"
   ]
  },
  {
   "cell_type": "code",
   "execution_count": null,
   "metadata": {},
   "outputs": [],
   "source": [
    "# Q3.Write a program that prints all prime numbers between 0 to 50.\n",
    "\n",
    "def is_prime(number):\n",
    "    if number < 2:\n",
    "        return False\n",
    "    \n",
    "    # This line sets up a for loop that iterates over a range of numbers starting from 2 and ending at the square \n",
    "    # root of the given number plus 1. The loop variable i takes on each value within this range.\n",
    "    for i in range(2, int(number**0.5) + 1):\n",
    "\n",
    "\n",
    "        # This line checks if the given number is divisible evenly by the current value of i. The modulo operator % returns \n",
    "        # the remainder of the division,and if the remainder is 0, it means that number is divisible by i without any remainder.\n",
    "        if number % i == 0:\n",
    "\n",
    "            # This line is executed if the condition in the previous line is satisfied, indicating that the number is \n",
    "            # not prime. The function returns False, indicating that the number is not a prime number.\n",
    "            return False\n",
    "        \n",
    "    # This line is executed if none of the previous conditions are satisfied, meaning the number is not divisible evenly by any \n",
    "    # values within the range. In this case, the function returns True, indicating that the number is prime.  \n",
    "    return True\n",
    "\n",
    "\n",
    "# printing the number between 0 and 50 \n",
    "print(\"Prime numbers between 0 and 50:\")\n",
    "\n",
    "# checking in range \n",
    "for num in range(0, 51):\n",
    "    if is_prime(num):\n",
    "        print(num)"
   ]
  },
  {
   "cell_type": "code",
   "execution_count": 3,
   "metadata": {},
   "outputs": [
    {
     "name": "stdout",
     "output_type": "stream",
     "text": [
      "IT's a composite number\n"
     ]
    }
   ],
   "source": [
    "# Check whether the inputted number is prime or composite \n",
    "n  = int(input(\"Enter a number : \"))\n",
    "\n",
    "# for counting the factor of the number we set count  to 0\n",
    "count = 0\n",
    "\n",
    "i = 1 \n",
    "\n",
    "# using while condition to check the number \n",
    "while i<= n:\n",
    "\n",
    "    # using modulus to check the total number of count \n",
    "    if n % i == 0:\n",
    "        count = count + 1\n",
    "\n",
    "    i = i+1\n",
    "\n",
    "\n",
    "if count == 2:\n",
    "    print(\"IT's a prime number\")\n",
    "\n",
    "elif count >2:\n",
    "    print(\"IT's a composite number\")\n",
    "\n",
    "else:\n",
    "    print(\"The number is nither prime nor composite\")\n",
    "\n",
    "    \n",
    "\n",
    "\n"
   ]
  },
  {
   "cell_type": "code",
   "execution_count": 4,
   "metadata": {},
   "outputs": [
    {
     "name": "stdout",
     "output_type": "stream",
     "text": [
      "Swapped values : \n",
      "a =  8\n",
      "b =  12\n",
      "c =  1\n"
     ]
    }
   ],
   "source": [
    "# Q4.How can we swap the values of three variables (let's say a, b, and c) without using a fourth variable?\n",
    "# For example, if we have a=5, b=8, and c=9, how can we obtain a=9, b=5, and c=8? The challenge is to\n",
    "# perform this operation without using an additional variable to store any of the values during the\n",
    "# swapping process.\n",
    "\n",
    "# assinging the variable with value \n",
    "a = 5 \n",
    "b = 8 \n",
    "c = 9 \n",
    "\n",
    "\n",
    "# Swapping the values without using a fourth variable\n",
    "b = b + a \n",
    "a = b - a\n",
    "c = c - a \n",
    "b = b - c\n",
    "\n",
    "\n",
    "#Printing the swapped values \n",
    "print(\"Swapped values : \")\n",
    "print(\"a = \", a)\n",
    "print(\"b = \", b)\n",
    "print(\"c = \", c)\n",
    "\n",
    "\n"
   ]
  },
  {
   "cell_type": "code",
   "execution_count": 5,
   "metadata": {},
   "outputs": [
    {
     "name": "stdout",
     "output_type": "stream",
     "text": [
      "The number is positive.\n"
     ]
    }
   ],
   "source": [
    "# Q5. Can you write a program that determines the nature of a given number (in this case, 87) as being\n",
    "# positive, negative, or zero? The program should be designed to take the number as input and perform the\n",
    "# necessary calculations to determine if the number is positive (i.e., greater than zero), negative (i.e., less\n",
    "# than zero), or zero (i.e., equal to zero). The output of the program should indicate which of these three\n",
    "# categories the given number falls into.\n",
    "\n",
    "# taking input \n",
    "n = float(input(\"Enter a number: \"))\n",
    "\n",
    "\n",
    "# now using if else statemtent \n",
    "\n",
    "# for positive \n",
    "if n > 0:\n",
    "    print(\"The number is positive.\")\n",
    "\n",
    "\n",
    "#for negative \n",
    "elif n < 0:\n",
    "    print(\"The number is negative.\")\n",
    "\n",
    "#for 0 \n",
    "else:\n",
    "    print(\"The number is 0.\")\n",
    "\n",
    "\n",
    "    # In this program, we use the input() function to prompt the user to enter a number. \n",
    "    # The float() function is used to convert the input to a floating-point number to handle decimal values."
   ]
  },
  {
   "cell_type": "code",
   "execution_count": 1,
   "metadata": {},
   "outputs": [
    {
     "name": "stdout",
     "output_type": "stream",
     "text": [
      "IT's odd number\n"
     ]
    }
   ],
   "source": [
    "# Q6. How can you create a program that determines whether a given number (in this case, 98) is even or\n",
    "# odd? The program should be designed to take the number as input and perform the necessary\n",
    "# calculations to determine whether it is divisible by two. If the number is divisible by two without leaving a\n",
    "# remainder, it is an even number, and if there is a remainder, it is an odd number. The output of the\n",
    "# program should indicate whether the given number is even or odd.\n",
    "\n",
    "n = int(input(\"Enter a number: \"))\n",
    "\n",
    "if n % 2 == 0:\n",
    "    print(\"It's even number.\")\n",
    "else:\n",
    "    print(\"IT's odd number\")\n",
    "\n",
    "\n"
   ]
  },
  {
   "cell_type": "code",
   "execution_count": 2,
   "metadata": {},
   "outputs": [
    {
     "name": "stdout",
     "output_type": "stream",
     "text": [
      "The sum of digits is: 25\n"
     ]
    }
   ],
   "source": [
    "# Q7.Write a program for sum of digits.the digits are 76543 and the output should be 25.\n",
    "num = 76543\n",
    "sum_of_digits = 0\n",
    "\n",
    "\n",
    "# This line starts a loop that continues as long as the number is greater than 0. It ensures that we \n",
    "# process each digit of the number until there are no digits left.\n",
    "while num > 0:\n",
    "\n",
    "    # This line extracts the last digit of the number num by performing modulo division (%) with 10. \n",
    "    # The modulo operation gives us the remainder when num is divided by 10, which is the last digit.\n",
    "    sum_of_digits += num % 10\n",
    "\n",
    "\n",
    "    # This line updates the value of the variable num by performing integer division (//) with 10. \n",
    "    # It removes the last digit from num by dividing it by 10 and keeping only the integer part. \n",
    "    # This effectively shifts the number to the right, removing the last digit.\n",
    "    num //= 10\n",
    "\n",
    "print(\"The sum of digits is:\", sum_of_digits)\n",
    "\n",
    "\n",
    "# the code effectively calculates the sum of the digits in a given number by iteratively extracting each \n",
    "# digit, adding it to the sum, and removing it from the number until there are no more digits left."
   ]
  },
  {
   "cell_type": "code",
   "execution_count": null,
   "metadata": {},
   "outputs": [],
   "source": [
    "# Q8.Write a program for reversing the given number 5436 and the output should be 6345.\n",
    "# assigning the number \n",
    "nunber = 5436\n",
    "\n",
    "#converting the number into string\n",
    "\n",
    "reversed_number = int(str(nunber)[::-1])\n",
    "\n"
   ]
  }
 ],
 "metadata": {
  "kernelspec": {
   "display_name": "Python 3",
   "language": "python",
   "name": "python3"
  },
  "language_info": {
   "codemirror_mode": {
    "name": "ipython",
    "version": 3
   },
   "file_extension": ".py",
   "mimetype": "text/x-python",
   "name": "python",
   "nbconvert_exporter": "python",
   "pygments_lexer": "ipython3",
   "version": "3.11.2"
  },
  "orig_nbformat": 4
 },
 "nbformat": 4,
 "nbformat_minor": 2
}
