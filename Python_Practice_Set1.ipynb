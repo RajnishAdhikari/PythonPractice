{
 "cells": [
  {
   "cell_type": "code",
   "execution_count": null,
   "metadata": {},
   "outputs": [],
   "source": [
    "# Pw skills python Practice questions "
   ]
  },
  {
   "cell_type": "code",
   "execution_count": 1,
   "metadata": {},
   "outputs": [
    {
     "name": "stdout",
     "output_type": "stream",
     "text": [
      "11\n"
     ]
    }
   ],
   "source": [
    "# Q1. Write a Python program that defines a function called \"add_numbers\" that takes two arguments (i.e.,\n",
    "# numbers) and returns their sum. Within the function, add the two numbers together and return the result\n",
    "# using the return statement. Call the function with the values 5 and 6, and print out the returned result.\n",
    "# This will result in the addition of 5 and 6, with the output of the program being the sum of these two\n",
    "# numbers.\n",
    "\n",
    "\n",
    "def add_numbers(a,b):\n",
    "    c = a + b\n",
    "    print(c)\n",
    "\n",
    "add_numbers(5,6)"
   ]
  },
  {
   "cell_type": "code",
   "execution_count": 2,
   "metadata": {},
   "outputs": [
    {
     "ename": "AttributeError",
     "evalue": "'str' object has no attribute 'squr'",
     "output_type": "error",
     "traceback": [
      "\u001b[1;31m---------------------------------------------------------------------------\u001b[0m",
      "\u001b[1;31mAttributeError\u001b[0m                            Traceback (most recent call last)",
      "Cell \u001b[1;32mIn[2], line 8\u001b[0m\n\u001b[0;32m      6\u001b[0m \u001b[39mimport\u001b[39;00m \u001b[39mmath\u001b[39;00m\n\u001b[0;32m      7\u001b[0m n \u001b[39m=\u001b[39m \u001b[39minput\u001b[39m(\u001b[39m\"\u001b[39m\u001b[39mEnter a number:\u001b[39m\u001b[39m\"\u001b[39m)\n\u001b[1;32m----> 8\u001b[0m \u001b[39mprint\u001b[39m(\u001b[39m\"\u001b[39m\u001b[39mThe square root of a number is :\u001b[39m\u001b[39m\"\u001b[39m, n\u001b[39m.\u001b[39;49msqur()) \n",
      "\u001b[1;31mAttributeError\u001b[0m: 'str' object has no attribute 'squr'"
     ]
    }
   ],
   "source": [
    "# Q2. Write a Python program that calculates the square root of a given number using a built-in function.\n",
    "# Specifically, the program should take an integer or float input from the user, calculate its square root\n",
    "# using the 'sqrt()' function from the 'math' module, and print out the result to the user. As an example,\n",
    "# calculate the square root of the number 625 using this program, which should output the value of 25.\n",
    "\n",
    "import math\n",
    "n = float(input(\"Enter a number:\"))\n",
    "\n"
   ]
  },
  {
   "cell_type": "code",
   "execution_count": null,
   "metadata": {},
   "outputs": [],
   "source": []
  }
 ],
 "metadata": {
  "kernelspec": {
   "display_name": "Python 3",
   "language": "python",
   "name": "python3"
  },
  "language_info": {
   "codemirror_mode": {
    "name": "ipython",
    "version": 3
   },
   "file_extension": ".py",
   "mimetype": "text/x-python",
   "name": "python",
   "nbconvert_exporter": "python",
   "pygments_lexer": "ipython3",
   "version": "3.11.2"
  },
  "orig_nbformat": 4
 },
 "nbformat": 4,
 "nbformat_minor": 2
}
