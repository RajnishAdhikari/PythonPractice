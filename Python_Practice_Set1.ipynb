{
 "cells": [
  {
   "cell_type": "code",
   "execution_count": null,
   "metadata": {},
   "outputs": [],
   "source": [
    "# Pw skills python Practice questions "
   ]
  },
  {
   "cell_type": "code",
   "execution_count": null,
   "metadata": {},
   "outputs": [],
   "source": [
    "# Q1. Write a Python program that defines a function called \"add_numbers\" that takes two arguments (i.e.,\n",
    "# numbers) and returns their sum. Within the function, add the two numbers together and return the result\n",
    "# using the return statement. Call the function with the values 5 and 6, and print out the returned result.\n",
    "# This will result in the addition of 5 and 6, with the output of the program being the sum of these two\n",
    "# numbers.\n",
    "\n",
    "\n"
   ]
  }
 ],
 "metadata": {
  "language_info": {
   "name": "python"
  },
  "orig_nbformat": 4
 },
 "nbformat": 4,
 "nbformat_minor": 2
}
