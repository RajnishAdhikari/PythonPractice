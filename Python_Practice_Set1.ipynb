{
 "cells": [
  {
   "cell_type": "code",
   "execution_count": null,
   "metadata": {},
   "outputs": [],
   "source": [
    "# Pw skills python Practice questions "
   ]
  },
  {
   "cell_type": "code",
   "execution_count": 1,
   "metadata": {},
   "outputs": [
    {
     "name": "stdout",
     "output_type": "stream",
     "text": [
      "11\n"
     ]
    }
   ],
   "source": [
    "# Q1. Write a Python program that defines a function called \"add_numbers\" that takes two arguments (i.e.,\n",
    "# numbers) and returns their sum. Within the function, add the two numbers together and return the result\n",
    "# using the return statement. Call the function with the values 5 and 6, and print out the returned result.\n",
    "# This will result in the addition of 5 and 6, with the output of the program being the sum of these two\n",
    "# numbers.\n",
    "\n",
    "\n",
    "def add_numbers(a,b):\n",
    "    c = a + b\n",
    "    print(c)\n",
    "\n",
    "add_numbers(5,6)"
   ]
  },
  {
   "cell_type": "code",
   "execution_count": 6,
   "metadata": {},
   "outputs": [
    {
     "name": "stdout",
     "output_type": "stream",
     "text": [
      "The square root of 625.0  is : 25.0\n"
     ]
    }
   ],
   "source": [
    "# Q2. Write a Python program that calculates the square root of a given number using a built-in function.\n",
    "# Specifically, the program should take an integer or float input from the user, calculate its square root\n",
    "# using the 'sqrt()' function from the 'math' module, and print out the result to the user. As an example,\n",
    "# calculate the square root of the number 625 using this program, which should output the value of 25.\n",
    "\n",
    "import math\n",
    "n = float(input(\"Enter a number:\"))\n",
    "print(\"The square root of\", n , \" is :\", math.sqrt(n)) \n",
    "\n"
   ]
  },
  {
   "cell_type": "code",
   "execution_count": null,
   "metadata": {},
   "outputs": [],
   "source": [
    "# Q3.Write a program that prints all prime numbers between 0 to 50.\n",
    "\n",
    "def is_prime(number):\n",
    "    if number < 2:\n",
    "        return False\n",
    "    \n",
    "    # This line sets up a for loop that iterates over a range of numbers starting from 2 and ending at the square \n",
    "    # root of the given number plus 1. The loop variable i takes on each value within this range.\n",
    "    for i in range(2, int(number**0.5) + 1):\n",
    "\n",
    "\n",
    "        # This line checks if the given number is divisible evenly by the current value of i. The modulo operator % returns \n",
    "        # the remainder of the division,and if the remainder is 0, it means that number is divisible by i without any remainder.\n",
    "        if number % i == 0:\n",
    "\n",
    "            # This line is executed if the condition in the previous line is satisfied, indicating that the number is \n",
    "            # not prime. The function returns False, indicating that the number is not a prime number.\n",
    "            return False\n",
    "        \n",
    "    # This line is executed if none of the previous conditions are satisfied, meaning the number is not divisible evenly by any \n",
    "    # values within the range. In this case, the function returns True, indicating that the number is prime.  \n",
    "    return True\n",
    "\n",
    "\n",
    "# printing the number between 0 and 50 \n",
    "print(\"Prime numbers between 0 and 50:\")\n",
    "\n",
    "# checking in range \n",
    "for num in range(0, 51):\n",
    "    if is_prime(num):\n",
    "        print(num)"
   ]
  },
  {
   "cell_type": "code",
   "execution_count": null,
   "metadata": {},
   "outputs": [],
   "source": [
    "# Check whether the inputted number is prime or composite \n",
    "n  = int(input(\"Enter a number : \"))\n",
    "\n",
    "# for counting the factor of the number we set count  to 0\n",
    "count = 0\n"
   ]
  }
 ],
 "metadata": {
  "kernelspec": {
   "display_name": "Python 3",
   "language": "python",
   "name": "python3"
  },
  "language_info": {
   "codemirror_mode": {
    "name": "ipython",
    "version": 3
   },
   "file_extension": ".py",
   "mimetype": "text/x-python",
   "name": "python",
   "nbconvert_exporter": "python",
   "pygments_lexer": "ipython3",
   "version": "3.11.2"
  },
  "orig_nbformat": 4
 },
 "nbformat": 4,
 "nbformat_minor": 2
}
