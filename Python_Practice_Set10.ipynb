{
 "cells": [
  {
   "cell_type": "markdown",
   "metadata": {},
   "source": [
    "Q1. Write a Python program to create a MySQL database and a table."
   ]
  },
  {
   "cell_type": "code",
   "execution_count": 9,
   "metadata": {},
   "outputs": [
    {
     "name": "stdout",
     "output_type": "stream",
     "text": [
      "MySql database and table created successfully\n"
     ]
    }
   ],
   "source": [
    "import mysql.connector\n",
    "\n",
    "# Connect to MySql server\n",
    "\n",
    "conn = mysql.connector.connect(host = \"127.0.0.1\", port = \"3307\",\n",
    "    user = \"root\",\n",
    "    password = \"root\")  # the password is root  and port is 3307\n",
    "\n",
    "cursor = conn.cursor()\n",
    "\n",
    "database_name = \"pwskills_practicals\"\n",
    "cursor.execute(f\"Create Database {database_name}\")\n",
    "\n",
    "cursor.execute(f\"Use {database_name}\")\n",
    "\n",
    "\n",
    "# Create a new table\n",
    "table_name = \"employees\"\n",
    "cursor.execute(f\"CREATE TABLE {table_name}(\" \"id int auto_increment primary key, \"\n",
    "               \"name varchar(255),\"\n",
    "               \"department varchar(255), \"\n",
    "               \"salary Decimal(10, 2)\"\" )\")\n",
    "\n",
    "# Commit the changes and close the connection\n",
    "\n",
    "conn.commit()\n",
    "conn.close()\n",
    "\n",
    "\n",
    "print(\"MySql database and table created successfully\")"
   ]
  },
  {
   "cell_type": "markdown",
   "metadata": {},
   "source": [
    "Q2. Write a Python program to insert data into a MySQL table."
   ]
  },
  {
   "cell_type": "code",
   "execution_count": 9,
   "metadata": {},
   "outputs": [
    {
     "name": "stdout",
     "output_type": "stream",
     "text": [
      "Data inserted successfully.\n"
     ]
    }
   ],
   "source": [
    "import mysql.connector\n",
    "\n",
    "# Connecting to MySql server \n",
    "conn = mysql.connector.connect(\n",
    "    host = \"127.0.0.1 \", port = \"3307\", user = \" root\", password = \"root\", database = \" pwskills_practicals\"\n",
    ")\n",
    "\n",
    "cursor = conn.cursor()\n",
    "\n",
    "\n",
    "# sample data to be inserted into the table employee\n",
    "data_to_insert = [(1, \"Ram\", \"IT\", 20000),\n",
    "                  (2, \"Shyam\", \"HR\", 90000),\n",
    "                  (3, \"Hari\", \"Marketing\", 87000),\n",
    "                  (4, \"Krishna\", \"HR\", 300000),\n",
    "                  (5, \"Sita\", \"IT\", 50000),\n",
    "                  (6, \"Gita\", \"Marketing\", 80000),\n",
    "                  (7, \"Anushka\", \"Finance\", 20000000)]\n",
    "\n",
    "\n",
    "sql_insert = \"Insert into employees(id, name, department, salary) values(%s, %s, %s, %s)\"\n",
    "\n",
    "try:\n",
    "    cursor.executemany(sql_insert, data_to_insert)\n",
    "    conn.commit() \n",
    "    print(\"Data inserted successfully.\")\n",
    "except mysql.connector.Error as e:\n",
    "    print(f\"Error inserting data: {e}\")\n",
    "\n",
    "conn.commit()\n",
    "conn.close()\n",
    "\n"
   ]
  },
  {
   "cell_type": "markdown",
   "metadata": {},
   "source": [
    "Q3. Write a Python program to create an index on a MySQL table."
   ]
  },
  {
   "cell_type": "code",
   "execution_count": 2,
   "metadata": {},
   "outputs": [
    {
     "name": "stdout",
     "output_type": "stream",
     "text": [
      "Index created successfully.\n"
     ]
    }
   ],
   "source": [
    "import mysql.connector\n",
    "\n",
    "# Connecting to MySql server \n",
    "conn = mysql.connector.connect(\n",
    "    host = \"127.0.0.1 \", port = \"3307\", user = \" root\", password = \"root\", database = \" pwskills_practicals\")\n",
    "\n",
    "\n",
    "cursor = conn.cursor()\n",
    "table_name = \"employees\"\n",
    "index_name = \"sample_index\"\n",
    "\n",
    "# defining the columns to create index\n",
    "columns = [\"id\", \"name\"]\n",
    "\n",
    "index_query = f\"Create index {index_name} ON {table_name} ({', '.join(columns)})\"\n",
    "\n",
    "try:\n",
    "    cursor.execute(index_query)\n",
    "    print(\"Index created successfully.\")\n",
    "\n",
    "except mysql.connector.Error as err:\n",
    "    print(f\"Error creating index: {err}\")\n",
    "finally:\n",
    "\n",
    "    # closing the cursor and connection \n",
    "    cursor.close()\n",
    "    conn.close()"
   ]
  },
  {
   "cell_type": "markdown",
   "metadata": {},
   "source": [
    "Q4. Write a Python program to join two tables in MySQL."
   ]
  },
  {
   "cell_type": "code",
   "execution_count": 9,
   "metadata": {},
   "outputs": [
    {
     "name": "stdout",
     "output_type": "stream",
     "text": [
      "Error executing SQL query: 1054 (42S22): Unknown column 'a.address' in 'field list'\n"
     ]
    }
   ],
   "source": [
    "import mysql.connector\n",
    "\n",
    "# Connect to MySql server\n",
    "conn = mysql.connector.connect(host=\"127.0.0.1\", port=\"3307\", user=\"root\", password=\"root\")\n",
    "\n",
    "cursor = conn.cursor()\n",
    "\n",
    "# Select the database\n",
    "database_name = \"pwskills_practicals\"\n",
    "cursor.execute(f\"USE {database_name}\")\n",
    "\n",
    "# # Create a new table\n",
    "# table_name = \"address\"\n",
    "# cursor.execute(f\"CREATE TABLE {table_name}(\" \"id int auto_increment primary key, \" \"name varchar(255)\"\" )\")\n",
    "# print(\"MySQL table created successfully\")\n",
    "\n",
    "# # Sample data to be inserted into the table address\n",
    "# data_to_insert = [\n",
    "#     (1, \"Kathmandu\"),\n",
    "#     (2, \"Syangja\"),\n",
    "#     (3, \"Bhaktapur\"),\n",
    "#     (4, \"Lalitpur\"),\n",
    "#     (5, \"Kaski\"),\n",
    "#     (6, \"Parbat\"),\n",
    "#     (7, \"Baglung\")\n",
    "# ]\n",
    "\n",
    "# sql_insert = \"INSERT INTO address(id, name) VALUES (%s, %s)\"\n",
    "\n",
    "# try:\n",
    "#     cursor.executemany(sql_insert, data_to_insert)\n",
    "#     conn.commit()\n",
    "#     print(\"Data inserted successfully.\")\n",
    "# except mysql.connector.Error as e:\n",
    "#     print(f\"Error inserting data: {e}\")\n",
    "\n",
    "# Joining 2 tables\n",
    "# Define the SQL query to join two tables\n",
    "sql_query = \"\"\"\n",
    "SELECT e.id, e.name, e.department, e.salary, a.address\n",
    "FROM employees e\n",
    "JOIN address a ON e.id = a.id\n",
    "\"\"\"\n",
    "\n",
    "try:\n",
    "    # Execute the SQL query\n",
    "    cursor.execute(sql_query)\n",
    "\n",
    "    # Fetch all the rows returned by the query\n",
    "    rows = cursor.fetchall()\n",
    "\n",
    "    # Display the results\n",
    "    for row in rows:\n",
    "        print(row)\n",
    "\n",
    "except mysql.connector.Error as err:\n",
    "    print(f\"Error executing SQL query: {err}\")\n",
    "\n",
    "# Commit the changes and close the connection\n",
    "conn.commit()\n",
    "conn.close()\n"
   ]
  },
  {
   "cell_type": "markdown",
   "metadata": {},
   "source": [
    "Q5. Write a Python program to handle MySQL errors using exception handling."
   ]
  },
  {
   "cell_type": "code",
   "execution_count": 1,
   "metadata": {},
   "outputs": [],
   "source": [
    "import mysql.connector\n",
    "try:\n",
    "    conn = mysql.connector.connect(\n",
    "        host=\"127.0.0.1\", port=\"3307\", user=\"root\", password=\"root\",\n",
    "        database = \"pwskills_practicals\"\n",
    "    )\n",
    "    cursor = conn.cursor()\n",
    "\n",
    "    cursor.execute(\"Select * from sample_database\")\n",
    "\n",
    "    result = cursor.fetchall()\n",
    "\n",
    "    print(result)\n",
    "\n",
    "except mysql.connector.Error as err:\n",
    "    print(f\"MySql Error: {err}\")"
   ]
  },
  {
   "cell_type": "code",
   "execution_count": null,
   "metadata": {},
   "outputs": [],
   "source": []
  }
 ],
 "metadata": {
  "kernelspec": {
   "display_name": "Python 3",
   "language": "python",
   "name": "python3"
  },
  "language_info": {
   "codemirror_mode": {
    "name": "ipython",
    "version": 3
   },
   "file_extension": ".py",
   "mimetype": "text/x-python",
   "name": "python",
   "nbconvert_exporter": "python",
   "pygments_lexer": "ipython3",
   "version": "3.11.2"
  }
 },
 "nbformat": 4,
 "nbformat_minor": 2
}
