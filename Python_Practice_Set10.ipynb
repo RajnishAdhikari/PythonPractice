{
 "cells": [
  {
   "cell_type": "markdown",
   "metadata": {},
   "source": [
    "Q1. Write a Python program to create a MySQL database and a table."
   ]
  },
  {
   "cell_type": "code",
   "execution_count": 9,
   "metadata": {},
   "outputs": [
    {
     "name": "stdout",
     "output_type": "stream",
     "text": [
      "MySql database and table created successfully\n"
     ]
    }
   ],
   "source": [
    "import mysql.connector\n",
    "\n",
    "# Connect to MySql server\n",
    "\n",
    "conn = mysql.connector.connect(host = \"127.0.0.1\", port = \"3307\",\n",
    "    user = \"root\",\n",
    "    password = \"root\")  # the password is root  and port is 3307\n",
    "\n",
    "cursor = conn.cursor()\n",
    "\n",
    "database_name = \"pwskills_practicals\"\n",
    "cursor.execute(f\"Create Database {database_name}\")\n",
    "\n",
    "cursor.execute(f\"Use {database_name}\")\n",
    "\n",
    "\n",
    "# Create a new table\n",
    "table_name = \"employees\"\n",
    "cursor.execute(f\"CREATE TABLE {table_name}(\" \"id int auto_increment primary key, \"\n",
    "               \"name varchar(255),\"\n",
    "               \"department varchar(255), \"\n",
    "               \"salary Decimal(10, 2)\"\" )\")\n",
    "\n",
    "# Commit the changes and close the connection\n",
    "\n",
    "conn.commit()\n",
    "conn.close()\n",
    "\n",
    "\n",
    "print(\"MySql database and table created successfully\")"
   ]
  },
  {
   "cell_type": "markdown",
   "metadata": {},
   "source": [
    "Q2. Write a Python program to insert data into a MySQL table."
   ]
  },
  {
   "cell_type": "code",
   "execution_count": 9,
   "metadata": {},
   "outputs": [
    {
     "name": "stdout",
     "output_type": "stream",
     "text": [
      "Data inserted successfully.\n"
     ]
    }
   ],
   "source": [
    "import mysql.connector\n",
    "\n",
    "# Connecting to MySql server \n",
    "conn = mysql.connector.connect(\n",
    "    host = \"127.0.0.1 \", port = \"3307\", user = \" root\", password = \"root\", database = \" pwskills_practicals\"\n",
    ")\n",
    "\n",
    "cursor = conn.cursor()\n",
    "\n",
    "\n",
    "# sample data to be inserted into the table employee\n",
    "data_to_insert = [(1, \"Ram\", \"IT\", 20000),\n",
    "                  (2, \"Shyam\", \"HR\", 90000),\n",
    "                  (3, \"Hari\", \"Marketing\", 87000),\n",
    "                  (4, \"Krishna\", \"HR\", 300000),\n",
    "                  (5, \"Sita\", \"IT\", 50000),\n",
    "                  (6, \"Gita\", \"Marketing\", 80000),\n",
    "                  (7, \"Anushka\", \"Finance\", 20000000)]\n",
    "\n",
    "\n",
    "sql_insert = \"Insert into employees(id, name, department, salary) values(%s, %s, %s, %s)\"\n",
    "\n",
    "try:\n",
    "    cursor.executemany(sql_insert, data_to_insert)\n",
    "    conn.commit() \n",
    "    print(\"Data inserted successfully.\")\n",
    "except mysql.connector.Error as e:\n",
    "    print(f\"Error inserting data: {e}\")\n",
    "\n",
    "conn.commit()\n",
    "conn.close()\n",
    "\n"
   ]
  },
  {
   "cell_type": "markdown",
   "metadata": {},
   "source": [
    "Q3. Write a Python program to create an index on a MySQL table."
   ]
  },
  {
   "cell_type": "code",
   "execution_count": 2,
   "metadata": {},
   "outputs": [
    {
     "name": "stdout",
     "output_type": "stream",
     "text": [
      "Index created successfully.\n"
     ]
    }
   ],
   "source": [
    "import mysql.connector\n",
    "\n",
    "# Connecting to MySql server \n",
    "conn = mysql.connector.connect(\n",
    "    host = \"127.0.0.1 \", port = \"3307\", user = \" root\", password = \"root\", database = \" pwskills_practicals\")\n",
    "\n",
    "\n",
    "cursor = conn.cursor()\n",
    "table_name = \"employees\"\n",
    "index_name = \"sample_index\"\n",
    "\n",
    "# defining the columns to create index\n",
    "columns = [\"id\", \"name\"]\n",
    "\n",
    "index_query = f\"Create index {index_name} ON {table_name} ({', '.join(columns)})\"\n",
    "\n",
    "try:\n",
    "    cursor.execute(index_query)\n",
    "    print(\"Index created successfully.\")\n",
    "\n",
    "except mysql.connector.Error as err:\n",
    "    print(f\"Error creating index: {err}\")\n",
    "finally:\n",
    "\n",
    "    # closing the cursor and connection \n",
    "    cursor.close()\n",
    "    conn.close()"
   ]
  },
  {
   "cell_type": "markdown",
   "metadata": {},
   "source": [
    "Q4. Write a Python program to join two tables in MySQL."
   ]
  },
  {
   "cell_type": "code",
   "execution_count": 5,
   "metadata": {},
   "outputs": [
    {
     "ename": "ProgrammingError",
     "evalue": "1064 (42000): You have an error in your SQL syntax; check the manual that corresponds to your MySQL server version for the right syntax to use near 'pwskills_assignment' at line 1",
     "output_type": "error",
     "traceback": [
      "\u001b[1;31m---------------------------------------------------------------------------\u001b[0m",
      "\u001b[1;31mMySQLInterfaceError\u001b[0m                       Traceback (most recent call last)",
      "File \u001b[1;32mc:\\Users\\PC\\AppData\\Local\\Programs\\Python\\Python311\\Lib\\site-packages\\mysql\\connector\\connection_cext.py:608\u001b[0m, in \u001b[0;36mCMySQLConnection.cmd_query\u001b[1;34m(self, query, raw, buffered, raw_as_string)\u001b[0m\n\u001b[0;32m    607\u001b[0m         query \u001b[38;5;241m=\u001b[39m query\u001b[38;5;241m.\u001b[39mencode(\u001b[38;5;124m\"\u001b[39m\u001b[38;5;124mutf-8\u001b[39m\u001b[38;5;124m\"\u001b[39m)\n\u001b[1;32m--> 608\u001b[0m     \u001b[38;5;28;43mself\u001b[39;49m\u001b[38;5;241;43m.\u001b[39;49m\u001b[43m_cmysql\u001b[49m\u001b[38;5;241;43m.\u001b[39;49m\u001b[43mquery\u001b[49m\u001b[43m(\u001b[49m\n\u001b[0;32m    609\u001b[0m \u001b[43m        \u001b[49m\u001b[43mquery\u001b[49m\u001b[43m,\u001b[49m\n\u001b[0;32m    610\u001b[0m \u001b[43m        \u001b[49m\u001b[43mraw\u001b[49m\u001b[38;5;241;43m=\u001b[39;49m\u001b[43mraw\u001b[49m\u001b[43m,\u001b[49m\n\u001b[0;32m    611\u001b[0m \u001b[43m        \u001b[49m\u001b[43mbuffered\u001b[49m\u001b[38;5;241;43m=\u001b[39;49m\u001b[43mbuffered\u001b[49m\u001b[43m,\u001b[49m\n\u001b[0;32m    612\u001b[0m \u001b[43m        \u001b[49m\u001b[43mraw_as_string\u001b[49m\u001b[38;5;241;43m=\u001b[39;49m\u001b[43mraw_as_string\u001b[49m\u001b[43m,\u001b[49m\n\u001b[0;32m    613\u001b[0m \u001b[43m        \u001b[49m\u001b[43mquery_attrs\u001b[49m\u001b[38;5;241;43m=\u001b[39;49m\u001b[38;5;28;43mself\u001b[39;49m\u001b[38;5;241;43m.\u001b[39;49m\u001b[43m_query_attrs\u001b[49m\u001b[43m,\u001b[49m\n\u001b[0;32m    614\u001b[0m \u001b[43m    \u001b[49m\u001b[43m)\u001b[49m\n\u001b[0;32m    615\u001b[0m \u001b[38;5;28;01mexcept\u001b[39;00m MySQLInterfaceError \u001b[38;5;28;01mas\u001b[39;00m err:\n",
      "\u001b[1;31mMySQLInterfaceError\u001b[0m: You have an error in your SQL syntax; check the manual that corresponds to your MySQL server version for the right syntax to use near 'pwskills_assignment' at line 1",
      "\nThe above exception was the direct cause of the following exception:\n",
      "\u001b[1;31mProgrammingError\u001b[0m                          Traceback (most recent call last)",
      "Cell \u001b[1;32mIn[5], line 9\u001b[0m\n\u001b[0;32m      6\u001b[0m cursor \u001b[38;5;241m=\u001b[39m conn\u001b[38;5;241m.\u001b[39mcursor()\n\u001b[0;32m      8\u001b[0m \u001b[38;5;66;03m# Select the database\u001b[39;00m\n\u001b[1;32m----> 9\u001b[0m \u001b[43mcursor\u001b[49m\u001b[38;5;241;43m.\u001b[39;49m\u001b[43mexecute\u001b[49m\u001b[43m(\u001b[49m\u001b[38;5;124;43m\"\u001b[39;49m\u001b[38;5;124;43mpwskills_assignment\u001b[39;49m\u001b[38;5;124;43m\"\u001b[39;49m\u001b[43m)\u001b[49m  \u001b[38;5;66;03m# Replace 'your_database_name' with your actual database name\u001b[39;00m\n\u001b[0;32m     11\u001b[0m \u001b[38;5;66;03m# Create a new table\u001b[39;00m\n\u001b[0;32m     12\u001b[0m table_name \u001b[38;5;241m=\u001b[39m \u001b[38;5;124m\"\u001b[39m\u001b[38;5;124maddress\u001b[39m\u001b[38;5;124m\"\u001b[39m\n",
      "File \u001b[1;32mc:\\Users\\PC\\AppData\\Local\\Programs\\Python\\Python311\\Lib\\site-packages\\mysql\\connector\\cursor_cext.py:330\u001b[0m, in \u001b[0;36mCMySQLCursor.execute\u001b[1;34m(self, operation, params, multi)\u001b[0m\n\u001b[0;32m    325\u001b[0m             \u001b[38;5;28;01mraise\u001b[39;00m ProgrammingError(\n\u001b[0;32m    326\u001b[0m                 \u001b[38;5;124m\"\u001b[39m\u001b[38;5;124mNot all parameters were used in the SQL statement\u001b[39m\u001b[38;5;124m\"\u001b[39m\n\u001b[0;32m    327\u001b[0m             )\n\u001b[0;32m    329\u001b[0m \u001b[38;5;28;01mtry\u001b[39;00m:\n\u001b[1;32m--> 330\u001b[0m     result \u001b[38;5;241m=\u001b[39m \u001b[38;5;28;43mself\u001b[39;49m\u001b[38;5;241;43m.\u001b[39;49m\u001b[43m_cnx\u001b[49m\u001b[38;5;241;43m.\u001b[39;49m\u001b[43mcmd_query\u001b[49m\u001b[43m(\u001b[49m\n\u001b[0;32m    331\u001b[0m \u001b[43m        \u001b[49m\u001b[43mstmt\u001b[49m\u001b[43m,\u001b[49m\n\u001b[0;32m    332\u001b[0m \u001b[43m        \u001b[49m\u001b[43mraw\u001b[49m\u001b[38;5;241;43m=\u001b[39;49m\u001b[38;5;28;43mself\u001b[39;49m\u001b[38;5;241;43m.\u001b[39;49m\u001b[43m_raw\u001b[49m\u001b[43m,\u001b[49m\n\u001b[0;32m    333\u001b[0m \u001b[43m        \u001b[49m\u001b[43mbuffered\u001b[49m\u001b[38;5;241;43m=\u001b[39;49m\u001b[38;5;28;43mself\u001b[39;49m\u001b[38;5;241;43m.\u001b[39;49m\u001b[43m_buffered\u001b[49m\u001b[43m,\u001b[49m\n\u001b[0;32m    334\u001b[0m \u001b[43m        \u001b[49m\u001b[43mraw_as_string\u001b[49m\u001b[38;5;241;43m=\u001b[39;49m\u001b[38;5;28;43mself\u001b[39;49m\u001b[38;5;241;43m.\u001b[39;49m\u001b[43m_raw_as_string\u001b[49m\u001b[43m,\u001b[49m\n\u001b[0;32m    335\u001b[0m \u001b[43m    \u001b[49m\u001b[43m)\u001b[49m\n\u001b[0;32m    336\u001b[0m \u001b[38;5;28;01mexcept\u001b[39;00m MySQLInterfaceError \u001b[38;5;28;01mas\u001b[39;00m err:\n\u001b[0;32m    337\u001b[0m     \u001b[38;5;28;01mraise\u001b[39;00m get_mysql_exception(\n\u001b[0;32m    338\u001b[0m         msg\u001b[38;5;241m=\u001b[39merr\u001b[38;5;241m.\u001b[39mmsg, errno\u001b[38;5;241m=\u001b[39merr\u001b[38;5;241m.\u001b[39merrno, sqlstate\u001b[38;5;241m=\u001b[39merr\u001b[38;5;241m.\u001b[39msqlstate\n\u001b[0;32m    339\u001b[0m     ) \u001b[38;5;28;01mfrom\u001b[39;00m \u001b[38;5;21;01merr\u001b[39;00m\n",
      "File \u001b[1;32mc:\\Users\\PC\\AppData\\Local\\Programs\\Python\\Python311\\Lib\\site-packages\\mysql\\connector\\connection_cext.py:616\u001b[0m, in \u001b[0;36mCMySQLConnection.cmd_query\u001b[1;34m(self, query, raw, buffered, raw_as_string)\u001b[0m\n\u001b[0;32m    608\u001b[0m     \u001b[38;5;28mself\u001b[39m\u001b[38;5;241m.\u001b[39m_cmysql\u001b[38;5;241m.\u001b[39mquery(\n\u001b[0;32m    609\u001b[0m         query,\n\u001b[0;32m    610\u001b[0m         raw\u001b[38;5;241m=\u001b[39mraw,\n\u001b[1;32m   (...)\u001b[0m\n\u001b[0;32m    613\u001b[0m         query_attrs\u001b[38;5;241m=\u001b[39m\u001b[38;5;28mself\u001b[39m\u001b[38;5;241m.\u001b[39m_query_attrs,\n\u001b[0;32m    614\u001b[0m     )\n\u001b[0;32m    615\u001b[0m \u001b[38;5;28;01mexcept\u001b[39;00m MySQLInterfaceError \u001b[38;5;28;01mas\u001b[39;00m err:\n\u001b[1;32m--> 616\u001b[0m     \u001b[38;5;28;01mraise\u001b[39;00m get_mysql_exception(\n\u001b[0;32m    617\u001b[0m         err\u001b[38;5;241m.\u001b[39merrno, msg\u001b[38;5;241m=\u001b[39merr\u001b[38;5;241m.\u001b[39mmsg, sqlstate\u001b[38;5;241m=\u001b[39merr\u001b[38;5;241m.\u001b[39msqlstate\n\u001b[0;32m    618\u001b[0m     ) \u001b[38;5;28;01mfrom\u001b[39;00m \u001b[38;5;21;01merr\u001b[39;00m\n\u001b[0;32m    619\u001b[0m \u001b[38;5;28;01mexcept\u001b[39;00m \u001b[38;5;167;01mAttributeError\u001b[39;00m \u001b[38;5;28;01mas\u001b[39;00m err:\n\u001b[0;32m    620\u001b[0m     addr \u001b[38;5;241m=\u001b[39m (\n\u001b[0;32m    621\u001b[0m         \u001b[38;5;28mself\u001b[39m\u001b[38;5;241m.\u001b[39m_unix_socket \u001b[38;5;28;01mif\u001b[39;00m \u001b[38;5;28mself\u001b[39m\u001b[38;5;241m.\u001b[39m_unix_socket \u001b[38;5;28;01melse\u001b[39;00m \u001b[38;5;124mf\u001b[39m\u001b[38;5;124m\"\u001b[39m\u001b[38;5;132;01m{\u001b[39;00m\u001b[38;5;28mself\u001b[39m\u001b[38;5;241m.\u001b[39m_host\u001b[38;5;132;01m}\u001b[39;00m\u001b[38;5;124m:\u001b[39m\u001b[38;5;132;01m{\u001b[39;00m\u001b[38;5;28mself\u001b[39m\u001b[38;5;241m.\u001b[39m_port\u001b[38;5;132;01m}\u001b[39;00m\u001b[38;5;124m\"\u001b[39m\n\u001b[0;32m    622\u001b[0m     )\n",
      "\u001b[1;31mProgrammingError\u001b[0m: 1064 (42000): You have an error in your SQL syntax; check the manual that corresponds to your MySQL server version for the right syntax to use near 'pwskills_assignment' at line 1"
     ]
    }
   ],
   "source": []
  },
  {
   "cell_type": "code",
   "execution_count": 8,
   "metadata": {},
   "outputs": [
    {
     "name": "stdout",
     "output_type": "stream",
     "text": [
      "MySQL table created successfully\n",
      "Data inserted successfully.\n",
      "Error executing SQL query: 1054 (42S22): Unknown column 'a.address' in 'field list'\n"
     ]
    }
   ],
   "source": [
    "import mysql.connector\n",
    "\n",
    "# Connect to MySql server\n",
    "conn = mysql.connector.connect(host=\"127.0.0.1\", port=\"3307\", user=\"root\", password=\"root\")\n",
    "\n",
    "cursor = conn.cursor()\n",
    "\n",
    "# Select the database\n",
    "database_name = \"pwskills_practicals\"\n",
    "cursor.execute(f\"USE {database_name}\")\n",
    "\n",
    "# # Create a new table\n",
    "# table_name = \"address\"\n",
    "# cursor.execute(f\"CREATE TABLE {table_name}(\" \"id int auto_increment primary key, \" \"name varchar(255)\"\" )\")\n",
    "# print(\"MySQL table created successfully\")\n",
    "\n",
    "# # Sample data to be inserted into the table address\n",
    "# data_to_insert = [\n",
    "#     (1, \"Kathmandu\"),\n",
    "#     (2, \"Syangja\"),\n",
    "#     (3, \"Bhaktapur\"),\n",
    "#     (4, \"Lalitpur\"),\n",
    "#     (5, \"Kaski\"),\n",
    "#     (6, \"Parbat\"),\n",
    "#     (7, \"Baglung\")\n",
    "# ]\n",
    "\n",
    "# sql_insert = \"INSERT INTO address(id, name) VALUES (%s, %s)\"\n",
    "\n",
    "# try:\n",
    "#     cursor.executemany(sql_insert, data_to_insert)\n",
    "#     conn.commit()\n",
    "#     print(\"Data inserted successfully.\")\n",
    "# except mysql.connector.Error as e:\n",
    "#     print(f\"Error inserting data: {e}\")\n",
    "\n",
    "# Joining 2 tables\n",
    "# Define the SQL query to join two tables\n",
    "sql_query = \"\"\"\n",
    "SELECT e.id, e.name, e.department, e.salary, a.address\n",
    "FROM employees e\n",
    "JOIN address a ON e.address_id = a.id\n",
    "\"\"\"\n",
    "\n",
    "try:\n",
    "    # Execute the SQL query\n",
    "    cursor.execute(sql_query)\n",
    "\n",
    "    # Fetch all the rows returned by the query\n",
    "    rows = cursor.fetchall()\n",
    "\n",
    "    # Display the results\n",
    "    for row in rows:\n",
    "        print(row)\n",
    "\n",
    "except mysql.connector.Error as err:\n",
    "    print(f\"Error executing SQL query: {err}\")\n",
    "\n",
    "# Commit the changes and close the connection\n",
    "conn.commit()\n",
    "conn.close()\n"
   ]
  },
  {
   "cell_type": "code",
   "execution_count": null,
   "metadata": {},
   "outputs": [],
   "source": []
  }
 ],
 "metadata": {
  "kernelspec": {
   "display_name": "Python 3",
   "language": "python",
   "name": "python3"
  },
  "language_info": {
   "codemirror_mode": {
    "name": "ipython",
    "version": 3
   },
   "file_extension": ".py",
   "mimetype": "text/x-python",
   "name": "python",
   "nbconvert_exporter": "python",
   "pygments_lexer": "ipython3",
   "version": "3.11.2"
  }
 },
 "nbformat": 4,
 "nbformat_minor": 2
}
