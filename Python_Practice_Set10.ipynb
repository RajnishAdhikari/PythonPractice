{
 "cells": [
  {
   "cell_type": "markdown",
   "metadata": {},
   "source": [
    "Q1. Write a Python program to create a MySQL database and a table."
   ]
  },
  {
   "cell_type": "code",
   "execution_count": 1,
   "metadata": {},
   "outputs": [],
   "source": [
    "import mysql.connector\n",
    "\n",
    "# Connect to MySql server\n",
    "\n",
    "conn = mysql.connector.connect(host = \"3309\",\n",
    "    user = \"root\",\n",
    "    password = \"\")\n",
    "\n",
    "cursor = conn.cursor()\n",
    "\n",
    "database_name = \"pwskills_practicals\"\n",
    "cursor.execute(f\"Create Database {database_name}\")\n",
    "\n",
    "cursor.execute(f\"Use {database_name}\")\n",
    "\n",
    "\n",
    "# Create a new table\n",
    "table_name = \"employees\"\n",
    "cursor.execute(f\"CREATE TABLE {table_name}(\"\"id int auto_increment primary key, \n",
    "               \"\n",
    "               \"name varchar(255),\"\n",
    "               \"department varchar(255), \"\n",
    "               \"salary Decimal(10, 2)\"\" )\")\n",
    "\n"
   ]
  },
  {
   "cell_type": "code",
   "execution_count": null,
   "metadata": {},
   "outputs": [],
   "source": []
  }
 ],
 "metadata": {
  "kernelspec": {
   "display_name": "Python 3",
   "language": "python",
   "name": "python3"
  },
  "language_info": {
   "codemirror_mode": {
    "name": "ipython",
    "version": 3
   },
   "file_extension": ".py",
   "mimetype": "text/x-python",
   "name": "python",
   "nbconvert_exporter": "python",
   "pygments_lexer": "ipython3",
   "version": "3.11.2"
  }
 },
 "nbformat": 4,
 "nbformat_minor": 2
}
