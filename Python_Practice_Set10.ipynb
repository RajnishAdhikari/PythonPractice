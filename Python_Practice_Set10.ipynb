{
 "cells": [
  {
   "cell_type": "markdown",
   "metadata": {},
   "source": [
    "Q1. Write a Python program to create a MySQL database and a table."
   ]
  },
  {
   "cell_type": "code",
   "execution_count": 9,
   "metadata": {},
   "outputs": [
    {
     "name": "stdout",
     "output_type": "stream",
     "text": [
      "MySql database and table created successfully\n"
     ]
    }
   ],
   "source": [
    "import mysql.connector\n",
    "\n",
    "# Connect to MySql server\n",
    "\n",
    "conn = mysql.connector.connect(host = \"127.0.0.1\", port = \"3307\",\n",
    "    user = \"root\",\n",
    "    password = \"root\")  # the password is root  and port is 3307\n",
    "\n",
    "cursor = conn.cursor()\n",
    "\n",
    "database_name = \"pwskills_practicals\"\n",
    "cursor.execute(f\"Create Database {database_name}\")\n",
    "\n",
    "cursor.execute(f\"Use {database_name}\")\n",
    "\n",
    "\n",
    "# Create a new table\n",
    "table_name = \"employees\"\n",
    "cursor.execute(f\"CREATE TABLE {table_name}(\" \"id int auto_increment primary key, \"\n",
    "               \"name varchar(255),\"\n",
    "               \"department varchar(255), \"\n",
    "               \"salary Decimal(10, 2)\"\" )\")\n",
    "\n",
    "# Commit the changes and close the connection\n",
    "\n",
    "conn.commit()\n",
    "conn.close()\n",
    "\n",
    "\n",
    "print(\"MySql database and table created successfully\")"
   ]
  },
  {
   "cell_type": "markdown",
   "metadata": {},
   "source": [
    "Q2. Write a Python program to insert data into a MySQL table."
   ]
  },
  {
   "cell_type": "code",
   "execution_count": null,
   "metadata": {},
   "outputs": [],
   "source": [
    "import mysql.connector\n",
    "\n",
    "# Connecting to MySql server \n",
    "conn = mysql.connector.connect(\n",
    "    host = \"127.0.0.1 \", user = \" root\", password = \" root\", database = \" pwskills_practicals\"\n",
    ")\n",
    "\n",
    "cursor = conn.cursor()\n",
    "\n",
    "\n",
    "# sample data to be inserted into the table employee\n",
    "data_to_insert = [(1, \"Ram\", \"IT\", 20000),\n",
    "                  (2, \"Shyam\", \"HR\", 90000),\n",
    "                  (3, \"Hari\", \"Marketing\", 87000),\n",
    "                  (4, \"Krishna\", \"HR\", 300000),\n",
    "                  (5, \"Sita\", \"IT\", 50000),\n",
    "                  (6, \"Gita\", \"Marketing\", 80000),\n",
    "                  (7, \"Anushka\", \"Finance\", 20000000)]\n",
    "\n",
    "\n",
    "conn.commit()"
   ]
  }
 ],
 "metadata": {
  "kernelspec": {
   "display_name": "Python 3",
   "language": "python",
   "name": "python3"
  },
  "language_info": {
   "codemirror_mode": {
    "name": "ipython",
    "version": 3
   },
   "file_extension": ".py",
   "mimetype": "text/x-python",
   "name": "python",
   "nbconvert_exporter": "python",
   "pygments_lexer": "ipython3",
   "version": "3.11.2"
  }
 },
 "nbformat": 4,
 "nbformat_minor": 2
}
